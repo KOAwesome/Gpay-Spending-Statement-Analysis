{
 "cells": [
  {
   "cell_type": "markdown",
   "metadata": {
    "application/vnd.databricks.v1+cell": {
     "cellMetadata": {
      "byteLimit": 2048000,
      "rowLimit": 10000
     },
     "inputWidgets": {},
     "nuid": "c764acd9-f77f-46ef-9402-9a5f21fccff9",
     "showTitle": false,
     "tableResultSettingsMap": {},
     "title": ""
    }
   },
   "source": [
    "## Extracting Google Pay Transactions from HTML\n",
    "\n",
    "This script uses the `BeautifulSoup` library to extract transaction data from a Google Pay HTML statement. It reads the HTML file, parses the content, and then extracts relevant transaction information. The extracted data is then stored in a pandas DataFrame, which can be exported to a CSV file for further analysis.\n",
    "\n",
    "### Steps:\n",
    "1. Parse the HTML file using BeautifulSoup.\n",
    "2. Extract transaction details from specific HTML elements.\n",
    "3. Store the extracted data in a pandas DataFrame.\n",
    "4. Export the DataFrame to a CSV file for further use."
   ]
  },
  {
   "cell_type": "code",
   "execution_count": 0,
   "metadata": {
    "application/vnd.databricks.v1+cell": {
     "cellMetadata": {
      "byteLimit": 2048000,
      "rowLimit": 10000
     },
     "inputWidgets": {},
     "nuid": "408d471e-aca3-4344-9051-79a444da472c",
     "showTitle": false,
     "tableResultSettingsMap": {},
     "title": ""
    }
   },
   "outputs": [],
   "source": [
    "# from bs4 import BeautifulSoup\n",
    "# import pandas as pd\n",
    "\n",
    "\n",
    "# def extract_gpay_transactions(html_path):\n",
    "#     with open(html_path, \"r\", encoding=\"utf-8\") as file:\n",
    "#         soup = BeautifulSoup(file, \"html.parser\")\n",
    "\n",
    "#     transactions = []  # Initialize an empty list to store transactions\n",
    "\n",
    "#     # Find all transaction divs\n",
    "#     for cell in soup.find_all(\"div\", class_=\"content-cell mdl-cell mdl-cell--6-col mdl-typography--body-1\"):\n",
    "#         text = cell.get_text(separator=\" \").strip()  # Ensure correct spacing\n",
    "            \n",
    "#         transactions.append(text)\n",
    "\n",
    "#     # Convert to DataFrame\n",
    "#     df = pd.DataFrame(transactions, columns=[\"text\"])\n",
    "\n",
    " \n",
    "\n",
    "#     return df\n",
    "\n",
    "\n",
    "# df_gpay = extract_gpay_transactions(\"/FileStore/tables/gpay_statement.html\")\n",
    "# df_gpay.to_csv('gpay_statement.csv')\n",
    "# print(df_gpay.head(15))\n"
   ]
  },
  {
   "cell_type": "markdown",
   "metadata": {
    "application/vnd.databricks.v1+cell": {
     "cellMetadata": {
      "byteLimit": 2048000,
      "rowLimit": 10000
     },
     "inputWidgets": {},
     "nuid": "edfcc280-3f1f-4a8b-9559-3575965a2312",
     "showTitle": false,
     "tableResultSettingsMap": {},
     "title": ""
    }
   },
   "source": [
    "## Reading and Processing Google Pay Transactions from CSV with PySpark\n",
    "\n",
    "This script demonstrates how to load a CSV file containing Google Pay transaction data into a PySpark DataFrame. The data is processed by applying a regular expression transformation to anonymize certain parts of the text (such as replacing part of the bank account number with `XXXXXXX`).\n",
    "\n",
    "### Steps:\n",
    "1. Load the CSV file into a PySpark DataFrame with the specified file options (header, delimiter).\n",
    "2. Apply a transformation to replace occurrences of the string `'9999'` in the `text` column with `'XXXXXXX'` using `regexp_replace`.\n",
    "3. Display the resulting DataFrame."
   ]
  },
  {
   "cell_type": "code",
   "execution_count": 0,
   "metadata": {
    "application/vnd.databricks.v1+cell": {
     "cellMetadata": {
      "byteLimit": 2048000,
      "rowLimit": 10000
     },
     "inputWidgets": {},
     "nuid": "6482be4c-f067-47c9-b0ac-35c938b94601",
     "showTitle": false,
     "tableResultSettingsMap": {},
     "title": ""
    }
   },
   "outputs": [
    {
     "output_type": "stream",
     "name": "stdout",
     "output_type": "stream",
     "text": [
      "Out[5]: [Row(_c0='0', text='Received ₹66.00 Jan 25, 2025, 7:07:50\\u202fPM GMT+05:30'),\n Row(_c0='1', text='Received ₹400.00 Jan 25, 2025, 6:09:04\\u202fPM GMT+05:30'),\n Row(_c0='2', text='Paid ₹61.00 to ISHAQ FILLING STATIO using Bank Account XXXXXXXX1661 Jan 24, 2025, 7:29:42\\u202fPM GMT+05:30'),\n Row(_c0='3', text='Paid ₹40.00 to Mr Varaganti Santhosh Kumar using Bank Account XXXXXXXX1661 Jan 24, 2025, 7:11:37\\u202fPM GMT+05:30'),\n Row(_c0='4', text='Paid ₹129.00 to Tobox Ventures Private Limited using Bank Account XXXXXXXX1661 Jan 24, 2025, 12:53:45\\u202fPM GMT+05:30'),\n Row(_c0='5', text='Paid ₹450.00 to Zerodha Broking Ltd using Bank Account XXXXXXXX1661 Jan 24, 2025, 10:27:10\\u202fAM GMT+05:30'),\n Row(_c0='6', text='Paid ₹20.00 to NATTE SATYAPRASAD using Bank Account XXXXXXXX1661 Jan 24, 2025, 9:23:53\\u202fAM GMT+05:30'),\n Row(_c0='7', text='Paid ₹1800.00 to MR.DURGUM PUDI RAMA KRISHNA REDDY   using Bank Account XXXXXXXX1661 Jan 23, 2025, 10:01:53\\u202fPM GMT+05:30'),\n Row(_c0='8', text='Received ₹2500.00 Jan 23, 2025, 9:49:08\\u202fPM GMT+05:30'),\n Row(_c0='9', text='Paid ₹248.00 to ISHAQ FILLING STATIO using Bank Account XXXXXXXX1661 Jan 20, 2025, 8:38:03\\u202fPM GMT+05:30')]"
     ]
    }
   ],
   "source": [
    "from pyspark.sql import functions as F, types as T\n",
    "# File location and type\n",
    "file_location = \"/FileStore/tables/gpay_statement-1.csv\"\n",
    "file_type = \"csv\"\n",
    "\n",
    "# CSV options\n",
    "infer_schema = \"false\"\n",
    "first_row_is_header = \"true\"\n",
    "delimiter = \",\"\n",
    "\n",
    "# The applied options are for CSV files. For other file types, these will be ignored.\n",
    "df = spark.read.format(file_type) \\\n",
    "  .option(\"inferSchema\", infer_schema) \\\n",
    "  .option(\"header\", first_row_is_header) \\\n",
    "  .option(\"sep\", delimiter) \\\n",
    "  .load(file_location)\n",
    "\n",
    "df = df.withColumn(\n",
    "    'text', \n",
    "    F.regexp_replace('text', '9999', 'XXXXXXX')\n",
    ")\n",
    "\n",
    "\n",
    "df.head(10)"
   ]
  },
  {
   "cell_type": "markdown",
   "metadata": {
    "application/vnd.databricks.v1+cell": {
     "cellMetadata": {
      "byteLimit": 2048000,
      "rowLimit": 10000
     },
     "inputWidgets": {},
     "nuid": "465ec62c-da35-4d6f-92ce-fe98e631cff0",
     "showTitle": false,
     "tableResultSettingsMap": {},
     "title": ""
    }
   },
   "source": [
    "## Google Pay Transaction Data Processing in PySpark\n",
    "\n",
    "This document outlines the process of extracting and transforming Google Pay transaction data using PySpark. The process includes data extraction, cleaning, and conversion of timestamps to a desired format.\n",
    "\n",
    "### Steps Involved:\n",
    "\n",
    "1. **Receiver Extraction:**\n",
    "   - The `receiver` column is extracted using a regular expression to capture the recipient's name following the pattern `to {name} using`.\n"
   ]
  },
  {
   "cell_type": "code",
   "execution_count": 0,
   "metadata": {
    "application/vnd.databricks.v1+cell": {
     "cellMetadata": {
      "byteLimit": 2048000,
      "rowLimit": 10000
     },
     "inputWidgets": {},
     "nuid": "02e52416-432c-4844-856e-671dbda5fd45",
     "showTitle": false,
     "tableResultSettingsMap": {},
     "title": ""
    }
   },
   "outputs": [],
   "source": [
    "df = df.withColumn('receiver', F.regexp_extract('text', r'to\\s(.+?)\\susing', 1))"
   ]
  },
  {
   "cell_type": "markdown",
   "metadata": {
    "application/vnd.databricks.v1+cell": {
     "cellMetadata": {
      "byteLimit": 2048000,
      "rowLimit": 10000
     },
     "inputWidgets": {},
     "nuid": "fb66de40-9dfe-41a7-9bed-f566c6a592fc",
     "showTitle": false,
     "tableResultSettingsMap": {},
     "title": ""
    }
   },
   "source": [
    "2. Price Extraction:\n",
    "\n",
    "The price column is extracted using a regular expression to match the currency value (₹ symbol followed by the amount). and also converting it into double format"
   ]
  },
  {
   "cell_type": "code",
   "execution_count": 0,
   "metadata": {
    "application/vnd.databricks.v1+cell": {
     "cellMetadata": {
      "byteLimit": 2048000,
      "rowLimit": 10000
     },
     "inputWidgets": {},
     "nuid": "2b838d01-f961-4b16-ab48-821d98e78da0",
     "showTitle": false,
     "tableResultSettingsMap": {},
     "title": ""
    }
   },
   "outputs": [],
   "source": [
    "df = df.withColumn('price', F.regexp_extract('text', r'₹(\\d+\\.\\d{2})', 1))\n",
    "df = df.withColumn(\"price\", F.col(\"price\").cast(\"double\"))"
   ]
  },
  {
   "cell_type": "markdown",
   "metadata": {
    "application/vnd.databricks.v1+cell": {
     "cellMetadata": {
      "byteLimit": 2048000,
      "rowLimit": 10000
     },
     "inputWidgets": {},
     "nuid": "8076fd39-4175-4d1b-808c-8308c567ca5d",
     "showTitle": false,
     "tableResultSettingsMap": {},
     "title": ""
    }
   },
   "source": [
    "3. Text Cleaning:\n",
    "\n",
    "The text column is cleaned by replacing multiple spaces with a single space using regexp_replace.\n",
    "The transaction_type column is extracted by splitting the text column and taking the first word (e.g., \"Paid\" or \"Sent\")."
   ]
  },
  {
   "cell_type": "code",
   "execution_count": 0,
   "metadata": {
    "application/vnd.databricks.v1+cell": {
     "cellMetadata": {
      "byteLimit": 2048000,
      "rowLimit": 10000
     },
     "inputWidgets": {},
     "nuid": "32467c95-62ee-4d06-a0c8-f6a52f0ca665",
     "showTitle": false,
     "tableResultSettingsMap": {},
     "title": ""
    }
   },
   "outputs": [],
   "source": [
    "df = df.withColumn(\"text\", F.regexp_replace(F.col(\"text\"), r'\\s+', ' '))\n",
    "df = df.withColumn(\n",
    "    'transaction_type', F.split(F.col('text'),' ').getItem(0)\n",
    ")"
   ]
  },
  {
   "cell_type": "markdown",
   "metadata": {
    "application/vnd.databricks.v1+cell": {
     "cellMetadata": {
      "byteLimit": 2048000,
      "rowLimit": 10000
     },
     "inputWidgets": {},
     "nuid": "189fbe41-d086-46f1-9c5d-5e881415dc55",
     "showTitle": false,
     "tableResultSettingsMap": {},
     "title": ""
    }
   },
   "source": [
    "4. Timestamp Extraction:\n",
    "\n",
    "The time_stamp column is extracted using a regular expression matching the timestamp format: MMM dd, yyyy, h:mm:ss a."
   ]
  },
  {
   "cell_type": "code",
   "execution_count": 0,
   "metadata": {
    "application/vnd.databricks.v1+cell": {
     "cellMetadata": {
      "byteLimit": 2048000,
      "rowLimit": 10000
     },
     "inputWidgets": {},
     "nuid": "3c7d5184-e329-45d4-84f5-98ec5f902d47",
     "showTitle": false,
     "tableResultSettingsMap": {},
     "title": ""
    }
   },
   "outputs": [
    {
     "output_type": "stream",
     "name": "stdout",
     "output_type": "stream",
     "text": [
      "Out[9]: [Row(_c0='0', text='Received ₹66.00 Jan 25, 2025, 7:07:50\\u202fPM GMT+05:30', receiver='', price=66.0, transaction_type='Received', time_stamp=datetime.datetime(2025, 1, 25, 19, 7, 50)),\n Row(_c0='1', text='Received ₹400.00 Jan 25, 2025, 6:09:04\\u202fPM GMT+05:30', receiver='', price=400.0, transaction_type='Received', time_stamp=datetime.datetime(2025, 1, 25, 18, 9, 4)),\n Row(_c0='2', text='Paid ₹61.00 to ISHAQ FILLING STATIO using Bank Account XXXXXXXX1661 Jan 24, 2025, 7:29:42\\u202fPM GMT+05:30', receiver='ISHAQ FILLING STATIO', price=61.0, transaction_type='Paid', time_stamp=datetime.datetime(2025, 1, 24, 19, 29, 42)),\n Row(_c0='3', text='Paid ₹40.00 to Mr Varaganti Santhosh Kumar using Bank Account XXXXXXXX1661 Jan 24, 2025, 7:11:37\\u202fPM GMT+05:30', receiver='Mr Varaganti Santhosh Kumar', price=40.0, transaction_type='Paid', time_stamp=datetime.datetime(2025, 1, 24, 19, 11, 37)),\n Row(_c0='4', text='Paid ₹129.00 to Tobox Ventures Private Limited using Bank Account XXXXXXXX1661 Jan 24, 2025, 12:53:45\\u202fPM GMT+05:30', receiver='Tobox Ventures Private Limited', price=129.0, transaction_type='Paid', time_stamp=datetime.datetime(2025, 1, 24, 12, 53, 45)),\n Row(_c0='5', text='Paid ₹450.00 to Zerodha Broking Ltd using Bank Account XXXXXXXX1661 Jan 24, 2025, 10:27:10\\u202fAM GMT+05:30', receiver='Zerodha Broking Ltd', price=450.0, transaction_type='Paid', time_stamp=datetime.datetime(2025, 1, 24, 10, 27, 10)),\n Row(_c0='6', text='Paid ₹20.00 to NATTE SATYAPRASAD using Bank Account XXXXXXXX1661 Jan 24, 2025, 9:23:53\\u202fAM GMT+05:30', receiver='NATTE SATYAPRASAD', price=20.0, transaction_type='Paid', time_stamp=datetime.datetime(2025, 1, 24, 9, 23, 53)),\n Row(_c0='7', text='Paid ₹1800.00 to MR.DURGUM PUDI RAMA KRISHNA REDDY using Bank Account XXXXXXXX1661 Jan 23, 2025, 10:01:53\\u202fPM GMT+05:30', receiver='MR.DURGUM PUDI RAMA KRISHNA REDDY  ', price=1800.0, transaction_type='Paid', time_stamp=datetime.datetime(2025, 1, 23, 22, 1, 53)),\n Row(_c0='8', text='Received ₹2500.00 Jan 23, 2025, 9:49:08\\u202fPM GMT+05:30', receiver='', price=2500.0, transaction_type='Received', time_stamp=datetime.datetime(2025, 1, 23, 21, 49, 8)),\n Row(_c0='9', text='Paid ₹248.00 to ISHAQ FILLING STATIO using Bank Account XXXXXXXX1661 Jan 20, 2025, 8:38:03\\u202fPM GMT+05:30', receiver='ISHAQ FILLING STATIO', price=248.0, transaction_type='Paid', time_stamp=datetime.datetime(2025, 1, 20, 20, 38, 3))]"
     ]
    }
   ],
   "source": [
    "from datetime import datetime\n",
    "\n",
    "df = df.withColumn(\n",
    "    'time_stamp',\n",
    "    F.regexp_extract(\n",
    "        'text', r'\\w{3} \\d{1,2}, \\d{4}, \\d{1,2}:\\d{2}:\\d{2}.{3}', 0)\n",
    ")\n",
    "\n",
    "# Custom function to convert date format\n",
    "def convert_date_format(date_str):\n",
    "    try:\n",
    "        # Convert from \"MMM dd, yyyy, h:mm:ss a\" to datetime object\n",
    "        date_obj = datetime.strptime(date_str, \"%b %d, %Y, %I:%M:%S %p\")\n",
    "        # Convert to desired format \"dd-MM-yy HH:mm:ss\"\n",
    "        return date_obj.strftime(\"%d-%m-%y %H:%M:%S\")\n",
    "    except Exception as e:\n",
    "        return None\n",
    "\n",
    "# Register the UDF\n",
    "convert_date_udf = F.udf(convert_date_format, T.StringType())\n",
    "\n",
    "# Sample DataFrame with the original timestamp\n",
    "# data = [(\"Jan 25, 2025, 7:07:50 PM\",), (\"Feb 14, 2024, 11:30:45 AM\",)]\n",
    "# pdf = spark.createDataFrame(data, [\"time_stamp\"])\n",
    "\n",
    "# Apply the UDF to convert the timestamp\n",
    "df = df.withColumn(\"time_stamp\", convert_date_udf(F.col(\"time_stamp\")))\n",
    "\n",
    "df = df.withColumn(\n",
    "    \"time_stamp\",\n",
    "    F.to_timestamp(F.col(\"time_stamp\"), \"dd-MM-yy HH:mm:ss\")\n",
    ")\n",
    "\n",
    "# Show the DataFrame with the converted timestamp\n",
    "df.head(10)\n"
   ]
  },
  {
   "cell_type": "markdown",
   "metadata": {
    "application/vnd.databricks.v1+cell": {
     "cellMetadata": {
      "byteLimit": 2048000,
      "rowLimit": 10000
     },
     "inputWidgets": {},
     "nuid": "ee0c3e0d-0985-4dae-bb42-a57e0ea06f33",
     "showTitle": false,
     "tableResultSettingsMap": {},
     "title": ""
    }
   },
   "source": [
    "Classifying Transactions by Receiver\n",
    "\n",
    "This step groups the data by the reciever column and counts the number of transactions (represented by price) for each receiver. The result is stored in a new column called classifying that indicates the number of transactions associated with each receiver."
   ]
  },
  {
   "cell_type": "code",
   "execution_count": 0,
   "metadata": {
    "application/vnd.databricks.v1+cell": {
     "cellMetadata": {
      "byteLimit": 2048000,
      "rowLimit": 10000
     },
     "inputWidgets": {},
     "nuid": "d59204d5-a833-4fd6-acdc-e75e1b51998c",
     "showTitle": false,
     "tableResultSettingsMap": {},
     "title": ""
    }
   },
   "outputs": [
    {
     "output_type": "display_data",
     "data": {
      "text/html": [
       "<style scoped>\n",
       "  .table-result-container {\n",
       "    max-height: 300px;\n",
       "    overflow: auto;\n",
       "  }\n",
       "  table, th, td {\n",
       "    border: 1px solid black;\n",
       "    border-collapse: collapse;\n",
       "  }\n",
       "  th, td {\n",
       "    padding: 5px;\n",
       "  }\n",
       "  th {\n",
       "    text-align: left;\n",
       "  }\n",
       "</style><div class='table-result-container'><table class='table-result'><thead style='background-color: white'><tr><th>receiver</th><th>classifying</th></tr></thead><tbody><tr><td>NASER KHAN</td><td>1</td></tr><tr><td>Amazon Pay</td><td>27</td></tr><tr><td>Slns Nanakramguda Fuels</td><td>1</td></tr><tr><td>BANDHI KANAKARAJ</td><td>1</td></tr><tr><td>Om Sree Nava Durga Petroleums</td><td>1</td></tr><tr><td>VIJETHA SUPERMARKETS PVT LTD</td><td>1</td></tr><tr><td>LENSKART</td><td>1</td></tr><tr><td>KOLA  VENKANNA</td><td>3</td></tr><tr><td>TOBOX VENTURES PRIVA</td><td>1</td></tr><tr><td>K Vishnu</td><td>1</td></tr><tr><td>DOMINOS PIZZA</td><td>1</td></tr><tr><td>KAVALE SANJU KUMAR</td><td>1</td></tr><tr><td>AENKARLA  VARA LAXMI</td><td>4</td></tr><tr><td>THONTA  NAVEEN</td><td>3</td></tr><tr><td>NEW BALAJI MITHAI BHANDAR</td><td>1</td></tr><tr><td>Naresh Sattaiha Govindula</td><td>1</td></tr><tr><td>Landt Metro- NAGOLE</td><td>2</td></tr><tr><td>ASHOK RAM</td><td>1</td></tr><tr><td>CHOTU RAM</td><td>1</td></tr><tr><td>MR.DURGUM PUDI RAMA KRISHNA REDDY  </td><td>1</td></tr><tr><td>Bommagouni Baraddwaj</td><td>2</td></tr><tr><td>New Balaji Mithai Bhandar</td><td>3</td></tr><tr><td>DS FOODS</td><td>1</td></tr><tr><td>Dinesh Kumar</td><td>1</td></tr><tr><td>KEMPAWANAIYA  NM</td><td>1</td></tr><tr><td>Paytm Metro Payment</td><td>2</td></tr><tr><td>Shiva Ganesh Kirana General Store</td><td>5</td></tr><tr><td>VINTI SATTIBABU</td><td>1</td></tr><tr><td>Bundl Technologies pvt Ltd</td><td>2</td></tr><tr><td>VIJAYA LAXMI KIRANA AND GENERAL STORE</td><td>4</td></tr><tr><td>SREE GEETA EATS AND</td><td>9</td></tr><tr><td>SREENU CHEEKATI</td><td>1</td></tr><tr><td>D RAMAMURTHY</td><td>2</td></tr><tr><td>PH PHImax 1178</td><td>1</td></tr><tr><td>DARAVATH RAJASHEKAR</td><td>1</td></tr><tr><td>SIRI SUPRABHAT HOTEL</td><td>1</td></tr><tr><td>SRI SAMRUDHI AMRUTTULYA</td><td>1</td></tr><tr><td>KUSAM  SATHYAVATHI</td><td>1</td></tr><tr><td>BADAMI LAKSMIKANTH</td><td>1</td></tr><tr><td>YASHVI KITCHEN MENU</td><td>2</td></tr><tr><td>Tumma Vamshi</td><td>1</td></tr><tr><td>BURGER KING INDIA PVT LTD</td><td>1</td></tr><tr><td>BHAVYAYA FOOD AND B</td><td>1</td></tr><tr><td>BAKE DELIGHT</td><td>2</td></tr><tr><td>DARRA  CHANTI BABU</td><td>1</td></tr><tr><td>M SRIKANTH</td><td>1</td></tr><tr><td>L and T METRO RAIL HYDERABAD LIMITED</td><td>2</td></tr><tr><td>Tibbs Frankie Lnt Metro Uppal</td><td>1</td></tr><tr><td>Sulabh Metro Station Raidurg</td><td>1</td></tr><tr><td>NATTE SATYAPRASAD</td><td>1</td></tr><tr><td>Chinnababu Tiffins</td><td>1</td></tr><tr><td>Sulabh Metro Station Nagole</td><td>1</td></tr><tr><td>Nagole</td><td>1</td></tr><tr><td>MANIKANTA ENTERPRISE</td><td>1</td></tr><tr><td>Tibbs Frankie LnT metro raidurg</td><td>5</td></tr><tr><td>BOOKMYSHOW</td><td>2</td></tr><tr><td>Mr K Shiva Sai Goud</td><td>1</td></tr><tr><td>Tibbs Frankie Metro Ameerpet</td><td>2</td></tr><tr><td>Luckys Biryani House</td><td>1</td></tr><tr><td>MEHFIL RESTAURANT-3</td><td>2</td></tr><tr><td>RIDE HONDA HUBSIGUDA SERVICE</td><td>1</td></tr><tr><td>RAGHAVARAJU  VEN</td><td>1</td></tr><tr><td>GANGULA PADMALAXMI</td><td>1</td></tr><tr><td>ARHAM ENTERPRISES</td><td>1</td></tr><tr><td>Mr Rajkumar Yadav</td><td>1</td></tr><tr><td>APP KA BAZAR</td><td>1</td></tr><tr><td>BATHINA VEERA VENKATA SATYANARAYANA</td><td>2</td></tr><tr><td>K RAVI PRASAD</td><td>1</td></tr><tr><td>klcbooks and stationary</td><td>1</td></tr><tr><td>GANDEPALLI  JYO</td><td>1</td></tr><tr><td>PILLI  VENU</td><td>1</td></tr><tr><td>Chocolate Hut  IMAX</td><td>1</td></tr><tr><td>Amazon India</td><td>1</td></tr><tr><td>YUMMY FRIENDZ</td><td>1</td></tr><tr><td>HOTEL GALAXY GRAND</td><td>1</td></tr><tr><td>Mohamad  Meraj</td><td>1</td></tr><tr><td>IBIBO GROUP PRIVATE LIMITED</td><td>1</td></tr><tr><td>Zomato</td><td>2</td></tr><tr><td>GUMMADAVELLI  SRINIVASALU</td><td>7</td></tr><tr><td>Sunitha Sankhla</td><td>2</td></tr><tr><td>TUMMA VAMSHI</td><td>1</td></tr><tr><td>Surappala Kaveri</td><td>1</td></tr><tr><td>Shiva Balaji Medical</td><td>1</td></tr><tr><td>YASHVI KITCHEN</td><td>1</td></tr><tr><td>BATTHINI  RANGA SWAMY</td><td>1</td></tr><tr><td>MD GHOUSE</td><td>1</td></tr><tr><td>CONTINENTAL COFFEE PRIVATE LIMITED</td><td>5</td></tr><tr><td>SYED TAJUDDIN</td><td>1</td></tr><tr><td>MOHD ABDUL KALEEM</td><td>1</td></tr><tr><td>SR FOODS</td><td>1</td></tr><tr><td>NANDHI KESAVAN  M</td><td>2</td></tr><tr><td>SYED  TAJUDDIN</td><td>1</td></tr><tr><td>BP Petrol Pump  Vennela Filling Station</td><td>1</td></tr><tr><td>GOTTIPATI MILITARY HOTEL 247</td><td>1</td></tr><tr><td>SAGI</td><td>1</td></tr><tr><td>Bbinstant</td><td>3</td></tr><tr><td>Smart Bazaar  Hyderabad FRBM</td><td>1</td></tr><tr><td>LINGAMPALLY SRISAILA</td><td>2</td></tr><tr><td>PASHAM LINGAREDDY</td><td>1</td></tr><tr><td>Punjab Sind Foods  Raidurg MTS Hyderabad</td><td>2</td></tr><tr><td>PRAMOD SAIN</td><td>2</td></tr><tr><td>bbinstant</td><td>3</td></tr><tr><td>Mehfil Restaurant-3</td><td>4</td></tr><tr><td>Mr Vangapally Ankithkumar Reddy</td><td>1</td></tr><tr><td>Tibbs Frankie Raidurg metro Station</td><td>1</td></tr><tr><td>Zepto</td><td>2</td></tr><tr><td>Vasamsetti Srinu</td><td>2</td></tr><tr><td>Green Juice& Potato Twister</td><td>1</td></tr><tr><td>Raidurg</td><td>2</td></tr><tr><td>BP UPPAL</td><td>1</td></tr><tr><td>APPAGONI RAJU</td><td>2</td></tr><tr><td>VK MULTI BRAND FOOTWEAR</td><td>1</td></tr><tr><td>PISTA HOUSE</td><td>2</td></tr><tr><td>Mehfil Restaurant-4</td><td>3</td></tr><tr><td>Zruti Solutions </td><td>1</td></tr><tr><td>Bollepally Ravikumar</td><td>2</td></tr><tr><td>Swiggy</td><td>1</td></tr><tr><td>Hyderabad Metro Rail</td><td>1</td></tr><tr><td>MEDPLUS BODUPPAL BRUNDAVAN COLONY</td><td>1</td></tr><tr><td>PANTHULUGARI SRINIVAS</td><td>2</td></tr><tr><td>CHAITANYA HOMEO STO</td><td>1</td></tr><tr><td>SHAIKH M JAVED</td><td>1</td></tr><tr><td>Vasavi Traders</td><td>1</td></tr><tr><td>RUKMAN BAI JAT</td><td>1</td></tr><tr><td>Tibbs Frankie Inorbit Mall</td><td>1</td></tr><tr><td>K S BAKERS</td><td>2</td></tr><tr><td>Phaseer Rahman</td><td>1</td></tr><tr><td>ANTHATI THIRUPATHIAH GOUD</td><td>1</td></tr><tr><td>B25 Raidurg Metro</td><td>2</td></tr><tr><td>CRAZY BAKERS</td><td>1</td></tr><tr><td>Duragam Cheruvu</td><td>1</td></tr><tr><td>G PANDU</td><td>4</td></tr><tr><td>Sraswathi kirana and  stationary stores</td><td>1</td></tr><tr><td>THOTA  GOPAL</td><td>30</td></tr><tr><td>ATTAVELLI SWATHI</td><td>3</td></tr><tr><td>ANTHATI  THIRUPATHIAH GOUD</td><td>1</td></tr><tr><td>AKSHAYA AROMA KITCHE</td><td>1</td></tr><tr><td>SHYAM BAHADUR BHUJEL</td><td>1</td></tr><tr><td>Chidura Rajitha</td><td>1</td></tr><tr><td>ASHARAM CHOUDHARY</td><td>1</td></tr><tr><td>K419 KFC Nagole</td><td>1</td></tr><tr><td>Tobox Ventures Private Limited</td><td>29</td></tr><tr><td>VIJAY  YADAV</td><td>1</td></tr><tr><td>B25 RAIDURG METRO</td><td>2</td></tr><tr><td>KANNARAM AROGYA MARY</td><td>1</td></tr><tr><td>Zerodha Broking Ltd</td><td>38</td></tr><tr><td>Mithai Wala Dilsukhnagar</td><td>1</td></tr><tr><td>FB CAKES</td><td>5</td></tr><tr><td>Mr Varaganti Santhosh Kumar</td><td>8</td></tr><tr><td>Park Hyderabad</td><td>30</td></tr><tr><td>Maruthi Auto Care</td><td>3</td></tr><tr><td>Mukesh Choudhari</td><td>1</td></tr><tr><td>Taco Bell Inorbit Mall</td><td>1</td></tr><tr><td>IKEA INDIA PVT LTD</td><td>2</td></tr><tr><td>Airtel Prepaid Recha</td><td>1</td></tr><tr><td>Habsiguda Metro Station</td><td>3</td></tr><tr><td>Mr ROSHAN LAL  JAT</td><td>1</td></tr><tr><td>KOPPOLLA SUHASINI</td><td>1</td></tr><tr><td>APOLLO PHARMACY</td><td>3</td></tr><tr><td>HYDERABAD METRO RAIL</td><td>2</td></tr><tr><td>JUMBO KING</td><td>2</td></tr><tr><td>ZOLOSTAYS PROPERTY S</td><td>2</td></tr><tr><td>MANIFOLD WRAP SOLUTIONS PRIVATE LIMITED</td><td>1</td></tr><tr><td>SHANDAAR ARABIAN RES</td><td>1</td></tr><tr><td></td><td>401</td></tr><tr><td>Umatraders</td><td>1</td></tr><tr><td>Chanagala Swarupini</td><td>4</td></tr><tr><td>Addanki Balathripura Easwar</td><td>1</td></tr><tr><td>groww</td><td>1</td></tr><tr><td>NEW AMOGHA VEG AND NON VEG</td><td>1</td></tr><tr><td>PVR INOX Limited</td><td>1</td></tr><tr><td>Geddit Convenience Private Limited</td><td>2</td></tr><tr><td>Bandi Harinadhababu</td><td>1</td></tr><tr><td>NEW DOLPHIN</td><td>1</td></tr><tr><td>RESTAURANT BRANDS ASIA LIMITED</td><td>1</td></tr><tr><td>Marella Tejaswi</td><td>2</td></tr><tr><td>Google Play</td><td>9</td></tr><tr><td>SRI DURGA</td><td>1</td></tr><tr><td>MADDY  CHAKRAPANI</td><td>2</td></tr><tr><td>Gelli Venkata Sagar</td><td>1</td></tr><tr><td>bigbasket</td><td>1</td></tr><tr><td>ASHISH KUMAR</td><td>1</td></tr><tr><td>Mehfil Restaurant And Takeaway</td><td>1</td></tr><tr><td>ISHAQ FILLING STATIO</td><td>4</td></tr></tbody></table></div>"
      ]
     },
     "metadata": {
      "application/vnd.databricks.v1+output": {
       "addedWidgets": {},
       "aggData": [],
       "aggError": "",
       "aggOverflow": false,
       "aggSchema": [],
       "aggSeriesLimitReached": false,
       "aggType": "",
       "arguments": {},
       "columnCustomDisplayInfos": {},
       "data": [
        [
         "NASER KHAN",
         1
        ],
        [
         "Amazon Pay",
         27
        ],
        [
         "Slns Nanakramguda Fuels",
         1
        ],
        [
         "BANDHI KANAKARAJ",
         1
        ],
        [
         "Om Sree Nava Durga Petroleums",
         1
        ],
        [
         "VIJETHA SUPERMARKETS PVT LTD",
         1
        ],
        [
         "LENSKART",
         1
        ],
        [
         "KOLA  VENKANNA",
         3
        ],
        [
         "TOBOX VENTURES PRIVA",
         1
        ],
        [
         "K Vishnu",
         1
        ],
        [
         "DOMINOS PIZZA",
         1
        ],
        [
         "KAVALE SANJU KUMAR",
         1
        ],
        [
         "AENKARLA  VARA LAXMI",
         4
        ],
        [
         "THONTA  NAVEEN",
         3
        ],
        [
         "NEW BALAJI MITHAI BHANDAR",
         1
        ],
        [
         "Naresh Sattaiha Govindula",
         1
        ],
        [
         "Landt Metro- NAGOLE",
         2
        ],
        [
         "ASHOK RAM",
         1
        ],
        [
         "CHOTU RAM",
         1
        ],
        [
         "MR.DURGUM PUDI RAMA KRISHNA REDDY  ",
         1
        ],
        [
         "Bommagouni Baraddwaj",
         2
        ],
        [
         "New Balaji Mithai Bhandar",
         3
        ],
        [
         "DS FOODS",
         1
        ],
        [
         "Dinesh Kumar",
         1
        ],
        [
         "KEMPAWANAIYA  NM",
         1
        ],
        [
         "Paytm Metro Payment",
         2
        ],
        [
         "Shiva Ganesh Kirana General Store",
         5
        ],
        [
         "VINTI SATTIBABU",
         1
        ],
        [
         "Bundl Technologies pvt Ltd",
         2
        ],
        [
         "VIJAYA LAXMI KIRANA AND GENERAL STORE",
         4
        ],
        [
         "SREE GEETA EATS AND",
         9
        ],
        [
         "SREENU CHEEKATI",
         1
        ],
        [
         "D RAMAMURTHY",
         2
        ],
        [
         "PH PHImax 1178",
         1
        ],
        [
         "DARAVATH RAJASHEKAR",
         1
        ],
        [
         "SIRI SUPRABHAT HOTEL",
         1
        ],
        [
         "SRI SAMRUDHI AMRUTTULYA",
         1
        ],
        [
         "KUSAM  SATHYAVATHI",
         1
        ],
        [
         "BADAMI LAKSMIKANTH",
         1
        ],
        [
         "YASHVI KITCHEN MENU",
         2
        ],
        [
         "Tumma Vamshi",
         1
        ],
        [
         "BURGER KING INDIA PVT LTD",
         1
        ],
        [
         "BHAVYAYA FOOD AND B",
         1
        ],
        [
         "BAKE DELIGHT",
         2
        ],
        [
         "DARRA  CHANTI BABU",
         1
        ],
        [
         "M SRIKANTH",
         1
        ],
        [
         "L and T METRO RAIL HYDERABAD LIMITED",
         2
        ],
        [
         "Tibbs Frankie Lnt Metro Uppal",
         1
        ],
        [
         "Sulabh Metro Station Raidurg",
         1
        ],
        [
         "NATTE SATYAPRASAD",
         1
        ],
        [
         "Chinnababu Tiffins",
         1
        ],
        [
         "Sulabh Metro Station Nagole",
         1
        ],
        [
         "Nagole",
         1
        ],
        [
         "MANIKANTA ENTERPRISE",
         1
        ],
        [
         "Tibbs Frankie LnT metro raidurg",
         5
        ],
        [
         "BOOKMYSHOW",
         2
        ],
        [
         "Mr K Shiva Sai Goud",
         1
        ],
        [
         "Tibbs Frankie Metro Ameerpet",
         2
        ],
        [
         "Luckys Biryani House",
         1
        ],
        [
         "MEHFIL RESTAURANT-3",
         2
        ],
        [
         "RIDE HONDA HUBSIGUDA SERVICE",
         1
        ],
        [
         "RAGHAVARAJU  VEN",
         1
        ],
        [
         "GANGULA PADMALAXMI",
         1
        ],
        [
         "ARHAM ENTERPRISES",
         1
        ],
        [
         "Mr Rajkumar Yadav",
         1
        ],
        [
         "APP KA BAZAR",
         1
        ],
        [
         "BATHINA VEERA VENKATA SATYANARAYANA",
         2
        ],
        [
         "K RAVI PRASAD",
         1
        ],
        [
         "klcbooks and stationary",
         1
        ],
        [
         "GANDEPALLI  JYO",
         1
        ],
        [
         "PILLI  VENU",
         1
        ],
        [
         "Chocolate Hut  IMAX",
         1
        ],
        [
         "Amazon India",
         1
        ],
        [
         "YUMMY FRIENDZ",
         1
        ],
        [
         "HOTEL GALAXY GRAND",
         1
        ],
        [
         "Mohamad  Meraj",
         1
        ],
        [
         "IBIBO GROUP PRIVATE LIMITED",
         1
        ],
        [
         "Zomato",
         2
        ],
        [
         "GUMMADAVELLI  SRINIVASALU",
         7
        ],
        [
         "Sunitha Sankhla",
         2
        ],
        [
         "TUMMA VAMSHI",
         1
        ],
        [
         "Surappala Kaveri",
         1
        ],
        [
         "Shiva Balaji Medical",
         1
        ],
        [
         "YASHVI KITCHEN",
         1
        ],
        [
         "BATTHINI  RANGA SWAMY",
         1
        ],
        [
         "MD GHOUSE",
         1
        ],
        [
         "CONTINENTAL COFFEE PRIVATE LIMITED",
         5
        ],
        [
         "SYED TAJUDDIN",
         1
        ],
        [
         "MOHD ABDUL KALEEM",
         1
        ],
        [
         "SR FOODS",
         1
        ],
        [
         "NANDHI KESAVAN  M",
         2
        ],
        [
         "SYED  TAJUDDIN",
         1
        ],
        [
         "BP Petrol Pump  Vennela Filling Station",
         1
        ],
        [
         "GOTTIPATI MILITARY HOTEL 247",
         1
        ],
        [
         "SAGI",
         1
        ],
        [
         "Bbinstant",
         3
        ],
        [
         "Smart Bazaar  Hyderabad FRBM",
         1
        ],
        [
         "LINGAMPALLY SRISAILA",
         2
        ],
        [
         "PASHAM LINGAREDDY",
         1
        ],
        [
         "Punjab Sind Foods  Raidurg MTS Hyderabad",
         2
        ],
        [
         "PRAMOD SAIN",
         2
        ],
        [
         "bbinstant",
         3
        ],
        [
         "Mehfil Restaurant-3",
         4
        ],
        [
         "Mr Vangapally Ankithkumar Reddy",
         1
        ],
        [
         "Tibbs Frankie Raidurg metro Station",
         1
        ],
        [
         "Zepto",
         2
        ],
        [
         "Vasamsetti Srinu",
         2
        ],
        [
         "Green Juice& Potato Twister",
         1
        ],
        [
         "Raidurg",
         2
        ],
        [
         "BP UPPAL",
         1
        ],
        [
         "APPAGONI RAJU",
         2
        ],
        [
         "VK MULTI BRAND FOOTWEAR",
         1
        ],
        [
         "PISTA HOUSE",
         2
        ],
        [
         "Mehfil Restaurant-4",
         3
        ],
        [
         "Zruti Solutions ",
         1
        ],
        [
         "Bollepally Ravikumar",
         2
        ],
        [
         "Swiggy",
         1
        ],
        [
         "Hyderabad Metro Rail",
         1
        ],
        [
         "MEDPLUS BODUPPAL BRUNDAVAN COLONY",
         1
        ],
        [
         "PANTHULUGARI SRINIVAS",
         2
        ],
        [
         "CHAITANYA HOMEO STO",
         1
        ],
        [
         "SHAIKH M JAVED",
         1
        ],
        [
         "Vasavi Traders",
         1
        ],
        [
         "RUKMAN BAI JAT",
         1
        ],
        [
         "Tibbs Frankie Inorbit Mall",
         1
        ],
        [
         "K S BAKERS",
         2
        ],
        [
         "Phaseer Rahman",
         1
        ],
        [
         "ANTHATI THIRUPATHIAH GOUD",
         1
        ],
        [
         "B25 Raidurg Metro",
         2
        ],
        [
         "CRAZY BAKERS",
         1
        ],
        [
         "Duragam Cheruvu",
         1
        ],
        [
         "G PANDU",
         4
        ],
        [
         "Sraswathi kirana and  stationary stores",
         1
        ],
        [
         "THOTA  GOPAL",
         30
        ],
        [
         "ATTAVELLI SWATHI",
         3
        ],
        [
         "ANTHATI  THIRUPATHIAH GOUD",
         1
        ],
        [
         "AKSHAYA AROMA KITCHE",
         1
        ],
        [
         "SHYAM BAHADUR BHUJEL",
         1
        ],
        [
         "Chidura Rajitha",
         1
        ],
        [
         "ASHARAM CHOUDHARY",
         1
        ],
        [
         "K419 KFC Nagole",
         1
        ],
        [
         "Tobox Ventures Private Limited",
         29
        ],
        [
         "VIJAY  YADAV",
         1
        ],
        [
         "B25 RAIDURG METRO",
         2
        ],
        [
         "KANNARAM AROGYA MARY",
         1
        ],
        [
         "Zerodha Broking Ltd",
         38
        ],
        [
         "Mithai Wala Dilsukhnagar",
         1
        ],
        [
         "FB CAKES",
         5
        ],
        [
         "Mr Varaganti Santhosh Kumar",
         8
        ],
        [
         "Park Hyderabad",
         30
        ],
        [
         "Maruthi Auto Care",
         3
        ],
        [
         "Mukesh Choudhari",
         1
        ],
        [
         "Taco Bell Inorbit Mall",
         1
        ],
        [
         "IKEA INDIA PVT LTD",
         2
        ],
        [
         "Airtel Prepaid Recha",
         1
        ],
        [
         "Habsiguda Metro Station",
         3
        ],
        [
         "Mr ROSHAN LAL  JAT",
         1
        ],
        [
         "KOPPOLLA SUHASINI",
         1
        ],
        [
         "APOLLO PHARMACY",
         3
        ],
        [
         "HYDERABAD METRO RAIL",
         2
        ],
        [
         "JUMBO KING",
         2
        ],
        [
         "ZOLOSTAYS PROPERTY S",
         2
        ],
        [
         "MANIFOLD WRAP SOLUTIONS PRIVATE LIMITED",
         1
        ],
        [
         "SHANDAAR ARABIAN RES",
         1
        ],
        [
         "",
         401
        ],
        [
         "Umatraders",
         1
        ],
        [
         "Chanagala Swarupini",
         4
        ],
        [
         "Addanki Balathripura Easwar",
         1
        ],
        [
         "groww",
         1
        ],
        [
         "NEW AMOGHA VEG AND NON VEG",
         1
        ],
        [
         "PVR INOX Limited",
         1
        ],
        [
         "Geddit Convenience Private Limited",
         2
        ],
        [
         "Bandi Harinadhababu",
         1
        ],
        [
         "NEW DOLPHIN",
         1
        ],
        [
         "RESTAURANT BRANDS ASIA LIMITED",
         1
        ],
        [
         "Marella Tejaswi",
         2
        ],
        [
         "Google Play",
         9
        ],
        [
         "SRI DURGA",
         1
        ],
        [
         "MADDY  CHAKRAPANI",
         2
        ],
        [
         "Gelli Venkata Sagar",
         1
        ],
        [
         "bigbasket",
         1
        ],
        [
         "ASHISH KUMAR",
         1
        ],
        [
         "Mehfil Restaurant And Takeaway",
         1
        ],
        [
         "ISHAQ FILLING STATIO",
         4
        ]
       ],
       "datasetInfos": [],
       "dbfsResultPath": null,
       "isJsonSchema": true,
       "metadata": {},
       "overflow": false,
       "plotOptions": {
        "customPlotOptions": {},
        "displayType": "table",
        "pivotAggregation": null,
        "pivotColumns": null,
        "xColumns": null,
        "yColumns": null
       },
       "removedWidgets": [],
       "schema": [
        {
         "metadata": "{}",
         "name": "receiver",
         "type": "\"string\""
        },
        {
         "metadata": "{}",
         "name": "classifying",
         "type": "\"long\""
        }
       ],
       "type": "table"
      }
     },
     "output_type": "display_data"
    }
   ],
   "source": [
    "df.groupBy('receiver').agg(F.count('price').alias('classifying')).display()"
   ]
  },
  {
   "cell_type": "markdown",
   "metadata": {
    "application/vnd.databricks.v1+cell": {
     "cellMetadata": {
      "byteLimit": 2048000,
      "rowLimit": 10000
     },
     "inputWidgets": {},
     "nuid": "0f0f01ce-3223-4398-bd77-e41d224549d5",
     "showTitle": false,
     "tableResultSettingsMap": {},
     "title": ""
    }
   },
   "source": [
    "I have done enough with data cleaning stuff.. Now comes classifying them\n"
   ]
  },
  {
   "cell_type": "markdown",
   "metadata": {
    "application/vnd.databricks.v1+cell": {
     "cellMetadata": {
      "byteLimit": 2048000,
      "rowLimit": 10000
     },
     "inputWidgets": {},
     "nuid": "5774d9fe-98a4-421e-9036-909893fc9ac0",
     "showTitle": false,
     "tableResultSettingsMap": {},
     "title": ""
    }
   },
   "source": [
    "In near future I will make use of this"
   ]
  },
  {
   "cell_type": "markdown",
   "metadata": {
    "application/vnd.databricks.v1+cell": {
     "cellMetadata": {
      "byteLimit": 2048000,
      "rowLimit": 10000
     },
     "inputWidgets": {},
     "nuid": "3cd65fd7-672e-49c0-8990-dec8360d69c9",
     "showTitle": false,
     "tableResultSettingsMap": {},
     "title": ""
    }
   },
   "source": [
    "# Installing NLTK (Natural Language Toolkit)\n",
    "\n",
    "To work with natural language processing tasks, you need to install the **NLTK** library, which provides tools for text processing, tokenization, stemming, tagging, parsing, and more."
   ]
  },
  {
   "cell_type": "code",
   "execution_count": 0,
   "metadata": {
    "application/vnd.databricks.v1+cell": {
     "cellMetadata": {
      "byteLimit": 2048000,
      "rowLimit": 10000
     },
     "inputWidgets": {},
     "nuid": "df16c449-e4d2-4774-9a1e-7fbba2825e32",
     "showTitle": false,
     "tableResultSettingsMap": {},
     "title": ""
    },
    "jupyter": {
     "outputs_hidden": true
    }
   },
   "outputs": [],
   "source": [
    "# !pip install nltk"
   ]
  },
  {
   "cell_type": "markdown",
   "metadata": {
    "application/vnd.databricks.v1+cell": {
     "cellMetadata": {
      "byteLimit": 2048000,
      "rowLimit": 10000
     },
     "inputWidgets": {},
     "nuid": "7fdea519-2db8-4e42-972f-74dc3f1ab22d",
     "showTitle": false,
     "tableResultSettingsMap": {},
     "title": ""
    }
   },
   "source": [
    "### Categorizing Transactions Based on Descriptions in PySpark\n",
    "\n",
    "In this example, we categorize transaction descriptions into predefined categories using a custom function and PySpark's User Defined Functions (UDF). The categorization function is based on a set of keywords for each category.\n",
    "\n",
    "#### Steps:\n",
    "\n",
    "1. **Import Required Modules**:\n",
    "   - Import necessary PySpark functions: `from pyspark.sql import functions as F`.\n",
    "   - Import the required data type `StringType` for the UDF: `from pyspark.sql.types import StringType`.\n",
    "\n",
    "2. **Define the Categorization Function**:\n",
    "   - A Python function `categorize_transaction` is defined to categorize transaction descriptions based on keywords.\n",
    "   - A dictionary `categories` holds the category names as keys, with a list of keywords related to each category.\n",
    "   - The function checks if any keyword is present in the description (converted to lowercase). If a match is found, it returns the corresponding category.\n",
    "\n",
    "3. **Example Categories and Keywords**:\n",
    "   - **Food & Dining**: restaurant, biryani, pizza, swiggy, zomato, etc.\n",
    "   - **Groceries**: supermarket, kirana, bigbasket, etc.\n",
    "   - **Fuel & Transport**: petrol, fuel, station, metro, etc.\n",
    "   - **Investment**: zerodha, insurance, loan, etc.\n",
    "   - **Shopping & Retail**: amazon, flipkart, myntra, etc.\n",
    "   - **Health & Medical**, **Entertainment**, **Bills & Utilities**, etc.\n",
    "\n",
    "4. **Apply the Categorization Function**:\n",
    "   - We use a **User Defined Function (UDF)** to apply the categorization function across a DataFrame column.\n",
    "   - The UDF `categorize_udf` is registered and applied to the `reciever` column to create a new `Category` column.\n",
    "\n",
    "5. **Output**:\n",
    "   - The DataFrame is updated with a new column `Category` that contains the corresponding category for each transaction description.\n"
   ]
  },
  {
   "cell_type": "code",
   "execution_count": 0,
   "metadata": {
    "application/vnd.databricks.v1+cell": {
     "cellMetadata": {
      "byteLimit": 2048000,
      "rowLimit": 10000
     },
     "inputWidgets": {},
     "nuid": "f66ccd38-6658-4fbe-89e6-a37965903774",
     "showTitle": false,
     "tableResultSettingsMap": {},
     "title": ""
    }
   },
   "outputs": [
    {
     "output_type": "stream",
     "name": "stdout",
     "output_type": "stream",
     "text": [
      "+---+--------------------------------------------------------------------------------------------------------------------------+----------------------------------------+------+----------------+-------------------+----------------+\n|_c0|text                                                                                                                      |receiver                                |price |transaction_type|time_stamp         |Category        |\n+---+--------------------------------------------------------------------------------------------------------------------------+----------------------------------------+------+----------------+-------------------+----------------+\n|0  |Received ₹66.00 Jan 25, 2025, 7:07:50 PM GMT+05:30                                                                        |                                        |66.0  |Received        |2025-01-25 19:07:50|Other           |\n|1  |Received ₹400.00 Jan 25, 2025, 6:09:04 PM GMT+05:30                                                                       |                                        |400.0 |Received        |2025-01-25 18:09:04|Other           |\n|2  |Paid ₹61.00 to ISHAQ FILLING STATIO using Bank Account XXXXXXXX1661 Jan 24, 2025, 7:29:42 PM GMT+05:30                    |ISHAQ FILLING STATIO                    |61.0  |Paid            |2025-01-24 19:29:42|Fuel & Transport|\n|3  |Paid ₹40.00 to Mr Varaganti Santhosh Kumar using Bank Account XXXXXXXX1661 Jan 24, 2025, 7:11:37 PM GMT+05:30             |Mr Varaganti Santhosh Kumar             |40.0  |Paid            |2025-01-24 19:11:37|Other           |\n|4  |Paid ₹129.00 to Tobox Ventures Private Limited using Bank Account XXXXXXXX1661 Jan 24, 2025, 12:53:45 PM GMT+05:30        |Tobox Ventures Private Limited          |129.0 |Paid            |2025-01-24 12:53:45|Food & Dining   |\n|5  |Paid ₹450.00 to Zerodha Broking Ltd using Bank Account XXXXXXXX1661 Jan 24, 2025, 10:27:10 AM GMT+05:30                   |Zerodha Broking Ltd                     |450.0 |Paid            |2025-01-24 10:27:10|Investment      |\n|6  |Paid ₹20.00 to NATTE SATYAPRASAD using Bank Account XXXXXXXX1661 Jan 24, 2025, 9:23:53 AM GMT+05:30                       |NATTE SATYAPRASAD                       |20.0  |Paid            |2025-01-24 09:23:53|Other           |\n|7  |Paid ₹1800.00 to MR.DURGUM PUDI RAMA KRISHNA REDDY using Bank Account XXXXXXXX1661 Jan 23, 2025, 10:01:53 PM GMT+05:30    |MR.DURGUM PUDI RAMA KRISHNA REDDY       |1800.0|Paid            |2025-01-23 22:01:53|Other           |\n|8  |Received ₹2500.00 Jan 23, 2025, 9:49:08 PM GMT+05:30                                                                      |                                        |2500.0|Received        |2025-01-23 21:49:08|Other           |\n|9  |Paid ₹248.00 to ISHAQ FILLING STATIO using Bank Account XXXXXXXX1661 Jan 20, 2025, 8:38:03 PM GMT+05:30                   |ISHAQ FILLING STATIO                    |248.0 |Paid            |2025-01-20 20:38:03|Fuel & Transport|\n|10 |Paid ₹10.00 to THOTA GOPAL using Bank Account XXXXXXXX1661 Jan 20, 2025, 8:22:03 PM GMT+05:30                             |THOTA  GOPAL                            |10.0  |Paid            |2025-01-20 20:22:03|Other           |\n|11 |Paid ₹10.00 to THOTA GOPAL Jan 20, 2025, 8:21:57 PM GMT+05:30                                                             |                                        |10.0  |Paid            |2025-01-20 20:21:57|Other           |\n|12 |Paid ₹30.00 to Mr Varaganti Santhosh Kumar using Bank Account XXXXXXXX1661 Jan 20, 2025, 7:58:05 PM GMT+05:30             |Mr Varaganti Santhosh Kumar             |30.0  |Paid            |2025-01-20 19:58:05|Other           |\n|13 |Paid ₹100.00 to Punjab Sind Foods Raidurg MTS Hyderabad using Bank Account XXXXXXXX1661 Jan 20, 2025, 6:32:10 PM GMT+05:30|Punjab Sind Foods  Raidurg MTS Hyderabad|100.0 |Paid            |2025-01-20 18:32:10|Food & Dining   |\n|14 |Paid ₹278.00 to Addanki Balathripura Easwar using Bank Account XXXXXXXX1661 Jan 20, 2025, 6:29:24 PM GMT+05:30            |Addanki Balathripura Easwar             |278.0 |Paid            |2025-01-20 18:29:24|Other           |\n|15 |Paid ₹75.00 using Bank Account XXXXXXXX1661 Jan 20, 2025, 1:21:00 PM GMT+05:30                                            |                                        |75.0  |Paid            |2025-01-20 13:21:00|Other           |\n|16 |Paid ₹30.00 to Zerodha Broking Ltd using Bank Account XXXXXXXX1661 Jan 20, 2025, 9:24:35 AM GMT+05:30                     |Zerodha Broking Ltd                     |30.0  |Paid            |2025-01-20 09:24:35|Investment      |\n|17 |Paid ₹435.00 to Zerodha Broking Ltd using Bank Account XXXXXXXX1661 Jan 20, 2025, 9:24:12 AM GMT+05:30                    |Zerodha Broking Ltd                     |435.0 |Paid            |2025-01-20 09:24:12|Investment      |\n|18 |Paid ₹420.00 to Zerodha Broking Ltd using Bank Account XXXXXXXX1661 Jan 20, 2025, 9:13:30 AM GMT+05:30                    |Zerodha Broking Ltd                     |420.0 |Paid            |2025-01-20 09:13:30|Investment      |\n|19 |Paid ₹100.00 to Raidurg using Bank Account XXXXXXXX1661 Jan 20, 2025, 9:03:05 AM GMT+05:30                                |Raidurg                                 |100.0 |Paid            |2025-01-20 09:03:05|Other           |\n+---+--------------------------------------------------------------------------------------------------------------------------+----------------------------------------+------+----------------+-------------------+----------------+\nonly showing top 20 rows\n\n"
     ]
    }
   ],
   "source": [
    "from pyspark.sql import functions as F\n",
    "from pyspark.sql.types import StringType\n",
    "\n",
    "# Define the categorization function\n",
    "def categorize_transaction(description):\n",
    "    # if description.isEmpty():\n",
    "    #     return \"self\"\n",
    "    categories = {\n",
    "    \"Food & Dining\": [\n",
    "        \"restaurant\", \"biryani\", \"pizza\", \"swiggy\", \"zomato\", \"cafe\", \"hotel\", \"food\", \"meals\", \n",
    "        \"bakery\", \"burger\", \"frankie\", \"tobox\", \"ventures\", \"eats\", \"coffee\", \"cakes\", \n",
    "        \"new balaji mithai bhandar\", \"bbinstant\", \"bakers\", \"veg\", \"nonveg\", \"res\", \"jumbo\", \n",
    "        \"taco\", \"mithai\", \"kitchen\", \"yummy\", \"chocolate\", \"tiffin\", \"bake\", \"green juice& potato twister\",\n",
    "        \"pista house\", \"new dolphin\"\n",
    "    ],\n",
    "    \"Groceries\": [\n",
    "        \"supermarket\", \"kirana\", \"bigbasket\", \"bazaar\", \"store\", \"mart\", \"vegetables\", \"groceries\", \n",
    "        \"zepto\"\n",
    "    ],\n",
    "    \"Fuel & Transport\": [\n",
    "        \"petrol\", \"fuel\", \"filling\", \"metro\", \"station\", \"bp\", \"oil\", \"transport\", \"l&t metro\", \n",
    "        \"toll\", \"park hyderabad\", \"ride\", \"auto\"\n",
    "    ],\n",
    "    \"Investment\": [\n",
    "        \"zerodha broking ltd\", \"investment\", \"insurance\", \"loan\", \"zerodha\", \"groww\", \"property\", \"broker\"\n",
    "    ],\n",
    "    \"Shopping & Retail\": [\n",
    "        \"amazon\", \"flipkart\", \"myntra\", \"lenskart\", \"ikea\", \"store\", \"shop\", \"bazaar\", \"brand\", \"traders\"\n",
    "    ],\n",
    "    \"Home\": [\n",
    "        \"thota gopal\", \"homeo\"\n",
    "    ],\n",
    "    \"Health & Medical\": [\n",
    "        \"pharmacy\", \"medplus\", \"medical\", \"apollo\", \"clinic\", \"hospital\"\n",
    "    ],\n",
    "    \"Entertainment\": [\n",
    "        \"movie\", \"pvr\", \"inox\", \"bookmyshow\", \"netflix\", \"prime\", \"play\"\n",
    "    ],\n",
    "    \"Bills & Utilities\": [\n",
    "        \"recharge\", \"electricity\", \"water\", \"bill\", \"payment\", \"prepaid\"\n",
    "    ]\n",
    "    }\n",
    "\n",
    "\n",
    "\n",
    "    description = str(description).lower()  # Ensure it's a string\n",
    "    for category, keywords in categories.items():\n",
    "        if any(keyword in description for keyword in keywords):\n",
    "            return category\n",
    "    return \"Other\"\n",
    "\n",
    "# Register UDF in PySpark\n",
    "categorize_udf = F.udf(categorize_transaction, StringType())\n",
    "\n",
    "df = df.withColumn(\"Category\", categorize_udf(F.col(\"receiver\")))\n",
    "\n",
    "# Show the DataFrame with the new Category column\n",
    "df.show(truncate=False)\n"
   ]
  },
  {
   "cell_type": "markdown",
   "metadata": {
    "application/vnd.databricks.v1+cell": {
     "cellMetadata": {
      "byteLimit": 2048000,
      "rowLimit": 10000
     },
     "inputWidgets": {},
     "nuid": "7488dc74-a5b0-48a0-b928-eac6b4aa911a",
     "showTitle": false,
     "tableResultSettingsMap": {},
     "title": ""
    }
   },
   "source": [
    "### Filtering and Displaying Distinct Receivers for 'Paid' Transactions in the 'Other' Category\n",
    "\n",
    "This code filters the transactions where the transaction type is 'Paid' and the category is 'Other'. It then selects and displays distinct receivers (recipients) involved in these transactions.\n"
   ]
  },
  {
   "cell_type": "code",
   "execution_count": 0,
   "metadata": {
    "application/vnd.databricks.v1+cell": {
     "cellMetadata": {
      "byteLimit": 2048000,
      "rowLimit": 10000
     },
     "inputWidgets": {},
     "nuid": "8a01eb81-3b2d-4993-a8c3-08de0a8218b7",
     "showTitle": false,
     "tableResultSettingsMap": {},
     "title": ""
    }
   },
   "outputs": [
    {
     "output_type": "display_data",
     "data": {
      "text/html": [
       "<style scoped>\n",
       "  .table-result-container {\n",
       "    max-height: 300px;\n",
       "    overflow: auto;\n",
       "  }\n",
       "  table, th, td {\n",
       "    border: 1px solid black;\n",
       "    border-collapse: collapse;\n",
       "  }\n",
       "  th, td {\n",
       "    padding: 5px;\n",
       "  }\n",
       "  th {\n",
       "    text-align: left;\n",
       "  }\n",
       "</style><div class='table-result-container'><table class='table-result'><thead style='background-color: white'><tr><th>receiver</th></tr></thead><tbody><tr><td>NASER KHAN</td></tr><tr><td>BANDHI KANAKARAJ</td></tr><tr><td>KOLA  VENKANNA</td></tr><tr><td>K Vishnu</td></tr><tr><td>KAVALE SANJU KUMAR</td></tr><tr><td>AENKARLA  VARA LAXMI</td></tr><tr><td>THONTA  NAVEEN</td></tr><tr><td>ASHOK RAM</td></tr><tr><td>CHOTU RAM</td></tr><tr><td>MR.DURGUM PUDI RAMA KRISHNA REDDY  </td></tr><tr><td>Bommagouni Baraddwaj</td></tr><tr><td>Dinesh Kumar</td></tr><tr><td>KEMPAWANAIYA  NM</td></tr><tr><td>VINTI SATTIBABU</td></tr><tr><td>Bundl Technologies pvt Ltd</td></tr><tr><td>SREENU CHEEKATI</td></tr><tr><td>D RAMAMURTHY</td></tr><tr><td>PH PHImax 1178</td></tr><tr><td>DARAVATH RAJASHEKAR</td></tr><tr><td>SRI SAMRUDHI AMRUTTULYA</td></tr><tr><td>KUSAM  SATHYAVATHI</td></tr><tr><td>BADAMI LAKSMIKANTH</td></tr><tr><td>Tumma Vamshi</td></tr><tr><td>DARRA  CHANTI BABU</td></tr><tr><td>M SRIKANTH</td></tr><tr><td>NATTE SATYAPRASAD</td></tr><tr><td>Nagole</td></tr><tr><td>MANIKANTA ENTERPRISE</td></tr><tr><td>Mr K Shiva Sai Goud</td></tr><tr><td>RAGHAVARAJU  VEN</td></tr><tr><td>GANGULA PADMALAXMI</td></tr><tr><td>ARHAM ENTERPRISES</td></tr><tr><td>Mr Rajkumar Yadav</td></tr><tr><td>APP KA BAZAR</td></tr><tr><td>BATHINA VEERA VENKATA SATYANARAYANA</td></tr><tr><td>K RAVI PRASAD</td></tr><tr><td>GANDEPALLI  JYO</td></tr><tr><td>PILLI  VENU</td></tr><tr><td>Mohamad  Meraj</td></tr><tr><td>IBIBO GROUP PRIVATE LIMITED</td></tr><tr><td>GUMMADAVELLI  SRINIVASALU</td></tr><tr><td>Sunitha Sankhla</td></tr><tr><td>TUMMA VAMSHI</td></tr><tr><td>Surappala Kaveri</td></tr><tr><td>BATTHINI  RANGA SWAMY</td></tr><tr><td>MD GHOUSE</td></tr><tr><td>SYED TAJUDDIN</td></tr><tr><td>MOHD ABDUL KALEEM</td></tr><tr><td>NANDHI KESAVAN  M</td></tr><tr><td>SYED  TAJUDDIN</td></tr><tr><td>SAGI</td></tr><tr><td>LINGAMPALLY SRISAILA</td></tr><tr><td>PASHAM LINGAREDDY</td></tr><tr><td>PRAMOD SAIN</td></tr><tr><td>Mr Vangapally Ankithkumar Reddy</td></tr><tr><td>Vasamsetti Srinu</td></tr><tr><td>Raidurg</td></tr><tr><td>APPAGONI RAJU</td></tr><tr><td>Zruti Solutions </td></tr><tr><td>Bollepally Ravikumar</td></tr><tr><td>PANTHULUGARI SRINIVAS</td></tr><tr><td>SHAIKH M JAVED</td></tr><tr><td>RUKMAN BAI JAT</td></tr><tr><td>Phaseer Rahman</td></tr><tr><td>ANTHATI THIRUPATHIAH GOUD</td></tr><tr><td>Duragam Cheruvu</td></tr><tr><td>G PANDU</td></tr><tr><td>THOTA  GOPAL</td></tr><tr><td>ATTAVELLI SWATHI</td></tr><tr><td>ANTHATI  THIRUPATHIAH GOUD</td></tr><tr><td>AKSHAYA AROMA KITCHE</td></tr><tr><td>SHYAM BAHADUR BHUJEL</td></tr><tr><td>Chidura Rajitha</td></tr><tr><td>ASHARAM CHOUDHARY</td></tr><tr><td>K419 KFC Nagole</td></tr><tr><td>VIJAY  YADAV</td></tr><tr><td>KANNARAM AROGYA MARY</td></tr><tr><td>Mr Varaganti Santhosh Kumar</td></tr><tr><td>Mukesh Choudhari</td></tr><tr><td>Mr ROSHAN LAL  JAT</td></tr><tr><td>KOPPOLLA SUHASINI</td></tr><tr><td>MANIFOLD WRAP SOLUTIONS PRIVATE LIMITED</td></tr><tr><td></td></tr><tr><td>Chanagala Swarupini</td></tr><tr><td>Addanki Balathripura Easwar</td></tr><tr><td>Geddit Convenience Private Limited</td></tr><tr><td>Bandi Harinadhababu</td></tr><tr><td>Marella Tejaswi</td></tr><tr><td>SRI DURGA</td></tr><tr><td>MADDY  CHAKRAPANI</td></tr><tr><td>Gelli Venkata Sagar</td></tr><tr><td>ASHISH KUMAR</td></tr></tbody></table></div>"
      ]
     },
     "metadata": {
      "application/vnd.databricks.v1+output": {
       "addedWidgets": {},
       "aggData": [],
       "aggError": "",
       "aggOverflow": false,
       "aggSchema": [],
       "aggSeriesLimitReached": false,
       "aggType": "",
       "arguments": {},
       "columnCustomDisplayInfos": {},
       "data": [
        [
         "NASER KHAN"
        ],
        [
         "BANDHI KANAKARAJ"
        ],
        [
         "KOLA  VENKANNA"
        ],
        [
         "K Vishnu"
        ],
        [
         "KAVALE SANJU KUMAR"
        ],
        [
         "AENKARLA  VARA LAXMI"
        ],
        [
         "THONTA  NAVEEN"
        ],
        [
         "ASHOK RAM"
        ],
        [
         "CHOTU RAM"
        ],
        [
         "MR.DURGUM PUDI RAMA KRISHNA REDDY  "
        ],
        [
         "Bommagouni Baraddwaj"
        ],
        [
         "Dinesh Kumar"
        ],
        [
         "KEMPAWANAIYA  NM"
        ],
        [
         "VINTI SATTIBABU"
        ],
        [
         "Bundl Technologies pvt Ltd"
        ],
        [
         "SREENU CHEEKATI"
        ],
        [
         "D RAMAMURTHY"
        ],
        [
         "PH PHImax 1178"
        ],
        [
         "DARAVATH RAJASHEKAR"
        ],
        [
         "SRI SAMRUDHI AMRUTTULYA"
        ],
        [
         "KUSAM  SATHYAVATHI"
        ],
        [
         "BADAMI LAKSMIKANTH"
        ],
        [
         "Tumma Vamshi"
        ],
        [
         "DARRA  CHANTI BABU"
        ],
        [
         "M SRIKANTH"
        ],
        [
         "NATTE SATYAPRASAD"
        ],
        [
         "Nagole"
        ],
        [
         "MANIKANTA ENTERPRISE"
        ],
        [
         "Mr K Shiva Sai Goud"
        ],
        [
         "RAGHAVARAJU  VEN"
        ],
        [
         "GANGULA PADMALAXMI"
        ],
        [
         "ARHAM ENTERPRISES"
        ],
        [
         "Mr Rajkumar Yadav"
        ],
        [
         "APP KA BAZAR"
        ],
        [
         "BATHINA VEERA VENKATA SATYANARAYANA"
        ],
        [
         "K RAVI PRASAD"
        ],
        [
         "GANDEPALLI  JYO"
        ],
        [
         "PILLI  VENU"
        ],
        [
         "Mohamad  Meraj"
        ],
        [
         "IBIBO GROUP PRIVATE LIMITED"
        ],
        [
         "GUMMADAVELLI  SRINIVASALU"
        ],
        [
         "Sunitha Sankhla"
        ],
        [
         "TUMMA VAMSHI"
        ],
        [
         "Surappala Kaveri"
        ],
        [
         "BATTHINI  RANGA SWAMY"
        ],
        [
         "MD GHOUSE"
        ],
        [
         "SYED TAJUDDIN"
        ],
        [
         "MOHD ABDUL KALEEM"
        ],
        [
         "NANDHI KESAVAN  M"
        ],
        [
         "SYED  TAJUDDIN"
        ],
        [
         "SAGI"
        ],
        [
         "LINGAMPALLY SRISAILA"
        ],
        [
         "PASHAM LINGAREDDY"
        ],
        [
         "PRAMOD SAIN"
        ],
        [
         "Mr Vangapally Ankithkumar Reddy"
        ],
        [
         "Vasamsetti Srinu"
        ],
        [
         "Raidurg"
        ],
        [
         "APPAGONI RAJU"
        ],
        [
         "Zruti Solutions "
        ],
        [
         "Bollepally Ravikumar"
        ],
        [
         "PANTHULUGARI SRINIVAS"
        ],
        [
         "SHAIKH M JAVED"
        ],
        [
         "RUKMAN BAI JAT"
        ],
        [
         "Phaseer Rahman"
        ],
        [
         "ANTHATI THIRUPATHIAH GOUD"
        ],
        [
         "Duragam Cheruvu"
        ],
        [
         "G PANDU"
        ],
        [
         "THOTA  GOPAL"
        ],
        [
         "ATTAVELLI SWATHI"
        ],
        [
         "ANTHATI  THIRUPATHIAH GOUD"
        ],
        [
         "AKSHAYA AROMA KITCHE"
        ],
        [
         "SHYAM BAHADUR BHUJEL"
        ],
        [
         "Chidura Rajitha"
        ],
        [
         "ASHARAM CHOUDHARY"
        ],
        [
         "K419 KFC Nagole"
        ],
        [
         "VIJAY  YADAV"
        ],
        [
         "KANNARAM AROGYA MARY"
        ],
        [
         "Mr Varaganti Santhosh Kumar"
        ],
        [
         "Mukesh Choudhari"
        ],
        [
         "Mr ROSHAN LAL  JAT"
        ],
        [
         "KOPPOLLA SUHASINI"
        ],
        [
         "MANIFOLD WRAP SOLUTIONS PRIVATE LIMITED"
        ],
        [
         ""
        ],
        [
         "Chanagala Swarupini"
        ],
        [
         "Addanki Balathripura Easwar"
        ],
        [
         "Geddit Convenience Private Limited"
        ],
        [
         "Bandi Harinadhababu"
        ],
        [
         "Marella Tejaswi"
        ],
        [
         "SRI DURGA"
        ],
        [
         "MADDY  CHAKRAPANI"
        ],
        [
         "Gelli Venkata Sagar"
        ],
        [
         "ASHISH KUMAR"
        ]
       ],
       "datasetInfos": [],
       "dbfsResultPath": null,
       "isJsonSchema": true,
       "metadata": {},
       "overflow": false,
       "plotOptions": {
        "customPlotOptions": {},
        "displayType": "table",
        "pivotAggregation": null,
        "pivotColumns": null,
        "xColumns": null,
        "yColumns": null
       },
       "removedWidgets": [],
       "schema": [
        {
         "metadata": "{}",
         "name": "receiver",
         "type": "\"string\""
        }
       ],
       "type": "table"
      }
     },
     "output_type": "display_data"
    }
   ],
   "source": [
    "df.filter(\n",
    "    (df.transaction_type == 'Paid')& (df.Category == 'Other')\n",
    ").select(\"receiver\").distinct().display()"
   ]
  },
  {
   "cell_type": "markdown",
   "metadata": {
    "application/vnd.databricks.v1+cell": {
     "cellMetadata": {
      "byteLimit": 2048000,
      "rowLimit": 10000
     },
     "inputWidgets": {},
     "nuid": "fb2d020f-95ea-46cd-ba21-ef56d2fea94b",
     "showTitle": false,
     "tableResultSettingsMap": {},
     "title": ""
    }
   },
   "source": [
    "### Filtering and Displaying Distinct Receivers for 'Paid' Transactions in the 'Other' Category\n",
    "\n",
    "This code filters the transactions where the transaction type is 'Paid' and the category is 'Other'. It then selects and displays distinct receivers (recipients) involved in these transactions.\n"
   ]
  },
  {
   "cell_type": "code",
   "execution_count": 0,
   "metadata": {
    "application/vnd.databricks.v1+cell": {
     "cellMetadata": {
      "byteLimit": 2048000,
      "rowLimit": 10000
     },
     "inputWidgets": {},
     "nuid": "915830a3-31f7-48c1-90dd-aec6e6553d78",
     "showTitle": false,
     "tableResultSettingsMap": {},
     "title": ""
    }
   },
   "outputs": [
    {
     "output_type": "stream",
     "name": "stdout",
     "output_type": "stream",
     "text": [
      "+--------------------+-----------+\n|            receiver|classifying|\n+--------------------+-----------+\n|                    |        401|\n|        THOTA  GOPAL|         30|\n|Mr Varaganti Sant...|          8|\n|GUMMADAVELLI  SRI...|          7|\n|AENKARLA  VARA LAXMI|          4|\n|             G PANDU|          4|\n| Chanagala Swarupini|          4|\n|      KOLA  VENKANNA|          3|\n|      THONTA  NAVEEN|          3|\n|    ATTAVELLI SWATHI|          3|\n|Bommagouni Baraddwaj|          2|\n|Bundl Technologie...|          2|\n|        D RAMAMURTHY|          2|\n|BATHINA VEERA VEN...|          2|\n|     Sunitha Sankhla|          2|\n|   NANDHI KESAVAN  M|          2|\n|LINGAMPALLY SRISAILA|          2|\n|         PRAMOD SAIN|          2|\n|    Vasamsetti Srinu|          2|\n|             Raidurg|          2|\n+--------------------+-----------+\nonly showing top 20 rows\n\n"
     ]
    }
   ],
   "source": [
    "df.filter(F.col(\"Category\") == \"Other\") \\\n",
    "  .groupBy('receiver') \\\n",
    "  .agg(F.count('price').alias('classifying')) \\\n",
    "  .orderBy(F.col('classifying').desc()) \\\n",
    "  .show(truncate=True)\n"
   ]
  },
  {
   "cell_type": "code",
   "execution_count": 0,
   "metadata": {
    "application/vnd.databricks.v1+cell": {
     "cellMetadata": {
      "byteLimit": 2048000,
      "rowLimit": 10000
     },
     "inputWidgets": {},
     "nuid": "2b675bba-594c-4141-b3a7-58bd370c1b7b",
     "showTitle": false,
     "tableResultSettingsMap": {},
     "title": ""
    },
    "jupyter": {
     "outputs_hidden": true
    }
   },
   "outputs": [],
   "source": [
    "# pip install matplotlib"
   ]
  },
  {
   "cell_type": "markdown",
   "metadata": {
    "application/vnd.databricks.v1+cell": {
     "cellMetadata": {},
     "inputWidgets": {},
     "nuid": "e9b774ff-891a-42da-96b1-b3a45a1b8810",
     "showTitle": false,
     "tableResultSettingsMap": {},
     "title": ""
    }
   },
   "source": [
    "### Visualizing Google Pay Monthly Spending Trend\n",
    "\n",
    "In this section, we filter the data for transactions labeled as 'Paid' and 'Sent', then group the transactions by month to calculate the total spending. The Spark DataFrame is then converted to a Pandas DataFrame, and we plot the data to visualize the trend of monthly expenses.\n"
   ]
  },
  {
   "cell_type": "code",
   "execution_count": 0,
   "metadata": {
    "application/vnd.databricks.v1+cell": {
     "cellMetadata": {
      "byteLimit": 2048000,
      "rowLimit": 10000
     },
     "inputWidgets": {},
     "nuid": "1bb0713b-a870-4755-a0ea-1d819a74d01a",
     "showTitle": false,
     "tableResultSettingsMap": {},
     "title": ""
    }
   },
   "outputs": [
    {
     "output_type": "display_data",
     "data": {
      "image/png": "[encoded data removed]"
     },
     "metadata": {
      "application/vnd.databricks.v1+output": {
       "addedWidgets": {},
       "arguments": {},
       "data": "data:image/png;base64,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\n",
       "datasetInfos": [],
       "metadata": {},
       "removedWidgets": [],
       "type": "image"
      }
     },
     "output_type": "display_data"
    }
   ],
   "source": [
    "import matplotlib.pyplot as plt\n",
    "import pyspark.sql.functions as F\n",
    "df_gpay = df.filter(((F.col('transaction_type') == 'Paid')| (F.col('transaction_type')== 'Sent')))\n",
    "# Group by Month and calculate total spending\n",
    "df_gpay = df_gpay.withColumn(\"Month\", F.date_format(\"time_stamp\", \"yyyy-MM\"))\n",
    "monthly_expenses = df_gpay.groupBy(\"Month\").agg(F.sum(\"price\").alias(\"total_spending\")).orderBy(df_gpay.Month.desc())\n",
    "\n",
    "# Convert the Spark DataFrame to Pandas DataFrame for plotting\n",
    "monthly_expenses_pandas = monthly_expenses.toPandas()\n",
    "\n",
    "# Plot the data\n",
    "plt.figure(figsize=(10, 5))\n",
    "plt.plot(monthly_expenses_pandas[\"Month\"], monthly_expenses_pandas[\"total_spending\"], marker='o', color=\"purple\")\n",
    "plt.xlabel(\"Month\")\n",
    "plt.ylabel(\"Total Spending (₹)\")\n",
    "plt.title(\"Google Pay Monthly Spending Trend\")\n",
    "plt.grid()\n",
    "plt.xticks(rotation=45)  # Rotate month labels for better readability\n",
    "plt.show()\n"
   ]
  },
  {
   "cell_type": "code",
   "execution_count": 0,
   "metadata": {
    "application/vnd.databricks.v1+cell": {
     "cellMetadata": {
      "byteLimit": 2048000,
      "rowLimit": 10000
     },
     "inputWidgets": {},
     "nuid": "3cb46772-2f58-436a-a1a5-39d8975afb04",
     "showTitle": false,
     "tableResultSettingsMap": {},
     "title": ""
    }
   },
   "outputs": [
    {
     "output_type": "display_data",
     "data": {
      "text/html": [
       "<style scoped>\n",
       "  .table-result-container {\n",
       "    max-height: 300px;\n",
       "    overflow: auto;\n",
       "  }\n",
       "  table, th, td {\n",
       "    border: 1px solid black;\n",
       "    border-collapse: collapse;\n",
       "  }\n",
       "  th, td {\n",
       "    padding: 5px;\n",
       "  }\n",
       "  th {\n",
       "    text-align: left;\n",
       "  }\n",
       "</style><div class='table-result-container'><table class='table-result'><thead style='background-color: white'><tr><th>Month</th><th>total_spending</th></tr></thead><tbody><tr><td>2025-01</td><td>30279.0</td></tr><tr><td>2024-12</td><td>34707.33</td></tr><tr><td>2024-11</td><td>20468.509999999995</td></tr><tr><td>2024-10</td><td>16279.619999999999</td></tr><tr><td>2024-09</td><td>17956.989999999998</td></tr><tr><td>2024-08</td><td>19466.179999999997</td></tr><tr><td>2024-07</td><td>13707.0</td></tr><tr><td>2024-06</td><td>6683.0</td></tr><tr><td>2024-05</td><td>8630.0</td></tr><tr><td>2024-04</td><td>180.0</td></tr><tr><td>2024-03</td><td>5323.0</td></tr><tr><td>2024-02</td><td>1719.9</td></tr><tr><td>2024-01</td><td>7234.9</td></tr><tr><td>2023-12</td><td>220.9</td></tr></tbody></table></div>"
      ]
     },
     "metadata": {
      "application/vnd.databricks.v1+output": {
       "addedWidgets": {},
       "aggData": [],
       "aggError": "",
       "aggOverflow": false,
       "aggSchema": [],
       "aggSeriesLimitReached": false,
       "aggType": "",
       "arguments": {},
       "columnCustomDisplayInfos": {},
       "data": [
        [
         "2025-01",
         30279.0
        ],
        [
         "2024-12",
         34707.33
        ],
        [
         "2024-11",
         20468.509999999995
        ],
        [
         "2024-10",
         16279.619999999999
        ],
        [
         "2024-09",
         17956.989999999998
        ],
        [
         "2024-08",
         19466.179999999997
        ],
        [
         "2024-07",
         13707.0
        ],
        [
         "2024-06",
         6683.0
        ],
        [
         "2024-05",
         8630.0
        ],
        [
         "2024-04",
         180.0
        ],
        [
         "2024-03",
         5323.0
        ],
        [
         "2024-02",
         1719.9
        ],
        [
         "2024-01",
         7234.9
        ],
        [
         "2023-12",
         220.9
        ]
       ],
       "datasetInfos": [],
       "dbfsResultPath": null,
       "isJsonSchema": true,
       "metadata": {},
       "overflow": false,
       "plotOptions": {
        "customPlotOptions": {},
        "displayType": "table",
        "pivotAggregation": null,
        "pivotColumns": null,
        "xColumns": null,
        "yColumns": null
       },
       "removedWidgets": [],
       "schema": [
        {
         "metadata": "{}",
         "name": "Month",
         "type": "\"string\""
        },
        {
         "metadata": "{}",
         "name": "total_spending",
         "type": "\"double\""
        }
       ],
       "type": "table"
      }
     },
     "output_type": "display_data"
    },
    {
     "output_type": "display_data",
     "data": {
      "text/html": [
       "<style scoped>\n",
       "  .table-result-container {\n",
       "    max-height: 300px;\n",
       "    overflow: auto;\n",
       "  }\n",
       "  table, th, td {\n",
       "    border: 1px solid black;\n",
       "    border-collapse: collapse;\n",
       "  }\n",
       "  th, td {\n",
       "    padding: 5px;\n",
       "  }\n",
       "  th {\n",
       "    text-align: left;\n",
       "  }\n",
       "</style><div class='table-result-container'><table class='table-result'><thead style='background-color: white'><tr><th>_c0</th><th>text</th><th>receiver</th><th>price</th><th>transaction_type</th><th>time_stamp</th><th>Category</th><th>Month</th></tr></thead><tbody><tr><td>2</td><td>Paid ₹61.00 to ISHAQ FILLING STATIO using Bank Account XXXXXXXX1661 Jan 24, 2025, 7:29:42 PM GMT+05:30</td><td>ISHAQ FILLING STATIO</td><td>61.0</td><td>Paid</td><td>2025-01-24T19:29:42.000+0000</td><td>Fuel & Transport</td><td>2025-01</td></tr><tr><td>3</td><td>Paid ₹40.00 to Mr Varaganti Santhosh Kumar using Bank Account XXXXXXXX1661 Jan 24, 2025, 7:11:37 PM GMT+05:30</td><td>Mr Varaganti Santhosh Kumar</td><td>40.0</td><td>Paid</td><td>2025-01-24T19:11:37.000+0000</td><td>Other</td><td>2025-01</td></tr><tr><td>4</td><td>Paid ₹129.00 to Tobox Ventures Private Limited using Bank Account XXXXXXXX1661 Jan 24, 2025, 12:53:45 PM GMT+05:30</td><td>Tobox Ventures Private Limited</td><td>129.0</td><td>Paid</td><td>2025-01-24T12:53:45.000+0000</td><td>Food & Dining</td><td>2025-01</td></tr><tr><td>5</td><td>Paid ₹450.00 to Zerodha Broking Ltd using Bank Account XXXXXXXX1661 Jan 24, 2025, 10:27:10 AM GMT+05:30</td><td>Zerodha Broking Ltd</td><td>450.0</td><td>Paid</td><td>2025-01-24T10:27:10.000+0000</td><td>Investment</td><td>2025-01</td></tr><tr><td>6</td><td>Paid ₹20.00 to NATTE SATYAPRASAD using Bank Account XXXXXXXX1661 Jan 24, 2025, 9:23:53 AM GMT+05:30</td><td>NATTE SATYAPRASAD</td><td>20.0</td><td>Paid</td><td>2025-01-24T09:23:53.000+0000</td><td>Other</td><td>2025-01</td></tr><tr><td>7</td><td>Paid ₹1800.00 to MR.DURGUM PUDI RAMA KRISHNA REDDY using Bank Account XXXXXXXX1661 Jan 23, 2025, 10:01:53 PM GMT+05:30</td><td>MR.DURGUM PUDI RAMA KRISHNA REDDY  </td><td>1800.0</td><td>Paid</td><td>2025-01-23T22:01:53.000+0000</td><td>Other</td><td>2025-01</td></tr><tr><td>9</td><td>Paid ₹248.00 to ISHAQ FILLING STATIO using Bank Account XXXXXXXX1661 Jan 20, 2025, 8:38:03 PM GMT+05:30</td><td>ISHAQ FILLING STATIO</td><td>248.0</td><td>Paid</td><td>2025-01-20T20:38:03.000+0000</td><td>Fuel & Transport</td><td>2025-01</td></tr><tr><td>10</td><td>Paid ₹10.00 to THOTA GOPAL using Bank Account XXXXXXXX1661 Jan 20, 2025, 8:22:03 PM GMT+05:30</td><td>THOTA  GOPAL</td><td>10.0</td><td>Paid</td><td>2025-01-20T20:22:03.000+0000</td><td>Other</td><td>2025-01</td></tr><tr><td>11</td><td>Paid ₹10.00 to THOTA GOPAL Jan 20, 2025, 8:21:57 PM GMT+05:30</td><td></td><td>10.0</td><td>Paid</td><td>2025-01-20T20:21:57.000+0000</td><td>Other</td><td>2025-01</td></tr><tr><td>12</td><td>Paid ₹30.00 to Mr Varaganti Santhosh Kumar using Bank Account XXXXXXXX1661 Jan 20, 2025, 7:58:05 PM GMT+05:30</td><td>Mr Varaganti Santhosh Kumar</td><td>30.0</td><td>Paid</td><td>2025-01-20T19:58:05.000+0000</td><td>Other</td><td>2025-01</td></tr><tr><td>13</td><td>Paid ₹100.00 to Punjab Sind Foods Raidurg MTS Hyderabad using Bank Account XXXXXXXX1661 Jan 20, 2025, 6:32:10 PM GMT+05:30</td><td>Punjab Sind Foods  Raidurg MTS Hyderabad</td><td>100.0</td><td>Paid</td><td>2025-01-20T18:32:10.000+0000</td><td>Food & Dining</td><td>2025-01</td></tr><tr><td>14</td><td>Paid ₹278.00 to Addanki Balathripura Easwar using Bank Account XXXXXXXX1661 Jan 20, 2025, 6:29:24 PM GMT+05:30</td><td>Addanki Balathripura Easwar</td><td>278.0</td><td>Paid</td><td>2025-01-20T18:29:24.000+0000</td><td>Other</td><td>2025-01</td></tr><tr><td>15</td><td>Paid ₹75.00 using Bank Account XXXXXXXX1661 Jan 20, 2025, 1:21:00 PM GMT+05:30</td><td></td><td>75.0</td><td>Paid</td><td>2025-01-20T13:21:00.000+0000</td><td>Other</td><td>2025-01</td></tr><tr><td>16</td><td>Paid ₹30.00 to Zerodha Broking Ltd using Bank Account XXXXXXXX1661 Jan 20, 2025, 9:24:35 AM GMT+05:30</td><td>Zerodha Broking Ltd</td><td>30.0</td><td>Paid</td><td>2025-01-20T09:24:35.000+0000</td><td>Investment</td><td>2025-01</td></tr><tr><td>17</td><td>Paid ₹435.00 to Zerodha Broking Ltd using Bank Account XXXXXXXX1661 Jan 20, 2025, 9:24:12 AM GMT+05:30</td><td>Zerodha Broking Ltd</td><td>435.0</td><td>Paid</td><td>2025-01-20T09:24:12.000+0000</td><td>Investment</td><td>2025-01</td></tr><tr><td>18</td><td>Paid ₹420.00 to Zerodha Broking Ltd using Bank Account XXXXXXXX1661 Jan 20, 2025, 9:13:30 AM GMT+05:30</td><td>Zerodha Broking Ltd</td><td>420.0</td><td>Paid</td><td>2025-01-20T09:13:30.000+0000</td><td>Investment</td><td>2025-01</td></tr><tr><td>19</td><td>Paid ₹100.00 to Raidurg using Bank Account XXXXXXXX1661 Jan 20, 2025, 9:03:05 AM GMT+05:30</td><td>Raidurg</td><td>100.0</td><td>Paid</td><td>2025-01-20T09:03:05.000+0000</td><td>Other</td><td>2025-01</td></tr><tr><td>21</td><td>Paid ₹800.00 using Bank Account XXXXXXXX1661 Jan 19, 2025, 8:29:34 PM GMT+05:30</td><td></td><td>800.0</td><td>Paid</td><td>2025-01-19T20:29:34.000+0000</td><td>Other</td><td>2025-01</td></tr><tr><td>23</td><td>Paid ₹21.00 to Zerodha Broking Ltd using Bank Account XXXXXXXX1661 Jan 18, 2025, 9:10:45 AM GMT+05:30</td><td>Zerodha Broking Ltd</td><td>21.0</td><td>Paid</td><td>2025-01-18T09:10:45.000+0000</td><td>Investment</td><td>2025-01</td></tr><tr><td>24</td><td>Paid ₹30.00 to Mr Varaganti Santhosh Kumar using Bank Account XXXXXXXX1661 Jan 17, 2025, 11:03:30 PM GMT+05:30</td><td>Mr Varaganti Santhosh Kumar</td><td>30.0</td><td>Paid</td><td>2025-01-17T23:03:30.000+0000</td><td>Other</td><td>2025-01</td></tr><tr><td>25</td><td>Sent ₹190.00 using Bank Account XXXXXXXX1661 Jan 17, 2025, 5:30:32 PM GMT+05:30</td><td></td><td>190.0</td><td>Sent</td><td>2025-01-17T17:30:32.000+0000</td><td>Other</td><td>2025-01</td></tr><tr><td>26</td><td>Paid ₹700.00 to Zerodha Broking Ltd using Bank Account XXXXXXXX1661 Jan 17, 2025, 1:57:46 PM GMT+05:30</td><td>Zerodha Broking Ltd</td><td>700.0</td><td>Paid</td><td>2025-01-17T13:57:46.000+0000</td><td>Investment</td><td>2025-01</td></tr><tr><td>27</td><td>Paid ₹20.00 to Mr Varaganti Santhosh Kumar using Bank Account XXXXXXXX1661 Jan 15, 2025, 7:37:28 PM GMT+05:30</td><td>Mr Varaganti Santhosh Kumar</td><td>20.0</td><td>Paid</td><td>2025-01-15T19:37:28.000+0000</td><td>Other</td><td>2025-01</td></tr><tr><td>28</td><td>Paid ₹225.00 to Tibbs Frankie LnT metro raidurg using Bank Account XXXXXXXX1661 Jan 15, 2025, 6:31:10 PM GMT+05:30</td><td>Tibbs Frankie LnT metro raidurg</td><td>225.0</td><td>Paid</td><td>2025-01-15T18:31:10.000+0000</td><td>Food & Dining</td><td>2025-01</td></tr><tr><td>29</td><td>Paid ₹225.00 to Tibbs Frankie LnT metro raidurg Jan 15, 2025, 6:31:05 PM GMT+05:30</td><td></td><td>225.0</td><td>Paid</td><td>2025-01-15T18:31:05.000+0000</td><td>Other</td><td>2025-01</td></tr><tr><td>30</td><td>Paid ₹30.00 to ASHARAM CHOUDHARY using Bank Account XXXXXXXX1661 Jan 14, 2025, 10:21:40 PM GMT+05:30</td><td>ASHARAM CHOUDHARY</td><td>30.0</td><td>Paid</td><td>2025-01-14T22:21:40.000+0000</td><td>Other</td><td>2025-01</td></tr><tr><td>31</td><td>Paid ₹115.00 to Mr Vangapally Ankithkumar Reddy using Bank Account XXXXXXXX1661 Jan 14, 2025, 10:19:24 PM GMT+05:30</td><td>Mr Vangapally Ankithkumar Reddy</td><td>115.0</td><td>Paid</td><td>2025-01-14T22:19:24.000+0000</td><td>Other</td><td>2025-01</td></tr><tr><td>32</td><td>Paid ₹91.00 using Bank Account XXXXXXXX1661 Jan 14, 2025, 9:54:21 PM GMT+05:30</td><td></td><td>91.0</td><td>Paid</td><td>2025-01-14T21:54:21.000+0000</td><td>Other</td><td>2025-01</td></tr><tr><td>33</td><td>Paid ₹10.00 to Bollepally Ravikumar using Bank Account XXXXXXXX1661 Jan 14, 2025, 8:22:40 PM GMT+05:30</td><td>Bollepally Ravikumar</td><td>10.0</td><td>Paid</td><td>2025-01-14T20:22:40.000+0000</td><td>Other</td><td>2025-01</td></tr><tr><td>34</td><td>Paid ₹120.00 to Bollepally Ravikumar using Bank Account XXXXXXXX1661 Jan 14, 2025, 8:21:56 PM GMT+05:30</td><td>Bollepally Ravikumar</td><td>120.0</td><td>Paid</td><td>2025-01-14T20:21:56.000+0000</td><td>Other</td><td>2025-01</td></tr><tr><td>35</td><td>Paid ₹180.00 to Zerodha Broking Ltd using Bank Account XXXXXXXX1661 Jan 14, 2025, 11:35:32 AM GMT+05:30</td><td>Zerodha Broking Ltd</td><td>180.0</td><td>Paid</td><td>2025-01-14T11:35:32.000+0000</td><td>Investment</td><td>2025-01</td></tr><tr><td>36</td><td>Paid ₹1500.00 to Zerodha Broking Ltd using Bank Account XXXXXXXX1661 Jan 14, 2025, 9:03:49 AM GMT+05:30</td><td>Zerodha Broking Ltd</td><td>1500.0</td><td>Paid</td><td>2025-01-14T09:03:49.000+0000</td><td>Investment</td><td>2025-01</td></tr><tr><td>37</td><td>Paid ₹10.00 to Zerodha Broking Ltd using Bank Account XXXXXXXX1661 Jan 14, 2025, 9:02:28 AM GMT+05:30</td><td>Zerodha Broking Ltd</td><td>10.0</td><td>Paid</td><td>2025-01-14T09:02:28.000+0000</td><td>Investment</td><td>2025-01</td></tr><tr><td>38</td><td>Paid ₹50.00 to Chanagala Swarupini using Bank Account XXXXXXXX1661 Jan 13, 2025, 6:46:02 PM GMT+05:30</td><td>Chanagala Swarupini</td><td>50.0</td><td>Paid</td><td>2025-01-13T18:46:02.000+0000</td><td>Other</td><td>2025-01</td></tr><tr><td>39</td><td>Paid ₹30.00 to GANDEPALLI JYO using Bank Account XXXXXXXX1661 Jan 13, 2025, 6:44:38 PM GMT+05:30</td><td>GANDEPALLI  JYO</td><td>30.0</td><td>Paid</td><td>2025-01-13T18:44:38.000+0000</td><td>Other</td><td>2025-01</td></tr><tr><td>41</td><td>Paid ₹15.00 using Bank Account XXXXXXXX1661 Jan 13, 2025, 1:25:05 PM GMT+05:30</td><td></td><td>15.0</td><td>Paid</td><td>2025-01-13T13:25:05.000+0000</td><td>Other</td><td>2025-01</td></tr><tr><td>42</td><td>Paid ₹50.00 to Zerodha Broking Ltd using Bank Account XXXXXXXX1661 Jan 13, 2025, 11:10:27 AM GMT+05:30</td><td>Zerodha Broking Ltd</td><td>50.0</td><td>Paid</td><td>2025-01-13T11:10:27.000+0000</td><td>Investment</td><td>2025-01</td></tr><tr><td>43</td><td>Paid ₹100.00 to Zerodha Broking Ltd using Bank Account XXXXXXXX1661 Jan 13, 2025, 11:09:05 AM GMT+05:30</td><td>Zerodha Broking Ltd</td><td>100.0</td><td>Paid</td><td>2025-01-13T11:09:05.000+0000</td><td>Investment</td><td>2025-01</td></tr><tr><td>44</td><td>Paid ₹100.00 to Zerodha Broking Ltd using Bank Account XXXXXXXX1661 Jan 13, 2025, 9:53:02 AM GMT+05:30</td><td>Zerodha Broking Ltd</td><td>100.0</td><td>Paid</td><td>2025-01-13T09:53:02.000+0000</td><td>Investment</td><td>2025-01</td></tr><tr><td>45</td><td>Paid ₹300.00 to Zerodha Broking Ltd using Bank Account XXXXXXXX1661 Jan 13, 2025, 9:50:40 AM GMT+05:30</td><td>Zerodha Broking Ltd</td><td>300.0</td><td>Paid</td><td>2025-01-13T09:50:40.000+0000</td><td>Investment</td><td>2025-01</td></tr><tr><td>46</td><td>Paid ₹1000.00 to Zerodha Broking Ltd using Bank Account XXXXXXXX1661 Jan 13, 2025, 9:32:42 AM GMT+05:30</td><td>Zerodha Broking Ltd</td><td>1000.0</td><td>Paid</td><td>2025-01-13T09:32:42.000+0000</td><td>Investment</td><td>2025-01</td></tr><tr><td>47</td><td>Paid ₹1000.00 to Zerodha Broking Ltd using Bank Account XXXXXXXX1661 Jan 13, 2025, 9:32:30 AM GMT+05:30</td><td>Zerodha Broking Ltd</td><td>1000.0</td><td>Paid</td><td>2025-01-13T09:32:30.000+0000</td><td>Investment</td><td>2025-01</td></tr><tr><td>49</td><td>Sent ₹500.00 using Bank Account XXXXXXXX1661 Jan 11, 2025, 8:16:53 PM GMT+05:30</td><td></td><td>500.0</td><td>Sent</td><td>2025-01-11T20:16:53.000+0000</td><td>Other</td><td>2025-01</td></tr><tr><td>50</td><td>Paid ₹300.00 to NASER KHAN using Bank Account XXXXXXXX1661 Jan 11, 2025, 8:07:15 PM GMT+05:30</td><td>NASER KHAN</td><td>300.0</td><td>Paid</td><td>2025-01-11T20:07:15.000+0000</td><td>Other</td><td>2025-01</td></tr><tr><td>51</td><td>Paid ₹460.00 to APP KA BAZAR using Bank Account XXXXXXXX1661 Jan 11, 2025, 8:05:04 PM GMT+05:30</td><td>APP KA BAZAR</td><td>460.0</td><td>Paid</td><td>2025-01-11T20:05:04.000+0000</td><td>Other</td><td>2025-01</td></tr><tr><td>52</td><td>Paid ₹650.00 to SHAIKH M JAVED using Bank Account XXXXXXXX1661 Jan 11, 2025, 7:53:26 PM GMT+05:30</td><td>SHAIKH M JAVED</td><td>650.0</td><td>Paid</td><td>2025-01-11T19:53:26.000+0000</td><td>Other</td><td>2025-01</td></tr><tr><td>53</td><td>Paid ₹150.00 using Bank Account XXXXXXXX1661 Jan 11, 2025, 7:15:49 PM GMT+05:30</td><td></td><td>150.0</td><td>Paid</td><td>2025-01-11T19:15:49.000+0000</td><td>Other</td><td>2025-01</td></tr><tr><td>55</td><td>Paid ₹70.00 using Bank Account XXXXXX1661 Jan 11, 2025, 3:20:52 PM GMT+05:30</td><td></td><td>70.0</td><td>Paid</td><td>2025-01-11T15:20:52.000+0000</td><td>Other</td><td>2025-01</td></tr><tr><td>56</td><td>Paid ₹161.00 using Bank Account XXXXXXXX1661 Jan 11, 2025, 3:18:47 PM GMT+05:30</td><td></td><td>161.0</td><td>Paid</td><td>2025-01-11T15:18:47.000+0000</td><td>Other</td><td>2025-01</td></tr><tr><td>57</td><td>Paid ₹211.00 using Bank Account XXXXXXXX1661 Jan 11, 2025, 3:18:09 PM GMT+05:30</td><td></td><td>211.0</td><td>Paid</td><td>2025-01-11T15:18:09.000+0000</td><td>Other</td><td>2025-01</td></tr><tr><td>58</td><td>Paid ₹30.00 to Mr Varaganti Santhosh Kumar using Bank Account XXXXXXXX1661 Jan 10, 2025, 7:58:00 PM GMT+05:30</td><td>Mr Varaganti Santhosh Kumar</td><td>30.0</td><td>Paid</td><td>2025-01-10T19:58:00.000+0000</td><td>Other</td><td>2025-01</td></tr><tr><td>59</td><td>Paid ₹10.00 to Zerodha Broking Ltd using Bank Account XXXXXXXX1661 Jan 10, 2025, 2:17:02 PM GMT+05:30</td><td>Zerodha Broking Ltd</td><td>10.0</td><td>Paid</td><td>2025-01-10T14:17:02.000+0000</td><td>Investment</td><td>2025-01</td></tr><tr><td>60</td><td>Sent ₹1000.00 using Bank Account XXXXXXXX1661 Jan 10, 2025, 11:19:34 AM GMT+05:30</td><td></td><td>1000.0</td><td>Sent</td><td>2025-01-10T11:19:34.000+0000</td><td>Other</td><td>2025-01</td></tr><tr><td>62</td><td>Paid ₹60.00 to Zerodha Broking Ltd using Bank Account XXXXXXXX1661 Jan 10, 2025, 9:29:40 AM GMT+05:30</td><td>Zerodha Broking Ltd</td><td>60.0</td><td>Paid</td><td>2025-01-10T09:29:40.000+0000</td><td>Investment</td><td>2025-01</td></tr><tr><td>63</td><td>Paid ₹20.00 to Mr Varaganti Santhosh Kumar using Bank Account XXXXXXXX1661 Jan 9, 2025, 8:04:34 PM GMT+05:30</td><td>Mr Varaganti Santhosh Kumar</td><td>20.0</td><td>Paid</td><td>2025-01-09T20:04:34.000+0000</td><td>Other</td><td>2025-01</td></tr><tr><td>64</td><td>Paid ₹20.00 to SREENU CHEEKATI using Bank Account XXXXXXXX1661 Jan 9, 2025, 7:56:19 PM GMT+05:30</td><td>SREENU CHEEKATI</td><td>20.0</td><td>Paid</td><td>2025-01-09T19:56:19.000+0000</td><td>Other</td><td>2025-01</td></tr><tr><td>65</td><td>Paid ₹200.00 to Zerodha Broking Ltd using Bank Account XXXXXXXX1661 Jan 9, 2025, 2:03:22 PM GMT+05:30</td><td>Zerodha Broking Ltd</td><td>200.0</td><td>Paid</td><td>2025-01-09T14:03:22.000+0000</td><td>Investment</td><td>2025-01</td></tr><tr><td>66</td><td>Paid ₹31.00 to Tobox Ventures Private Limited using Bank Account XXXXXXXX1661 Jan 9, 2025, 11:24:56 AM GMT+05:30</td><td>Tobox Ventures Private Limited</td><td>31.0</td><td>Paid</td><td>2025-01-09T11:24:56.000+0000</td><td>Food & Dining</td><td>2025-01</td></tr><tr><td>67</td><td>Paid ₹30.00 to Mr Varaganti Santhosh Kumar using Bank Account XXXXXXXX1661 Jan 8, 2025, 8:03:47 PM GMT+05:30</td><td>Mr Varaganti Santhosh Kumar</td><td>30.0</td><td>Paid</td><td>2025-01-08T20:03:47.000+0000</td><td>Other</td><td>2025-01</td></tr><tr><td>68</td><td>Paid ₹105.00 to Tibbs Frankie LnT metro raidurg using Bank Account XXXXXXXX1661 Jan 8, 2025, 6:52:06 PM GMT+05:30</td><td>Tibbs Frankie LnT metro raidurg</td><td>105.0</td><td>Paid</td><td>2025-01-08T18:52:06.000+0000</td><td>Food & Dining</td><td>2025-01</td></tr><tr><td>69</td><td>Paid ₹100.00 using Bank Account XXXXXXXX1661 Jan 8, 2025, 11:51:38 AM GMT+05:30</td><td></td><td>100.0</td><td>Paid</td><td>2025-01-08T11:51:38.000+0000</td><td>Other</td><td>2025-01</td></tr><tr><td>70</td><td>Paid ₹20.00 to Mr Varaganti Santhosh Kumar using Bank Account XXXXXXXX1661 Jan 7, 2025, 7:37:37 PM GMT+05:30</td><td>Mr Varaganti Santhosh Kumar</td><td>20.0</td><td>Paid</td><td>2025-01-07T19:37:37.000+0000</td><td>Other</td><td>2025-01</td></tr><tr><td>72</td><td>Paid ₹260.00 to Zerodha Broking Ltd using Bank Account XXXXXXXX1661 Jan 6, 2025, 3:32:34 PM GMT+05:30</td><td>Zerodha Broking Ltd</td><td>260.0</td><td>Paid</td><td>2025-01-06T15:32:34.000+0000</td><td>Investment</td><td>2025-01</td></tr><tr><td>73</td><td>Paid ₹1000.00 to Zerodha Broking Ltd using Bank Account XXXXXXXX1661 Jan 6, 2025, 3:18:27 PM GMT+05:30</td><td>Zerodha Broking Ltd</td><td>1000.0</td><td>Paid</td><td>2025-01-06T15:18:27.000+0000</td><td>Investment</td><td>2025-01</td></tr><tr><td>75</td><td>Paid ₹103.00 to Zerodha Broking Ltd using Bank Account XXXXXXXX1661 Jan 6, 2025, 3:13:27 PM GMT+05:30</td><td>Zerodha Broking Ltd</td><td>103.0</td><td>Paid</td><td>2025-01-06T15:13:27.000+0000</td><td>Investment</td><td>2025-01</td></tr><tr><td>76</td><td>Sent ₹140.00 using Bank Account XXXXXXXX1661 Jan 6, 2025, 7:27:32 AM GMT+05:30</td><td></td><td>140.0</td><td>Sent</td><td>2025-01-06T07:27:32.000+0000</td><td>Other</td><td>2025-01</td></tr><tr><td>77</td><td>Paid ₹20.00 to Umatraders using Bank Account XXXXXXXX1661 Jan 4, 2025, 2:12:55 PM GMT+05:30</td><td>Umatraders</td><td>20.0</td><td>Paid</td><td>2025-01-04T14:12:55.000+0000</td><td>Shopping & Retail</td><td>2025-01</td></tr><tr><td>78</td><td>Paid ₹230.00 using Bank Account XXXXXX1661 Jan 4, 2025, 2:08:07 PM GMT+05:30</td><td></td><td>230.0</td><td>Paid</td><td>2025-01-04T14:08:07.000+0000</td><td>Other</td><td>2025-01</td></tr><tr><td>79</td><td>Paid ₹39.00 to RIDE HONDA HUBSIGUDA SERVICE using Bank Account XXXXXXXX1661 Jan 4, 2025, 12:41:34 PM GMT+05:30</td><td>RIDE HONDA HUBSIGUDA SERVICE</td><td>39.0</td><td>Paid</td><td>2025-01-04T12:41:34.000+0000</td><td>Fuel & Transport</td><td>2025-01</td></tr><tr><td>80</td><td>Sent ₹87.00 using Bank Account XXXXXXXX1661 Jan 4, 2025, 12:33:56 PM GMT+05:30</td><td></td><td>87.0</td><td>Sent</td><td>2025-01-04T12:33:56.000+0000</td><td>Other</td><td>2025-01</td></tr><tr><td>81</td><td>Paid ₹10.00 to GUMMADAVELLI SRINIVASALU using Bank Account XXXXXXXX1661 Jan 4, 2025, 7:41:32 AM GMT+05:30</td><td>GUMMADAVELLI  SRINIVASALU</td><td>10.0</td><td>Paid</td><td>2025-01-04T07:41:32.000+0000</td><td>Other</td><td>2025-01</td></tr><tr><td>82</td><td>Paid ₹2.00 to Sulabh Metro Station Raidurg using Bank Account XXXXXXXX1661 Jan 3, 2025, 7:27:38 PM GMT+05:30</td><td>Sulabh Metro Station Raidurg</td><td>2.0</td><td>Paid</td><td>2025-01-03T19:27:38.000+0000</td><td>Fuel & Transport</td><td>2025-01</td></tr><tr><td>83</td><td>Sent ₹2178.00 using Bank Account XXXXXXXX1661 Jan 3, 2025, 12:40:16 PM GMT+05:30</td><td></td><td>2178.0</td><td>Sent</td><td>2025-01-03T12:40:16.000+0000</td><td>Other</td><td>2025-01</td></tr><tr><td>85</td><td>Paid ₹60.00 to Tobox Ventures Private Limited using Bank Account XXXXXXXX1661 Jan 3, 2025, 11:36:27 AM GMT+05:30</td><td>Tobox Ventures Private Limited</td><td>60.0</td><td>Paid</td><td>2025-01-03T11:36:27.000+0000</td><td>Food & Dining</td><td>2025-01</td></tr><tr><td>86</td><td>Paid ₹30.00 to MANIKANTA ENTERPRISE using Bank Account XXXXXXXX1661 Jan 3, 2025, 8:22:42 AM GMT+05:30</td><td>MANIKANTA ENTERPRISE</td><td>30.0</td><td>Paid</td><td>2025-01-03T08:22:42.000+0000</td><td>Other</td><td>2025-01</td></tr><tr><td>87</td><td>Paid ₹500.00 to SRI DURGA using Bank Account XXXXXXXX1661 Jan 2, 2025, 9:02:25 PM GMT+05:30</td><td>SRI DURGA</td><td>500.0</td><td>Paid</td><td>2025-01-02T21:02:25.000+0000</td><td>Other</td><td>2025-01</td></tr><tr><td>88</td><td>Paid ₹300.00 to HYDERABAD METRO RAIL using Bank Account XXXXXXXX1661 Jan 2, 2025, 8:40:55 PM GMT+05:30</td><td>HYDERABAD METRO RAIL</td><td>300.0</td><td>Paid</td><td>2025-01-02T20:40:55.000+0000</td><td>Fuel & Transport</td><td>2025-01</td></tr><tr><td>89</td><td>Sent ₹50.00 Jan 2, 2025, 7:48:31 PM GMT+05:30</td><td></td><td>50.0</td><td>Sent</td><td>2025-01-02T19:48:31.000+0000</td><td>Other</td><td>2025-01</td></tr><tr><td>90</td><td>Paid ₹35.00 using Bank Account XXXXXXXX1661 Jan 2, 2025, 7:44:44 PM GMT+05:30</td><td></td><td>35.0</td><td>Paid</td><td>2025-01-02T19:44:44.000+0000</td><td>Other</td><td>2025-01</td></tr><tr><td>91</td><td>Paid ₹210.00 to KEMPAWANAIYA NM using Bank Account XXXXXXXX1661 Jan 2, 2025, 7:08:35 PM GMT+05:30</td><td>KEMPAWANAIYA  NM</td><td>210.0</td><td>Paid</td><td>2025-01-02T19:08:35.000+0000</td><td>Other</td><td>2025-01</td></tr><tr><td>92</td><td>Paid ₹1800.00 to Zerodha Broking Ltd using Bank Account XXXXXXXX1661 Jan 2, 2025, 8:32:25 AM GMT+05:30</td><td>Zerodha Broking Ltd</td><td>1800.0</td><td>Paid</td><td>2025-01-02T08:32:25.000+0000</td><td>Investment</td><td>2025-01</td></tr><tr><td>93</td><td>Paid ₹157.00 to Swiggy using Bank Account XXXXXXXX1661 Jan 1, 2025, 9:43:02 PM GMT+05:30</td><td>Swiggy</td><td>157.0</td><td>Paid</td><td>2025-01-01T21:43:02.000+0000</td><td>Food & Dining</td><td>2025-01</td></tr><tr><td>94</td><td>Paid ₹157.00 to Swiggy Jan 1, 2025, 9:42:24 PM GMT+05:30</td><td></td><td>157.0</td><td>Paid</td><td>2025-01-01T21:42:24.000+0000</td><td>Other</td><td>2025-01</td></tr><tr><td>95</td><td>Sent ₹10.00 using Bank Account XXXXXXXX1661 Jan 1, 2025, 9:19:52 PM GMT+05:30</td><td></td><td>10.0</td><td>Sent</td><td>2025-01-01T21:19:52.000+0000</td><td>Other</td><td>2025-01</td></tr><tr><td>96</td><td>Paid ₹40.00 to SREE GEETA EATS AND using Bank Account XXXXXXXX1661 Jan 1, 2025, 8:39:27 PM GMT+05:30</td><td>SREE GEETA EATS AND</td><td>40.0</td><td>Paid</td><td>2025-01-01T20:39:27.000+0000</td><td>Food & Dining</td><td>2025-01</td></tr><tr><td>97</td><td>Paid ₹130.00 to YASHVI KITCHEN MENU using Bank Account XXXXXXXX1661 Jan 1, 2025, 8:27:22 PM GMT+05:30</td><td>YASHVI KITCHEN MENU</td><td>130.0</td><td>Paid</td><td>2025-01-01T20:27:22.000+0000</td><td>Food & Dining</td><td>2025-01</td></tr><tr><td>98</td><td>Paid ₹50.00 to BATTHINI RANGA SWAMY using Bank Account XXXXXXXX1661 Jan 1, 2025, 8:20:29 PM GMT+05:30</td><td>BATTHINI  RANGA SWAMY</td><td>50.0</td><td>Paid</td><td>2025-01-01T20:20:29.000+0000</td><td>Other</td><td>2025-01</td></tr><tr><td>99</td><td>Paid ₹70.00 to MD GHOUSE using Bank Account XXXXXXXX1661 Jan 1, 2025, 8:12:10 PM GMT+05:30</td><td>MD GHOUSE</td><td>70.0</td><td>Paid</td><td>2025-01-01T20:12:10.000+0000</td><td>Other</td><td>2025-01</td></tr><tr><td>100</td><td>Paid ₹1000.00 to Zerodha Broking Ltd using Bank Account XXXXXXXX1661 Jan 1, 2025, 1:26:33 PM GMT+05:30</td><td>Zerodha Broking Ltd</td><td>1000.0</td><td>Paid</td><td>2025-01-01T13:26:33.000+0000</td><td>Investment</td><td>2025-01</td></tr><tr><td>101</td><td>Paid ₹1325.00 to Zerodha Broking Ltd using Bank Account XXXXXXXX1661 Jan 1, 2025, 1:25:54 PM GMT+05:30</td><td>Zerodha Broking Ltd</td><td>1325.0</td><td>Paid</td><td>2025-01-01T13:25:54.000+0000</td><td>Investment</td><td>2025-01</td></tr><tr><td>102</td><td>Paid ₹700.00 to Zerodha Broking Ltd using Bank Account XXXXXXXX1661 Jan 1, 2025, 11:56:07 AM GMT+05:30</td><td>Zerodha Broking Ltd</td><td>700.0</td><td>Paid</td><td>2025-01-01T11:56:07.000+0000</td><td>Investment</td><td>2025-01</td></tr><tr><td>103</td><td>Paid ₹500.00 using Bank Account XXXXXXXX1661 Jan 1, 2025, 11:50:03 AM GMT+05:30</td><td></td><td>500.0</td><td>Paid</td><td>2025-01-01T11:50:03.000+0000</td><td>Other</td><td>2025-01</td></tr><tr><td>104</td><td>Paid ₹1700.00 to Zerodha Broking Ltd using Bank Account XXXXXXXX1661 Jan 1, 2025, 11:21:38 AM GMT+05:30</td><td>Zerodha Broking Ltd</td><td>1700.0</td><td>Paid</td><td>2025-01-01T11:21:38.000+0000</td><td>Investment</td><td>2025-01</td></tr><tr><td>106</td><td>Paid ₹10.00 to Zerodha Broking Ltd using Bank Account XXXXXXXX1661 Jan 1, 2025, 9:40:12 AM GMT+05:30</td><td>Zerodha Broking Ltd</td><td>10.0</td><td>Paid</td><td>2025-01-01T09:40:12.000+0000</td><td>Investment</td><td>2025-01</td></tr><tr><td>107</td><td>Paid ₹2100.00 to Zerodha Broking Ltd using Bank Account XXXXXXXX1661 Jan 1, 2025, 1:55:17 AM GMT+05:30</td><td>Zerodha Broking Ltd</td><td>2100.0</td><td>Paid</td><td>2025-01-01T01:55:17.000+0000</td><td>Investment</td><td>2025-01</td></tr><tr><td>108</td><td>Paid ₹50.00 to VIJAYA LAXMI KIRANA AND GENERAL STORE using Bank Account XXXXXXXX1661 Dec 31, 2024, 10:28:37 PM GMT+05:30</td><td>VIJAYA LAXMI KIRANA AND GENERAL STORE</td><td>50.0</td><td>Paid</td><td>2024-12-31T22:28:37.000+0000</td><td>Groceries</td><td>2024-12</td></tr><tr><td>109</td><td>Paid ₹320.00 to BHAVYAYA FOOD AND B using Bank Account XXXXXXXX1661 Dec 31, 2024, 10:22:43 PM GMT+05:30</td><td>BHAVYAYA FOOD AND B</td><td>320.0</td><td>Paid</td><td>2024-12-31T22:22:43.000+0000</td><td>Food & Dining</td><td>2024-12</td></tr><tr><td>110</td><td>Paid ₹145.00 to ISHAQ FILLING STATIO using Bank Account XXXXXXXX1661 Dec 31, 2024, 10:19:49 PM GMT+05:30</td><td>ISHAQ FILLING STATIO</td><td>145.0</td><td>Paid</td><td>2024-12-31T22:19:49.000+0000</td><td>Fuel & Transport</td><td>2024-12</td></tr><tr><td>111</td><td>Paid ₹130.00 to PRAMOD SAIN using Bank Account XXXXXXXX1661 Dec 31, 2024, 7:55:38 PM GMT+05:30</td><td>PRAMOD SAIN</td><td>130.0</td><td>Paid</td><td>2024-12-31T19:55:38.000+0000</td><td>Other</td><td>2024-12</td></tr><tr><td>112</td><td>Paid ₹20.00 to GUMMADAVELLI SRINIVASALU using Bank Account XXXXXXXX1661 Dec 31, 2024, 4:14:42 PM GMT+05:30</td><td>GUMMADAVELLI  SRINIVASALU</td><td>20.0</td><td>Paid</td><td>2024-12-31T16:14:42.000+0000</td><td>Other</td><td>2024-12</td></tr><tr><td>113</td><td>Sent ₹1000.00 using Bank Account XXXXXXXX1661 Dec 31, 2024, 1:56:41 PM GMT+05:30</td><td></td><td>1000.0</td><td>Sent</td><td>2024-12-31T13:56:41.000+0000</td><td>Other</td><td>2024-12</td></tr><tr><td>115</td><td>Paid ₹190.00 to Zerodha Broking Ltd using Bank Account XXXXXXXX1661 Dec 31, 2024, 11:31:43 AM GMT+05:30</td><td>Zerodha Broking Ltd</td><td>190.0</td><td>Paid</td><td>2024-12-31T11:31:43.000+0000</td><td>Investment</td><td>2024-12</td></tr><tr><td>116</td><td>Paid ₹330.00 to Zerodha Broking Ltd using Bank Account XXXXXXXX1661 Dec 31, 2024, 11:17:41 AM GMT+05:30</td><td>Zerodha Broking Ltd</td><td>330.0</td><td>Paid</td><td>2024-12-31T11:17:41.000+0000</td><td>Investment</td><td>2024-12</td></tr><tr><td>117</td><td>Paid ₹880.00 to Zerodha Broking Ltd using Bank Account XXXXXXXX1661 Dec 31, 2024, 11:06:23 AM GMT+05:30</td><td>Zerodha Broking Ltd</td><td>880.0</td><td>Paid</td><td>2024-12-31T11:06:23.000+0000</td><td>Investment</td><td>2024-12</td></tr><tr><td>118</td><td>Paid ₹2513.00 to Zerodha Broking Ltd using Bank Account XXXXXXXX1661 Dec 31, 2024, 10:21:37 AM GMT+05:30</td><td>Zerodha Broking Ltd</td><td>2513.0</td><td>Paid</td><td>2024-12-31T10:21:37.000+0000</td><td>Investment</td><td>2024-12</td></tr><tr><td>119</td><td>Paid ₹5000.00 to Zerodha Broking Ltd using Bank Account XXXXXXXX1661 Dec 31, 2024, 9:55:00 AM GMT+05:30</td><td>Zerodha Broking Ltd</td><td>5000.0</td><td>Paid</td><td>2024-12-31T09:55:00.000+0000</td><td>Investment</td><td>2024-12</td></tr><tr><td>120</td><td>Sent ₹2000.00 using Bank Account XXXXXXXX1661 Dec 31, 2024, 9:54:44 AM GMT+05:30</td><td></td><td>2000.0</td><td>Sent</td><td>2024-12-31T09:54:44.000+0000</td><td>Other</td><td>2024-12</td></tr><tr><td>121</td><td>Paid ₹500.00 to Zerodha Broking Ltd using Bank Account XXXXXXXX1661 Dec 31, 2024, 9:48:18 AM GMT+05:30</td><td>Zerodha Broking Ltd</td><td>500.0</td><td>Paid</td><td>2024-12-31T09:48:18.000+0000</td><td>Investment</td><td>2024-12</td></tr><tr><td>124</td><td>Paid ₹40.81 to MEDPLUS BODUPPAL BRUNDAVAN COLONY using Bank Account XXXXXXXX1661 Dec 30, 2024, 9:27:34 PM GMT+05:30</td><td>MEDPLUS BODUPPAL BRUNDAVAN COLONY</td><td>40.81</td><td>Paid</td><td>2024-12-30T21:27:34.000+0000</td><td>Health & Medical</td><td>2024-12</td></tr><tr><td>125</td><td>Paid ₹60.00 to Mithai Wala Dilsukhnagar using Bank Account XXXXXXXX1661 Dec 30, 2024, 8:34:38 PM GMT+05:30</td><td>Mithai Wala Dilsukhnagar</td><td>60.0</td><td>Paid</td><td>2024-12-30T20:34:38.000+0000</td><td>Food & Dining</td><td>2024-12</td></tr><tr><td>126</td><td>Paid ₹30.00 to Tobox Ventures Private Limited using Bank Account XXXXXXXX1661 Dec 30, 2024, 3:37:13 PM GMT+05:30</td><td>Tobox Ventures Private Limited</td><td>30.0</td><td>Paid</td><td>2024-12-30T15:37:13.000+0000</td><td>Food & Dining</td><td>2024-12</td></tr><tr><td>127</td><td>Paid ₹66.00 using Bank Account XXXXXXXX1661 Dec 30, 2024, 8:23:24 AM GMT+05:30</td><td></td><td>66.0</td><td>Paid</td><td>2024-12-30T08:23:24.000+0000</td><td>Other</td><td>2024-12</td></tr><tr><td>129</td><td>Paid ₹66.00 using Bank Account XXXXXXXX1661 Dec 29, 2024, 10:36:52 PM GMT+05:30</td><td></td><td>66.0</td><td>Paid</td><td>2024-12-29T22:36:52.000+0000</td><td>Other</td><td>2024-12</td></tr><tr><td>130</td><td>Sent ₹60.00 using Bank Account XXXXXXXX1661 Dec 29, 2024, 9:00:39 PM GMT+05:30</td><td></td><td>60.0</td><td>Sent</td><td>2024-12-29T21:00:39.000+0000</td><td>Other</td><td>2024-12</td></tr><tr><td>131</td><td>Sent ₹50.00 Dec 29, 2024, 9:00:33 PM GMT+05:30</td><td></td><td>50.0</td><td>Sent</td><td>2024-12-29T21:00:33.000+0000</td><td>Other</td><td>2024-12</td></tr><tr><td>132</td><td>Sent ₹50.00 Dec 29, 2024, 9:00:29 PM GMT+05:30</td><td></td><td>50.0</td><td>Sent</td><td>2024-12-29T21:00:29.000+0000</td><td>Other</td><td>2024-12</td></tr><tr><td>133</td><td>Paid ₹50.00 using Bank Account XXXXXXXX1661 Dec 29, 2024, 4:07:18 PM GMT+05:30</td><td></td><td>50.0</td><td>Paid</td><td>2024-12-29T16:07:18.000+0000</td><td>Other</td><td>2024-12</td></tr><tr><td>134</td><td>Paid ₹91.00 to bigbasket using Bank Account XXXXXXXX1661 Dec 28, 2024, 10:38:40 PM GMT+05:30</td><td>bigbasket</td><td>91.0</td><td>Paid</td><td>2024-12-28T22:38:40.000+0000</td><td>Groceries</td><td>2024-12</td></tr><tr><td>135</td><td>Paid ₹110.00 to SYED TAJUDDIN using Bank Account XXXXXXXX1661 Dec 28, 2024, 1:40:45 PM GMT+05:30</td><td>SYED  TAJUDDIN</td><td>110.0</td><td>Paid</td><td>2024-12-28T13:40:45.000+0000</td><td>Other</td><td>2024-12</td></tr><tr><td>138</td><td>Paid ₹68.00 to Zerodha Broking Ltd using Bank Account XXXXXXXX1661 Dec 27, 2024, 9:27:37 AM GMT+05:30</td><td>Zerodha Broking Ltd</td><td>68.0</td><td>Paid</td><td>2024-12-27T09:27:37.000+0000</td><td>Investment</td><td>2024-12</td></tr><tr><td>139</td><td>Paid ₹2998.00 to Zerodha Broking Ltd using Bank Account XXXXXXXX1661 Dec 26, 2024, 9:01:37 AM GMT+05:30</td><td>Zerodha Broking Ltd</td><td>2998.0</td><td>Paid</td><td>2024-12-26T09:01:37.000+0000</td><td>Investment</td><td>2024-12</td></tr><tr><td>140</td><td>Paid ₹2998.00 to Zerodha Broking Ltd using Bank Account XXXXXXXX1661 Dec 26, 2024, 9:01:23 AM GMT+05:30</td><td>Zerodha Broking Ltd</td><td>2998.0</td><td>Paid</td><td>2024-12-26T09:01:23.000+0000</td><td>Investment</td><td>2024-12</td></tr><tr><td>142</td><td>Sent ₹250.00 using Bank Account XXXXXXXX1661 Dec 25, 2024, 6:43:52 PM GMT+05:30</td><td></td><td>250.0</td><td>Sent</td><td>2024-12-25T18:43:52.000+0000</td><td>Other</td><td>2024-12</td></tr><tr><td>143</td><td>Paid ₹60.00 to PRAMOD SAIN using Bank Account XXXXXXXX1661 Dec 24, 2024, 6:24:53 PM GMT+05:30</td><td>PRAMOD SAIN</td><td>60.0</td><td>Paid</td><td>2024-12-24T18:24:53.000+0000</td><td>Other</td><td>2024-12</td></tr><tr><td>144</td><td>Paid ₹55.00 to VIJAYA LAXMI KIRANA AND GENERAL STORE using Bank Account XXXXXXXX1661 Dec 24, 2024, 6:21:24 PM GMT+05:30</td><td>VIJAYA LAXMI KIRANA AND GENERAL STORE</td><td>55.0</td><td>Paid</td><td>2024-12-24T18:21:24.000+0000</td><td>Groceries</td><td>2024-12</td></tr><tr><td>145</td><td>Paid ₹10.00 to D RAMAMURTHY using Bank Account XXXXXXXX1661 Dec 24, 2024, 4:02:34 PM GMT+05:30</td><td>D RAMAMURTHY</td><td>10.0</td><td>Paid</td><td>2024-12-24T16:02:34.000+0000</td><td>Other</td><td>2024-12</td></tr><tr><td>146</td><td>Paid ₹25.00 to G PANDU using Bank Account XXXXXXXX1661 Dec 24, 2024, 3:25:57 PM GMT+05:30</td><td>G PANDU</td><td>25.0</td><td>Paid</td><td>2024-12-24T15:25:57.000+0000</td><td>Other</td><td>2024-12</td></tr><tr><td>148</td><td>Paid ₹10.00 to THOTA GOPAL using Bank Account XXXXXXXX1661 Dec 23, 2024, 12:12:37 PM GMT+05:30</td><td>THOTA  GOPAL</td><td>10.0</td><td>Paid</td><td>2024-12-23T12:12:37.000+0000</td><td>Other</td><td>2024-12</td></tr><tr><td>149</td><td>Paid ₹15.00 to Vasavi Traders using Bank Account XXXXXXXX1661 Dec 22, 2024, 7:24:22 PM GMT+05:30</td><td>Vasavi Traders</td><td>15.0</td><td>Paid</td><td>2024-12-22T19:24:22.000+0000</td><td>Shopping & Retail</td><td>2024-12</td></tr><tr><td>150</td><td>Paid ₹80.00 to SREE GEETA EATS AND using Bank Account XXXXXXXX1661 Dec 22, 2024, 7:19:18 PM GMT+05:30</td><td>SREE GEETA EATS AND</td><td>80.0</td><td>Paid</td><td>2024-12-22T19:19:18.000+0000</td><td>Food & Dining</td><td>2024-12</td></tr><tr><td>151</td><td>Paid ₹30.00 to AENKARLA VARA LAXMI using Bank Account XXXXXXXX1661 Dec 22, 2024, 7:00:48 PM GMT+05:30</td><td>AENKARLA  VARA LAXMI</td><td>30.0</td><td>Paid</td><td>2024-12-22T19:00:48.000+0000</td><td>Other</td><td>2024-12</td></tr><tr><td>152</td><td>Paid ₹20.00 to SRI SAMRUDHI AMRUTTULYA using Bank Account XXXXXXXX1661 Dec 22, 2024, 6:20:15 PM GMT+05:30</td><td>SRI SAMRUDHI AMRUTTULYA</td><td>20.0</td><td>Paid</td><td>2024-12-22T18:20:15.000+0000</td><td>Other</td><td>2024-12</td></tr><tr><td>153</td><td>Paid ₹133.00 using Bank Account XXXXXXXX1661 Dec 22, 2024, 6:04:41 PM GMT+05:30</td><td></td><td>133.0</td><td>Paid</td><td>2024-12-22T18:04:41.000+0000</td><td>Other</td><td>2024-12</td></tr><tr><td>154</td><td>Paid ₹133.00 using Bank Account XXXXXXXX1661 Dec 22, 2024, 6:04:22 PM GMT+05:30</td><td></td><td>133.0</td><td>Paid</td><td>2024-12-22T18:04:22.000+0000</td><td>Other</td><td>2024-12</td></tr><tr><td>155</td><td>Paid ₹20.00 to ATTAVELLI SWATHI using Bank Account XXXXXXXX1661 Dec 21, 2024, 7:33:38 PM GMT+05:30</td><td>ATTAVELLI SWATHI</td><td>20.0</td><td>Paid</td><td>2024-12-21T19:33:38.000+0000</td><td>Other</td><td>2024-12</td></tr><tr><td>156</td><td>Paid ₹100.00 to groww using Bank Account XXXXXXXX1661 Dec 21, 2024, 11:58:42 AM GMT+05:30</td><td>groww</td><td>100.0</td><td>Paid</td><td>2024-12-21T11:58:42.000+0000</td><td>Investment</td><td>2024-12</td></tr><tr><td>157</td><td>Paid ₹30.00 to MADDY CHAKRAPANI using Bank Account XXXXXXXX1661 Dec 20, 2024, 8:35:10 PM GMT+05:30</td><td>MADDY  CHAKRAPANI</td><td>30.0</td><td>Paid</td><td>2024-12-20T20:35:10.000+0000</td><td>Other</td><td>2024-12</td></tr><tr><td>158</td><td>Sent ₹33.00 using Bank Account XXXXXXXX1661 Dec 20, 2024, 7:11:38 PM GMT+05:30</td><td></td><td>33.0</td><td>Sent</td><td>2024-12-20T19:11:38.000+0000</td><td>Other</td><td>2024-12</td></tr><tr><td>159</td><td>Sent ₹40.00 using Bank Account XXXXXXXX1661 Dec 20, 2024, 6:53:08 PM GMT+05:30</td><td></td><td>40.0</td><td>Sent</td><td>2024-12-20T18:53:08.000+0000</td><td>Other</td><td>2024-12</td></tr><tr><td>160</td><td>Paid ₹36.00 using Bank Account XXXXXXXX1661 Dec 20, 2024, 1:14:18 PM GMT+05:30</td><td></td><td>36.0</td><td>Paid</td><td>2024-12-20T13:14:18.000+0000</td><td>Other</td><td>2024-12</td></tr><tr><td>161</td><td>Paid ₹89.00 using Bank Account XXXXXXXX1661 Dec 20, 2024, 10:06:02 AM GMT+05:30</td><td></td><td>89.0</td><td>Paid</td><td>2024-12-20T10:06:02.000+0000</td><td>Other</td><td>2024-12</td></tr><tr><td>162</td><td>Sent ₹100.00 using Bank Account XXXXXXXX1661 Dec 19, 2024, 6:30:20 PM GMT+05:30</td><td></td><td>100.0</td><td>Sent</td><td>2024-12-19T18:30:20.000+0000</td><td>Other</td><td>2024-12</td></tr><tr><td>163</td><td>Paid ₹735.52 to BOOKMYSHOW using Bank Account XXXXXXXX1661 Dec 18, 2024, 7:20:04 PM GMT+05:30</td><td>BOOKMYSHOW</td><td>735.52</td><td>Paid</td><td>2024-12-18T19:20:04.000+0000</td><td>Entertainment</td><td>2024-12</td></tr><tr><td>164</td><td>Paid ₹400.00 using Bank Account XXXXXXXX1661 Dec 18, 2024, 7:15:15 PM GMT+05:30</td><td></td><td>400.0</td><td>Paid</td><td>2024-12-18T19:15:15.000+0000</td><td>Other</td><td>2024-12</td></tr><tr><td>166</td><td>Paid ₹1.00 to Zerodha Broking Ltd using Bank Account XXXXXXXX1661 Dec 18, 2024, 9:58:37 AM GMT+05:30</td><td>Zerodha Broking Ltd</td><td>1.0</td><td>Paid</td><td>2024-12-18T09:58:37.000+0000</td><td>Investment</td><td>2024-12</td></tr><tr><td>167</td><td>Paid ₹15.00 to Amazon Pay using Bank Account XXXXXXXX1661 Dec 17, 2024, 1:13:55 PM GMT+05:30</td><td>Amazon Pay</td><td>15.0</td><td>Paid</td><td>2024-12-17T13:13:55.000+0000</td><td>Shopping & Retail</td><td>2024-12</td></tr><tr><td>168</td><td>Paid ₹59.00 to Amazon Pay using Bank Account XXXXXXXX1661 Dec 17, 2024, 1:11:14 PM GMT+05:30</td><td>Amazon Pay</td><td>59.0</td><td>Paid</td><td>2024-12-17T13:11:14.000+0000</td><td>Shopping & Retail</td><td>2024-12</td></tr><tr><td>169</td><td>Paid ₹20.00 to THOTA GOPAL using Bank Account XXXXXXXX1661 Dec 17, 2024, 7:14:53 AM GMT+05:30</td><td>THOTA  GOPAL</td><td>20.0</td><td>Paid</td><td>2024-12-17T07:14:53.000+0000</td><td>Other</td><td>2024-12</td></tr><tr><td>170</td><td>Paid ₹30.00 to AENKARLA VARA LAXMI using Bank Account XXXXXXXX1661 Dec 16, 2024, 8:18:56 PM GMT+05:30</td><td>AENKARLA  VARA LAXMI</td><td>30.0</td><td>Paid</td><td>2024-12-16T20:18:56.000+0000</td><td>Other</td><td>2024-12</td></tr><tr><td>172</td><td>Sent ₹2178.00 using Bank Account XXXXXXXX1661 Dec 15, 2024, 12:19:09 PM GMT+05:30</td><td></td><td>2178.0</td><td>Sent</td><td>2024-12-15T12:19:09.000+0000</td><td>Other</td><td>2024-12</td></tr><tr><td>173</td><td>Paid ₹32.00 to Tobox Ventures Private Limited using Bank Account XXXXXXXX1661 Dec 12, 2024, 4:40:35 PM GMT+05:30</td><td>Tobox Ventures Private Limited</td><td>32.0</td><td>Paid</td><td>2024-12-12T16:40:35.000+0000</td><td>Food & Dining</td><td>2024-12</td></tr><tr><td>174</td><td>Paid ₹99.00 to Tobox Ventures Private Limited using Bank Account XXXXXXXX1661 Dec 12, 2024, 1:30:36 PM GMT+05:30</td><td>Tobox Ventures Private Limited</td><td>99.0</td><td>Paid</td><td>2024-12-12T13:30:36.000+0000</td><td>Food & Dining</td><td>2024-12</td></tr><tr><td>175</td><td>Paid ₹20.00 to K RAVI PRASAD using Bank Account XXXXXXXX1661 Dec 12, 2024, 1:25:42 PM GMT+05:30</td><td>K RAVI PRASAD</td><td>20.0</td><td>Paid</td><td>2024-12-12T13:25:42.000+0000</td><td>Other</td><td>2024-12</td></tr><tr><td>177</td><td>Paid ₹200.00 to ANTHATI THIRUPATHIAH GOUD using Bank Account XXXXXXXX1661 Dec 11, 2024, 11:53:48 AM GMT+05:30</td><td>ANTHATI THIRUPATHIAH GOUD</td><td>200.0</td><td>Paid</td><td>2024-12-11T11:53:48.000+0000</td><td>Other</td><td>2024-12</td></tr><tr><td>179</td><td>Paid ₹20.00 to VIJAYA LAXMI KIRANA AND GENERAL STORE using Bank Account XXXXXXXX1661 Dec 10, 2024, 7:43:41 PM GMT+05:30</td><td>VIJAYA LAXMI KIRANA AND GENERAL STORE</td><td>20.0</td><td>Paid</td><td>2024-12-10T19:43:41.000+0000</td><td>Groceries</td><td>2024-12</td></tr><tr><td>180</td><td>Paid ₹48.00 to TOBOX VENTURES PRIVA using Bank Account XXXXXXXX1661 Dec 10, 2024, 4:19:00 PM GMT+05:30</td><td>TOBOX VENTURES PRIVA</td><td>48.0</td><td>Paid</td><td>2024-12-10T16:19:00.000+0000</td><td>Food & Dining</td><td>2024-12</td></tr><tr><td>182</td><td>Sent ₹500.00 using Bank Account XXXXXXXX1661 Dec 9, 2024, 9:47:48 PM GMT+05:30</td><td></td><td>500.0</td><td>Sent</td><td>2024-12-09T21:47:48.000+0000</td><td>Other</td><td>2024-12</td></tr><tr><td>184</td><td>Sent ₹500.00 using Bank Account XXXXXXXX1661 Dec 9, 2024, 7:20:09 PM GMT+05:30</td><td></td><td>500.0</td><td>Sent</td><td>2024-12-09T19:20:09.000+0000</td><td>Other</td><td>2024-12</td></tr><tr><td>186</td><td>Paid ₹25.00 to CONTINENTAL COFFEE PRIVATE LIMITED using Bank Account XXXXXXXX1661 Dec 9, 2024, 6:47:40 PM GMT+05:30</td><td>CONTINENTAL COFFEE PRIVATE LIMITED</td><td>25.0</td><td>Paid</td><td>2024-12-09T18:47:40.000+0000</td><td>Food & Dining</td><td>2024-12</td></tr><tr><td>188</td><td>Paid ₹35.00 to THOTA GOPAL using Bank Account XXXXXXXX1661 Dec 8, 2024, 2:38:01 PM GMT+05:30</td><td>THOTA  GOPAL</td><td>35.0</td><td>Paid</td><td>2024-12-08T14:38:01.000+0000</td><td>Other</td><td>2024-12</td></tr><tr><td>189</td><td>Paid ₹50.00 to M SRIKANTH using Bank Account XXXXXXXX1661 Dec 7, 2024, 8:14:32 PM GMT+05:30</td><td>M SRIKANTH</td><td>50.0</td><td>Paid</td><td>2024-12-07T20:14:32.000+0000</td><td>Other</td><td>2024-12</td></tr><tr><td>190</td><td>Paid ₹100.00 to DS FOODS using Bank Account XXXXXXXX1661 Dec 7, 2024, 8:00:19 PM GMT+05:30</td><td>DS FOODS</td><td>100.0</td><td>Paid</td><td>2024-12-07T20:00:19.000+0000</td><td>Food & Dining</td><td>2024-12</td></tr><tr><td>191</td><td>Paid ₹230.00 to PANTHULUGARI SRINIVAS using Bank Account XXXXXXXX1661 Dec 7, 2024, 3:21:37 PM GMT+05:30</td><td>PANTHULUGARI SRINIVAS</td><td>230.0</td><td>Paid</td><td>2024-12-07T15:21:37.000+0000</td><td>Other</td><td>2024-12</td></tr><tr><td>193</td><td>Paid ₹230.00 to PANTHULUGARI SRINIVAS using Bank Account XXXXXXXX1661 Dec 7, 2024, 3:17:48 PM GMT+05:30</td><td>PANTHULUGARI SRINIVAS</td><td>230.0</td><td>Paid</td><td>2024-12-07T15:17:48.000+0000</td><td>Other</td><td>2024-12</td></tr><tr><td>194</td><td>Paid ₹680.00 to Mohamad Meraj using Bank Account XXXXXXXX1661 Dec 6, 2024, 9:14:41 PM GMT+05:30</td><td>Mohamad  Meraj</td><td>680.0</td><td>Paid</td><td>2024-12-06T21:14:41.000+0000</td><td>Other</td><td>2024-12</td></tr><tr><td>195</td><td>Paid ₹25.00 to CONTINENTAL COFFEE PRIVATE LIMITED using Bank Account XXXXXXXX1661 Dec 6, 2024, 7:30:16 PM GMT+05:30</td><td>CONTINENTAL COFFEE PRIVATE LIMITED</td><td>25.0</td><td>Paid</td><td>2024-12-06T19:30:16.000+0000</td><td>Food & Dining</td><td>2024-12</td></tr><tr><td>196</td><td>Paid ₹225.00 to Tibbs Frankie LnT metro raidurg using Bank Account XXXXXXXX1661 Dec 6, 2024, 7:21:23 PM GMT+05:30</td><td>Tibbs Frankie LnT metro raidurg</td><td>225.0</td><td>Paid</td><td>2024-12-06T19:21:23.000+0000</td><td>Food & Dining</td><td>2024-12</td></tr><tr><td>197</td><td>Paid ₹1500.00 using Bank Account XXXXXXXX1661 Dec 6, 2024, 7:17:54 PM GMT+05:30</td><td></td><td>1500.0</td><td>Paid</td><td>2024-12-06T19:17:54.000+0000</td><td>Other</td><td>2024-12</td></tr><tr><td>198</td><td>Sent ₹1500.00 using Bank Account XXXXXXXX1661 Dec 6, 2024, 7:16:24 PM GMT+05:30</td><td></td><td>1500.0</td><td>Sent</td><td>2024-12-06T19:16:24.000+0000</td><td>Other</td><td>2024-12</td></tr><tr><td>199</td><td>Paid ₹130.00 to K S BAKERS using Bank Account XXXXXXXX1661 Dec 6, 2024, 4:22:51 PM GMT+05:30</td><td>K S BAKERS</td><td>130.0</td><td>Paid</td><td>2024-12-06T16:22:51.000+0000</td><td>Food & Dining</td><td>2024-12</td></tr><tr><td>200</td><td>Paid ₹40.00 to K S BAKERS using Bank Account XXXXXXXX1661 Dec 6, 2024, 3:47:29 PM GMT+05:30</td><td>K S BAKERS</td><td>40.0</td><td>Paid</td><td>2024-12-06T15:47:29.000+0000</td><td>Food & Dining</td><td>2024-12</td></tr><tr><td>201</td><td>Sent ₹1000.00 using Bank Account XXXXXXXX1661 Dec 6, 2024, 1:23:50 PM GMT+05:30</td><td></td><td>1000.0</td><td>Sent</td><td>2024-12-06T13:23:50.000+0000</td><td>Other</td><td>2024-12</td></tr><tr><td>202</td><td>Paid ₹258.00 to FB CAKES using Bank Account XXXXXXXX1661 Dec 5, 2024, 7:46:02 PM GMT+05:30</td><td>FB CAKES</td><td>258.0</td><td>Paid</td><td>2024-12-05T19:46:02.000+0000</td><td>Food & Dining</td><td>2024-12</td></tr><tr><td>204</td><td>Paid ₹19.00 to Amazon Pay using Bank Account XXXXXXXX1661 Dec 5, 2024, 1:02:22 PM GMT+05:30</td><td>Amazon Pay</td><td>19.0</td><td>Paid</td><td>2024-12-05T13:02:22.000+0000</td><td>Shopping & Retail</td><td>2024-12</td></tr><tr><td>205</td><td>Paid ₹165.00 to YASHVI KITCHEN MENU using Bank Account XXXXXXXX1661 Dec 4, 2024, 8:24:52 PM GMT+05:30</td><td>YASHVI KITCHEN MENU</td><td>165.0</td><td>Paid</td><td>2024-12-04T20:24:52.000+0000</td><td>Food & Dining</td><td>2024-12</td></tr><tr><td>206</td><td>Paid ₹77.00 to Tobox Ventures Private Limited using Bank Account XXXXXXXX1661 Dec 4, 2024, 11:47:42 AM GMT+05:30</td><td>Tobox Ventures Private Limited</td><td>77.0</td><td>Paid</td><td>2024-12-04T11:47:42.000+0000</td><td>Food & Dining</td><td>2024-12</td></tr><tr><td>207</td><td>Paid ₹231.00 to GANGULA PADMALAXMI using Bank Account XXXXXXXX1661 Dec 3, 2024, 7:06:06 PM GMT+05:30</td><td>GANGULA PADMALAXMI</td><td>231.0</td><td>Paid</td><td>2024-12-03T19:06:06.000+0000</td><td>Other</td><td>2024-12</td></tr><tr><td>209</td><td>Paid ₹258.00 to FB CAKES using Bank Account XXXXXXXX1661 Dec 2, 2024, 8:46:34 PM GMT+05:30</td><td>FB CAKES</td><td>258.0</td><td>Paid</td><td>2024-12-02T20:46:34.000+0000</td><td>Food & Dining</td><td>2024-12</td></tr><tr><td>211</td><td>Sent ₹858.00 using Bank Account XXXXXXXX1661 Dec 2, 2024, 6:09:15 PM GMT+05:30</td><td></td><td>858.0</td><td>Sent</td><td>2024-12-02T18:09:15.000+0000</td><td>Other</td><td>2024-12</td></tr><tr><td>212</td><td>Sent ₹858.00 Dec 2, 2024, 6:08:03 PM GMT+05:30</td><td></td><td>858.0</td><td>Sent</td><td>2024-12-02T18:08:03.000+0000</td><td>Other</td><td>2024-12</td></tr><tr><td>214</td><td>Paid ₹2.00 to Google Play using Bank Account XXXXXXXX1661 Dec 2, 2024, 9:27:39 AM GMT+05:30</td><td>Google Play</td><td>2.0</td><td>Paid</td><td>2024-12-02T09:27:39.000+0000</td><td>Entertainment</td><td>2024-12</td></tr><tr><td>215</td><td>Paid ₹2.00 to Google Play using Bank Account XXXXXXXX1661 Dec 2, 2024, 9:27:25 AM GMT+05:30</td><td>Google Play</td><td>2.0</td><td>Paid</td><td>2024-12-02T09:27:25.000+0000</td><td>Entertainment</td><td>2024-12</td></tr><tr><td>216</td><td>Paid ₹9.00 to APOLLO PHARMACY using Bank Account XXXXXXXX1661 Dec 1, 2024, 7:02:49 PM GMT+05:30</td><td>APOLLO PHARMACY</td><td>9.0</td><td>Paid</td><td>2024-12-01T19:02:49.000+0000</td><td>Health & Medical</td><td>2024-12</td></tr><tr><td>217</td><td>Paid ₹258.00 to FB CAKES using Bank Account XXXXXXXX1661 Dec 1, 2024, 6:48:39 PM GMT+05:30</td><td>FB CAKES</td><td>258.0</td><td>Paid</td><td>2024-12-01T18:48:39.000+0000</td><td>Food & Dining</td><td>2024-12</td></tr><tr><td>219</td><td>Sent ₹600.00 using Bank Account XXXXXXXX1661 Nov 29, 2024, 9:31:38 PM GMT+05:30</td><td></td><td>600.0</td><td>Sent</td><td>2024-11-29T21:31:38.000+0000</td><td>Other</td><td>2024-11</td></tr><tr><td>220</td><td>Paid ₹2089.00 to IBIBO GROUP PRIVATE LIMITED using Bank Account XXXXXXXX1661 Nov 29, 2024, 9:30:21 PM GMT+05:30</td><td>IBIBO GROUP PRIVATE LIMITED</td><td>2089.0</td><td>Paid</td><td>2024-11-29T21:30:21.000+0000</td><td>Other</td><td>2024-11</td></tr><tr><td>221</td><td>Sent ₹50.00 using Bank Account XXXXXXXX1661 Nov 29, 2024, 8:30:26 PM GMT+05:30</td><td></td><td>50.0</td><td>Sent</td><td>2024-11-29T20:30:26.000+0000</td><td>Other</td><td>2024-11</td></tr><tr><td>222</td><td>Paid ₹523.90 to BURGER KING INDIA PVT LTD using Bank Account XXXXXXXX1661 Nov 29, 2024, 7:21:24 PM GMT+05:30</td><td>BURGER KING INDIA PVT LTD</td><td>523.9</td><td>Paid</td><td>2024-11-29T19:21:24.000+0000</td><td>Food & Dining</td><td>2024-11</td></tr><tr><td>224</td><td>Paid ₹100.00 to Duragam Cheruvu using Bank Account XXXXXXXX1661 Nov 29, 2024, 8:56:48 AM GMT+05:30</td><td>Duragam Cheruvu</td><td>100.0</td><td>Paid</td><td>2024-11-29T08:56:48.000+0000</td><td>Other</td><td>2024-11</td></tr><tr><td>225</td><td>Paid ₹10.00 to THOTA GOPAL using Bank Account XXXXXXXX1661 Nov 29, 2024, 7:47:57 AM GMT+05:30</td><td>THOTA  GOPAL</td><td>10.0</td><td>Paid</td><td>2024-11-29T07:47:57.000+0000</td><td>Other</td><td>2024-11</td></tr><tr><td>226</td><td>Paid ₹46.00 to Tobox Ventures Private Limited using Bank Account XXXXXXXX1661 Nov 28, 2024, 5:08:24 PM GMT+05:30</td><td>Tobox Ventures Private Limited</td><td>46.0</td><td>Paid</td><td>2024-11-28T17:08:24.000+0000</td><td>Food & Dining</td><td>2024-11</td></tr><tr><td>227</td><td>Sent ₹150.00 using Bank Account XXXXXXXX1661 Nov 28, 2024, 1:17:58 PM GMT+05:30</td><td></td><td>150.0</td><td>Sent</td><td>2024-11-28T13:17:58.000+0000</td><td>Other</td><td>2024-11</td></tr><tr><td>228</td><td>Paid ₹40.00 to APOLLO PHARMACY using Bank Account XXXXXX1661 Nov 27, 2024, 8:07:27 PM GMT+05:30</td><td>APOLLO PHARMACY</td><td>40.0</td><td>Paid</td><td>2024-11-27T20:07:27.000+0000</td><td>Health & Medical</td><td>2024-11</td></tr><tr><td>229</td><td>Paid ₹40.00 to APOLLO PHARMACY using Bank Account XXXXXX1661 Nov 27, 2024, 8:06:59 PM GMT+05:30</td><td>APOLLO PHARMACY</td><td>40.0</td><td>Paid</td><td>2024-11-27T20:06:59.000+0000</td><td>Health & Medical</td><td>2024-11</td></tr><tr><td>230</td><td>Paid ₹115.00 to THONTA NAVEEN using Bank Account XXXXXX1661 Nov 27, 2024, 7:52:04 PM GMT+05:30</td><td>THONTA  NAVEEN</td><td>115.0</td><td>Paid</td><td>2024-11-27T19:52:04.000+0000</td><td>Other</td><td>2024-11</td></tr><tr><td>231</td><td>Paid ₹115.00 to THONTA NAVEEN using Bank Account XXXXXX1661 Nov 27, 2024, 7:51:39 PM GMT+05:30</td><td>THONTA  NAVEEN</td><td>115.0</td><td>Paid</td><td>2024-11-27T19:51:39.000+0000</td><td>Other</td><td>2024-11</td></tr><tr><td>232</td><td>Paid ₹115.00 to THONTA NAVEEN using Bank Account XXXXXX1661 Nov 27, 2024, 7:51:29 PM GMT+05:30</td><td>THONTA  NAVEEN</td><td>115.0</td><td>Paid</td><td>2024-11-27T19:51:29.000+0000</td><td>Other</td><td>2024-11</td></tr><tr><td>233</td><td>Paid ₹50.00 to AENKARLA VARA LAXMI using Bank Account XXXXXX1661 Nov 27, 2024, 7:46:59 PM GMT+05:30</td><td>AENKARLA  VARA LAXMI</td><td>50.0</td><td>Paid</td><td>2024-11-27T19:46:59.000+0000</td><td>Other</td><td>2024-11</td></tr><tr><td>235</td><td>Paid ₹1.00 Nov 24, 2024, 8:47:13 PM GMT+05:30</td><td></td><td>1.0</td><td>Paid</td><td>2024-11-24T20:47:13.000+0000</td><td>Other</td><td>2024-11</td></tr><tr><td>236</td><td>Paid ₹10.00 to THOTA GOPAL using Bank Account XXXXXXXX1661 Nov 22, 2024, 7:48:13 PM GMT+05:30</td><td>THOTA  GOPAL</td><td>10.0</td><td>Paid</td><td>2024-11-22T19:48:13.000+0000</td><td>Other</td><td>2024-11</td></tr><tr><td>237</td><td>Paid ₹10.00 to THOTA GOPAL using Bank Account XXXXXXXX1661 Nov 22, 2024, 7:48:05 PM GMT+05:30</td><td>THOTA  GOPAL</td><td>10.0</td><td>Paid</td><td>2024-11-22T19:48:05.000+0000</td><td>Other</td><td>2024-11</td></tr><tr><td>238</td><td>Paid ₹10.00 to THOTA GOPAL using Bank Account XXXXXXXX1661 Nov 22, 2024, 7:47:42 PM GMT+05:30</td><td>THOTA  GOPAL</td><td>10.0</td><td>Paid</td><td>2024-11-22T19:47:42.000+0000</td><td>Other</td><td>2024-11</td></tr><tr><td>239</td><td>Paid ₹350.00 to D RAMAMURTHY using Bank Account XXXXXXXX1661 Nov 22, 2024, 7:39:04 PM GMT+05:30</td><td>D RAMAMURTHY</td><td>350.0</td><td>Paid</td><td>2024-11-22T19:39:04.000+0000</td><td>Other</td><td>2024-11</td></tr><tr><td>240</td><td>Paid ₹500.00 to LENSKART using Bank Account XXXXXXXX1661 Nov 22, 2024, 7:32:18 PM GMT+05:30</td><td>LENSKART</td><td>500.0</td><td>Paid</td><td>2024-11-22T19:32:18.000+0000</td><td>Shopping & Retail</td><td>2024-11</td></tr><tr><td>241</td><td>Sent ₹400.00 using Bank Account XXXXXXXX1661 Nov 22, 2024, 6:18:27 PM GMT+05:30</td><td></td><td>400.0</td><td>Sent</td><td>2024-11-22T18:18:27.000+0000</td><td>Other</td><td>2024-11</td></tr><tr><td>243</td><td>Paid ₹200.00 to Green Juice& Potato Twister using Bank Account XXXXXXXX1661 Nov 21, 2024, 9:59:12 PM GMT+05:30</td><td>Green Juice& Potato Twister</td><td>200.0</td><td>Paid</td><td>2024-11-21T21:59:12.000+0000</td><td>Food & Dining</td><td>2024-11</td></tr><tr><td>244</td><td>Paid ₹70.00 to bbinstant using Bank Account XXXXXXXX1661 Nov 21, 2024, 6:00:40 PM GMT+05:30</td><td>bbinstant</td><td>70.0</td><td>Paid</td><td>2024-11-21T18:00:40.000+0000</td><td>Food & Dining</td><td>2024-11</td></tr><tr><td>245</td><td>Paid ₹100.00 to bbinstant using Bank Account XXXXXXXX1661 Nov 21, 2024, 5:59:40 PM GMT+05:30</td><td>bbinstant</td><td>100.0</td><td>Paid</td><td>2024-11-21T17:59:40.000+0000</td><td>Food & Dining</td><td>2024-11</td></tr><tr><td>246</td><td>Sent ₹800.00 using Bank Account XXXXXXXX1661 Nov 21, 2024, 3:37:31 PM GMT+05:30</td><td></td><td>800.0</td><td>Sent</td><td>2024-11-21T15:37:31.000+0000</td><td>Other</td><td>2024-11</td></tr><tr><td>248</td><td>Paid ₹20.00 using Bank Account XXXXXXXX1661 Nov 21, 2024, 1:28:49 PM GMT+05:30</td><td></td><td>20.0</td><td>Paid</td><td>2024-11-21T13:28:49.000+0000</td><td>Other</td><td>2024-11</td></tr><tr><td>249</td><td>Paid ₹40.00 using Bank Account XXXXXXXX1661 Nov 21, 2024, 12:56:09 PM GMT+05:30</td><td></td><td>40.0</td><td>Paid</td><td>2024-11-21T12:56:09.000+0000</td><td>Other</td><td>2024-11</td></tr><tr><td>250</td><td>Paid ₹82.96 to RESTAURANT BRANDS ASIA LIMITED using Bank Account XXXXXXXX1661 Nov 21, 2024, 12:13:15 PM GMT+05:30</td><td>RESTAURANT BRANDS ASIA LIMITED</td><td>82.96</td><td>Paid</td><td>2024-11-21T12:13:15.000+0000</td><td>Food & Dining</td><td>2024-11</td></tr><tr><td>251</td><td>Sent ₹400.00 using Bank Account XXXXXXXX1661 Nov 21, 2024, 11:05:23 AM GMT+05:30</td><td></td><td>400.0</td><td>Sent</td><td>2024-11-21T11:05:23.000+0000</td><td>Other</td><td>2024-11</td></tr><tr><td>252</td><td>Sent ₹20.00 using Bank Account XXXXXXXX1661 Nov 21, 2024, 10:02:35 AM GMT+05:30</td><td></td><td>20.0</td><td>Sent</td><td>2024-11-21T10:02:35.000+0000</td><td>Other</td><td>2024-11</td></tr><tr><td>253</td><td>Sent ₹845.00 using Bank Account XXXXXXXX1661 Nov 21, 2024, 8:59:03 AM GMT+05:30</td><td></td><td>845.0</td><td>Sent</td><td>2024-11-21T08:59:03.000+0000</td><td>Other</td><td>2024-11</td></tr><tr><td>255</td><td>Paid ₹24.99 to Park Hyderabad using Bank Account XXXXXXXX1661 Nov 20, 2024, 9:40:02 PM GMT+05:30</td><td>Park Hyderabad</td><td>24.99</td><td>Paid</td><td>2024-11-20T21:40:02.000+0000</td><td>Fuel & Transport</td><td>2024-11</td></tr><tr><td>256</td><td>Paid ₹210.00 to Tibbs Frankie Raidurg metro Station using Bank Account XXXXXXXX1661 Nov 20, 2024, 9:10:55 PM GMT+05:30</td><td>Tibbs Frankie Raidurg metro Station</td><td>210.0</td><td>Paid</td><td>2024-11-20T21:10:55.000+0000</td><td>Food & Dining</td><td>2024-11</td></tr><tr><td>257</td><td>Paid ₹20.00 to NEW AMOGHA VEG AND NON VEG using Bank Account XXXXXXXX1661 Nov 20, 2024, 9:08:29 PM GMT+05:30</td><td>NEW AMOGHA VEG AND NON VEG</td><td>20.0</td><td>Paid</td><td>2024-11-20T21:08:29.000+0000</td><td>Food & Dining</td><td>2024-11</td></tr><tr><td>259</td><td>Paid ₹39.00 to VIJETHA SUPERMARKETS PVT LTD using Bank Account XXXXXXXX1661 Nov 20, 2024, 8:49:19 PM GMT+05:30</td><td>VIJETHA SUPERMARKETS PVT LTD</td><td>39.0</td><td>Paid</td><td>2024-11-20T20:49:19.000+0000</td><td>Groceries</td><td>2024-11</td></tr><tr><td>260</td><td>Paid ₹90.00 using Bank Account XXXXXXXX1661 Nov 20, 2024, 2:06:48 PM GMT+05:30</td><td></td><td>90.0</td><td>Paid</td><td>2024-11-20T14:06:48.000+0000</td><td>Other</td><td>2024-11</td></tr><tr><td>261</td><td>Paid ₹10.00 to THOTA GOPAL using Bank Account XXXXXXXX1661 Nov 20, 2024, 7:59:37 AM GMT+05:30</td><td>THOTA  GOPAL</td><td>10.0</td><td>Paid</td><td>2024-11-20T07:59:37.000+0000</td><td>Other</td><td>2024-11</td></tr><tr><td>262</td><td>Paid ₹50.00 to AENKARLA VARA LAXMI using Bank Account XXXXXXXX1661 Nov 19, 2024, 9:21:15 PM GMT+05:30</td><td>AENKARLA  VARA LAXMI</td><td>50.0</td><td>Paid</td><td>2024-11-19T21:21:15.000+0000</td><td>Other</td><td>2024-11</td></tr><tr><td>263</td><td>Paid ₹224.00 to Maruthi Auto Care using Bank Account XXXXXXXX1661 Nov 19, 2024, 9:07:06 PM GMT+05:30</td><td>Maruthi Auto Care</td><td>224.0</td><td>Paid</td><td>2024-11-19T21:07:06.000+0000</td><td>Fuel & Transport</td><td>2024-11</td></tr><tr><td>264</td><td>Paid ₹40.00 to B25 RAIDURG METRO using Bank Account XXXXXXXX1661 Nov 19, 2024, 7:40:31 PM GMT+05:30</td><td>B25 RAIDURG METRO</td><td>40.0</td><td>Paid</td><td>2024-11-19T19:40:31.000+0000</td><td>Fuel & Transport</td><td>2024-11</td></tr><tr><td>265</td><td>Paid ₹20.00 to B25 RAIDURG METRO Nov 19, 2024, 7:40:13 PM GMT+05:30</td><td></td><td>20.0</td><td>Paid</td><td>2024-11-19T19:40:13.000+0000</td><td>Other</td><td>2024-11</td></tr><tr><td>266</td><td>Paid ₹69.97 to Park Hyderabad using Bank Account XXXXXXXX1661 Nov 19, 2024, 6:07:57 PM GMT+05:30</td><td>Park Hyderabad</td><td>69.97</td><td>Paid</td><td>2024-11-19T18:07:57.000+0000</td><td>Fuel & Transport</td><td>2024-11</td></tr><tr><td>267</td><td>Paid ₹40.00 to MEHFIL RESTAURANT-3 using Bank Account XXXXXXXX1661 Nov 18, 2024, 8:38:40 PM GMT+05:30</td><td>MEHFIL RESTAURANT-3</td><td>40.0</td><td>Paid</td><td>2024-11-18T20:38:40.000+0000</td><td>Food & Dining</td><td>2024-11</td></tr><tr><td>268</td><td>Paid ₹471.00 to PH PHImax 1178 using Bank Account XXXXXXXX1661 Nov 16, 2024, 8:40:48 PM GMT+05:30</td><td>PH PHImax 1178</td><td>471.0</td><td>Paid</td><td>2024-11-16T20:40:48.000+0000</td><td>Other</td><td>2024-11</td></tr><tr><td>269</td><td>Paid ₹200.00 to Chocolate Hut IMAX using Bank Account XXXXXXXX1661 Nov 16, 2024, 8:03:10 PM GMT+05:30</td><td>Chocolate Hut  IMAX</td><td>200.0</td><td>Paid</td><td>2024-11-16T20:03:10.000+0000</td><td>Food & Dining</td><td>2024-11</td></tr><tr><td>270</td><td>Paid ₹34.99 to Park Hyderabad using Bank Account XXXXXXXX1661 Nov 15, 2024, 8:46:01 PM GMT+05:30</td><td>Park Hyderabad</td><td>34.99</td><td>Paid</td><td>2024-11-15T20:46:01.000+0000</td><td>Fuel & Transport</td><td>2024-11</td></tr><tr><td>271</td><td>Paid ₹89.00 to Tobox Ventures Private Limited using Bank Account XXXXXXXX1661 Nov 15, 2024, 2:04:47 PM GMT+05:30</td><td>Tobox Ventures Private Limited</td><td>89.0</td><td>Paid</td><td>2024-11-15T14:04:47.000+0000</td><td>Food & Dining</td><td>2024-11</td></tr><tr><td>272</td><td>Paid ₹24.99 to Park Hyderabad using Bank Account XXXXXXXX1661 Nov 14, 2024, 7:56:22 PM GMT+05:30</td><td>Park Hyderabad</td><td>24.99</td><td>Paid</td><td>2024-11-14T19:56:22.000+0000</td><td>Fuel & Transport</td><td>2024-11</td></tr><tr><td>273</td><td>Paid ₹75.00 to CONTINENTAL COFFEE PRIVATE LIMITED using Bank Account XXXXXXXX1661 Nov 14, 2024, 7:26:57 PM GMT+05:30</td><td>CONTINENTAL COFFEE PRIVATE LIMITED</td><td>75.0</td><td>Paid</td><td>2024-11-14T19:26:57.000+0000</td><td>Food & Dining</td><td>2024-11</td></tr><tr><td>274</td><td>Sent ₹50.00 using Bank Account XXXXXXXX1661 Nov 14, 2024, 7:26:11 PM GMT+05:30</td><td></td><td>50.0</td><td>Sent</td><td>2024-11-14T19:26:11.000+0000</td><td>Other</td><td>2024-11</td></tr><tr><td>275</td><td>Paid ₹225.00 to Tibbs Frankie LnT metro raidurg using Bank Account XXXXXXXX1661 Nov 14, 2024, 7:18:57 PM GMT+05:30</td><td>Tibbs Frankie LnT metro raidurg</td><td>225.0</td><td>Paid</td><td>2024-11-14T19:18:57.000+0000</td><td>Food & Dining</td><td>2024-11</td></tr><tr><td>277</td><td>Paid ₹24.99 to Park Hyderabad using Bank Account XXXXXXXX1661 Nov 13, 2024, 8:14:25 PM GMT+05:30</td><td>Park Hyderabad</td><td>24.99</td><td>Paid</td><td>2024-11-13T20:14:25.000+0000</td><td>Fuel & Transport</td><td>2024-11</td></tr><tr><td>278</td><td>Paid ₹65.00 to CONTINENTAL COFFEE PRIVATE LIMITED using Bank Account XXXXXXXX1661 Nov 13, 2024, 6:54:00 PM GMT+05:30</td><td>CONTINENTAL COFFEE PRIVATE LIMITED</td><td>65.0</td><td>Paid</td><td>2024-11-13T18:54:00.000+0000</td><td>Food & Dining</td><td>2024-11</td></tr><tr><td>279</td><td>Paid ₹267.00 to Tibbs Frankie LnT metro raidurg using Bank Account XXXXXXXX1661 Nov 13, 2024, 6:33:55 PM GMT+05:30</td><td>Tibbs Frankie LnT metro raidurg</td><td>267.0</td><td>Paid</td><td>2024-11-13T18:33:55.000+0000</td><td>Food & Dining</td><td>2024-11</td></tr><tr><td>280</td><td>Paid ₹49.00 to Tobox Ventures Private Limited Nov 13, 2024, 1:34:35 PM GMT+05:30</td><td></td><td>49.0</td><td>Paid</td><td>2024-11-13T13:34:35.000+0000</td><td>Other</td><td>2024-11</td></tr><tr><td>281</td><td>Paid ₹49.00 to Tobox Ventures Private Limited using Bank Account XXXXXXXX1661 Nov 13, 2024, 1:33:49 PM GMT+05:30</td><td>Tobox Ventures Private Limited</td><td>49.0</td><td>Paid</td><td>2024-11-13T13:33:49.000+0000</td><td>Food & Dining</td><td>2024-11</td></tr><tr><td>282</td><td>Paid ₹260.41 to K419 KFC Nagole using Bank Account XXXXXXXX1661 Nov 12, 2024, 8:07:53 PM GMT+05:30</td><td>K419 KFC Nagole</td><td>260.41</td><td>Paid</td><td>2024-11-12T20:07:53.000+0000</td><td>Other</td><td>2024-11</td></tr><tr><td>283</td><td>Paid ₹260.41 to K419 KFC Nagole Nov 12, 2024, 8:07:48 PM GMT+05:30</td><td></td><td>260.41</td><td>Paid</td><td>2024-11-12T20:07:48.000+0000</td><td>Other</td><td>2024-11</td></tr><tr><td>284</td><td>Paid ₹30.00 to KOLA VENKANNA using Bank Account XXXXXXXX1661 Nov 12, 2024, 7:46:24 PM GMT+05:30</td><td>KOLA  VENKANNA</td><td>30.0</td><td>Paid</td><td>2024-11-12T19:46:24.000+0000</td><td>Other</td><td>2024-11</td></tr><tr><td>285</td><td>Paid ₹30.00 to KOLA VENKANNA using Bank Account XXXXXXXX1661 Nov 12, 2024, 7:45:09 PM GMT+05:30</td><td>KOLA  VENKANNA</td><td>30.0</td><td>Paid</td><td>2024-11-12T19:45:09.000+0000</td><td>Other</td><td>2024-11</td></tr><tr><td>286</td><td>Paid ₹30.00 to KOLA VENKANNA using Bank Account XXXXXXXX1661 Nov 12, 2024, 7:41:28 PM GMT+05:30</td><td>KOLA  VENKANNA</td><td>30.0</td><td>Paid</td><td>2024-11-12T19:41:28.000+0000</td><td>Other</td><td>2024-11</td></tr><tr><td>287</td><td>Paid ₹24.99 to Park Hyderabad using Bank Account XXXXXXXX1661 Nov 12, 2024, 7:40:06 PM GMT+05:30</td><td>Park Hyderabad</td><td>24.99</td><td>Paid</td><td>2024-11-12T19:40:06.000+0000</td><td>Fuel & Transport</td><td>2024-11</td></tr><tr><td>288</td><td>Paid ₹45.00 using Bank Account XXXXXXXX1661 Nov 12, 2024, 11:31:52 AM GMT+05:30</td><td></td><td>45.0</td><td>Paid</td><td>2024-11-12T11:31:52.000+0000</td><td>Other</td><td>2024-11</td></tr><tr><td>289</td><td>Paid ₹24.99 to Park Hyderabad using Bank Account XXXXXXXX1661 Nov 11, 2024, 7:59:05 PM GMT+05:30</td><td>Park Hyderabad</td><td>24.99</td><td>Paid</td><td>2024-11-11T19:59:05.000+0000</td><td>Fuel & Transport</td><td>2024-11</td></tr><tr><td>290</td><td>Paid ₹45.00 to CONTINENTAL COFFEE PRIVATE LIMITED using Bank Account XXXXXXXX1661 Nov 11, 2024, 7:40:38 PM GMT+05:30</td><td>CONTINENTAL COFFEE PRIVATE LIMITED</td><td>45.0</td><td>Paid</td><td>2024-11-11T19:40:38.000+0000</td><td>Food & Dining</td><td>2024-11</td></tr><tr><td>291</td><td>Paid ₹148.00 to ASHISH KUMAR using Bank Account XXXXXXXX1661 Nov 11, 2024, 4:14:58 PM GMT+05:30</td><td>ASHISH KUMAR</td><td>148.0</td><td>Paid</td><td>2024-11-11T16:14:58.000+0000</td><td>Other</td><td>2024-11</td></tr><tr><td>292</td><td>Paid ₹2.00 to Google Play using Bank Account XXXXXXXX1661 Nov 10, 2024, 8:17:05 PM GMT+05:30</td><td>Google Play</td><td>2.0</td><td>Paid</td><td>2024-11-10T20:17:05.000+0000</td><td>Entertainment</td><td>2024-11</td></tr><tr><td>293</td><td>Paid ₹2.00 to Google Play using Bank Account XXXXXXXX1661 Nov 10, 2024, 8:16:51 PM GMT+05:30</td><td>Google Play</td><td>2.0</td><td>Paid</td><td>2024-11-10T20:16:51.000+0000</td><td>Entertainment</td><td>2024-11</td></tr><tr><td>294</td><td>Paid ₹24.99 to Park Hyderabad using Bank Account XXXXXXXX1661 Nov 9, 2024, 6:34:17 PM GMT+05:30</td><td>Park Hyderabad</td><td>24.99</td><td>Paid</td><td>2024-11-09T18:34:17.000+0000</td><td>Fuel & Transport</td><td>2024-11</td></tr><tr><td>295</td><td>Paid ₹24.99 to Park Hyderabad using Bank Account XXXXXXXX1661 Nov 9, 2024, 6:33:56 PM GMT+05:30</td><td>Park Hyderabad</td><td>24.99</td><td>Paid</td><td>2024-11-09T18:33:56.000+0000</td><td>Fuel & Transport</td><td>2024-11</td></tr><tr><td>296</td><td>Paid ₹107.00 to K Vishnu using Bank Account XXXXXXXX1661 Nov 9, 2024, 4:12:50 PM GMT+05:30</td><td>K Vishnu</td><td>107.0</td><td>Paid</td><td>2024-11-09T16:12:50.000+0000</td><td>Other</td><td>2024-11</td></tr><tr><td>297</td><td>Paid ₹826.00 to AKSHAYA AROMA KITCHE using Bank Account XXXXXXXX1661 Nov 9, 2024, 3:36:01 PM GMT+05:30</td><td>AKSHAYA AROMA KITCHE</td><td>826.0</td><td>Paid</td><td>2024-11-09T15:36:01.000+0000</td><td>Other</td><td>2024-11</td></tr><tr><td>299</td><td>Paid ₹10.00 using Bank Account XXXXXXXX1661 Nov 9, 2024, 10:45:41 AM GMT+05:30</td><td></td><td>10.0</td><td>Paid</td><td>2024-11-09T10:45:41.000+0000</td><td>Other</td><td>2024-11</td></tr><tr><td>300</td><td>Paid ₹10.00 to GUMMADAVELLI SRINIVASALU using Bank Account XXXXXXXX1661 Nov 9, 2024, 9:36:10 AM GMT+05:30</td><td>GUMMADAVELLI  SRINIVASALU</td><td>10.0</td><td>Paid</td><td>2024-11-09T09:36:10.000+0000</td><td>Other</td><td>2024-11</td></tr><tr><td>301</td><td>Paid ₹85.00 using Bank Account XXXXXXXX1661 Nov 9, 2024, 8:57:03 AM GMT+05:30</td><td></td><td>85.0</td><td>Paid</td><td>2024-11-09T08:57:03.000+0000</td><td>Other</td><td>2024-11</td></tr><tr><td>302</td><td>Paid ₹1500.00 to Landt Metro- NAGOLE using Bank Account XXXXXXXX1661 Nov 8, 2024, 10:21:41 PM GMT+05:30</td><td>Landt Metro- NAGOLE</td><td>1500.0</td><td>Paid</td><td>2024-11-08T22:21:41.000+0000</td><td>Fuel & Transport</td><td>2024-11</td></tr><tr><td>303</td><td>Paid ₹24.99 to Park Hyderabad using Bank Account XXXXXXXX1661 Nov 8, 2024, 10:02:49 PM GMT+05:30</td><td>Park Hyderabad</td><td>24.99</td><td>Paid</td><td>2024-11-08T22:02:49.000+0000</td><td>Fuel & Transport</td><td>2024-11</td></tr><tr><td>304</td><td>Paid ₹4.99 to Park Hyderabad using Bank Account XXXXXXXX1661 Nov 7, 2024, 8:06:50 PM GMT+05:30</td><td>Park Hyderabad</td><td>4.99</td><td>Paid</td><td>2024-11-07T20:06:50.000+0000</td><td>Fuel & Transport</td><td>2024-11</td></tr><tr><td>305</td><td>Paid ₹89.96 to Park Hyderabad using Bank Account XXXXXXXX1661 Nov 7, 2024, 8:01:45 AM GMT+05:30</td><td>Park Hyderabad</td><td>89.96</td><td>Paid</td><td>2024-11-07T08:01:45.000+0000</td><td>Fuel & Transport</td><td>2024-11</td></tr><tr><td>306</td><td>Paid ₹10.00 to Bommagouni Baraddwaj using Bank Account XXXXXXXX1661 Nov 7, 2024, 7:23:36 AM GMT+05:30</td><td>Bommagouni Baraddwaj</td><td>10.0</td><td>Paid</td><td>2024-11-07T07:23:36.000+0000</td><td>Other</td><td>2024-11</td></tr><tr><td>307</td><td>Paid ₹60.00 to KOPPOLLA SUHASINI using Bank Account XXXXXXXX1661 Nov 7, 2024, 7:20:32 AM GMT+05:30</td><td>KOPPOLLA SUHASINI</td><td>60.0</td><td>Paid</td><td>2024-11-07T07:20:32.000+0000</td><td>Other</td><td>2024-11</td></tr><tr><td>308</td><td>Paid ₹40.00 to APPAGONI RAJU using Bank Account XXXXXXXX1661 Nov 6, 2024, 8:43:32 PM GMT+05:30</td><td>APPAGONI RAJU</td><td>40.0</td><td>Paid</td><td>2024-11-06T20:43:32.000+0000</td><td>Other</td><td>2024-11</td></tr><tr><td>309</td><td>Paid ₹40.00 to APPAGONI RAJU using Bank Account XXXXXXXX1661 Nov 6, 2024, 8:43:02 PM GMT+05:30</td><td>APPAGONI RAJU</td><td>40.0</td><td>Paid</td><td>2024-11-06T20:43:02.000+0000</td><td>Other</td><td>2024-11</td></tr><tr><td>311</td><td>Paid ₹10.00 to THOTA GOPAL using Bank Account XXXXXXXX1661 Nov 4, 2024, 7:53:08 PM GMT+05:30</td><td>THOTA  GOPAL</td><td>10.0</td><td>Paid</td><td>2024-11-04T19:53:08.000+0000</td><td>Other</td><td>2024-11</td></tr><tr><td>312</td><td>Paid ₹10.00 to Shiva Ganesh Kirana General Store using Bank Account XXXXXXXX1661 Nov 4, 2024, 7:49:26 PM GMT+05:30</td><td>Shiva Ganesh Kirana General Store</td><td>10.0</td><td>Paid</td><td>2024-11-04T19:49:26.000+0000</td><td>Groceries</td><td>2024-11</td></tr><tr><td>313</td><td>Paid ₹25.00 using Bank Account XXXXXXXX1661 Nov 4, 2024, 7:11:56 PM GMT+05:30</td><td></td><td>25.0</td><td>Paid</td><td>2024-11-04T19:11:56.000+0000</td><td>Other</td><td>2024-11</td></tr><tr><td>314</td><td>Paid ₹20.00 to Nagole using Bank Account XXXXXXXX1661 Nov 4, 2024, 7:03:41 PM GMT+05:30</td><td>Nagole</td><td>20.0</td><td>Paid</td><td>2024-11-04T19:03:41.000+0000</td><td>Other</td><td>2024-11</td></tr><tr><td>315</td><td>Paid ₹50.00 using Bank Account XXXXXXXX1661 Nov 4, 2024, 5:47:17 PM GMT+05:30</td><td></td><td>50.0</td><td>Paid</td><td>2024-11-04T17:47:17.000+0000</td><td>Other</td><td>2024-11</td></tr><tr><td>316</td><td>Paid ₹30.00 to Tobox Ventures Private Limited using Bank Account XXXXXXXX1661 Nov 4, 2024, 12:41:42 PM GMT+05:30</td><td>Tobox Ventures Private Limited</td><td>30.0</td><td>Paid</td><td>2024-11-04T12:41:42.000+0000</td><td>Food & Dining</td><td>2024-11</td></tr><tr><td>317</td><td>Paid ₹60.00 to Tobox Ventures Private Limited using Bank Account XXXXXXXX1661 Nov 4, 2024, 12:34:44 PM GMT+05:30</td><td>Tobox Ventures Private Limited</td><td>60.0</td><td>Paid</td><td>2024-11-04T12:34:44.000+0000</td><td>Food & Dining</td><td>2024-11</td></tr><tr><td>318</td><td>Sent ₹100.00 using Bank Account XXXXXXXX1661 Nov 4, 2024, 7:53:53 AM GMT+05:30</td><td></td><td>100.0</td><td>Sent</td><td>2024-11-04T07:53:53.000+0000</td><td>Other</td><td>2024-11</td></tr><tr><td>319</td><td>Sent ₹100.00 Nov 4, 2024, 7:53:26 AM GMT+05:30</td><td></td><td>100.0</td><td>Sent</td><td>2024-11-04T07:53:26.000+0000</td><td>Other</td><td>2024-11</td></tr><tr><td>320</td><td>Paid ₹360.00 to SREE GEETA EATS AND using Bank Account XXXXXXXX1661 Nov 3, 2024, 8:33:20 PM GMT+05:30</td><td>SREE GEETA EATS AND</td><td>360.0</td><td>Paid</td><td>2024-11-03T20:33:20.000+0000</td><td>Food & Dining</td><td>2024-11</td></tr><tr><td>322</td><td>Paid ₹180.00 to BAKE DELIGHT using Bank Account XXXXXXXX1661 Nov 2, 2024, 9:34:06 PM GMT+05:30</td><td>BAKE DELIGHT</td><td>180.0</td><td>Paid</td><td>2024-11-02T21:34:06.000+0000</td><td>Food & Dining</td><td>2024-11</td></tr><tr><td>323</td><td>Paid ₹10.00 to SYED TAJUDDIN using Bank Account XXXXXXXX1661 Nov 2, 2024, 9:12:07 PM GMT+05:30</td><td>SYED TAJUDDIN</td><td>10.0</td><td>Paid</td><td>2024-11-02T21:12:07.000+0000</td><td>Other</td><td>2024-11</td></tr><tr><td>324</td><td>Paid ₹40.00 to THOTA GOPAL using Bank Account XXXXXXXX1661 Nov 2, 2024, 6:47:19 PM GMT+05:30</td><td>THOTA  GOPAL</td><td>40.0</td><td>Paid</td><td>2024-11-02T18:47:19.000+0000</td><td>Other</td><td>2024-11</td></tr><tr><td>325</td><td>Paid ₹40.00 to THOTA GOPAL using Bank Account XXXXXXXX1661 Nov 2, 2024, 6:47:04 PM GMT+05:30</td><td>THOTA  GOPAL</td><td>40.0</td><td>Paid</td><td>2024-11-02T18:47:04.000+0000</td><td>Other</td><td>2024-11</td></tr><tr><td>326</td><td>Sent ₹5000.00 using Bank Account XXXXXXXX1661 Nov 2, 2024, 10:52:33 AM GMT+05:30</td><td></td><td>5000.0</td><td>Sent</td><td>2024-11-02T10:52:33.000+0000</td><td>Other</td><td>2024-11</td></tr><tr><td>328</td><td>Paid ₹12.00 to GUMMADAVELLI SRINIVASALU using Bank Account XXXXXXXX1661 Nov 2, 2024, 6:55:07 AM GMT+05:30</td><td>GUMMADAVELLI  SRINIVASALU</td><td>12.0</td><td>Paid</td><td>2024-11-02T06:55:07.000+0000</td><td>Other</td><td>2024-11</td></tr><tr><td>329</td><td>Paid ₹45.00 to TUMMA VAMSHI using Bank Account XXXXXXXX1661 Nov 1, 2024, 7:35:49 PM GMT+05:30</td><td>TUMMA VAMSHI</td><td>45.0</td><td>Paid</td><td>2024-11-01T19:35:49.000+0000</td><td>Other</td><td>2024-11</td></tr><tr><td>330</td><td>Paid ₹250.00 to DARAVATH RAJASHEKAR using Bank Account XXXXXXXX1661 Nov 1, 2024, 7:32:21 PM GMT+05:30</td><td>DARAVATH RAJASHEKAR</td><td>250.0</td><td>Paid</td><td>2024-11-01T19:32:21.000+0000</td><td>Other</td><td>2024-11</td></tr><tr><td>332</td><td>Paid ₹20.00 to THOTA GOPAL using Bank Account XXXXXXXX1661 Oct 31, 2024, 6:29:40 PM GMT+05:30</td><td>THOTA  GOPAL</td><td>20.0</td><td>Paid</td><td>2024-10-31T18:29:40.000+0000</td><td>Other</td><td>2024-10</td></tr><tr><td>333</td><td>Paid ₹10.00 to THOTA GOPAL using Bank Account XXXXXXXX1661 Oct 31, 2024, 1:35:30 PM GMT+05:30</td><td>THOTA  GOPAL</td><td>10.0</td><td>Paid</td><td>2024-10-31T13:35:30.000+0000</td><td>Other</td><td>2024-10</td></tr><tr><td>334</td><td>Paid ₹50.00 to G PANDU using Bank Account XXXXXXXX1661 Oct 31, 2024, 9:35:27 AM GMT+05:30</td><td>G PANDU</td><td>50.0</td><td>Paid</td><td>2024-10-31T09:35:27.000+0000</td><td>Other</td><td>2024-10</td></tr><tr><td>336</td><td>Sent ₹1500.00 using Bank Account XXXXXXXX1661 Oct 30, 2024, 7:56:39 PM GMT+05:30</td><td></td><td>1500.0</td><td>Sent</td><td>2024-10-30T19:56:39.000+0000</td><td>Other</td><td>2024-10</td></tr><tr><td>338</td><td>Sent ₹220.00 using Bank Account XXXXXXXX1661 Oct 30, 2024, 5:58:41 PM GMT+05:30</td><td></td><td>220.0</td><td>Sent</td><td>2024-10-30T17:58:41.000+0000</td><td>Other</td><td>2024-10</td></tr><tr><td>339</td><td>Paid ₹40.00 to Punjab Sind Foods Raidurg MTS Hyderabad using Bank Account XXXXXXXX1661 Oct 30, 2024, 5:07:24 PM GMT+05:30</td><td>Punjab Sind Foods  Raidurg MTS Hyderabad</td><td>40.0</td><td>Paid</td><td>2024-10-30T17:07:24.000+0000</td><td>Food & Dining</td><td>2024-10</td></tr><tr><td>340</td><td>Sent ₹60.00 using Bank Account XXXXXXXX1661 Oct 30, 2024, 4:56:49 PM GMT+05:30</td><td></td><td>60.0</td><td>Sent</td><td>2024-10-30T16:56:49.000+0000</td><td>Other</td><td>2024-10</td></tr><tr><td>341</td><td>Paid ₹49.98 to Park Hyderabad using Bank Account XXXXXXXX1661 Oct 29, 2024, 8:06:20 PM GMT+05:30</td><td>Park Hyderabad</td><td>49.98</td><td>Paid</td><td>2024-10-29T20:06:20.000+0000</td><td>Fuel & Transport</td><td>2024-10</td></tr><tr><td>342</td><td>Paid ₹30.00 to B25 RAIDURG METRO using Bank Account XXXXXXXX1661 Oct 29, 2024, 9:13:12 AM GMT+05:30</td><td>B25 RAIDURG METRO</td><td>30.0</td><td>Paid</td><td>2024-10-29T09:13:12.000+0000</td><td>Fuel & Transport</td><td>2024-10</td></tr><tr><td>343</td><td>Paid ₹10.00 to THOTA GOPAL using Bank Account XXXXXXXX1661 Oct 28, 2024, 9:28:17 PM GMT+05:30</td><td>THOTA  GOPAL</td><td>10.0</td><td>Paid</td><td>2024-10-28T21:28:17.000+0000</td><td>Other</td><td>2024-10</td></tr><tr><td>344</td><td>Paid ₹388.00 to GOTTIPATI MILITARY HOTEL 247 using Bank Account XXXXXXXX1661 Oct 28, 2024, 7:03:20 PM GMT+05:30</td><td>GOTTIPATI MILITARY HOTEL 247</td><td>388.0</td><td>Paid</td><td>2024-10-28T19:03:20.000+0000</td><td>Food & Dining</td><td>2024-10</td></tr><tr><td>345</td><td>Paid ₹5.00 to Sulabh Metro Station Nagole using Bank Account XXXXXXXX1661 Oct 28, 2024, 8:02:04 AM GMT+05:30</td><td>Sulabh Metro Station Nagole</td><td>5.0</td><td>Paid</td><td>2024-10-28T08:02:04.000+0000</td><td>Fuel & Transport</td><td>2024-10</td></tr><tr><td>346</td><td>Paid ₹500.00 to Landt Metro- NAGOLE using Bank Account XXXXXXXX1661 Oct 28, 2024, 7:56:23 AM GMT+05:30</td><td>Landt Metro- NAGOLE</td><td>500.0</td><td>Paid</td><td>2024-10-28T07:56:23.000+0000</td><td>Fuel & Transport</td><td>2024-10</td></tr><tr><td>347</td><td>Paid ₹10.00 to KANNARAM AROGYA MARY using Bank Account XXXXXXXX1661 Oct 26, 2024, 8:30:59 PM GMT+05:30</td><td>KANNARAM AROGYA MARY</td><td>10.0</td><td>Paid</td><td>2024-10-26T20:30:59.000+0000</td><td>Other</td><td>2024-10</td></tr><tr><td>348</td><td>Sent ₹950.00 using Bank Account XXXXXXXX1661 Oct 26, 2024, 5:41:37 PM GMT+05:30</td><td></td><td>950.0</td><td>Sent</td><td>2024-10-26T17:41:37.000+0000</td><td>Other</td><td>2024-10</td></tr><tr><td>350</td><td>Sent ₹1.00 using Bank Account XXXXXXXX1661 Oct 26, 2024, 4:23:14 PM GMT+05:30</td><td></td><td>1.0</td><td>Sent</td><td>2024-10-26T16:23:14.000+0000</td><td>Other</td><td>2024-10</td></tr><tr><td>351</td><td>Paid ₹4.00 to Sraswathi kirana and stationary stores using Bank Account XXXXXXXX1661 Oct 26, 2024, 1:01:19 PM GMT+05:30</td><td>Sraswathi kirana and  stationary stores</td><td>4.0</td><td>Paid</td><td>2024-10-26T13:01:19.000+0000</td><td>Food & Dining</td><td>2024-10</td></tr><tr><td>352</td><td>Paid ₹245.00 to BP UPPAL using Bank Account XXXXXXXX1661 Oct 25, 2024, 10:19:57 PM GMT+05:30</td><td>BP UPPAL</td><td>245.0</td><td>Paid</td><td>2024-10-25T22:19:57.000+0000</td><td>Fuel & Transport</td><td>2024-10</td></tr><tr><td>353</td><td>Paid ₹20.00 to MEHFIL RESTAURANT-3 using Bank Account XXXXXXXX1661 Oct 25, 2024, 10:10:13 PM GMT+05:30</td><td>MEHFIL RESTAURANT-3</td><td>20.0</td><td>Paid</td><td>2024-10-25T22:10:13.000+0000</td><td>Food & Dining</td><td>2024-10</td></tr><tr><td>354</td><td>Paid ₹54.98 to Park Hyderabad using Bank Account XXXXXXXX1661 Oct 25, 2024, 9:59:30 PM GMT+05:30</td><td>Park Hyderabad</td><td>54.98</td><td>Paid</td><td>2024-10-25T21:59:30.000+0000</td><td>Fuel & Transport</td><td>2024-10</td></tr><tr><td>356</td><td>Paid ₹500.00 to HYDERABAD METRO RAIL using Bank Account XXXXXXXX1661 Oct 25, 2024, 9:54:00 PM GMT+05:30</td><td>HYDERABAD METRO RAIL</td><td>500.0</td><td>Paid</td><td>2024-10-25T21:54:00.000+0000</td><td>Fuel & Transport</td><td>2024-10</td></tr><tr><td>357</td><td>Sent ₹450.00 using Bank Account XXXXXXXX1661 Oct 25, 2024, 9:17:07 PM GMT+05:30</td><td></td><td>450.0</td><td>Sent</td><td>2024-10-25T21:17:07.000+0000</td><td>Other</td><td>2024-10</td></tr><tr><td>359</td><td>Paid ₹35.00 to PISTA HOUSE using Bank Account XXXXXXXX1661 Oct 24, 2024, 8:06:55 PM GMT+05:30</td><td>PISTA HOUSE</td><td>35.0</td><td>Paid</td><td>2024-10-24T20:06:55.000+0000</td><td>Food & Dining</td><td>2024-10</td></tr><tr><td>360</td><td>Paid ₹60.00 using Bank Account XXXXXXXX1661 Oct 24, 2024, 12:44:25 PM GMT+05:30</td><td></td><td>60.0</td><td>Paid</td><td>2024-10-24T12:44:25.000+0000</td><td>Other</td><td>2024-10</td></tr><tr><td>361</td><td>Paid ₹40.00 to ATTAVELLI SWATHI using Bank Account XXXXXXXX1661 Oct 23, 2024, 9:17:49 PM GMT+05:30</td><td>ATTAVELLI SWATHI</td><td>40.0</td><td>Paid</td><td>2024-10-23T21:17:49.000+0000</td><td>Other</td><td>2024-10</td></tr><tr><td>362</td><td>Sent ₹500.00 using Bank Account XXXXXXXX1661 Oct 23, 2024, 8:49:32 PM GMT+05:30</td><td></td><td>500.0</td><td>Sent</td><td>2024-10-23T20:49:32.000+0000</td><td>Other</td><td>2024-10</td></tr><tr><td>364</td><td>Paid ₹24.99 to Park Hyderabad using Bank Account XXXXXXXX1661 Oct 23, 2024, 7:49:02 PM GMT+05:30</td><td>Park Hyderabad</td><td>24.99</td><td>Paid</td><td>2024-10-23T19:49:02.000+0000</td><td>Fuel & Transport</td><td>2024-10</td></tr><tr><td>366</td><td>Paid ₹24.99 to Park Hyderabad using Bank Account XXXXXXXX1661 Oct 23, 2024, 7:47:28 PM GMT+05:30</td><td>Park Hyderabad</td><td>24.99</td><td>Paid</td><td>2024-10-23T19:47:28.000+0000</td><td>Fuel & Transport</td><td>2024-10</td></tr><tr><td>367</td><td>Sent ₹37,971.00 using Bank Account XXXXXXXX1661 Oct 22, 2024, 8:21:17 PM GMT+05:30</td><td></td><td>null</td><td>Sent</td><td>2024-10-22T20:21:17.000+0000</td><td>Other</td><td>2024-10</td></tr><tr><td>368</td><td>Sent ₹50.00 using Bank Account XXXXXXXX1661 Oct 22, 2024, 7:05:35 PM GMT+05:30</td><td></td><td>50.0</td><td>Sent</td><td>2024-10-22T19:05:35.000+0000</td><td>Other</td><td>2024-10</td></tr><tr><td>369</td><td>Sent ₹50.00 using Bank Account XXXXXXXX1661 Oct 22, 2024, 8:18:16 AM GMT+05:30</td><td></td><td>50.0</td><td>Sent</td><td>2024-10-22T08:18:16.000+0000</td><td>Other</td><td>2024-10</td></tr><tr><td>371</td><td>Paid ₹36.00 to Bommagouni Baraddwaj using Bank Account XXXXXXXX1661 Oct 21, 2024, 8:53:21 PM GMT+05:30</td><td>Bommagouni Baraddwaj</td><td>36.0</td><td>Paid</td><td>2024-10-21T20:53:21.000+0000</td><td>Other</td><td>2024-10</td></tr><tr><td>375</td><td>Sent ₹500.00 using Bank Account XXXXXXXX1661 Oct 21, 2024, 2:04:33 PM GMT+05:30</td><td></td><td>500.0</td><td>Sent</td><td>2024-10-21T14:04:33.000+0000</td><td>Other</td><td>2024-10</td></tr><tr><td>376</td><td>Paid ₹207.90 to DOMINOS PIZZA using Bank Account XXXXXXXX1661 Oct 21, 2024, 1:19:38 PM GMT+05:30</td><td>DOMINOS PIZZA</td><td>207.9</td><td>Paid</td><td>2024-10-21T13:19:38.000+0000</td><td>Food & Dining</td><td>2024-10</td></tr><tr><td>377</td><td>Paid ₹109.00 to Slns Nanakramguda Fuels using Bank Account XXXXXXXX1661 Oct 21, 2024, 1:08:22 PM GMT+05:30</td><td>Slns Nanakramguda Fuels</td><td>109.0</td><td>Paid</td><td>2024-10-21T13:08:22.000+0000</td><td>Fuel & Transport</td><td>2024-10</td></tr><tr><td>378</td><td>Paid ₹45.00 to GUMMADAVELLI SRINIVASALU using Bank Account XXXXXXXX1661 Oct 19, 2024, 11:47:24 AM GMT+05:30</td><td>GUMMADAVELLI  SRINIVASALU</td><td>45.0</td><td>Paid</td><td>2024-10-19T11:47:24.000+0000</td><td>Other</td><td>2024-10</td></tr><tr><td>383</td><td>Paid ₹46.00 to GUMMADAVELLI SRINIVASALU using Bank Account XXXXXXXX1661 Oct 18, 2024, 9:36:06 PM GMT+05:30</td><td>GUMMADAVELLI  SRINIVASALU</td><td>46.0</td><td>Paid</td><td>2024-10-18T21:36:06.000+0000</td><td>Other</td><td>2024-10</td></tr><tr><td>385</td><td>Paid ₹100.00 to MANIFOLD WRAP SOLUTIONS PRIVATE LIMITED using Bank Account XXXXXXXX1661 Oct 18, 2024, 7:05:04 PM GMT+05:30</td><td>MANIFOLD WRAP SOLUTIONS PRIVATE LIMITED</td><td>100.0</td><td>Paid</td><td>2024-10-18T19:05:04.000+0000</td><td>Other</td><td>2024-10</td></tr><tr><td>386</td><td>Paid ₹45.00 to Tibbs Frankie Inorbit Mall using Bank Account XXXXXXXX1661 Oct 18, 2024, 11:42:20 AM GMT+05:30</td><td>Tibbs Frankie Inorbit Mall</td><td>45.0</td><td>Paid</td><td>2024-10-18T11:42:20.000+0000</td><td>Food & Dining</td><td>2024-10</td></tr><tr><td>387</td><td>Paid ₹124.00 using Bank Account XXXXXXXX1661 Oct 18, 2024, 11:40:38 AM GMT+05:30</td><td></td><td>124.0</td><td>Paid</td><td>2024-10-18T11:40:38.000+0000</td><td>Other</td><td>2024-10</td></tr><tr><td>388</td><td>Paid ₹124.00 to Taco Bell Inorbit Mall using Bank Account XXXXXXXX1661 Oct 18, 2024, 11:18:46 AM GMT+05:30</td><td>Taco Bell Inorbit Mall</td><td>124.0</td><td>Paid</td><td>2024-10-18T11:18:46.000+0000</td><td>Food & Dining</td><td>2024-10</td></tr><tr><td>389</td><td>Paid ₹143.00 to ISHAQ FILLING STATIO using Bank Account XXXXXXXX1661 Oct 17, 2024, 8:27:51 PM GMT+05:30</td><td>ISHAQ FILLING STATIO</td><td>143.0</td><td>Paid</td><td>2024-10-17T20:27:51.000+0000</td><td>Fuel & Transport</td><td>2024-10</td></tr><tr><td>390</td><td>Paid ₹79.00 to JUMBO KING using Bank Account XXXXXXXX1661 Oct 17, 2024, 7:31:48 PM GMT+05:30</td><td>JUMBO KING</td><td>79.0</td><td>Paid</td><td>2024-10-17T19:31:48.000+0000</td><td>Food & Dining</td><td>2024-10</td></tr><tr><td>391</td><td>Paid ₹40.00 to ARHAM ENTERPRISES using Bank Account XXXXXXXX1661 Oct 17, 2024, 7:28:55 PM GMT+05:30</td><td>ARHAM ENTERPRISES</td><td>40.0</td><td>Paid</td><td>2024-10-17T19:28:55.000+0000</td><td>Other</td><td>2024-10</td></tr><tr><td>392</td><td>Paid ₹60.00 to Tobox Ventures Private Limited using Bank Account XXXXXXXX1661 Oct 16, 2024, 4:39:06 PM GMT+05:30</td><td>Tobox Ventures Private Limited</td><td>60.0</td><td>Paid</td><td>2024-10-16T16:39:06.000+0000</td><td>Food & Dining</td><td>2024-10</td></tr><tr><td>393</td><td>Paid ₹10.00 to THOTA GOPAL using Bank Account XXXXXXXX1661 Oct 16, 2024, 7:44:13 AM GMT+05:30</td><td>THOTA  GOPAL</td><td>10.0</td><td>Paid</td><td>2024-10-16T07:44:13.000+0000</td><td>Other</td><td>2024-10</td></tr><tr><td>395</td><td>Paid ₹20.00 to B25 Raidurg Metro using Bank Account XXXXXXXX1661 Oct 15, 2024, 5:50:11 PM GMT+05:30</td><td>B25 Raidurg Metro</td><td>20.0</td><td>Paid</td><td>2024-10-15T17:50:11.000+0000</td><td>Fuel & Transport</td><td>2024-10</td></tr><tr><td>405</td><td>Paid ₹98.00 to Tobox Ventures Private Limited using Bank Account XXXXXXXX1661 Oct 14, 2024, 10:32:08 AM GMT+05:30</td><td>Tobox Ventures Private Limited</td><td>98.0</td><td>Paid</td><td>2024-10-14T10:32:08.000+0000</td><td>Food & Dining</td><td>2024-10</td></tr><tr><td>407</td><td>Paid ₹40.00 to DARRA CHANTI BABU using Bank Account XXXXXXXX1661 Oct 11, 2024, 7:26:42 PM GMT+05:30</td><td>DARRA  CHANTI BABU</td><td>40.0</td><td>Paid</td><td>2024-10-11T19:26:42.000+0000</td><td>Other</td><td>2024-10</td></tr><tr><td>408</td><td>Paid ₹35.00 to Chanagala Swarupini using Bank Account XXXXXXXX1661 Oct 11, 2024, 7:18:35 PM GMT+05:30</td><td>Chanagala Swarupini</td><td>35.0</td><td>Paid</td><td>2024-10-11T19:18:35.000+0000</td><td>Other</td><td>2024-10</td></tr><tr><td>409</td><td>Paid ₹115.00 to Chanagala Swarupini using Bank Account XXXXXXXX1661 Oct 11, 2024, 7:18:22 PM GMT+05:30</td><td>Chanagala Swarupini</td><td>115.0</td><td>Paid</td><td>2024-10-11T19:18:22.000+0000</td><td>Other</td><td>2024-10</td></tr><tr><td>410</td><td>Paid ₹20.00 to KUSAM SATHYAVATHI using Bank Account XXXXXXXX1661 Oct 11, 2024, 7:16:12 PM GMT+05:30</td><td>KUSAM  SATHYAVATHI</td><td>20.0</td><td>Paid</td><td>2024-10-11T19:16:12.000+0000</td><td>Other</td><td>2024-10</td></tr><tr><td>411</td><td>Paid ₹60.00 to Bandi Harinadhababu using Bank Account XXXXXXXX1661 Oct 11, 2024, 7:11:21 PM GMT+05:30</td><td>Bandi Harinadhababu</td><td>60.0</td><td>Paid</td><td>2024-10-11T19:11:21.000+0000</td><td>Other</td><td>2024-10</td></tr><tr><td>412</td><td>Paid ₹55.00 to GUMMADAVELLI SRINIVASALU using Bank Account XXXXXXXX1661 Oct 11, 2024, 11:23:09 AM GMT+05:30</td><td>GUMMADAVELLI  SRINIVASALU</td><td>55.0</td><td>Paid</td><td>2024-10-11T11:23:09.000+0000</td><td>Other</td><td>2024-10</td></tr><tr><td>413</td><td>Paid ₹140.00 to Mehfil Restaurant-3 using Bank Account XXXXXXXX1661 Oct 10, 2024, 8:29:48 PM GMT+05:30</td><td>Mehfil Restaurant-3</td><td>140.0</td><td>Paid</td><td>2024-10-10T20:29:48.000+0000</td><td>Food & Dining</td><td>2024-10</td></tr><tr><td>414</td><td>Paid ₹568.00 to Mehfil Restaurant-4 using Bank Account XXXXXXXX1661 Oct 10, 2024, 8:28:29 PM GMT+05:30</td><td>Mehfil Restaurant-4</td><td>568.0</td><td>Paid</td><td>2024-10-10T20:28:29.000+0000</td><td>Food & Dining</td><td>2024-10</td></tr><tr><td>416</td><td>Paid ₹80.00 to JUMBO KING using Bank Account XXXXXXXX1661 Oct 10, 2024, 7:48:15 PM GMT+05:30</td><td>JUMBO KING</td><td>80.0</td><td>Paid</td><td>2024-10-10T19:48:15.000+0000</td><td>Food & Dining</td><td>2024-10</td></tr><tr><td>417</td><td>Paid ₹258.00 to Tobox Ventures Private Limited using Bank Account XXXXXXXX1661 Oct 10, 2024, 5:22:17 PM GMT+05:30</td><td>Tobox Ventures Private Limited</td><td>258.0</td><td>Paid</td><td>2024-10-10T17:22:17.000+0000</td><td>Food & Dining</td><td>2024-10</td></tr><tr><td>419</td><td>Paid ₹205.53 to Zomato using Bank Account XXXXXXXX1661 Oct 10, 2024, 12:03:24 PM GMT+05:30</td><td>Zomato</td><td>205.53</td><td>Paid</td><td>2024-10-10T12:03:24.000+0000</td><td>Food & Dining</td><td>2024-10</td></tr><tr><td>420</td><td>Paid ₹84.97 to Park Hyderabad using Bank Account XXXXXXXX1661 Oct 10, 2024, 8:10:26 AM GMT+05:30</td><td>Park Hyderabad</td><td>84.97</td><td>Paid</td><td>2024-10-10T08:10:26.000+0000</td><td>Fuel & Transport</td><td>2024-10</td></tr><tr><td>421</td><td>Paid ₹20.00 to G PANDU using Bank Account XXXXXXXX1661 Oct 10, 2024, 7:18:22 AM GMT+05:30</td><td>G PANDU</td><td>20.0</td><td>Paid</td><td>2024-10-10T07:18:22.000+0000</td><td>Other</td><td>2024-10</td></tr><tr><td>422</td><td>Paid ₹140.00 to G PANDU using Bank Account XXXXXXXX1661 Oct 10, 2024, 7:17:36 AM GMT+05:30</td><td>G PANDU</td><td>140.0</td><td>Paid</td><td>2024-10-10T07:17:36.000+0000</td><td>Other</td><td>2024-10</td></tr><tr><td>423</td><td>Paid ₹30.00 to Mehfil Restaurant-3 using Bank Account XXXXXXXX1661 Oct 9, 2024, 8:47:11 PM GMT+05:30</td><td>Mehfil Restaurant-3</td><td>30.0</td><td>Paid</td><td>2024-10-09T20:47:11.000+0000</td><td>Food & Dining</td><td>2024-10</td></tr><tr><td>424</td><td>Paid ₹185.00 to Mehfil Restaurant-3 using Bank Account XXXXXXXX1661 Oct 9, 2024, 8:44:36 PM GMT+05:30</td><td>Mehfil Restaurant-3</td><td>185.0</td><td>Paid</td><td>2024-10-09T20:44:36.000+0000</td><td>Food & Dining</td><td>2024-10</td></tr><tr><td>425</td><td>Paid ₹220.00 to Mehfil Restaurant-4 using Bank Account XXXXXXXX1661 Oct 9, 2024, 8:42:51 PM GMT+05:30</td><td>Mehfil Restaurant-4</td><td>220.0</td><td>Paid</td><td>2024-10-09T20:42:51.000+0000</td><td>Food & Dining</td><td>2024-10</td></tr><tr><td>427</td><td>Sent ₹29.00 using Bank Account XXXXXXXX1661 Oct 9, 2024, 6:33:20 PM GMT+05:30</td><td></td><td>29.0</td><td>Sent</td><td>2024-10-09T18:33:20.000+0000</td><td>Other</td><td>2024-10</td></tr><tr><td>428</td><td>Paid ₹20.00 to B25 Raidurg Metro using Bank Account XXXXXXXX1661 Oct 9, 2024, 8:56:14 AM GMT+05:30</td><td>B25 Raidurg Metro</td><td>20.0</td><td>Paid</td><td>2024-10-09T08:56:14.000+0000</td><td>Fuel & Transport</td><td>2024-10</td></tr><tr><td>429</td><td>Paid ₹60.00 to L and T METRO RAIL HYDERABAD LIMITED using Bank Account XXXXXXXX1661 Oct 8, 2024, 6:20:55 PM GMT+05:30</td><td>L and T METRO RAIL HYDERABAD LIMITED</td><td>60.0</td><td>Paid</td><td>2024-10-08T18:20:55.000+0000</td><td>Fuel & Transport</td><td>2024-10</td></tr><tr><td>430</td><td>Paid ₹40.00 to BATHINA VEERA VENKATA SATYANARAYANA using Bank Account XXXXXXXX1661 Oct 8, 2024, 9:11:35 AM GMT+05:30</td><td>BATHINA VEERA VENKATA SATYANARAYANA</td><td>40.0</td><td>Paid</td><td>2024-10-08T09:11:35.000+0000</td><td>Other</td><td>2024-10</td></tr><tr><td>431</td><td>Paid ₹68.00 to Shiva Ganesh Kirana General Store using Bank Account XXXXXXXX1661 Oct 8, 2024, 6:49:48 AM GMT+05:30</td><td>Shiva Ganesh Kirana General Store</td><td>68.0</td><td>Paid</td><td>2024-10-08T06:49:48.000+0000</td><td>Groceries</td><td>2024-10</td></tr><tr><td>432</td><td>Paid ₹449.00 to IKEA INDIA PVT LTD using Bank Account XXXXXXXX1661 Oct 7, 2024, 2:43:21 PM GMT+05:30</td><td>IKEA INDIA PVT LTD</td><td>449.0</td><td>Paid</td><td>2024-10-07T14:43:21.000+0000</td><td>Shopping & Retail</td><td>2024-10</td></tr><tr><td>433</td><td>Paid ₹228.00 to BP Petrol Pump Vennela Filling Station using Bank Account XXXXXXXX1661 Oct 7, 2024, 1:23:11 PM GMT+05:30</td><td>BP Petrol Pump  Vennela Filling Station</td><td>228.0</td><td>Paid</td><td>2024-10-07T13:23:11.000+0000</td><td>Fuel & Transport</td><td>2024-10</td></tr><tr><td>435</td><td>Paid ₹240.00 to Mehfil Restaurant-3 using Bank Account XXXXXXXX1661 Oct 5, 2024, 8:52:18 PM GMT+05:30</td><td>Mehfil Restaurant-3</td><td>240.0</td><td>Paid</td><td>2024-10-05T20:52:18.000+0000</td><td>Food & Dining</td><td>2024-10</td></tr><tr><td>436</td><td>Paid ₹249.00 to Mehfil Restaurant-4 using Bank Account XXXXXXXX1661 Oct 5, 2024, 8:51:02 PM GMT+05:30</td><td>Mehfil Restaurant-4</td><td>249.0</td><td>Paid</td><td>2024-10-05T20:51:02.000+0000</td><td>Food & Dining</td><td>2024-10</td></tr><tr><td>438</td><td>Sent ₹75.00 using Bank Account XXXXXXXX1661 Oct 5, 2024, 6:14:50 PM GMT+05:30</td><td></td><td>75.0</td><td>Sent</td><td>2024-10-05T18:14:50.000+0000</td><td>Other</td><td>2024-10</td></tr><tr><td>439</td><td>Paid ₹68.00 to THOTA GOPAL using Bank Account XXXXXXXX1661 Oct 4, 2024, 6:51:38 AM GMT+05:30</td><td>THOTA  GOPAL</td><td>68.0</td><td>Paid</td><td>2024-10-04T06:51:38.000+0000</td><td>Other</td><td>2024-10</td></tr><tr><td>440</td><td>Paid ₹50.00 to Mr Rajkumar Yadav using Bank Account XXXXXXXX1661 Oct 3, 2024, 3:46:38 PM GMT+05:30</td><td>Mr Rajkumar Yadav</td><td>50.0</td><td>Paid</td><td>2024-10-03T15:46:38.000+0000</td><td>Other</td><td>2024-10</td></tr><tr><td>441</td><td>Paid ₹20.00 to Mehfil Restaurant And Takeaway using Bank Account XXXXXXXX1661 Oct 3, 2024, 3:44:51 PM GMT+05:30</td><td>Mehfil Restaurant And Takeaway</td><td>20.0</td><td>Paid</td><td>2024-10-03T15:44:51.000+0000</td><td>Food & Dining</td><td>2024-10</td></tr><tr><td>442</td><td>Paid ₹64.00 using Bank Account XXXXXXXX1661 Oct 3, 2024, 3:09:01 PM GMT+05:30</td><td></td><td>64.0</td><td>Paid</td><td>2024-10-03T15:09:01.000+0000</td><td>Other</td><td>2024-10</td></tr><tr><td>443</td><td>Paid ₹202.28 to Zomato using Bank Account XXXXXXXX1661 Oct 3, 2024, 1:44:54 PM GMT+05:30</td><td>Zomato</td><td>202.28</td><td>Paid</td><td>2024-10-03T13:44:54.000+0000</td><td>Food & Dining</td><td>2024-10</td></tr><tr><td>444</td><td>Paid ₹1400.00 to HOTEL GALAXY GRAND using Bank Account XXXXXXXX1661 Oct 3, 2024, 12:09:54 PM GMT+05:30</td><td>HOTEL GALAXY GRAND</td><td>1400.0</td><td>Paid</td><td>2024-10-03T12:09:54.000+0000</td><td>Food & Dining</td><td>2024-10</td></tr><tr><td>445</td><td>Paid ₹400.00 to PVR INOX Limited using Bank Account XXXXXXXX1661 Oct 3, 2024, 10:05:30 AM GMT+05:30</td><td>PVR INOX Limited</td><td>400.0</td><td>Paid</td><td>2024-10-03T10:05:30.000+0000</td><td>Entertainment</td><td>2024-10</td></tr><tr><td>447</td><td>Paid ₹459.00 to BOOKMYSHOW using Bank Account XXXXXXXX1661 Oct 3, 2024, 9:56:04 AM GMT+05:30</td><td>BOOKMYSHOW</td><td>459.0</td><td>Paid</td><td>2024-10-03T09:56:04.000+0000</td><td>Entertainment</td><td>2024-10</td></tr><tr><td>448</td><td>Paid ₹80.00 to SREE GEETA EATS AND using Bank Account XXXXXXXX1661 Oct 2, 2024, 7:35:18 PM GMT+05:30</td><td>SREE GEETA EATS AND</td><td>80.0</td><td>Paid</td><td>2024-10-02T19:35:18.000+0000</td><td>Food & Dining</td><td>2024-10</td></tr><tr><td>449</td><td>Paid ₹36.00 to CHOTU RAM using Bank Account XXXXXXXX1661 Oct 2, 2024, 7:30:57 PM GMT+05:30</td><td>CHOTU RAM</td><td>36.0</td><td>Paid</td><td>2024-10-02T19:30:57.000+0000</td><td>Other</td><td>2024-10</td></tr><tr><td>450</td><td>Sent ₹150.00 using Bank Account XXXXXXXX1661 Oct 2, 2024, 7:15:21 PM GMT+05:30</td><td></td><td>150.0</td><td>Sent</td><td>2024-10-02T19:15:21.000+0000</td><td>Other</td><td>2024-10</td></tr><tr><td>453</td><td>Paid ₹6.00 using Bank Account XXXXXXXX1661 Oct 2, 2024, 9:49:59 AM GMT+05:30</td><td></td><td>6.0</td><td>Paid</td><td>2024-10-02T09:49:59.000+0000</td><td>Other</td><td>2024-10</td></tr><tr><td>454</td><td>Paid ₹10.00 to MOHD ABDUL KALEEM using Bank Account XXXXXXXX1661 Oct 1, 2024, 11:21:19 PM GMT+05:30</td><td>MOHD ABDUL KALEEM</td><td>10.0</td><td>Paid</td><td>2024-10-01T23:21:19.000+0000</td><td>Other</td><td>2024-10</td></tr><tr><td>455</td><td>Paid ₹230.00 to SHYAM BAHADUR BHUJEL using Bank Account XXXXXXXX1661 Oct 1, 2024, 9:28:07 PM GMT+05:30</td><td>SHYAM BAHADUR BHUJEL</td><td>230.0</td><td>Paid</td><td>2024-10-01T21:28:07.000+0000</td><td>Other</td><td>2024-10</td></tr><tr><td>456</td><td>Sent ₹1000.00 using Bank Account XXXXXXXX1661 Oct 1, 2024, 4:08:11 PM GMT+05:30</td><td></td><td>1000.0</td><td>Sent</td><td>2024-10-01T16:08:11.000+0000</td><td>Other</td><td>2024-10</td></tr><tr><td>457</td><td>Sent ₹200.00 using Bank Account XXXXXXXX1661 Oct 1, 2024, 4:07:34 PM GMT+05:30</td><td></td><td>200.0</td><td>Sent</td><td>2024-10-01T16:07:34.000+0000</td><td>Other</td><td>2024-10</td></tr><tr><td>458</td><td>Sent ₹500.00 using Bank Account XXXXXXXX1661 Oct 1, 2024, 3:53:36 PM GMT+05:30</td><td></td><td>500.0</td><td>Sent</td><td>2024-10-01T15:53:36.000+0000</td><td>Other</td><td>2024-10</td></tr><tr><td>460</td><td>Paid ₹30.00 to Tobox Ventures Private Limited using Bank Account XXXXXXXX1661 Sep 30, 2024, 6:10:21 PM GMT+05:30</td><td>Tobox Ventures Private Limited</td><td>30.0</td><td>Paid</td><td>2024-09-30T18:10:21.000+0000</td><td>Food & Dining</td><td>2024-09</td></tr><tr><td>461</td><td>Paid ₹80.00 to Tobox Ventures Private Limited using Bank Account XXXXXXXX1661 Sep 30, 2024, 5:51:42 PM GMT+05:30</td><td>Tobox Ventures Private Limited</td><td>80.0</td><td>Paid</td><td>2024-09-30T17:51:42.000+0000</td><td>Food & Dining</td><td>2024-09</td></tr><tr><td>463</td><td>Paid ₹30.00 to THOTA GOPAL using Bank Account XXXXXXXX1661 Sep 29, 2024, 7:19:21 PM GMT+05:30</td><td>THOTA  GOPAL</td><td>30.0</td><td>Paid</td><td>2024-09-29T19:19:21.000+0000</td><td>Other</td><td>2024-09</td></tr><tr><td>464</td><td>Paid ₹115.00 to New Balaji Mithai Bhandar using Bank Account XXXXXXXX1661 Sep 28, 2024, 8:42:58 PM GMT+05:30</td><td>New Balaji Mithai Bhandar</td><td>115.0</td><td>Paid</td><td>2024-09-28T20:42:58.000+0000</td><td>Food & Dining</td><td>2024-09</td></tr><tr><td>465</td><td>Paid ₹115.00 to New Balaji Mithai Bhandar Sep 28, 2024, 8:42:48 PM GMT+05:30</td><td></td><td>115.0</td><td>Paid</td><td>2024-09-28T20:42:48.000+0000</td><td>Other</td><td>2024-09</td></tr><tr><td>466</td><td>Sent ₹150.00 using Bank Account XXXXXXXX1661 Sep 28, 2024, 5:57:44 PM GMT+05:30</td><td></td><td>150.0</td><td>Sent</td><td>2024-09-28T17:57:44.000+0000</td><td>Other</td><td>2024-09</td></tr><tr><td>468</td><td>Paid ₹117.00 using Bank Account XXXXXXXX1661 Sep 28, 2024, 12:36:59 PM GMT+05:30</td><td></td><td>117.0</td><td>Paid</td><td>2024-09-28T12:36:59.000+0000</td><td>Other</td><td>2024-09</td></tr><tr><td>469</td><td>Paid ₹140.00 using Bank Account XXXXXXXX1661 Sep 28, 2024, 9:37:35 AM GMT+05:30</td><td></td><td>140.0</td><td>Paid</td><td>2024-09-28T09:37:35.000+0000</td><td>Other</td><td>2024-09</td></tr><tr><td>470</td><td>Paid ₹10.00 to THOTA GOPAL using Bank Account XXXXXXXX1661 Sep 27, 2024, 9:39:06 PM GMT+05:30</td><td>THOTA  GOPAL</td><td>10.0</td><td>Paid</td><td>2024-09-27T21:39:06.000+0000</td><td>Other</td><td>2024-09</td></tr><tr><td>472</td><td>Paid ₹249.00 to Airtel Prepaid Recha using Bank Account XXXXXXXX1661 Sep 27, 2024, 4:20:13 AM GMT+05:30</td><td>Airtel Prepaid Recha</td><td>249.0</td><td>Paid</td><td>2024-09-27T04:20:13.000+0000</td><td>Bills & Utilities</td><td>2024-09</td></tr><tr><td>473</td><td>Paid ₹29.00 to Amazon Pay using Bank Account XXXXXXXX1661 Sep 26, 2024, 10:33:19 AM GMT+05:30</td><td>Amazon Pay</td><td>29.0</td><td>Paid</td><td>2024-09-26T10:33:19.000+0000</td><td>Shopping & Retail</td><td>2024-09</td></tr><tr><td>474</td><td>Paid ₹36.00 to ANTHATI THIRUPATHIAH GOUD using Bank Account XXXXXXXX1661 Sep 25, 2024, 8:30:49 PM GMT+05:30</td><td>ANTHATI  THIRUPATHIAH GOUD</td><td>36.0</td><td>Paid</td><td>2024-09-25T20:30:49.000+0000</td><td>Other</td><td>2024-09</td></tr><tr><td>479</td><td>Paid ₹129.00 to Tobox Ventures Private Limited using Bank Account XXXXXXXX1661 Sep 24, 2024, 5:36:12 PM GMT+05:30</td><td>Tobox Ventures Private Limited</td><td>129.0</td><td>Paid</td><td>2024-09-24T17:36:12.000+0000</td><td>Food & Dining</td><td>2024-09</td></tr><tr><td>481</td><td>Paid ₹100.00 using Bank Account XXXXXXXX1661 Sep 23, 2024, 9:02:50 PM GMT+05:30</td><td></td><td>100.0</td><td>Paid</td><td>2024-09-23T21:02:50.000+0000</td><td>Other</td><td>2024-09</td></tr><tr><td>482</td><td>Paid ₹100.00 to Maruthi Auto Care using Bank Account XXXXXXXX1661 Sep 23, 2024, 9:02:44 PM GMT+05:30</td><td>Maruthi Auto Care</td><td>100.0</td><td>Paid</td><td>2024-09-23T21:02:44.000+0000</td><td>Fuel & Transport</td><td>2024-09</td></tr><tr><td>483</td><td>Paid ₹100.00 to Maruthi Auto Care using Bank Account XXXXXXXX1661 Sep 23, 2024, 9:01:17 PM GMT+05:30</td><td>Maruthi Auto Care</td><td>100.0</td><td>Paid</td><td>2024-09-23T21:01:17.000+0000</td><td>Fuel & Transport</td><td>2024-09</td></tr><tr><td>484</td><td>Paid ₹1005.08 to Zomato Sep 23, 2024, 10:18:07 AM GMT+05:30</td><td></td><td>1005.08</td><td>Paid</td><td>2024-09-23T10:18:07.000+0000</td><td>Other</td><td>2024-09</td></tr><tr><td>486</td><td>Paid ₹129.00 to Tobox Ventures Private Limited using Bank Account XXXXXXXX1661 Sep 23, 2024, 9:49:54 AM GMT+05:30</td><td>Tobox Ventures Private Limited</td><td>129.0</td><td>Paid</td><td>2024-09-23T09:49:54.000+0000</td><td>Food & Dining</td><td>2024-09</td></tr><tr><td>487</td><td>Paid ₹178.00 to FB CAKES using Bank Account XXXXXXXX1661 Sep 22, 2024, 7:17:31 PM GMT+05:30</td><td>FB CAKES</td><td>178.0</td><td>Paid</td><td>2024-09-22T19:17:31.000+0000</td><td>Food & Dining</td><td>2024-09</td></tr><tr><td>489</td><td>Paid ₹40.00 to ATTAVELLI SWATHI using Bank Account XXXXXXXX1661 Sep 22, 2024, 9:26:37 AM GMT+05:30</td><td>ATTAVELLI SWATHI</td><td>40.0</td><td>Paid</td><td>2024-09-22T09:26:37.000+0000</td><td>Other</td><td>2024-09</td></tr><tr><td>490</td><td>Paid ₹30.00 to THOTA GOPAL using Bank Account XXXXXXXX1661 Sep 22, 2024, 9:18:27 AM GMT+05:30</td><td>THOTA  GOPAL</td><td>30.0</td><td>Paid</td><td>2024-09-22T09:18:27.000+0000</td><td>Other</td><td>2024-09</td></tr><tr><td>491</td><td>Paid ₹108.00 to THOTA GOPAL using Bank Account XXXXXXXX1661 Sep 21, 2024, 8:32:49 PM GMT+05:30</td><td>THOTA  GOPAL</td><td>108.0</td><td>Paid</td><td>2024-09-21T20:32:49.000+0000</td><td>Other</td><td>2024-09</td></tr><tr><td>493</td><td>Paid ₹1500.00 to Hyderabad Metro Rail using Bank Account XXXXXXXX1661 Sep 20, 2024, 9:16:06 PM GMT+05:30</td><td>Hyderabad Metro Rail</td><td>1500.0</td><td>Paid</td><td>2024-09-20T21:16:06.000+0000</td><td>Fuel & Transport</td><td>2024-09</td></tr><tr><td>494</td><td>Paid ₹75.00 to Surappala Kaveri using Bank Account XXXXXXXX1661 Sep 20, 2024, 7:46:51 PM GMT+05:30</td><td>Surappala Kaveri</td><td>75.0</td><td>Paid</td><td>2024-09-20T19:46:51.000+0000</td><td>Other</td><td>2024-09</td></tr><tr><td>495</td><td>Sent ₹200.00 using Bank Account XXXXXXXX1661 Sep 20, 2024, 7:03:31 PM GMT+05:30</td><td></td><td>200.0</td><td>Sent</td><td>2024-09-20T19:03:31.000+0000</td><td>Other</td><td>2024-09</td></tr><tr><td>496</td><td>Paid ₹129.00 to Tobox Ventures Private Limited using Bank Account XXXXXXXX1661 Sep 20, 2024, 10:36:44 AM GMT+05:30</td><td>Tobox Ventures Private Limited</td><td>129.0</td><td>Paid</td><td>2024-09-20T10:36:44.000+0000</td><td>Food & Dining</td><td>2024-09</td></tr><tr><td>497</td><td>Paid ₹2489.00 to Amazon India using Bank Account XXXXXXXX1661 Sep 19, 2024, 10:52:57 PM GMT+05:30</td><td>Amazon India</td><td>2489.0</td><td>Paid</td><td>2024-09-19T22:52:57.000+0000</td><td>Shopping & Retail</td><td>2024-09</td></tr><tr><td>500</td><td>Paid ₹600.00 using Bank Account XXXXXXXX1661 Sep 19, 2024, 9:24:47 PM GMT+05:30</td><td></td><td>600.0</td><td>Paid</td><td>2024-09-19T21:24:47.000+0000</td><td>Other</td><td>2024-09</td></tr><tr><td>501</td><td>Paid ₹10.00 to THOTA GOPAL using Bank Account XXXXXXXX1661 Sep 19, 2024, 8:21:59 PM GMT+05:30</td><td>THOTA  GOPAL</td><td>10.0</td><td>Paid</td><td>2024-09-19T20:21:59.000+0000</td><td>Other</td><td>2024-09</td></tr><tr><td>502</td><td>Paid ₹140.00 to FB CAKES using Bank Account XXXXXXXX1661 Sep 18, 2024, 8:46:47 PM GMT+05:30</td><td>FB CAKES</td><td>140.0</td><td>Paid</td><td>2024-09-18T20:46:47.000+0000</td><td>Food & Dining</td><td>2024-09</td></tr><tr><td>504</td><td>Sent ₹175.00 using Bank Account XXXXXXXX1661 Sep 18, 2024, 12:38:35 PM GMT+05:30</td><td></td><td>175.0</td><td>Sent</td><td>2024-09-18T12:38:35.000+0000</td><td>Other</td><td>2024-09</td></tr><tr><td>505</td><td>Paid ₹10.00 to THOTA GOPAL using Bank Account XXXXXXXX1661 Sep 17, 2024, 7:21:01 AM GMT+05:30</td><td>THOTA  GOPAL</td><td>10.0</td><td>Paid</td><td>2024-09-17T07:21:01.000+0000</td><td>Other</td><td>2024-09</td></tr><tr><td>506</td><td>Paid ₹477.00 to SAGI using Bank Account XXXXXXXX1661 Sep 16, 2024, 8:22:03 PM GMT+05:30</td><td>SAGI</td><td>477.0</td><td>Paid</td><td>2024-09-16T20:22:03.000+0000</td><td>Other</td><td>2024-09</td></tr><tr><td>507</td><td>Paid ₹24.99 to Park Hyderabad using Bank Account XXXXXXXX1661 Sep 16, 2024, 7:17:59 PM GMT+05:30</td><td>Park Hyderabad</td><td>24.99</td><td>Paid</td><td>2024-09-16T19:17:59.000+0000</td><td>Fuel & Transport</td><td>2024-09</td></tr><tr><td>508</td><td>Paid ₹258.00 to Geddit Convenience Private Limited using Bank Account XXXXXXXX1661 Sep 15, 2024, 1:57:58 PM GMT+05:30</td><td>Geddit Convenience Private Limited</td><td>258.0</td><td>Paid</td><td>2024-09-15T13:57:58.000+0000</td><td>Other</td><td>2024-09</td></tr><tr><td>509</td><td>Paid ₹10.00 to MADDY CHAKRAPANI using Bank Account XXXXXXXX1661 Sep 15, 2024, 11:55:15 AM GMT+05:30</td><td>MADDY  CHAKRAPANI</td><td>10.0</td><td>Paid</td><td>2024-09-15T11:55:15.000+0000</td><td>Other</td><td>2024-09</td></tr><tr><td>510</td><td>Paid ₹600.00 using Bank Account XXXXXXXX1661 Sep 15, 2024, 11:14:36 AM GMT+05:30</td><td></td><td>600.0</td><td>Paid</td><td>2024-09-15T11:14:36.000+0000</td><td>Other</td><td>2024-09</td></tr><tr><td>511</td><td>Paid ₹54.00 to THOTA GOPAL using Bank Account XXXXXXXX1661 Sep 15, 2024, 9:30:44 AM GMT+05:30</td><td>THOTA  GOPAL</td><td>54.0</td><td>Paid</td><td>2024-09-15T09:30:44.000+0000</td><td>Other</td><td>2024-09</td></tr><tr><td>512</td><td>Paid ₹50.00 to VIJAYA LAXMI KIRANA AND GENERAL STORE using Bank Account XXXXXXXX1661 Sep 15, 2024, 9:06:41 AM GMT+05:30</td><td>VIJAYA LAXMI KIRANA AND GENERAL STORE</td><td>50.0</td><td>Paid</td><td>2024-09-15T09:06:41.000+0000</td><td>Groceries</td><td>2024-09</td></tr><tr><td>513</td><td>Paid ₹150.00 to RUKMAN BAI JAT using Bank Account XXXXXXXX1661 Sep 14, 2024, 7:06:45 PM GMT+05:30</td><td>RUKMAN BAI JAT</td><td>150.0</td><td>Paid</td><td>2024-09-14T19:06:45.000+0000</td><td>Other</td><td>2024-09</td></tr><tr><td>514</td><td>Paid ₹3600.00 to CHAITANYA HOMEO STO using Bank Account XXXXXXXX1661 Sep 14, 2024, 6:01:51 PM GMT+05:30</td><td>CHAITANYA HOMEO STO</td><td>3600.0</td><td>Paid</td><td>2024-09-14T18:01:51.000+0000</td><td>Home</td><td>2024-09</td></tr><tr><td>516</td><td>Paid ₹499.00 to Smart Bazaar Hyderabad FRBM using Bank Account XXXXXXXX1661 Sep 13, 2024, 5:26:51 PM GMT+05:30</td><td>Smart Bazaar  Hyderabad FRBM</td><td>499.0</td><td>Paid</td><td>2024-09-13T17:26:51.000+0000</td><td>Groceries</td><td>2024-09</td></tr><tr><td>517</td><td>Paid ₹319.00 to Tobox Ventures Private Limited using Bank Account XXXXXXXX1661 Sep 12, 2024, 1:55:01 PM GMT+05:30</td><td>Tobox Ventures Private Limited</td><td>319.0</td><td>Paid</td><td>2024-09-12T13:55:01.000+0000</td><td>Food & Dining</td><td>2024-09</td></tr><tr><td>519</td><td>Paid ₹20.00 to Chinnababu Tiffins using Bank Account XXXXXXXX1661 Sep 12, 2024, 8:15:11 AM GMT+05:30</td><td>Chinnababu Tiffins</td><td>20.0</td><td>Paid</td><td>2024-09-12T08:15:11.000+0000</td><td>Food & Dining</td><td>2024-09</td></tr><tr><td>520</td><td>Paid ₹34.99 to Park Hyderabad using Bank Account XXXXXXXX1661 Sep 11, 2024, 7:15:54 PM GMT+05:30</td><td>Park Hyderabad</td><td>34.99</td><td>Paid</td><td>2024-09-11T19:15:54.000+0000</td><td>Fuel & Transport</td><td>2024-09</td></tr><tr><td>521</td><td>Paid ₹30.00 to Amazon Pay using Bank Account XXXXXXXX1661 Sep 11, 2024, 5:16:58 PM GMT+05:30</td><td>Amazon Pay</td><td>30.0</td><td>Paid</td><td>2024-09-11T17:16:58.000+0000</td><td>Shopping & Retail</td><td>2024-09</td></tr><tr><td>522</td><td>Paid ₹40.00 to Amazon Pay using Bank Account XXXXXXXX1661 Sep 11, 2024, 4:56:48 PM GMT+05:30</td><td>Amazon Pay</td><td>40.0</td><td>Paid</td><td>2024-09-11T16:56:48.000+0000</td><td>Shopping & Retail</td><td>2024-09</td></tr><tr><td>525</td><td>Paid ₹65.00 to Tobox Ventures Private Limited using Bank Account XXXXXXXX1661 Sep 11, 2024, 9:24:57 AM GMT+05:30</td><td>Tobox Ventures Private Limited</td><td>65.0</td><td>Paid</td><td>2024-09-11T09:24:57.000+0000</td><td>Food & Dining</td><td>2024-09</td></tr><tr><td>527</td><td>Paid ₹65.00 to Tobox Ventures Private Limited using Bank Account XXXXXXXX1661 Sep 10, 2024, 5:05:39 PM GMT+05:30</td><td>Tobox Ventures Private Limited</td><td>65.0</td><td>Paid</td><td>2024-09-10T17:05:39.000+0000</td><td>Food & Dining</td><td>2024-09</td></tr><tr><td>529</td><td>Paid ₹94.96 to Park Hyderabad using Bank Account XXXXXXXX1661 Sep 10, 2024, 8:04:05 AM GMT+05:30</td><td>Park Hyderabad</td><td>94.96</td><td>Paid</td><td>2024-09-10T08:04:05.000+0000</td><td>Fuel & Transport</td><td>2024-09</td></tr><tr><td>531</td><td>Paid ₹54.00 to THOTA GOPAL using Bank Account XXXXXXXX1661 Sep 8, 2024, 9:31:07 PM GMT+05:30</td><td>THOTA  GOPAL</td><td>54.0</td><td>Paid</td><td>2024-09-08T21:31:07.000+0000</td><td>Other</td><td>2024-09</td></tr><tr><td>532</td><td>Sent ₹300.00 using Bank Account XXXXXXXX1661 Sep 7, 2024, 8:32:00 PM GMT+05:30</td><td></td><td>300.0</td><td>Sent</td><td>2024-09-07T20:32:00.000+0000</td><td>Other</td><td>2024-09</td></tr><tr><td>533</td><td>Paid ₹100.00 to NANDHI KESAVAN M using Bank Account XXXXXXXX1661 Sep 6, 2024, 7:25:46 PM GMT+05:30</td><td>NANDHI KESAVAN  M</td><td>100.0</td><td>Paid</td><td>2024-09-06T19:25:46.000+0000</td><td>Other</td><td>2024-09</td></tr><tr><td>534</td><td>Paid ₹20.00 to Tibbs Frankie Metro Ameerpet using Bank Account XXXXXXXX1661 Sep 6, 2024, 7:03:12 PM GMT+05:30</td><td>Tibbs Frankie Metro Ameerpet</td><td>20.0</td><td>Paid</td><td>2024-09-06T19:03:12.000+0000</td><td>Food & Dining</td><td>2024-09</td></tr><tr><td>535</td><td>Paid ₹164.00 to Tibbs Frankie Metro Ameerpet using Bank Account XXXXXXXX1661 Sep 6, 2024, 7:02:23 PM GMT+05:30</td><td>Tibbs Frankie Metro Ameerpet</td><td>164.0</td><td>Paid</td><td>2024-09-06T19:02:23.000+0000</td><td>Food & Dining</td><td>2024-09</td></tr><tr><td>536</td><td>Paid ₹150.00 to Tibbs Frankie Metro Ameerpet Sep 6, 2024, 7:02:12 PM GMT+05:30</td><td></td><td>150.0</td><td>Paid</td><td>2024-09-06T19:02:12.000+0000</td><td>Other</td><td>2024-09</td></tr><tr><td>537</td><td>Paid ₹95.00 to Amazon Pay using Bank Account XXXXXXXX1661 Sep 6, 2024, 2:33:16 PM GMT+05:30</td><td>Amazon Pay</td><td>95.0</td><td>Paid</td><td>2024-09-06T14:33:16.000+0000</td><td>Shopping & Retail</td><td>2024-09</td></tr><tr><td>540</td><td>Paid ₹24.99 to Zruti Solutions using Bank Account XXXXXXXX1661 Sep 5, 2024, 7:32:11 PM GMT+05:30</td><td>Zruti Solutions </td><td>24.99</td><td>Paid</td><td>2024-09-05T19:32:11.000+0000</td><td>Other</td><td>2024-09</td></tr><tr><td>541</td><td>Paid ₹29.00 to Amazon Pay using Bank Account XXXXXXXX1661 Sep 5, 2024, 4:21:07 PM GMT+05:30</td><td>Amazon Pay</td><td>29.0</td><td>Paid</td><td>2024-09-05T16:21:07.000+0000</td><td>Shopping & Retail</td><td>2024-09</td></tr><tr><td>542</td><td>Paid ₹40.00 to Geddit Convenience Private Limited using Bank Account XXXXXXXX1661 Sep 5, 2024, 12:39:14 PM GMT+05:30</td><td>Geddit Convenience Private Limited</td><td>40.0</td><td>Paid</td><td>2024-09-05T12:39:14.000+0000</td><td>Other</td><td>2024-09</td></tr><tr><td>544</td><td>Paid ₹65.00 to Tobox Ventures Private Limited using Bank Account XXXXXXXX1661 Sep 5, 2024, 12:34:56 PM GMT+05:30</td><td>Tobox Ventures Private Limited</td><td>65.0</td><td>Paid</td><td>2024-09-05T12:34:56.000+0000</td><td>Food & Dining</td><td>2024-09</td></tr><tr><td>546</td><td>Paid ₹20.00 to BATHINA VEERA VENKATA SATYANARAYANA using Bank Account XXXXXXXX1661 Sep 5, 2024, 8:58:52 AM GMT+05:30</td><td>BATHINA VEERA VENKATA SATYANARAYANA</td><td>20.0</td><td>Paid</td><td>2024-09-05T08:58:52.000+0000</td><td>Other</td><td>2024-09</td></tr><tr><td>547</td><td>Paid ₹50.00 using Bank Account XXXXXXXX1661 Sep 4, 2024, 7:13:08 PM GMT+05:30</td><td></td><td>50.0</td><td>Paid</td><td>2024-09-04T19:13:08.000+0000</td><td>Other</td><td>2024-09</td></tr><tr><td>548</td><td>Paid ₹45.00 to Amazon Pay using Bank Account XXXXXXXX1661 Sep 4, 2024, 1:12:30 PM GMT+05:30</td><td>Amazon Pay</td><td>45.0</td><td>Paid</td><td>2024-09-04T13:12:30.000+0000</td><td>Shopping & Retail</td><td>2024-09</td></tr><tr><td>549</td><td>Paid ₹55.00 to Amazon Pay using Bank Account XXXXXXXX1661 Sep 4, 2024, 12:46:46 PM GMT+05:30</td><td>Amazon Pay</td><td>55.0</td><td>Paid</td><td>2024-09-04T12:46:46.000+0000</td><td>Shopping & Retail</td><td>2024-09</td></tr><tr><td>551</td><td>Paid ₹10.00 to THOTA GOPAL using Bank Account XXXXXXXX1661 Sep 3, 2024, 8:32:53 PM GMT+05:30</td><td>THOTA  GOPAL</td><td>10.0</td><td>Paid</td><td>2024-09-03T20:32:53.000+0000</td><td>Other</td><td>2024-09</td></tr><tr><td>552</td><td>Paid ₹55.00 using Bank Account XXXXXXXX1661 Sep 3, 2024, 7:29:43 PM GMT+05:30</td><td></td><td>55.0</td><td>Paid</td><td>2024-09-03T19:29:43.000+0000</td><td>Other</td><td>2024-09</td></tr><tr><td>553</td><td>Paid ₹1500.00 to Habsiguda Metro Station using Bank Account XXXXXXXX1661 Sep 3, 2024, 7:24:22 PM GMT+05:30</td><td>Habsiguda Metro Station</td><td>1500.0</td><td>Paid</td><td>2024-09-03T19:24:22.000+0000</td><td>Fuel & Transport</td><td>2024-09</td></tr><tr><td>555</td><td>Paid ₹30.00 to Tobox Ventures Private Limited using Bank Account XXXXXXXX1661 Sep 3, 2024, 3:58:45 PM GMT+05:30</td><td>Tobox Ventures Private Limited</td><td>30.0</td><td>Paid</td><td>2024-09-03T15:58:45.000+0000</td><td>Food & Dining</td><td>2024-09</td></tr><tr><td>556</td><td>Paid ₹150.00 to Tobox Ventures Private Limited using Bank Account XXXXXXXX1661 Sep 3, 2024, 1:17:09 PM GMT+05:30</td><td>Tobox Ventures Private Limited</td><td>150.0</td><td>Paid</td><td>2024-09-03T13:17:09.000+0000</td><td>Food & Dining</td><td>2024-09</td></tr><tr><td>559</td><td>Paid ₹20.00 to Amazon Pay using Bank Account XXXXXXXX1661 Sep 3, 2024, 1:09:41 PM GMT+05:30</td><td>Amazon Pay</td><td>20.0</td><td>Paid</td><td>2024-09-03T13:09:41.000+0000</td><td>Shopping & Retail</td><td>2024-09</td></tr><tr><td>560</td><td>Paid ₹40.00 to Amazon Pay using Bank Account XXXXXXXX1661 Sep 3, 2024, 1:07:57 PM GMT+05:30</td><td>Amazon Pay</td><td>40.0</td><td>Paid</td><td>2024-09-03T13:07:57.000+0000</td><td>Shopping & Retail</td><td>2024-09</td></tr><tr><td>562</td><td>Paid ₹30.00 to L and T METRO RAIL HYDERABAD LIMITED using Bank Account XXXXXXXX1661 Sep 3, 2024, 7:03:37 AM GMT+05:30</td><td>L and T METRO RAIL HYDERABAD LIMITED</td><td>30.0</td><td>Paid</td><td>2024-09-03T07:03:37.000+0000</td><td>Fuel & Transport</td><td>2024-09</td></tr><tr><td>563</td><td>Sent ₹120.00 using Bank Account XXXXXXXX1661 Sep 2, 2024, 9:53:29 AM GMT+05:30</td><td></td><td>120.0</td><td>Sent</td><td>2024-09-02T09:53:29.000+0000</td><td>Other</td><td>2024-09</td></tr><tr><td>564</td><td>Paid ₹49.98 to Park Hyderabad using Bank Account XXXXXXXX1661 Sep 2, 2024, 8:13:54 AM GMT+05:30</td><td>Park Hyderabad</td><td>49.98</td><td>Paid</td><td>2024-09-02T08:13:54.000+0000</td><td>Fuel & Transport</td><td>2024-09</td></tr><tr><td>565</td><td>Paid ₹25.00 to New Balaji Mithai Bhandar using Bank Account XXXXXXXX1661 Aug 31, 2024, 7:47:43 PM GMT+05:30</td><td>New Balaji Mithai Bhandar</td><td>25.0</td><td>Paid</td><td>2024-08-31T19:47:43.000+0000</td><td>Food & Dining</td><td>2024-08</td></tr><tr><td>566</td><td>Paid ₹145.00 to New Balaji Mithai Bhandar using Bank Account XXXXXXXX1661 Aug 31, 2024, 7:15:30 PM GMT+05:30</td><td>New Balaji Mithai Bhandar</td><td>145.0</td><td>Paid</td><td>2024-08-31T19:15:30.000+0000</td><td>Food & Dining</td><td>2024-08</td></tr><tr><td>567</td><td>Paid ₹70.00 to Shiva Balaji Medical using Bank Account XXXXXXXX1661 Aug 31, 2024, 7:13:47 PM GMT+05:30</td><td>Shiva Balaji Medical</td><td>70.0</td><td>Paid</td><td>2024-08-31T19:13:47.000+0000</td><td>Health & Medical</td><td>2024-08</td></tr><tr><td>568</td><td>Paid ₹280.00 to YUMMY FRIENDZ using Bank Account XXXXXXXX1661 Aug 31, 2024, 6:44:27 PM GMT+05:30</td><td>YUMMY FRIENDZ</td><td>280.0</td><td>Paid</td><td>2024-08-31T18:44:27.000+0000</td><td>Food & Dining</td><td>2024-08</td></tr><tr><td>569</td><td>Paid ₹30.00 to NANDHI KESAVAN M using Bank Account XXXXXXXX1661 Aug 31, 2024, 6:38:35 PM GMT+05:30</td><td>NANDHI KESAVAN  M</td><td>30.0</td><td>Paid</td><td>2024-08-31T18:38:35.000+0000</td><td>Other</td><td>2024-08</td></tr><tr><td>570</td><td>Paid ₹30.00 to NANDHI KESAVAN M Aug 31, 2024, 6:38:08 PM GMT+05:30</td><td></td><td>30.0</td><td>Paid</td><td>2024-08-31T18:38:08.000+0000</td><td>Other</td><td>2024-08</td></tr><tr><td>571</td><td>Sent ₹4000.00 using Bank Account XXXXXXXX1661 Aug 31, 2024, 10:56:24 AM GMT+05:30</td><td></td><td>4000.0</td><td>Sent</td><td>2024-08-31T10:56:24.000+0000</td><td>Other</td><td>2024-08</td></tr><tr><td>572</td><td>Sent ₹4000.00 Aug 31, 2024, 10:56:08 AM GMT+05:30</td><td></td><td>4000.0</td><td>Sent</td><td>2024-08-31T10:56:08.000+0000</td><td>Other</td><td>2024-08</td></tr><tr><td>575</td><td>Paid ₹299.00 to IKEA INDIA PVT LTD using Bank Account XXXXXXXX1661 Aug 30, 2024, 2:31:30 PM GMT+05:30</td><td>IKEA INDIA PVT LTD</td><td>299.0</td><td>Paid</td><td>2024-08-30T14:31:30.000+0000</td><td>Shopping & Retail</td><td>2024-08</td></tr><tr><td>577</td><td>Paid ₹24.99 to Park Hyderabad using Bank Account XXXXXXXX1661 Aug 29, 2024, 7:26:50 PM GMT+05:30</td><td>Park Hyderabad</td><td>24.99</td><td>Paid</td><td>2024-08-29T19:26:50.000+0000</td><td>Fuel & Transport</td><td>2024-08</td></tr><tr><td>579</td><td>Paid ₹450.00 to Raidurg using Bank Account XXXXXXXX1661 Aug 28, 2024, 6:25:10 PM GMT+05:30</td><td>Raidurg</td><td>450.0</td><td>Paid</td><td>2024-08-28T18:25:10.000+0000</td><td>Other</td><td>2024-08</td></tr><tr><td>580</td><td>Paid ₹65.00 to Tobox Ventures Private Limited using Bank Account XXXXXXXX1661 Aug 28, 2024, 4:44:59 PM GMT+05:30</td><td>Tobox Ventures Private Limited</td><td>65.0</td><td>Paid</td><td>2024-08-28T16:44:59.000+0000</td><td>Food & Dining</td><td>2024-08</td></tr><tr><td>581</td><td>Paid ₹24.99 to Park Hyderabad using Bank Account XXXXXXXX1661 Aug 28, 2024, 8:44:39 AM GMT+05:30</td><td>Park Hyderabad</td><td>24.99</td><td>Paid</td><td>2024-08-28T08:44:39.000+0000</td><td>Fuel & Transport</td><td>2024-08</td></tr><tr><td>582</td><td>Paid ₹150.00 to ASHOK RAM using Bank Account XXXXXXXX1661 Aug 27, 2024, 8:04:00 PM GMT+05:30</td><td>ASHOK RAM</td><td>150.0</td><td>Paid</td><td>2024-08-27T20:04:00.000+0000</td><td>Other</td><td>2024-08</td></tr><tr><td>584</td><td>Sent ₹20.00 using Bank Account XXXXXXXX1661 Aug 26, 2024, 7:46:46 PM GMT+05:30</td><td></td><td>20.0</td><td>Sent</td><td>2024-08-26T19:46:46.000+0000</td><td>Other</td><td>2024-08</td></tr><tr><td>586</td><td>Paid ₹130.00 to Tobox Ventures Private Limited using Bank Account XXXXXXXX1661 Aug 26, 2024, 12:41:58 PM GMT+05:30</td><td>Tobox Ventures Private Limited</td><td>130.0</td><td>Paid</td><td>2024-08-26T12:41:58.000+0000</td><td>Food & Dining</td><td>2024-08</td></tr><tr><td>587</td><td>Paid ₹130.00 to Tobox Ventures Private Limited using Bank Account XXXXXXXX1661 Aug 26, 2024, 12:40:38 PM GMT+05:30</td><td>Tobox Ventures Private Limited</td><td>130.0</td><td>Paid</td><td>2024-08-26T12:40:38.000+0000</td><td>Food & Dining</td><td>2024-08</td></tr><tr><td>588</td><td>Sent ₹70.00 using Bank Account XXXXXXXX1661 Aug 26, 2024, 8:08:06 AM GMT+05:30</td><td></td><td>70.0</td><td>Sent</td><td>2024-08-26T08:08:06.000+0000</td><td>Other</td><td>2024-08</td></tr><tr><td>590</td><td>Paid ₹300.00 to BADAMI LAKSMIKANTH using Bank Account XXXXXXXX1661 Aug 25, 2024, 8:25:35 PM GMT+05:30</td><td>BADAMI LAKSMIKANTH</td><td>300.0</td><td>Paid</td><td>2024-08-25T20:25:35.000+0000</td><td>Other</td><td>2024-08</td></tr><tr><td>592</td><td>Paid ₹20.00 using Bank Account XXXXXXXX1661 Aug 25, 2024, 12:37:14 PM GMT+05:30</td><td></td><td>20.0</td><td>Paid</td><td>2024-08-25T12:37:14.000+0000</td><td>Other</td><td>2024-08</td></tr><tr><td>593</td><td>Sent ₹450.00 using Bank Account XXXXXXXX1661 Aug 25, 2024, 11:45:19 AM GMT+05:30</td><td></td><td>450.0</td><td>Sent</td><td>2024-08-25T11:45:19.000+0000</td><td>Other</td><td>2024-08</td></tr><tr><td>594</td><td>Paid ₹59.00 to Habsiguda Metro Station using Bank Account XXXXXXXX1661 Aug 25, 2024, 9:12:26 AM GMT+05:30</td><td>Habsiguda Metro Station</td><td>59.0</td><td>Paid</td><td>2024-08-25T09:12:26.000+0000</td><td>Fuel & Transport</td><td>2024-08</td></tr><tr><td>595</td><td>Paid ₹35.00 to Marella Tejaswi using Bank Account XXXXXXXX1661 Aug 25, 2024, 8:40:56 AM GMT+05:30</td><td>Marella Tejaswi</td><td>35.0</td><td>Paid</td><td>2024-08-25T08:40:56.000+0000</td><td>Other</td><td>2024-08</td></tr><tr><td>596</td><td>Paid ₹30.00 to Mr K Shiva Sai Goud using Bank Account XXXXXXXX1661 Aug 25, 2024, 8:39:12 AM GMT+05:30</td><td>Mr K Shiva Sai Goud</td><td>30.0</td><td>Paid</td><td>2024-08-25T08:39:12.000+0000</td><td>Other</td><td>2024-08</td></tr><tr><td>597</td><td>Paid ₹24.99 to Park Hyderabad using Bank Account XXXXXXXX1661 Aug 24, 2024, 9:26:00 PM GMT+05:30</td><td>Park Hyderabad</td><td>24.99</td><td>Paid</td><td>2024-08-24T21:26:00.000+0000</td><td>Fuel & Transport</td><td>2024-08</td></tr><tr><td>598</td><td>Paid ₹500.00 using Bank Account XXXXXXXX1661 Aug 24, 2024, 9:22:00 PM GMT+05:30</td><td></td><td>500.0</td><td>Paid</td><td>2024-08-24T21:22:00.000+0000</td><td>Other</td><td>2024-08</td></tr><tr><td>600</td><td>Paid ₹56.14 to Zepto using Bank Account XXXXXXXX1661 Aug 24, 2024, 5:40:24 PM GMT+05:30</td><td>Zepto</td><td>56.14</td><td>Paid</td><td>2024-08-24T17:40:24.000+0000</td><td>Groceries</td><td>2024-08</td></tr><tr><td>601</td><td>Paid ₹56.14 to Zepto using Bank Account XXXXXXXX1661 Aug 24, 2024, 5:39:41 PM GMT+05:30</td><td>Zepto</td><td>56.14</td><td>Paid</td><td>2024-08-24T17:39:41.000+0000</td><td>Groceries</td><td>2024-08</td></tr><tr><td>606</td><td>Paid ₹50.00 to SHANDAAR ARABIAN RES using Bank Account XXXXXXXX1661 Aug 24, 2024, 3:23:40 PM GMT+05:30</td><td>SHANDAAR ARABIAN RES</td><td>50.0</td><td>Paid</td><td>2024-08-24T15:23:40.000+0000</td><td>Food & Dining</td><td>2024-08</td></tr><tr><td>607</td><td>Paid ₹20.00 to SR FOODS using Bank Account XXXXXXXX1661 Aug 24, 2024, 1:11:46 PM GMT+05:30</td><td>SR FOODS</td><td>20.0</td><td>Paid</td><td>2024-08-24T13:11:46.000+0000</td><td>Food & Dining</td><td>2024-08</td></tr><tr><td>608</td><td>Paid ₹5.00 to klcbooks and stationary using Bank Account XXXXXXXX1661 Aug 24, 2024, 12:34:44 PM GMT+05:30</td><td>klcbooks and stationary</td><td>5.0</td><td>Paid</td><td>2024-08-24T12:34:44.000+0000</td><td>Fuel & Transport</td><td>2024-08</td></tr><tr><td>609</td><td>Paid ₹35.00 to Marella Tejaswi using Bank Account XXXXXXXX1661 Aug 24, 2024, 9:55:46 AM GMT+05:30</td><td>Marella Tejaswi</td><td>35.0</td><td>Paid</td><td>2024-08-24T09:55:46.000+0000</td><td>Other</td><td>2024-08</td></tr><tr><td>610</td><td>Paid ₹46.00 to THOTA GOPAL using Bank Account XXXXXXXX1661 Aug 23, 2024, 8:20:03 PM GMT+05:30</td><td>THOTA  GOPAL</td><td>46.0</td><td>Paid</td><td>2024-08-23T20:20:03.000+0000</td><td>Other</td><td>2024-08</td></tr><tr><td>611</td><td>Paid ₹170.00 to Gelli Venkata Sagar using Bank Account XXXXXXXX1661 Aug 23, 2024, 1:47:17 PM GMT+05:30</td><td>Gelli Venkata Sagar</td><td>170.0</td><td>Paid</td><td>2024-08-23T13:47:17.000+0000</td><td>Other</td><td>2024-08</td></tr><tr><td>612</td><td>Paid ₹20.00 to Vasamsetti Srinu using Bank Account XXXXXXXX1661 Aug 23, 2024, 9:07:43 AM GMT+05:30</td><td>Vasamsetti Srinu</td><td>20.0</td><td>Paid</td><td>2024-08-23T09:07:43.000+0000</td><td>Other</td><td>2024-08</td></tr><tr><td>613</td><td>Paid ₹24.99 to Park Hyderabad using Bank Account XXXXXXXX1661 Aug 22, 2024, 7:53:40 PM GMT+05:30</td><td>Park Hyderabad</td><td>24.99</td><td>Paid</td><td>2024-08-22T19:53:40.000+0000</td><td>Fuel & Transport</td><td>2024-08</td></tr><tr><td>614</td><td>Sent ₹5.00 using Bank Account XXXXXXXX1661 Aug 22, 2024, 2:09:40 PM GMT+05:30</td><td></td><td>5.0</td><td>Sent</td><td>2024-08-22T14:09:40.000+0000</td><td>Other</td><td>2024-08</td></tr><tr><td>615</td><td>Sent ₹60.00 using Bank Account XXXXXXXX1661 Aug 22, 2024, 2:08:58 PM GMT+05:30</td><td></td><td>60.0</td><td>Sent</td><td>2024-08-22T14:08:58.000+0000</td><td>Other</td><td>2024-08</td></tr><tr><td>616</td><td>Paid ₹5.00 to Amazon Pay using Bank Account XXXXXXXX1661 Aug 22, 2024, 1:12:47 PM GMT+05:30</td><td>Amazon Pay</td><td>5.0</td><td>Paid</td><td>2024-08-22T13:12:47.000+0000</td><td>Shopping & Retail</td><td>2024-08</td></tr><tr><td>617</td><td>Paid ₹50.00 to Amazon Pay using Bank Account XXXXXXXX1661 Aug 22, 2024, 11:15:54 AM GMT+05:30</td><td>Amazon Pay</td><td>50.0</td><td>Paid</td><td>2024-08-22T11:15:54.000+0000</td><td>Shopping & Retail</td><td>2024-08</td></tr><tr><td>620</td><td>Paid ₹20.00 to Vasamsetti Srinu using Bank Account XXXXXXXX1661 Aug 22, 2024, 9:08:22 AM GMT+05:30</td><td>Vasamsetti Srinu</td><td>20.0</td><td>Paid</td><td>2024-08-22T09:08:22.000+0000</td><td>Other</td><td>2024-08</td></tr><tr><td>622</td><td>Paid ₹100.00 to Amazon Pay using Bank Account XXXXXXXX1661 Aug 21, 2024, 11:39:49 AM GMT+05:30</td><td>Amazon Pay</td><td>100.0</td><td>Paid</td><td>2024-08-21T11:39:49.000+0000</td><td>Shopping & Retail</td><td>2024-08</td></tr><tr><td>625</td><td>Paid ₹100.00 to Amazon Pay using Bank Account XXXXXXXX1661 Aug 21, 2024, 11:32:31 AM GMT+05:30</td><td>Amazon Pay</td><td>100.0</td><td>Paid</td><td>2024-08-21T11:32:31.000+0000</td><td>Shopping & Retail</td><td>2024-08</td></tr><tr><td>626</td><td>Paid ₹24.99 to Park Hyderabad using Bank Account XXXXXXXX1661 Aug 21, 2024, 8:05:58 AM GMT+05:30</td><td>Park Hyderabad</td><td>24.99</td><td>Paid</td><td>2024-08-21T08:05:58.000+0000</td><td>Fuel & Transport</td><td>2024-08</td></tr><tr><td>627</td><td>Paid ₹10.00 to SIRI SUPRABHAT HOTEL using Bank Account XXXXXXXX1661 Aug 20, 2024, 8:01:40 PM GMT+05:30</td><td>SIRI SUPRABHAT HOTEL</td><td>10.0</td><td>Paid</td><td>2024-08-20T20:01:40.000+0000</td><td>Food & Dining</td><td>2024-08</td></tr><tr><td>628</td><td>Paid ₹24.99 to Park Hyderabad using Bank Account XXXXXXXX1661 Aug 20, 2024, 7:57:35 PM GMT+05:30</td><td>Park Hyderabad</td><td>24.99</td><td>Paid</td><td>2024-08-20T19:57:35.000+0000</td><td>Fuel & Transport</td><td>2024-08</td></tr><tr><td>629</td><td>Paid ₹30.00 to Dinesh Kumar using Bank Account XXXXXXXX1661 Aug 20, 2024, 6:24:47 PM GMT+05:30</td><td>Dinesh Kumar</td><td>30.0</td><td>Paid</td><td>2024-08-20T18:24:47.000+0000</td><td>Other</td><td>2024-08</td></tr><tr><td>630</td><td>Paid ₹45.00 to Amazon Pay using Bank Account XXXXXXXX1661 Aug 20, 2024, 3:22:53 PM GMT+05:30</td><td>Amazon Pay</td><td>45.0</td><td>Paid</td><td>2024-08-20T15:22:53.000+0000</td><td>Shopping & Retail</td><td>2024-08</td></tr><tr><td>631</td><td>Paid ₹15.00 to Amazon Pay using Bank Account XXXXXXXX1661 Aug 20, 2024, 1:15:21 PM GMT+05:30</td><td>Amazon Pay</td><td>15.0</td><td>Paid</td><td>2024-08-20T13:15:21.000+0000</td><td>Shopping & Retail</td><td>2024-08</td></tr><tr><td>632</td><td>Paid ₹40.00 to Amazon Pay using Bank Account XXXXXXXX1661 Aug 20, 2024, 11:58:22 AM GMT+05:30</td><td>Amazon Pay</td><td>40.0</td><td>Paid</td><td>2024-08-20T11:58:22.000+0000</td><td>Shopping & Retail</td><td>2024-08</td></tr><tr><td>633</td><td>Sent ₹277.00 using Bank Account XXXXXXXX1661 Aug 20, 2024, 8:19:12 AM GMT+05:30</td><td></td><td>277.0</td><td>Sent</td><td>2024-08-20T08:19:12.000+0000</td><td>Other</td><td>2024-08</td></tr><tr><td>635</td><td>Paid ₹20.00 to Bbinstant using Bank Account XXXXXXXX1661 Aug 19, 2024, 7:32:20 PM GMT+05:30</td><td>Bbinstant</td><td>20.0</td><td>Paid</td><td>2024-08-19T19:32:20.000+0000</td><td>Food & Dining</td><td>2024-08</td></tr><tr><td>636</td><td>Paid ₹500.00 to Habsiguda Metro Station using Bank Account XXXXXXXX1661 Aug 19, 2024, 7:05:21 PM GMT+05:30</td><td>Habsiguda Metro Station</td><td>500.0</td><td>Paid</td><td>2024-08-19T19:05:21.000+0000</td><td>Fuel & Transport</td><td>2024-08</td></tr><tr><td>637</td><td>Paid ₹40.00 to bbinstant using Bank Account XXXXXXXX1661 Aug 19, 2024, 5:18:45 PM GMT+05:30</td><td>bbinstant</td><td>40.0</td><td>Paid</td><td>2024-08-19T17:18:45.000+0000</td><td>Food & Dining</td><td>2024-08</td></tr><tr><td>638</td><td>Paid ₹20.00 to Bbinstant using Bank Account XXXXXXXX1661 Aug 19, 2024, 5:17:29 PM GMT+05:30</td><td>Bbinstant</td><td>20.0</td><td>Paid</td><td>2024-08-19T17:17:29.000+0000</td><td>Food & Dining</td><td>2024-08</td></tr><tr><td>639</td><td>Paid ₹30.00 to Amazon Pay using Bank Account XXXXXXXX1661 Aug 19, 2024, 12:39:37 PM GMT+05:30</td><td>Amazon Pay</td><td>30.0</td><td>Paid</td><td>2024-08-19T12:39:37.000+0000</td><td>Shopping & Retail</td><td>2024-08</td></tr><tr><td>640</td><td>Paid ₹24.99 to Park Hyderabad using Bank Account XXXXXXXX1661 Aug 19, 2024, 8:01:48 AM GMT+05:30</td><td>Park Hyderabad</td><td>24.99</td><td>Paid</td><td>2024-08-19T08:01:48.000+0000</td><td>Fuel & Transport</td><td>2024-08</td></tr><tr><td>641</td><td>Paid ₹34.99 to Park Hyderabad using Bank Account XXXXXXXX1661 Aug 19, 2024, 7:59:04 AM GMT+05:30</td><td>Park Hyderabad</td><td>34.99</td><td>Paid</td><td>2024-08-19T07:59:04.000+0000</td><td>Fuel & Transport</td><td>2024-08</td></tr><tr><td>642</td><td>Paid ₹10.00 to THOTA GOPAL using Bank Account XXXXXXXX1661 Aug 19, 2024, 7:29:41 AM GMT+05:30</td><td>THOTA  GOPAL</td><td>10.0</td><td>Paid</td><td>2024-08-19T07:29:41.000+0000</td><td>Other</td><td>2024-08</td></tr><tr><td>643</td><td>Paid ₹470.00 to PASHAM LINGAREDDY using Bank Account XXXXXXXX1661 Aug 18, 2024, 5:29:27 PM GMT+05:30</td><td>PASHAM LINGAREDDY</td><td>470.0</td><td>Paid</td><td>2024-08-18T17:29:27.000+0000</td><td>Other</td><td>2024-08</td></tr><tr><td>644</td><td>Paid ₹79.00 to PISTA HOUSE using Bank Account XXXXXXXX1661 Aug 18, 2024, 4:19:52 PM GMT+05:30</td><td>PISTA HOUSE</td><td>79.0</td><td>Paid</td><td>2024-08-18T16:19:52.000+0000</td><td>Food & Dining</td><td>2024-08</td></tr><tr><td>645</td><td>Paid ₹60.00 using Bank Account XXXXXXXX1661 Aug 18, 2024, 3:39:31 PM GMT+05:30</td><td></td><td>60.0</td><td>Paid</td><td>2024-08-18T15:39:31.000+0000</td><td>Other</td><td>2024-08</td></tr><tr><td>646</td><td>Paid ₹50.00 to THOTA GOPAL using Bank Account XXXXXXXX1661 Aug 18, 2024, 10:35:33 AM GMT+05:30</td><td>THOTA  GOPAL</td><td>50.0</td><td>Paid</td><td>2024-08-18T10:35:33.000+0000</td><td>Other</td><td>2024-08</td></tr><tr><td>647</td><td>Paid ₹40.00 to THOTA GOPAL using Bank Account XXXXXXXX1661 Aug 18, 2024, 7:10:06 AM GMT+05:30</td><td>THOTA  GOPAL</td><td>40.0</td><td>Paid</td><td>2024-08-18T07:10:06.000+0000</td><td>Other</td><td>2024-08</td></tr><tr><td>648</td><td>Paid ₹34.99 to Park Hyderabad using Bank Account XXXXXXXX1661 Aug 12, 2024, 7:27:06 PM GMT+05:30</td><td>Park Hyderabad</td><td>34.99</td><td>Paid</td><td>2024-08-12T19:27:06.000+0000</td><td>Fuel & Transport</td><td>2024-08</td></tr><tr><td>649</td><td>Paid ₹34.99 to Park Hyderabad Aug 12, 2024, 7:26:55 PM GMT+05:30</td><td></td><td>34.99</td><td>Paid</td><td>2024-08-12T19:26:55.000+0000</td><td>Other</td><td>2024-08</td></tr><tr><td>650</td><td>Paid ₹80.00 using Bank Account XXXXXXXX1661 Aug 11, 2024, 7:46:23 PM GMT+05:30</td><td></td><td>80.0</td><td>Paid</td><td>2024-08-11T19:46:23.000+0000</td><td>Other</td><td>2024-08</td></tr><tr><td>652</td><td>Paid ₹89.00 to Amazon Pay using Bank Account XXXXXXXX1661 Aug 8, 2024, 2:26:44 PM GMT+05:30</td><td>Amazon Pay</td><td>89.0</td><td>Paid</td><td>2024-08-08T14:26:44.000+0000</td><td>Shopping & Retail</td><td>2024-08</td></tr><tr><td>655</td><td>Sent ₹25.00 using Bank Account XXXXXXXX1661 Aug 5, 2024, 7:16:51 PM GMT+05:30</td><td></td><td>25.0</td><td>Sent</td><td>2024-08-05T19:16:51.000+0000</td><td>Other</td><td>2024-08</td></tr><tr><td>656</td><td>Paid ₹120.00 to SREE GEETA EATS AND using Bank Account XXXXXXXX1661 Aug 4, 2024, 2:21:52 PM GMT+05:30</td><td>SREE GEETA EATS AND</td><td>120.0</td><td>Paid</td><td>2024-08-04T14:21:52.000+0000</td><td>Food & Dining</td><td>2024-08</td></tr><tr><td>660</td><td>Paid ₹240.00 using Bank Account XXXXXXXX1661 Aug 2, 2024, 7:45:37 PM GMT+05:30</td><td></td><td>240.0</td><td>Paid</td><td>2024-08-02T19:45:37.000+0000</td><td>Other</td><td>2024-08</td></tr><tr><td>662</td><td>Paid ₹20.00 to Amazon Pay using Bank Account XXXXXXXX1661 Aug 2, 2024, 4:28:24 PM GMT+05:30</td><td>Amazon Pay</td><td>20.0</td><td>Paid</td><td>2024-08-02T16:28:24.000+0000</td><td>Shopping & Retail</td><td>2024-08</td></tr><tr><td>665</td><td>Paid ₹20.00 to Amazon Pay using Bank Account XXXXXXXX1661 Aug 2, 2024, 4:24:48 PM GMT+05:30</td><td>Amazon Pay</td><td>20.0</td><td>Paid</td><td>2024-08-02T16:24:48.000+0000</td><td>Shopping & Retail</td><td>2024-08</td></tr><tr><td>666</td><td>Paid ₹20.00 to Amazon Pay using Bank Account XXXXXXXX1661 Aug 2, 2024, 4:21:28 PM GMT+05:30</td><td>Amazon Pay</td><td>20.0</td><td>Paid</td><td>2024-08-02T16:21:28.000+0000</td><td>Shopping & Retail</td><td>2024-08</td></tr><tr><td>667</td><td>Paid ₹20.00 to Amazon Pay using Bank Account XXXXXXXX1661 Aug 2, 2024, 4:18:26 PM GMT+05:30</td><td>Amazon Pay</td><td>20.0</td><td>Paid</td><td>2024-08-02T16:18:26.000+0000</td><td>Shopping & Retail</td><td>2024-08</td></tr><tr><td>668</td><td>Sent ₹1600.00 using Bank Account XXXXXXXX1661 Aug 1, 2024, 9:53:43 PM GMT+05:30</td><td></td><td>1600.0</td><td>Sent</td><td>2024-08-01T21:53:43.000+0000</td><td>Other</td><td>2024-08</td></tr><tr><td>671</td><td>Sent ₹1300.00 using Bank Account XXXXXXXX1661 Aug 1, 2024, 2:26:01 PM GMT+05:30</td><td></td><td>1300.0</td><td>Sent</td><td>2024-08-01T14:26:01.000+0000</td><td>Other</td><td>2024-08</td></tr><tr><td>672</td><td>Sent ₹100.00 using Bank Account XXXXXXXX1661 Aug 1, 2024, 2:25:42 PM GMT+05:30</td><td></td><td>100.0</td><td>Sent</td><td>2024-08-01T14:25:42.000+0000</td><td>Other</td><td>2024-08</td></tr><tr><td>673</td><td>Sent ₹100.00 using Bank Account XXXXXXXX1661 Aug 1, 2024, 2:25:33 PM GMT+05:30</td><td></td><td>100.0</td><td>Sent</td><td>2024-08-01T14:25:33.000+0000</td><td>Other</td><td>2024-08</td></tr><tr><td>674</td><td>Sent ₹100.00 using Bank Account XXXXXXXX1661 Aug 1, 2024, 2:24:35 PM GMT+05:30</td><td></td><td>100.0</td><td>Sent</td><td>2024-08-01T14:24:35.000+0000</td><td>Other</td><td>2024-08</td></tr><tr><td>676</td><td>Paid ₹130.00 to Amazon Pay using Bank Account XXXXXXXX1661 Aug 1, 2024, 1:55:02 PM GMT+05:30</td><td>Amazon Pay</td><td>130.0</td><td>Paid</td><td>2024-08-01T13:55:02.000+0000</td><td>Shopping & Retail</td><td>2024-08</td></tr><tr><td>679</td><td>Paid ₹10.00 to Amazon Pay using Bank Account XXXXXXXX1661 Aug 1, 2024, 1:11:46 PM GMT+05:30</td><td>Amazon Pay</td><td>10.0</td><td>Paid</td><td>2024-08-01T13:11:46.000+0000</td><td>Shopping & Retail</td><td>2024-08</td></tr><tr><td>680</td><td>Paid ₹1300.00 to VK MULTI BRAND FOOTWEAR using Bank Account XXXXXXXX1661 Aug 1, 2024, 9:42:58 AM GMT+05:30</td><td>VK MULTI BRAND FOOTWEAR</td><td>1300.0</td><td>Paid</td><td>2024-08-01T09:42:58.000+0000</td><td>Shopping & Retail</td><td>2024-08</td></tr><tr><td>682</td><td>Sent ₹90.00 using Bank Account XXXXXXXX1661 Aug 1, 2024, 7:35:13 AM GMT+05:30</td><td></td><td>90.0</td><td>Sent</td><td>2024-08-01T07:35:13.000+0000</td><td>Other</td><td>2024-08</td></tr><tr><td>684</td><td>Paid ₹40.00 to NEW BALAJI MITHAI BHANDAR using Bank Account XXXXXXXX1661 Jul 31, 2024, 10:43:53 PM GMT+05:30</td><td>NEW BALAJI MITHAI BHANDAR</td><td>40.0</td><td>Paid</td><td>2024-07-31T22:43:53.000+0000</td><td>Food & Dining</td><td>2024-07</td></tr><tr><td>686</td><td>Paid ₹40.00 to Phaseer Rahman using Bank Account XXXXXXXX1661 Jul 31, 2024, 8:14:35 PM GMT+05:30</td><td>Phaseer Rahman</td><td>40.0</td><td>Paid</td><td>2024-07-31T20:14:35.000+0000</td><td>Other</td><td>2024-07</td></tr><tr><td>689</td><td>Paid ₹104.00 to Tibbs Frankie Lnt Metro Uppal using Bank Account XXXXXXXX1661 Jul 29, 2024, 7:42:28 PM GMT+05:30</td><td>Tibbs Frankie Lnt Metro Uppal</td><td>104.0</td><td>Paid</td><td>2024-07-29T19:42:28.000+0000</td><td>Food & Dining</td><td>2024-07</td></tr><tr><td>693</td><td>Paid ₹20.00 to SREE GEETA EATS AND using Bank Account XXXXXXXX1661 Jul 27, 2024, 4:26:02 PM GMT+05:30</td><td>SREE GEETA EATS AND</td><td>20.0</td><td>Paid</td><td>2024-07-27T16:26:02.000+0000</td><td>Food & Dining</td><td>2024-07</td></tr><tr><td>694</td><td>Paid ₹80.00 to SREE GEETA EATS AND using Bank Account XXXXXXXX1661 Jul 27, 2024, 4:25:21 PM GMT+05:30</td><td>SREE GEETA EATS AND</td><td>80.0</td><td>Paid</td><td>2024-07-27T16:25:21.000+0000</td><td>Food & Dining</td><td>2024-07</td></tr><tr><td>695</td><td>Paid ₹2000.00 using Bank Account XXXXXXXX1661 Jul 27, 2024, 4:05:11 PM GMT+05:30</td><td></td><td>2000.0</td><td>Paid</td><td>2024-07-27T16:05:11.000+0000</td><td>Other</td><td>2024-07</td></tr><tr><td>696</td><td>Paid ₹2000.00 Jul 27, 2024, 4:03:26 PM GMT+05:30</td><td></td><td>2000.0</td><td>Paid</td><td>2024-07-27T16:03:26.000+0000</td><td>Other</td><td>2024-07</td></tr><tr><td>699</td><td>Paid ₹10.00 to BANDHI KANAKARAJ using Bank Account XXXXXXXX1661 Jul 23, 2024, 12:43:20 PM GMT+05:30</td><td>BANDHI KANAKARAJ</td><td>10.0</td><td>Paid</td><td>2024-07-23T12:43:20.000+0000</td><td>Other</td><td>2024-07</td></tr><tr><td>700</td><td>Sent ₹100.00 using Bank Account XXXXXXXX1661 Jul 23, 2024, 12:31:43 PM GMT+05:30</td><td></td><td>100.0</td><td>Sent</td><td>2024-07-23T12:31:43.000+0000</td><td>Other</td><td>2024-07</td></tr><tr><td>701</td><td>Paid ₹80.00 using Bank Account XXXXXXXX1661 Jul 22, 2024, 7:04:17 PM GMT+05:30</td><td></td><td>80.0</td><td>Paid</td><td>2024-07-22T19:04:17.000+0000</td><td>Other</td><td>2024-07</td></tr><tr><td>702</td><td>Sent ₹50.00 using Bank Account XXXXXXXX1661 Jul 22, 2024, 5:38:55 PM GMT+05:30</td><td></td><td>50.0</td><td>Sent</td><td>2024-07-22T17:38:55.000+0000</td><td>Other</td><td>2024-07</td></tr><tr><td>704</td><td>Paid ₹811.00 to Bundl Technologies pvt Ltd using Bank Account XXXXXXXX1661 Jul 21, 2024, 11:35:15 PM GMT+05:30</td><td>Bundl Technologies pvt Ltd</td><td>811.0</td><td>Paid</td><td>2024-07-21T23:35:15.000+0000</td><td>Other</td><td>2024-07</td></tr><tr><td>705</td><td>Paid ₹811.00 to Bundl Technologies pvt Ltd using Bank Account XXXXXXXX1661 Jul 21, 2024, 11:34:46 PM GMT+05:30</td><td>Bundl Technologies pvt Ltd</td><td>811.0</td><td>Paid</td><td>2024-07-21T23:34:46.000+0000</td><td>Other</td><td>2024-07</td></tr><tr><td>706</td><td>Paid ₹820.00 using Bank Account XXXXXX1661 Jul 21, 2024, 11:33:47 PM GMT+05:30</td><td></td><td>820.0</td><td>Paid</td><td>2024-07-21T23:33:47.000+0000</td><td>Other</td><td>2024-07</td></tr><tr><td>707</td><td>Paid ₹10.00 using Bank Account XXXXXX1661 Jul 21, 2024, 10:01:58 PM GMT+05:30</td><td></td><td>10.0</td><td>Paid</td><td>2024-07-21T22:01:58.000+0000</td><td>Other</td><td>2024-07</td></tr><tr><td>708</td><td>Sent ₹99.00 using Bank Account XXXXXXXX1661 Jul 21, 2024, 3:13:55 PM GMT+05:30</td><td></td><td>99.0</td><td>Sent</td><td>2024-07-21T15:13:55.000+0000</td><td>Other</td><td>2024-07</td></tr><tr><td>711</td><td>Sent ₹1000.00 using Bank Account XXXXXXXX1661 Jul 19, 2024, 10:13:55 PM GMT+05:30</td><td></td><td>1000.0</td><td>Sent</td><td>2024-07-19T22:13:55.000+0000</td><td>Other</td><td>2024-07</td></tr><tr><td>712</td><td>Paid ₹1000.00 Jul 19, 2024, 10:13:31 PM GMT+05:30</td><td></td><td>1000.0</td><td>Paid</td><td>2024-07-19T22:13:31.000+0000</td><td>Other</td><td>2024-07</td></tr><tr><td>715</td><td>Paid ₹944.00 to ZOLOSTAYS PROPERTY S using Bank Account XXXXXXXX1661 Jul 17, 2024, 2:23:44 PM GMT+05:30</td><td>ZOLOSTAYS PROPERTY S</td><td>944.0</td><td>Paid</td><td>2024-07-17T14:23:44.000+0000</td><td>Investment</td><td>2024-07</td></tr><tr><td>719</td><td>Paid ₹944.00 to ZOLOSTAYS PROPERTY S using Bank Account XXXXXXXX1661 Jul 16, 2024, 12:12:51 PM GMT+05:30</td><td>ZOLOSTAYS PROPERTY S</td><td>944.0</td><td>Paid</td><td>2024-07-16T12:12:51.000+0000</td><td>Investment</td><td>2024-07</td></tr><tr><td>720</td><td>Paid ₹1180.00 to ZOLOSTAYS PROPERTY S Jul 16, 2024, 12:11:22 PM GMT+05:30</td><td></td><td>1180.0</td><td>Paid</td><td>2024-07-16T12:11:22.000+0000</td><td>Other</td><td>2024-07</td></tr><tr><td>722</td><td>Paid ₹53.00 to Naresh Sattaiha Govindula using Bank Account XXXXXXXX1661 Jul 15, 2024, 7:21:36 PM GMT+05:30</td><td>Naresh Sattaiha Govindula</td><td>53.0</td><td>Paid</td><td>2024-07-15T19:21:36.000+0000</td><td>Food & Dining</td><td>2024-07</td></tr><tr><td>723</td><td>Paid ₹151.00 using Bank Account XXXXXXXX1661 Jul 15, 2024, 3:35:49 PM GMT+05:30</td><td></td><td>151.0</td><td>Paid</td><td>2024-07-15T15:35:49.000+0000</td><td>Other</td><td>2024-07</td></tr><tr><td>724</td><td>Paid ₹200.00 using Bank Account XXXXXX1661 Jul 14, 2024, 8:49:48 AM GMT+05:30</td><td></td><td>200.0</td><td>Paid</td><td>2024-07-14T08:49:48.000+0000</td><td>Other</td><td>2024-07</td></tr><tr><td>726</td><td>Sent ₹60.00 using Bank Account XXXXXXXX1661 Jul 12, 2024, 9:06:35 PM GMT+05:30</td><td></td><td>60.0</td><td>Sent</td><td>2024-07-12T21:06:35.000+0000</td><td>Other</td><td>2024-07</td></tr><tr><td>728</td><td>Paid ₹20.00 to KAVALE SANJU KUMAR using Bank Account XXXXXXXX1661 Jul 9, 2024, 8:54:23 PM GMT+05:30</td><td>KAVALE SANJU KUMAR</td><td>20.0</td><td>Paid</td><td>2024-07-09T20:54:23.000+0000</td><td>Other</td><td>2024-07</td></tr><tr><td>729</td><td>Paid ₹80.00 to VIJAY YADAV using Bank Account XXXXXXXX1661 Jul 8, 2024, 12:20:12 PM GMT+05:30</td><td>VIJAY  YADAV</td><td>80.0</td><td>Paid</td><td>2024-07-08T12:20:12.000+0000</td><td>Other</td><td>2024-07</td></tr><tr><td>730</td><td>Sent ₹1000.00 using Bank Account XXXXXXXX1661 Jul 8, 2024, 9:46:24 AM GMT+05:30</td><td></td><td>1000.0</td><td>Sent</td><td>2024-07-08T09:46:24.000+0000</td><td>Other</td><td>2024-07</td></tr><tr><td>735</td><td>Sent ₹130.00 using Bank Account XXXXXXXX1661 Jun 29, 2024, 10:11:26 PM GMT+05:30</td><td></td><td>130.0</td><td>Sent</td><td>2024-06-29T22:11:26.000+0000</td><td>Other</td><td>2024-06</td></tr><tr><td>736</td><td>Sent ₹130.00 using Bank Account XXXXXXXX1661 Jun 29, 2024, 10:11:16 PM GMT+05:30</td><td></td><td>130.0</td><td>Sent</td><td>2024-06-29T22:11:16.000+0000</td><td>Other</td><td>2024-06</td></tr><tr><td>739</td><td>Paid ₹20.00 to NEW DOLPHIN using Bank Account XXXXXXXX1661 Jun 27, 2024, 9:47:11 PM GMT+05:30</td><td>NEW DOLPHIN</td><td>20.0</td><td>Paid</td><td>2024-06-27T21:47:11.000+0000</td><td>Food & Dining</td><td>2024-06</td></tr><tr><td>740</td><td>Paid ₹10.00 to Paytm Metro Payment using Bank Account XXXXXXXX1661 Jun 27, 2024, 9:31:00 PM GMT+05:30</td><td>Paytm Metro Payment</td><td>10.0</td><td>Paid</td><td>2024-06-27T21:31:00.000+0000</td><td>Fuel & Transport</td><td>2024-06</td></tr><tr><td>741</td><td>Sent ₹60.00 using Bank Account XXXXXXXX1661 Jun 27, 2024, 6:02:59 PM GMT+05:30</td><td></td><td>60.0</td><td>Sent</td><td>2024-06-27T18:02:59.000+0000</td><td>Other</td><td>2024-06</td></tr><tr><td>744</td><td>Paid ₹40.00 to Mukesh Choudhari using Bank Account XXXXXXXX1661 Jun 24, 2024, 10:06:54 PM GMT+05:30</td><td>Mukesh Choudhari</td><td>40.0</td><td>Paid</td><td>2024-06-24T22:06:54.000+0000</td><td>Other</td><td>2024-06</td></tr><tr><td>754</td><td>Sent ₹6293.00 using Bank Account XXXXXXXX1661 Jun 1, 2024, 12:28:09 PM GMT+05:30</td><td></td><td>6293.0</td><td>Sent</td><td>2024-06-01T12:28:09.000+0000</td><td>Other</td><td>2024-06</td></tr><tr><td>757</td><td>Paid ₹110.00 to PILLI VENU using Bank Account XXXXXXXX1661 May 30, 2024, 4:27:23 PM GMT+05:30</td><td>PILLI  VENU</td><td>110.0</td><td>Paid</td><td>2024-05-30T16:27:23.000+0000</td><td>Other</td><td>2024-05</td></tr><tr><td>759</td><td>Paid ₹400.00 to Luckys Biryani House using Bank Account XXXXXXXX1661 May 26, 2024, 1:21:30 PM GMT+05:30</td><td>Luckys Biryani House</td><td>400.0</td><td>Paid</td><td>2024-05-26T13:21:30.000+0000</td><td>Food & Dining</td><td>2024-05</td></tr><tr><td>761</td><td>Sent ₹1600.00 using Bank Account XXXXXXXX1661 May 25, 2024, 6:00:47 PM GMT+05:30</td><td></td><td>1600.0</td><td>Sent</td><td>2024-05-25T18:00:47.000+0000</td><td>Other</td><td>2024-05</td></tr><tr><td>765</td><td>Paid ₹5.00 to Sunitha Sankhla using Bank Account XXXXXXXX1661 May 16, 2024, 8:11:12 PM GMT+05:30</td><td>Sunitha Sankhla</td><td>5.0</td><td>Paid</td><td>2024-05-16T20:11:12.000+0000</td><td>Other</td><td>2024-05</td></tr><tr><td>766</td><td>Paid ₹155.00 to Sunitha Sankhla using Bank Account XXXXXXXX1661 May 16, 2024, 8:10:22 PM GMT+05:30</td><td>Sunitha Sankhla</td><td>155.0</td><td>Paid</td><td>2024-05-16T20:10:22.000+0000</td><td>Other</td><td>2024-05</td></tr><tr><td>767</td><td>Paid ₹25.00 to Paytm Metro Payment using Bank Account XXXXXXXX1661 May 16, 2024, 6:19:54 PM GMT+05:30</td><td>Paytm Metro Payment</td><td>25.0</td><td>Paid</td><td>2024-05-16T18:19:54.000+0000</td><td>Fuel & Transport</td><td>2024-05</td></tr><tr><td>769</td><td>Paid ₹10.00 to Shiva Ganesh Kirana General Store using Bank Account XXXXXXXX1661 May 12, 2024, 2:35:09 PM GMT+05:30</td><td>Shiva Ganesh Kirana General Store</td><td>10.0</td><td>Paid</td><td>2024-05-12T14:35:09.000+0000</td><td>Groceries</td><td>2024-05</td></tr><tr><td>770</td><td>Paid ₹20.00 to Shiva Ganesh Kirana General Store using Bank Account XXXXXXXX1661 May 12, 2024, 2:33:53 PM GMT+05:30</td><td>Shiva Ganesh Kirana General Store</td><td>20.0</td><td>Paid</td><td>2024-05-12T14:33:53.000+0000</td><td>Groceries</td><td>2024-05</td></tr><tr><td>771</td><td>Sent ₹103.00 using Bank Account XXXXXXXX1661 May 12, 2024, 1:33:31 PM GMT+05:30</td><td></td><td>103.0</td><td>Sent</td><td>2024-05-12T13:33:31.000+0000</td><td>Other</td><td>2024-05</td></tr><tr><td>772</td><td>Paid ₹20.00 to LINGAMPALLY SRISAILA using Bank Account XXXXXXXX1661 May 11, 2024, 8:13:52 PM GMT+05:30</td><td>LINGAMPALLY SRISAILA</td><td>20.0</td><td>Paid</td><td>2024-05-11T20:13:52.000+0000</td><td>Other</td><td>2024-05</td></tr><tr><td>773</td><td>Paid ₹20.00 to LINGAMPALLY SRISAILA using Bank Account XXXXXXXX1661 May 11, 2024, 8:12:28 PM GMT+05:30</td><td>LINGAMPALLY SRISAILA</td><td>20.0</td><td>Paid</td><td>2024-05-11T20:12:28.000+0000</td><td>Other</td><td>2024-05</td></tr><tr><td>774</td><td>Paid ₹333.00 to Om Sree Nava Durga Petroleums using Bank Account XXXXXXXX1661 May 11, 2024, 8:10:06 PM GMT+05:30</td><td>Om Sree Nava Durga Petroleums</td><td>333.0</td><td>Paid</td><td>2024-05-11T20:10:06.000+0000</td><td>Fuel & Transport</td><td>2024-05</td></tr><tr><td>776</td><td>Paid ₹150.00 to YASHVI KITCHEN using Bank Account XXXXXXXX1661 May 11, 2024, 7:49:25 PM GMT+05:30</td><td>YASHVI KITCHEN</td><td>150.0</td><td>Paid</td><td>2024-05-11T19:49:25.000+0000</td><td>Food & Dining</td><td>2024-05</td></tr><tr><td>777</td><td>Paid ₹150.00 to BAKE DELIGHT using Bank Account XXXXXXXX1661 May 11, 2024, 7:29:34 PM GMT+05:30</td><td>BAKE DELIGHT</td><td>150.0</td><td>Paid</td><td>2024-05-11T19:29:34.000+0000</td><td>Food & Dining</td><td>2024-05</td></tr><tr><td>778</td><td>Paid ₹450.00 using Bank Account XXXXXX1661 May 11, 2024, 4:58:40 PM GMT+05:30</td><td></td><td>450.0</td><td>Paid</td><td>2024-05-11T16:58:40.000+0000</td><td>Other</td><td>2024-05</td></tr><tr><td>779</td><td>Paid ₹450.00 using Bank Account XXXXXX1661 May 11, 2024, 4:57:53 PM GMT+05:30</td><td></td><td>450.0</td><td>Paid</td><td>2024-05-11T16:57:53.000+0000</td><td>Other</td><td>2024-05</td></tr><tr><td>780</td><td>Paid ₹300.00 using Bank Account XXXXXX1661 May 11, 2024, 4:57:34 PM GMT+05:30</td><td></td><td>300.0</td><td>Paid</td><td>2024-05-11T16:57:34.000+0000</td><td>Other</td><td>2024-05</td></tr><tr><td>781</td><td>Sent ₹4000.00 using Bank Account XXXXXXXX1661 May 10, 2024, 7:52:06 AM GMT+05:30</td><td></td><td>4000.0</td><td>Sent</td><td>2024-05-10T07:52:06.000+0000</td><td>Other</td><td>2024-05</td></tr><tr><td>787</td><td>Sent ₹164.00 using Bank Account XXXXXXXX1661 May 7, 2024, 11:34:09 AM GMT+05:30</td><td></td><td>164.0</td><td>Sent</td><td>2024-05-07T11:34:09.000+0000</td><td>Other</td><td>2024-05</td></tr><tr><td>788</td><td>Sent ₹75.00 using Bank Account XXXXXXXX1661 May 7, 2024, 10:18:20 AM GMT+05:30</td><td></td><td>75.0</td><td>Sent</td><td>2024-05-07T10:18:20.000+0000</td><td>Other</td><td>2024-05</td></tr><tr><td>790</td><td>Paid ₹90.00 to VINTI SATTIBABU using Bank Account XXXXXXXX1661 May 5, 2024, 1:32:07 PM GMT+05:30</td><td>VINTI SATTIBABU</td><td>90.0</td><td>Paid</td><td>2024-05-05T13:32:07.000+0000</td><td>Other</td><td>2024-05</td></tr><tr><td>794</td><td>Paid ₹180.00 to Mr ROSHAN LAL JAT using Bank Account XXXXXXXX1661 Apr 26, 2024, 6:16:18 PM GMT+05:30</td><td>Mr ROSHAN LAL  JAT</td><td>180.0</td><td>Paid</td><td>2024-04-26T18:16:18.000+0000</td><td>Other</td><td>2024-04</td></tr><tr><td>807</td><td>Paid ₹99.00 to Google Play using Bank Account XXXXXXXX1661 Mar 27, 2024, 7:33:00 PM GMT+05:30</td><td>Google Play</td><td>99.0</td><td>Paid</td><td>2024-03-27T19:33:00.000+0000</td><td>Entertainment</td><td>2024-03</td></tr><tr><td>808</td><td>Paid ₹25.00 to RAGHAVARAJU VEN using Bank Account XXXXXXXX1661 Mar 25, 2024, 2:01:24 PM GMT+05:30</td><td>RAGHAVARAJU  VEN</td><td>25.0</td><td>Paid</td><td>2024-03-25T14:01:24.000+0000</td><td>Other</td><td>2024-03</td></tr><tr><td>809</td><td>Paid ₹40.00 to Chanagala Swarupini using Bank Account XXXXXXXX1661 Mar 25, 2024, 1:55:09 PM GMT+05:30</td><td>Chanagala Swarupini</td><td>40.0</td><td>Paid</td><td>2024-03-25T13:55:09.000+0000</td><td>Other</td><td>2024-03</td></tr><tr><td>811</td><td>Paid ₹500.00 using Bank Account XXXXXXXX1661 Mar 24, 2024, 8:12:18 PM GMT+05:30</td><td></td><td>500.0</td><td>Paid</td><td>2024-03-24T20:12:18.000+0000</td><td>Other</td><td>2024-03</td></tr><tr><td>816</td><td>Paid ₹1500.00 to Chidura Rajitha using Bank Account XXXXXXXX1661 Mar 22, 2024, 6:15:29 PM GMT+05:30</td><td>Chidura Rajitha</td><td>1500.0</td><td>Paid</td><td>2024-03-22T18:15:29.000+0000</td><td>Other</td><td>2024-03</td></tr><tr><td>817</td><td>Paid ₹60.00 using Bank Account XXXXXXXX1661 Mar 22, 2024, 5:42:48 PM GMT+05:30</td><td></td><td>60.0</td><td>Paid</td><td>2024-03-22T17:42:48.000+0000</td><td>Other</td><td>2024-03</td></tr><tr><td>819</td><td>Sent ₹480.00 using Bank Account XXXXXXXX1661 Mar 22, 2024, 5:02:13 PM GMT+05:30</td><td></td><td>480.0</td><td>Sent</td><td>2024-03-22T17:02:13.000+0000</td><td>Other</td><td>2024-03</td></tr><tr><td>822</td><td>Paid ₹18.00 using Bank Account XXXXXXXX1661 Mar 22, 2024, 8:06:35 AM GMT+05:30</td><td></td><td>18.0</td><td>Paid</td><td>2024-03-22T08:06:35.000+0000</td><td>Other</td><td>2024-03</td></tr><tr><td>823</td><td>Paid ₹1.00 using Bank Account XXXXXXXX1661 Mar 21, 2024, 7:53:56 PM GMT+05:30</td><td></td><td>1.0</td><td>Paid</td><td>2024-03-21T19:53:56.000+0000</td><td>Other</td><td>2024-03</td></tr><tr><td>824</td><td>Paid ₹2500.00 using Bank Account XXXXXXXX1661 Mar 21, 2024, 7:52:31 PM GMT+05:30</td><td></td><td>2500.0</td><td>Paid</td><td>2024-03-21T19:52:31.000+0000</td><td>Other</td><td>2024-03</td></tr><tr><td>826</td><td>Paid ₹100.00 to CRAZY BAKERS using Bank Account XXXXXXXX1661 Mar 21, 2024, 10:55:46 AM GMT+05:30</td><td>CRAZY BAKERS</td><td>100.0</td><td>Paid</td><td>2024-03-21T10:55:46.000+0000</td><td>Food & Dining</td><td>2024-03</td></tr><tr><td>832</td><td>Paid ₹9.90 to Google Play using Bank Account XXXXXXXX1661 Feb 27, 2024, 7:33:13 PM GMT+05:30</td><td>Google Play</td><td>9.9</td><td>Paid</td><td>2024-02-27T19:33:13.000+0000</td><td>Entertainment</td><td>2024-02</td></tr><tr><td>836</td><td>Paid ₹50.00 to Bbinstant using Bank Account XXXXXXXX1661 Feb 22, 2024, 6:30:05 PM GMT+05:30</td><td>Bbinstant</td><td>50.0</td><td>Paid</td><td>2024-02-22T18:30:05.000+0000</td><td>Food & Dining</td><td>2024-02</td></tr><tr><td>842</td><td>Paid ₹1410.00 to Groww Feb 3, 2024, 6:09:17 PM GMT+05:30</td><td></td><td>1410.0</td><td>Paid</td><td>2024-02-03T18:09:17.000+0000</td><td>Other</td><td>2024-02</td></tr><tr><td>843</td><td>Sent ₹100.00 Feb 3, 2024, 6:06:53 PM GMT+05:30</td><td></td><td>100.0</td><td>Sent</td><td>2024-02-03T18:06:53.000+0000</td><td>Other</td><td>2024-02</td></tr><tr><td>845</td><td>Sent ₹150.00 Feb 2, 2024, 12:35:40 PM GMT+05:30</td><td></td><td>150.0</td><td>Sent</td><td>2024-02-02T12:35:40.000+0000</td><td>Other</td><td>2024-02</td></tr><tr><td>847</td><td>Paid ₹20.00 to Sahasra Stationary Jan 31, 2024, 11:52:42 AM GMT+05:30</td><td></td><td>20.0</td><td>Paid</td><td>2024-01-31T11:52:42.000+0000</td><td>Other</td><td>2024-01</td></tr><tr><td>848</td><td>Paid ₹20.00 to SOMANARSAIAH GATTU Jan 31, 2024, 11:51:43 AM GMT+05:30</td><td></td><td>20.0</td><td>Paid</td><td>2024-01-31T11:51:43.000+0000</td><td>Other</td><td>2024-01</td></tr><tr><td>849</td><td>Paid ₹20.00 to SOMANARSAIAH GATTU Jan 31, 2024, 11:50:25 AM GMT+05:30</td><td></td><td>20.0</td><td>Paid</td><td>2024-01-31T11:50:25.000+0000</td><td>Other</td><td>2024-01</td></tr><tr><td>853</td><td>Paid ₹77.00 to Tumma Vamshi using Bank Account XXXXXXXX1661 Jan 28, 2024, 9:18:27 PM GMT+05:30</td><td>Tumma Vamshi</td><td>77.0</td><td>Paid</td><td>2024-01-28T21:18:27.000+0000</td><td>Other</td><td>2024-01</td></tr><tr><td>854</td><td>Paid ₹9.90 to Google Play using Bank Account XXXXXXXX1661 Jan 28, 2024, 7:33:02 PM GMT+05:30</td><td>Google Play</td><td>9.9</td><td>Paid</td><td>2024-01-28T19:33:02.000+0000</td><td>Entertainment</td><td>2024-01</td></tr><tr><td>856</td><td>Paid ₹200.00 using Bank Account XXXXXXXX1661 Jan 27, 2024, 8:36:58 PM GMT+05:30</td><td></td><td>200.0</td><td>Paid</td><td>2024-01-27T20:36:58.000+0000</td><td>Other</td><td>2024-01</td></tr><tr><td>860</td><td>Paid ₹25.00 to Google Play using Bank Account XXXXXXXX1661 Jan 14, 2024, 12:21:24 PM GMT+05:30</td><td>Google Play</td><td>25.0</td><td>Paid</td><td>2024-01-14T12:21:24.000+0000</td><td>Entertainment</td><td>2024-01</td></tr><tr><td>862</td><td>Sent ₹1.00 Jan 2, 2024, 5:17:23 PM GMT+05:30</td><td></td><td>1.0</td><td>Sent</td><td>2024-01-02T17:17:23.000+0000</td><td>Other</td><td>2024-01</td></tr><tr><td>863</td><td>Sent ₹2800.00 Jan 2, 2024, 5:17:04 PM GMT+05:30</td><td></td><td>2800.0</td><td>Sent</td><td>2024-01-02T17:17:04.000+0000</td><td>Other</td><td>2024-01</td></tr><tr><td>864</td><td>Paid ₹100.00 to Paradise Jan 2, 2024, 3:46:29 PM GMT+05:30</td><td></td><td>100.0</td><td>Paid</td><td>2024-01-02T15:46:29.000+0000</td><td>Other</td><td>2024-01</td></tr><tr><td>865</td><td>Paid ₹3000.00 using Bank Account XXXXXXXX1661 Jan 2, 2024, 3:44:36 PM GMT+05:30</td><td></td><td>3000.0</td><td>Paid</td><td>2024-01-02T15:44:36.000+0000</td><td>Other</td><td>2024-01</td></tr><tr><td>867</td><td>Paid ₹40.00 to KANAKAMAMIDI MALLAREDDY Jan 2, 2024, 1:15:08 PM GMT+05:30</td><td></td><td>40.0</td><td>Paid</td><td>2024-01-02T13:15:08.000+0000</td><td>Other</td><td>2024-01</td></tr><tr><td>868</td><td>Paid ₹40.00 to Sabitha Jan 2, 2024, 1:14:24 PM GMT+05:30</td><td></td><td>40.0</td><td>Paid</td><td>2024-01-02T13:14:24.000+0000</td><td>Other</td><td>2024-01</td></tr><tr><td>869</td><td>Paid ₹38.00 to Sabitha Jan 2, 2024, 1:13:46 PM GMT+05:30</td><td></td><td>38.0</td><td>Paid</td><td>2024-01-02T13:13:46.000+0000</td><td>Other</td><td>2024-01</td></tr><tr><td>870</td><td>Sent ₹200.00 Jan 2, 2024, 7:55:21 AM GMT+05:30</td><td></td><td>200.0</td><td>Sent</td><td>2024-01-02T07:55:21.000+0000</td><td>Other</td><td>2024-01</td></tr><tr><td>871</td><td>Paid ₹200.00 to Bhaskar Services Jan 2, 2024, 7:54:18 AM GMT+05:30</td><td></td><td>200.0</td><td>Paid</td><td>2024-01-02T07:54:18.000+0000</td><td>Other</td><td>2024-01</td></tr><tr><td>872</td><td>Paid ₹200.00 to Bhaskar Services Jan 2, 2024, 7:54:00 AM GMT+05:30</td><td></td><td>200.0</td><td>Paid</td><td>2024-01-02T07:54:00.000+0000</td><td>Other</td><td>2024-01</td></tr><tr><td>873</td><td>Paid ₹240.00 using Bank Account XXXXXXXX1661 Jan 1, 2024, 7:13:59 PM GMT+05:30</td><td></td><td>240.0</td><td>Paid</td><td>2024-01-01T19:13:59.000+0000</td><td>Other</td><td>2024-01</td></tr><tr><td>875</td><td>Sent ₹2.00 Jan 1, 2024, 1:10:13 AM GMT+05:30</td><td></td><td>2.0</td><td>Sent</td><td>2024-01-01T01:10:13.000+0000</td><td>Other</td><td>2024-01</td></tr><tr><td>876</td><td>Sent ₹2.00 Jan 1, 2024, 1:09:37 AM GMT+05:30</td><td></td><td>2.0</td><td>Sent</td><td>2024-01-01T01:09:37.000+0000</td><td>Other</td><td>2024-01</td></tr><tr><td>880</td><td>Paid ₹40.00 to SREE GEETA EATS AND using Bank Account XXXXXXXX1661 Dec 31, 2023, 6:38:57 PM GMT+05:30</td><td>SREE GEETA EATS AND</td><td>40.0</td><td>Paid</td><td>2023-12-31T18:38:57.000+0000</td><td>Food & Dining</td><td>2023-12</td></tr><tr><td>881</td><td>Paid ₹40.00 to SREE GEETA EATS AND using Bank Account XXXXXXXX1661 Dec 31, 2023, 6:38:19 PM GMT+05:30</td><td>SREE GEETA EATS AND</td><td>40.0</td><td>Paid</td><td>2023-12-31T18:38:19.000+0000</td><td>Food & Dining</td><td>2023-12</td></tr><tr><td>882</td><td>Paid ₹30.00 to Shiva Ganesh Kirana General Store using Bank Account XXXXXXXX1661 Dec 31, 2023, 4:08:07 PM GMT+05:30</td><td>Shiva Ganesh Kirana General Store</td><td>30.0</td><td>Paid</td><td>2023-12-31T16:08:07.000+0000</td><td>Groceries</td><td>2023-12</td></tr><tr><td>883</td><td>Paid ₹100.00 using Bank Account XXXXXXXX1661 Dec 31, 2023, 4:05:38 PM GMT+05:30</td><td></td><td>100.0</td><td>Paid</td><td>2023-12-31T16:05:38.000+0000</td><td>Other</td><td>2023-12</td></tr><tr><td>885</td><td>Paid ₹1.00 using Bank Account XXXXXXXX1661 Dec 31, 2023, 11:52:14 AM GMT+05:30</td><td></td><td>1.0</td><td>Paid</td><td>2023-12-31T11:52:14.000+0000</td><td>Other</td><td>2023-12</td></tr><tr><td>886</td><td>Paid ₹9.90 to Google Play using Bank Account XXXXXXXX1661 Dec 30, 2023, 7:33:45 PM GMT+05:30</td><td>Google Play</td><td>9.9</td><td>Paid</td><td>2023-12-30T19:33:45.000+0000</td><td>Entertainment</td><td>2023-12</td></tr></tbody></table></div>"
      ]
     },
     "metadata": {
      "application/vnd.databricks.v1+output": {
       "addedWidgets": {},
       "aggData": [],
       "aggError": "",
       "aggOverflow": false,
       "aggSchema": [],
       "aggSeriesLimitReached": false,
       "aggType": "",
       "arguments": {},
       "columnCustomDisplayInfos": {},
       "data": [
        [
         "2",
         "Paid ₹61.00 to ISHAQ FILLING STATIO using Bank Account XXXXXXXX1661 Jan 24, 2025, 7:29:42 PM GMT+05:30",
         "ISHAQ FILLING STATIO",
         61.0,
         "Paid",
         "2025-01-24T19:29:42.000+0000",
         "Fuel & Transport",
         "2025-01"
        ],
        [
         "3",
         "Paid ₹40.00 to Mr Varaganti Santhosh Kumar using Bank Account XXXXXXXX1661 Jan 24, 2025, 7:11:37 PM GMT+05:30",
         "Mr Varaganti Santhosh Kumar",
         40.0,
         "Paid",
         "2025-01-24T19:11:37.000+0000",
         "Other",
         "2025-01"
        ],
        [
         "4",
         "Paid ₹129.00 to Tobox Ventures Private Limited using Bank Account XXXXXXXX1661 Jan 24, 2025, 12:53:45 PM GMT+05:30",
         "Tobox Ventures Private Limited",
         129.0,
         "Paid",
         "2025-01-24T12:53:45.000+0000",
         "Food & Dining",
         "2025-01"
        ],
        [
         "5",
         "Paid ₹450.00 to Zerodha Broking Ltd using Bank Account XXXXXXXX1661 Jan 24, 2025, 10:27:10 AM GMT+05:30",
         "Zerodha Broking Ltd",
         450.0,
         "Paid",
         "2025-01-24T10:27:10.000+0000",
         "Investment",
         "2025-01"
        ],
        [
         "6",
         "Paid ₹20.00 to NATTE SATYAPRASAD using Bank Account XXXXXXXX1661 Jan 24, 2025, 9:23:53 AM GMT+05:30",
         "NATTE SATYAPRASAD",
         20.0,
         "Paid",
         "2025-01-24T09:23:53.000+0000",
         "Other",
         "2025-01"
        ],
        [
         "7",
         "Paid ₹1800.00 to MR.DURGUM PUDI RAMA KRISHNA REDDY using Bank Account XXXXXXXX1661 Jan 23, 2025, 10:01:53 PM GMT+05:30",
         "MR.DURGUM PUDI RAMA KRISHNA REDDY  ",
         1800.0,
         "Paid",
         "2025-01-23T22:01:53.000+0000",
         "Other",
         "2025-01"
        ],
        [
         "9",
         "Paid ₹248.00 to ISHAQ FILLING STATIO using Bank Account XXXXXXXX1661 Jan 20, 2025, 8:38:03 PM GMT+05:30",
         "ISHAQ FILLING STATIO",
         248.0,
         "Paid",
         "2025-01-20T20:38:03.000+0000",
         "Fuel & Transport",
         "2025-01"
        ],
        [
         "10",
         "Paid ₹10.00 to THOTA GOPAL using Bank Account XXXXXXXX1661 Jan 20, 2025, 8:22:03 PM GMT+05:30",
         "THOTA  GOPAL",
         10.0,
         "Paid",
         "2025-01-20T20:22:03.000+0000",
         "Other",
         "2025-01"
        ],
        [
         "11",
         "Paid ₹10.00 to THOTA GOPAL Jan 20, 2025, 8:21:57 PM GMT+05:30",
         "",
         10.0,
         "Paid",
         "2025-01-20T20:21:57.000+0000",
         "Other",
         "2025-01"
        ],
        [
         "12",
         "Paid ₹30.00 to Mr Varaganti Santhosh Kumar using Bank Account XXXXXXXX1661 Jan 20, 2025, 7:58:05 PM GMT+05:30",
         "Mr Varaganti Santhosh Kumar",
         30.0,
         "Paid",
         "2025-01-20T19:58:05.000+0000",
         "Other",
         "2025-01"
        ],
        [
         "13",
         "Paid ₹100.00 to Punjab Sind Foods Raidurg MTS Hyderabad using Bank Account XXXXXXXX1661 Jan 20, 2025, 6:32:10 PM GMT+05:30",
         "Punjab Sind Foods  Raidurg MTS Hyderabad",
         100.0,
         "Paid",
         "2025-01-20T18:32:10.000+0000",
         "Food & Dining",
         "2025-01"
        ],
        [
         "14",
         "Paid ₹278.00 to Addanki Balathripura Easwar using Bank Account XXXXXXXX1661 Jan 20, 2025, 6:29:24 PM GMT+05:30",
         "Addanki Balathripura Easwar",
         278.0,
         "Paid",
         "2025-01-20T18:29:24.000+0000",
         "Other",
         "2025-01"
        ],
        [
         "15",
         "Paid ₹75.00 using Bank Account XXXXXXXX1661 Jan 20, 2025, 1:21:00 PM GMT+05:30",
         "",
         75.0,
         "Paid",
         "2025-01-20T13:21:00.000+0000",
         "Other",
         "2025-01"
        ],
        [
         "16",
         "Paid ₹30.00 to Zerodha Broking Ltd using Bank Account XXXXXXXX1661 Jan 20, 2025, 9:24:35 AM GMT+05:30",
         "Zerodha Broking Ltd",
         30.0,
         "Paid",
         "2025-01-20T09:24:35.000+0000",
         "Investment",
         "2025-01"
        ],
        [
         "17",
         "Paid ₹435.00 to Zerodha Broking Ltd using Bank Account XXXXXXXX1661 Jan 20, 2025, 9:24:12 AM GMT+05:30",
         "Zerodha Broking Ltd",
         435.0,
         "Paid",
         "2025-01-20T09:24:12.000+0000",
         "Investment",
         "2025-01"
        ],
        [
         "18",
         "Paid ₹420.00 to Zerodha Broking Ltd using Bank Account XXXXXXXX1661 Jan 20, 2025, 9:13:30 AM GMT+05:30",
         "Zerodha Broking Ltd",
         420.0,
         "Paid",
         "2025-01-20T09:13:30.000+0000",
         "Investment",
         "2025-01"
        ],
        [
         "19",
         "Paid ₹100.00 to Raidurg using Bank Account XXXXXXXX1661 Jan 20, 2025, 9:03:05 AM GMT+05:30",
         "Raidurg",
         100.0,
         "Paid",
         "2025-01-20T09:03:05.000+0000",
         "Other",
         "2025-01"
        ],
        [
         "21",
         "Paid ₹800.00 using Bank Account XXXXXXXX1661 Jan 19, 2025, 8:29:34 PM GMT+05:30",
         "",
         800.0,
         "Paid",
         "2025-01-19T20:29:34.000+0000",
         "Other",
         "2025-01"
        ],
        [
         "23",
         "Paid ₹21.00 to Zerodha Broking Ltd using Bank Account XXXXXXXX1661 Jan 18, 2025, 9:10:45 AM GMT+05:30",
         "Zerodha Broking Ltd",
         21.0,
         "Paid",
         "2025-01-18T09:10:45.000+0000",
         "Investment",
         "2025-01"
        ],
        [
         "24",
         "Paid ₹30.00 to Mr Varaganti Santhosh Kumar using Bank Account XXXXXXXX1661 Jan 17, 2025, 11:03:30 PM GMT+05:30",
         "Mr Varaganti Santhosh Kumar",
         30.0,
         "Paid",
         "2025-01-17T23:03:30.000+0000",
         "Other",
         "2025-01"
        ],
        [
         "25",
         "Sent ₹190.00 using Bank Account XXXXXXXX1661 Jan 17, 2025, 5:30:32 PM GMT+05:30",
         "",
         190.0,
         "Sent",
         "2025-01-17T17:30:32.000+0000",
         "Other",
         "2025-01"
        ],
        [
         "26",
         "Paid ₹700.00 to Zerodha Broking Ltd using Bank Account XXXXXXXX1661 Jan 17, 2025, 1:57:46 PM GMT+05:30",
         "Zerodha Broking Ltd",
         700.0,
         "Paid",
         "2025-01-17T13:57:46.000+0000",
         "Investment",
         "2025-01"
        ],
        [
         "27",
         "Paid ₹20.00 to Mr Varaganti Santhosh Kumar using Bank Account XXXXXXXX1661 Jan 15, 2025, 7:37:28 PM GMT+05:30",
         "Mr Varaganti Santhosh Kumar",
         20.0,
         "Paid",
         "2025-01-15T19:37:28.000+0000",
         "Other",
         "2025-01"
        ],
        [
         "28",
         "Paid ₹225.00 to Tibbs Frankie LnT metro raidurg using Bank Account XXXXXXXX1661 Jan 15, 2025, 6:31:10 PM GMT+05:30",
         "Tibbs Frankie LnT metro raidurg",
         225.0,
         "Paid",
         "2025-01-15T18:31:10.000+0000",
         "Food & Dining",
         "2025-01"
        ],
        [
         "29",
         "Paid ₹225.00 to Tibbs Frankie LnT metro raidurg Jan 15, 2025, 6:31:05 PM GMT+05:30",
         "",
         225.0,
         "Paid",
         "2025-01-15T18:31:05.000+0000",
         "Other",
         "2025-01"
        ],
        [
         "30",
         "Paid ₹30.00 to ASHARAM CHOUDHARY using Bank Account XXXXXXXX1661 Jan 14, 2025, 10:21:40 PM GMT+05:30",
         "ASHARAM CHOUDHARY",
         30.0,
         "Paid",
         "2025-01-14T22:21:40.000+0000",
         "Other",
         "2025-01"
        ],
        [
         "31",
         "Paid ₹115.00 to Mr Vangapally Ankithkumar Reddy using Bank Account XXXXXXXX1661 Jan 14, 2025, 10:19:24 PM GMT+05:30",
         "Mr Vangapally Ankithkumar Reddy",
         115.0,
         "Paid",
         "2025-01-14T22:19:24.000+0000",
         "Other",
         "2025-01"
        ],
        [
         "32",
         "Paid ₹91.00 using Bank Account XXXXXXXX1661 Jan 14, 2025, 9:54:21 PM GMT+05:30",
         "",
         91.0,
         "Paid",
         "2025-01-14T21:54:21.000+0000",
         "Other",
         "2025-01"
        ],
        [
         "33",
         "Paid ₹10.00 to Bollepally Ravikumar using Bank Account XXXXXXXX1661 Jan 14, 2025, 8:22:40 PM GMT+05:30",
         "Bollepally Ravikumar",
         10.0,
         "Paid",
         "2025-01-14T20:22:40.000+0000",
         "Other",
         "2025-01"
        ],
        [
         "34",
         "Paid ₹120.00 to Bollepally Ravikumar using Bank Account XXXXXXXX1661 Jan 14, 2025, 8:21:56 PM GMT+05:30",
         "Bollepally Ravikumar",
         120.0,
         "Paid",
         "2025-01-14T20:21:56.000+0000",
         "Other",
         "2025-01"
        ],
        [
         "35",
         "Paid ₹180.00 to Zerodha Broking Ltd using Bank Account XXXXXXXX1661 Jan 14, 2025, 11:35:32 AM GMT+05:30",
         "Zerodha Broking Ltd",
         180.0,
         "Paid",
         "2025-01-14T11:35:32.000+0000",
         "Investment",
         "2025-01"
        ],
        [
         "36",
         "Paid ₹1500.00 to Zerodha Broking Ltd using Bank Account XXXXXXXX1661 Jan 14, 2025, 9:03:49 AM GMT+05:30",
         "Zerodha Broking Ltd",
         1500.0,
         "Paid",
         "2025-01-14T09:03:49.000+0000",
         "Investment",
         "2025-01"
        ],
        [
         "37",
         "Paid ₹10.00 to Zerodha Broking Ltd using Bank Account XXXXXXXX1661 Jan 14, 2025, 9:02:28 AM GMT+05:30",
         "Zerodha Broking Ltd",
         10.0,
         "Paid",
         "2025-01-14T09:02:28.000+0000",
         "Investment",
         "2025-01"
        ],
        [
         "38",
         "Paid ₹50.00 to Chanagala Swarupini using Bank Account XXXXXXXX1661 Jan 13, 2025, 6:46:02 PM GMT+05:30",
         "Chanagala Swarupini",
         50.0,
         "Paid",
         "2025-01-13T18:46:02.000+0000",
         "Other",
         "2025-01"
        ],
        [
         "39",
         "Paid ₹30.00 to GANDEPALLI JYO using Bank Account XXXXXXXX1661 Jan 13, 2025, 6:44:38 PM GMT+05:30",
         "GANDEPALLI  JYO",
         30.0,
         "Paid",
         "2025-01-13T18:44:38.000+0000",
         "Other",
         "2025-01"
        ],
        [
         "41",
         "Paid ₹15.00 using Bank Account XXXXXXXX1661 Jan 13, 2025, 1:25:05 PM GMT+05:30",
         "",
         15.0,
         "Paid",
         "2025-01-13T13:25:05.000+0000",
         "Other",
         "2025-01"
        ],
        [
         "42",
         "Paid ₹50.00 to Zerodha Broking Ltd using Bank Account XXXXXXXX1661 Jan 13, 2025, 11:10:27 AM GMT+05:30",
         "Zerodha Broking Ltd",
         50.0,
         "Paid",
         "2025-01-13T11:10:27.000+0000",
         "Investment",
         "2025-01"
        ],
        [
         "43",
         "Paid ₹100.00 to Zerodha Broking Ltd using Bank Account XXXXXXXX1661 Jan 13, 2025, 11:09:05 AM GMT+05:30",
         "Zerodha Broking Ltd",
         100.0,
         "Paid",
         "2025-01-13T11:09:05.000+0000",
         "Investment",
         "2025-01"
        ],
        [
         "44",
         "Paid ₹100.00 to Zerodha Broking Ltd using Bank Account XXXXXXXX1661 Jan 13, 2025, 9:53:02 AM GMT+05:30",
         "Zerodha Broking Ltd",
         100.0,
         "Paid",
         "2025-01-13T09:53:02.000+0000",
         "Investment",
         "2025-01"
        ],
        [
         "45",
         "Paid ₹300.00 to Zerodha Broking Ltd using Bank Account XXXXXXXX1661 Jan 13, 2025, 9:50:40 AM GMT+05:30",
         "Zerodha Broking Ltd",
         300.0,
         "Paid",
         "2025-01-13T09:50:40.000+0000",
         "Investment",
         "2025-01"
        ],
        [
         "46",
         "Paid ₹1000.00 to Zerodha Broking Ltd using Bank Account XXXXXXXX1661 Jan 13, 2025, 9:32:42 AM GMT+05:30",
         "Zerodha Broking Ltd",
         1000.0,
         "Paid",
         "2025-01-13T09:32:42.000+0000",
         "Investment",
         "2025-01"
        ],
        [
         "47",
         "Paid ₹1000.00 to Zerodha Broking Ltd using Bank Account XXXXXXXX1661 Jan 13, 2025, 9:32:30 AM GMT+05:30",
         "Zerodha Broking Ltd",
         1000.0,
         "Paid",
         "2025-01-13T09:32:30.000+0000",
         "Investment",
         "2025-01"
        ],
        [
         "49",
         "Sent ₹500.00 using Bank Account XXXXXXXX1661 Jan 11, 2025, 8:16:53 PM GMT+05:30",
         "",
         500.0,
         "Sent",
         "2025-01-11T20:16:53.000+0000",
         "Other",
         "2025-01"
        ],
        [
         "50",
         "Paid ₹300.00 to NASER KHAN using Bank Account XXXXXXXX1661 Jan 11, 2025, 8:07:15 PM GMT+05:30",
         "NASER KHAN",
         300.0,
         "Paid",
         "2025-01-11T20:07:15.000+0000",
         "Other",
         "2025-01"
        ],
        [
         "51",
         "Paid ₹460.00 to APP KA BAZAR using Bank Account XXXXXXXX1661 Jan 11, 2025, 8:05:04 PM GMT+05:30",
         "APP KA BAZAR",
         460.0,
         "Paid",
         "2025-01-11T20:05:04.000+0000",
         "Other",
         "2025-01"
        ],
        [
         "52",
         "Paid ₹650.00 to SHAIKH M JAVED using Bank Account XXXXXXXX1661 Jan 11, 2025, 7:53:26 PM GMT+05:30",
         "SHAIKH M JAVED",
         650.0,
         "Paid",
         "2025-01-11T19:53:26.000+0000",
         "Other",
         "2025-01"
        ],
        [
         "53",
         "Paid ₹150.00 using Bank Account XXXXXXXX1661 Jan 11, 2025, 7:15:49 PM GMT+05:30",
         "",
         150.0,
         "Paid",
         "2025-01-11T19:15:49.000+0000",
         "Other",
         "2025-01"
        ],
        [
         "55",
         "Paid ₹70.00 using Bank Account XXXXXX1661 Jan 11, 2025, 3:20:52 PM GMT+05:30",
         "",
         70.0,
         "Paid",
         "2025-01-11T15:20:52.000+0000",
         "Other",
         "2025-01"
        ],
        [
         "56",
         "Paid ₹161.00 using Bank Account XXXXXXXX1661 Jan 11, 2025, 3:18:47 PM GMT+05:30",
         "",
         161.0,
         "Paid",
         "2025-01-11T15:18:47.000+0000",
         "Other",
         "2025-01"
        ],
        [
         "57",
         "Paid ₹211.00 using Bank Account XXXXXXXX1661 Jan 11, 2025, 3:18:09 PM GMT+05:30",
         "",
         211.0,
         "Paid",
         "2025-01-11T15:18:09.000+0000",
         "Other",
         "2025-01"
        ],
        [
         "58",
         "Paid ₹30.00 to Mr Varaganti Santhosh Kumar using Bank Account XXXXXXXX1661 Jan 10, 2025, 7:58:00 PM GMT+05:30",
         "Mr Varaganti Santhosh Kumar",
         30.0,
         "Paid",
         "2025-01-10T19:58:00.000+0000",
         "Other",
         "2025-01"
        ],
        [
         "59",
         "Paid ₹10.00 to Zerodha Broking Ltd using Bank Account XXXXXXXX1661 Jan 10, 2025, 2:17:02 PM GMT+05:30",
         "Zerodha Broking Ltd",
         10.0,
         "Paid",
         "2025-01-10T14:17:02.000+0000",
         "Investment",
         "2025-01"
        ],
        [
         "60",
         "Sent ₹1000.00 using Bank Account XXXXXXXX1661 Jan 10, 2025, 11:19:34 AM GMT+05:30",
         "",
         1000.0,
         "Sent",
         "2025-01-10T11:19:34.000+0000",
         "Other",
         "2025-01"
        ],
        [
         "62",
         "Paid ₹60.00 to Zerodha Broking Ltd using Bank Account XXXXXXXX1661 Jan 10, 2025, 9:29:40 AM GMT+05:30",
         "Zerodha Broking Ltd",
         60.0,
         "Paid",
         "2025-01-10T09:29:40.000+0000",
         "Investment",
         "2025-01"
        ],
        [
         "63",
         "Paid ₹20.00 to Mr Varaganti Santhosh Kumar using Bank Account XXXXXXXX1661 Jan 9, 2025, 8:04:34 PM GMT+05:30",
         "Mr Varaganti Santhosh Kumar",
         20.0,
         "Paid",
         "2025-01-09T20:04:34.000+0000",
         "Other",
         "2025-01"
        ],
        [
         "64",
         "Paid ₹20.00 to SREENU CHEEKATI using Bank Account XXXXXXXX1661 Jan 9, 2025, 7:56:19 PM GMT+05:30",
         "SREENU CHEEKATI",
         20.0,
         "Paid",
         "2025-01-09T19:56:19.000+0000",
         "Other",
         "2025-01"
        ],
        [
         "65",
         "Paid ₹200.00 to Zerodha Broking Ltd using Bank Account XXXXXXXX1661 Jan 9, 2025, 2:03:22 PM GMT+05:30",
         "Zerodha Broking Ltd",
         200.0,
         "Paid",
         "2025-01-09T14:03:22.000+0000",
         "Investment",
         "2025-01"
        ],
        [
         "66",
         "Paid ₹31.00 to Tobox Ventures Private Limited using Bank Account XXXXXXXX1661 Jan 9, 2025, 11:24:56 AM GMT+05:30",
         "Tobox Ventures Private Limited",
         31.0,
         "Paid",
         "2025-01-09T11:24:56.000+0000",
         "Food & Dining",
         "2025-01"
        ],
        [
         "67",
         "Paid ₹30.00 to Mr Varaganti Santhosh Kumar using Bank Account XXXXXXXX1661 Jan 8, 2025, 8:03:47 PM GMT+05:30",
         "Mr Varaganti Santhosh Kumar",
         30.0,
         "Paid",
         "2025-01-08T20:03:47.000+0000",
         "Other",
         "2025-01"
        ],
        [
         "68",
         "Paid ₹105.00 to Tibbs Frankie LnT metro raidurg using Bank Account XXXXXXXX1661 Jan 8, 2025, 6:52:06 PM GMT+05:30",
         "Tibbs Frankie LnT metro raidurg",
         105.0,
         "Paid",
         "2025-01-08T18:52:06.000+0000",
         "Food & Dining",
         "2025-01"
        ],
        [
         "69",
         "Paid ₹100.00 using Bank Account XXXXXXXX1661 Jan 8, 2025, 11:51:38 AM GMT+05:30",
         "",
         100.0,
         "Paid",
         "2025-01-08T11:51:38.000+0000",
         "Other",
         "2025-01"
        ],
        [
         "70",
         "Paid ₹20.00 to Mr Varaganti Santhosh Kumar using Bank Account XXXXXXXX1661 Jan 7, 2025, 7:37:37 PM GMT+05:30",
         "Mr Varaganti Santhosh Kumar",
         20.0,
         "Paid",
         "2025-01-07T19:37:37.000+0000",
         "Other",
         "2025-01"
        ],
        [
         "72",
         "Paid ₹260.00 to Zerodha Broking Ltd using Bank Account XXXXXXXX1661 Jan 6, 2025, 3:32:34 PM GMT+05:30",
         "Zerodha Broking Ltd",
         260.0,
         "Paid",
         "2025-01-06T15:32:34.000+0000",
         "Investment",
         "2025-01"
        ],
        [
         "73",
         "Paid ₹1000.00 to Zerodha Broking Ltd using Bank Account XXXXXXXX1661 Jan 6, 2025, 3:18:27 PM GMT+05:30",
         "Zerodha Broking Ltd",
         1000.0,
         "Paid",
         "2025-01-06T15:18:27.000+0000",
         "Investment",
         "2025-01"
        ],
        [
         "75",
         "Paid ₹103.00 to Zerodha Broking Ltd using Bank Account XXXXXXXX1661 Jan 6, 2025, 3:13:27 PM GMT+05:30",
         "Zerodha Broking Ltd",
         103.0,
         "Paid",
         "2025-01-06T15:13:27.000+0000",
         "Investment",
         "2025-01"
        ],
        [
         "76",
         "Sent ₹140.00 using Bank Account XXXXXXXX1661 Jan 6, 2025, 7:27:32 AM GMT+05:30",
         "",
         140.0,
         "Sent",
         "2025-01-06T07:27:32.000+0000",
         "Other",
         "2025-01"
        ],
        [
         "77",
         "Paid ₹20.00 to Umatraders using Bank Account XXXXXXXX1661 Jan 4, 2025, 2:12:55 PM GMT+05:30",
         "Umatraders",
         20.0,
         "Paid",
         "2025-01-04T14:12:55.000+0000",
         "Shopping & Retail",
         "2025-01"
        ],
        [
         "78",
         "Paid ₹230.00 using Bank Account XXXXXX1661 Jan 4, 2025, 2:08:07 PM GMT+05:30",
         "",
         230.0,
         "Paid",
         "2025-01-04T14:08:07.000+0000",
         "Other",
         "2025-01"
        ],
        [
         "79",
         "Paid ₹39.00 to RIDE HONDA HUBSIGUDA SERVICE using Bank Account XXXXXXXX1661 Jan 4, 2025, 12:41:34 PM GMT+05:30",
         "RIDE HONDA HUBSIGUDA SERVICE",
         39.0,
         "Paid",
         "2025-01-04T12:41:34.000+0000",
         "Fuel & Transport",
         "2025-01"
        ],
        [
         "80",
         "Sent ₹87.00 using Bank Account XXXXXXXX1661 Jan 4, 2025, 12:33:56 PM GMT+05:30",
         "",
         87.0,
         "Sent",
         "2025-01-04T12:33:56.000+0000",
         "Other",
         "2025-01"
        ],
        [
         "81",
         "Paid ₹10.00 to GUMMADAVELLI SRINIVASALU using Bank Account XXXXXXXX1661 Jan 4, 2025, 7:41:32 AM GMT+05:30",
         "GUMMADAVELLI  SRINIVASALU",
         10.0,
         "Paid",
         "2025-01-04T07:41:32.000+0000",
         "Other",
         "2025-01"
        ],
        [
         "82",
         "Paid ₹2.00 to Sulabh Metro Station Raidurg using Bank Account XXXXXXXX1661 Jan 3, 2025, 7:27:38 PM GMT+05:30",
         "Sulabh Metro Station Raidurg",
         2.0,
         "Paid",
         "2025-01-03T19:27:38.000+0000",
         "Fuel & Transport",
         "2025-01"
        ],
        [
         "83",
         "Sent ₹2178.00 using Bank Account XXXXXXXX1661 Jan 3, 2025, 12:40:16 PM GMT+05:30",
         "",
         2178.0,
         "Sent",
         "2025-01-03T12:40:16.000+0000",
         "Other",
         "2025-01"
        ],
        [
         "85",
         "Paid ₹60.00 to Tobox Ventures Private Limited using Bank Account XXXXXXXX1661 Jan 3, 2025, 11:36:27 AM GMT+05:30",
         "Tobox Ventures Private Limited",
         60.0,
         "Paid",
         "2025-01-03T11:36:27.000+0000",
         "Food & Dining",
         "2025-01"
        ],
        [
         "86",
         "Paid ₹30.00 to MANIKANTA ENTERPRISE using Bank Account XXXXXXXX1661 Jan 3, 2025, 8:22:42 AM GMT+05:30",
         "MANIKANTA ENTERPRISE",
         30.0,
         "Paid",
         "2025-01-03T08:22:42.000+0000",
         "Other",
         "2025-01"
        ],
        [
         "87",
         "Paid ₹500.00 to SRI DURGA using Bank Account XXXXXXXX1661 Jan 2, 2025, 9:02:25 PM GMT+05:30",
         "SRI DURGA",
         500.0,
         "Paid",
         "2025-01-02T21:02:25.000+0000",
         "Other",
         "2025-01"
        ],
        [
         "88",
         "Paid ₹300.00 to HYDERABAD METRO RAIL using Bank Account XXXXXXXX1661 Jan 2, 2025, 8:40:55 PM GMT+05:30",
         "HYDERABAD METRO RAIL",
         300.0,
         "Paid",
         "2025-01-02T20:40:55.000+0000",
         "Fuel & Transport",
         "2025-01"
        ],
        [
         "89",
         "Sent ₹50.00 Jan 2, 2025, 7:48:31 PM GMT+05:30",
         "",
         50.0,
         "Sent",
         "2025-01-02T19:48:31.000+0000",
         "Other",
         "2025-01"
        ],
        [
         "90",
         "Paid ₹35.00 using Bank Account XXXXXXXX1661 Jan 2, 2025, 7:44:44 PM GMT+05:30",
         "",
         35.0,
         "Paid",
         "2025-01-02T19:44:44.000+0000",
         "Other",
         "2025-01"
        ],
        [
         "91",
         "Paid ₹210.00 to KEMPAWANAIYA NM using Bank Account XXXXXXXX1661 Jan 2, 2025, 7:08:35 PM GMT+05:30",
         "KEMPAWANAIYA  NM",
         210.0,
         "Paid",
         "2025-01-02T19:08:35.000+0000",
         "Other",
         "2025-01"
        ],
        [
         "92",
         "Paid ₹1800.00 to Zerodha Broking Ltd using Bank Account XXXXXXXX1661 Jan 2, 2025, 8:32:25 AM GMT+05:30",
         "Zerodha Broking Ltd",
         1800.0,
         "Paid",
         "2025-01-02T08:32:25.000+0000",
         "Investment",
         "2025-01"
        ],
        [
         "93",
         "Paid ₹157.00 to Swiggy using Bank Account XXXXXXXX1661 Jan 1, 2025, 9:43:02 PM GMT+05:30",
         "Swiggy",
         157.0,
         "Paid",
         "2025-01-01T21:43:02.000+0000",
         "Food & Dining",
         "2025-01"
        ],
        [
         "94",
         "Paid ₹157.00 to Swiggy Jan 1, 2025, 9:42:24 PM GMT+05:30",
         "",
         157.0,
         "Paid",
         "2025-01-01T21:42:24.000+0000",
         "Other",
         "2025-01"
        ],
        [
         "95",
         "Sent ₹10.00 using Bank Account XXXXXXXX1661 Jan 1, 2025, 9:19:52 PM GMT+05:30",
         "",
         10.0,
         "Sent",
         "2025-01-01T21:19:52.000+0000",
         "Other",
         "2025-01"
        ],
        [
         "96",
         "Paid ₹40.00 to SREE GEETA EATS AND using Bank Account XXXXXXXX1661 Jan 1, 2025, 8:39:27 PM GMT+05:30",
         "SREE GEETA EATS AND",
         40.0,
         "Paid",
         "2025-01-01T20:39:27.000+0000",
         "Food & Dining",
         "2025-01"
        ],
        [
         "97",
         "Paid ₹130.00 to YASHVI KITCHEN MENU using Bank Account XXXXXXXX1661 Jan 1, 2025, 8:27:22 PM GMT+05:30",
         "YASHVI KITCHEN MENU",
         130.0,
         "Paid",
         "2025-01-01T20:27:22.000+0000",
         "Food & Dining",
         "2025-01"
        ],
        [
         "98",
         "Paid ₹50.00 to BATTHINI RANGA SWAMY using Bank Account XXXXXXXX1661 Jan 1, 2025, 8:20:29 PM GMT+05:30",
         "BATTHINI  RANGA SWAMY",
         50.0,
         "Paid",
         "2025-01-01T20:20:29.000+0000",
         "Other",
         "2025-01"
        ],
        [
         "99",
         "Paid ₹70.00 to MD GHOUSE using Bank Account XXXXXXXX1661 Jan 1, 2025, 8:12:10 PM GMT+05:30",
         "MD GHOUSE",
         70.0,
         "Paid",
         "2025-01-01T20:12:10.000+0000",
         "Other",
         "2025-01"
        ],
        [
         "100",
         "Paid ₹1000.00 to Zerodha Broking Ltd using Bank Account XXXXXXXX1661 Jan 1, 2025, 1:26:33 PM GMT+05:30",
         "Zerodha Broking Ltd",
         1000.0,
         "Paid",
         "2025-01-01T13:26:33.000+0000",
         "Investment",
         "2025-01"
        ],
        [
         "101",
         "Paid ₹1325.00 to Zerodha Broking Ltd using Bank Account XXXXXXXX1661 Jan 1, 2025, 1:25:54 PM GMT+05:30",
         "Zerodha Broking Ltd",
         1325.0,
         "Paid",
         "2025-01-01T13:25:54.000+0000",
         "Investment",
         "2025-01"
        ],
        [
         "102",
         "Paid ₹700.00 to Zerodha Broking Ltd using Bank Account XXXXXXXX1661 Jan 1, 2025, 11:56:07 AM GMT+05:30",
         "Zerodha Broking Ltd",
         700.0,
         "Paid",
         "2025-01-01T11:56:07.000+0000",
         "Investment",
         "2025-01"
        ],
        [
         "103",
         "Paid ₹500.00 using Bank Account XXXXXXXX1661 Jan 1, 2025, 11:50:03 AM GMT+05:30",
         "",
         500.0,
         "Paid",
         "2025-01-01T11:50:03.000+0000",
         "Other",
         "2025-01"
        ],
        [
         "104",
         "Paid ₹1700.00 to Zerodha Broking Ltd using Bank Account XXXXXXXX1661 Jan 1, 2025, 11:21:38 AM GMT+05:30",
         "Zerodha Broking Ltd",
         1700.0,
         "Paid",
         "2025-01-01T11:21:38.000+0000",
         "Investment",
         "2025-01"
        ],
        [
         "106",
         "Paid ₹10.00 to Zerodha Broking Ltd using Bank Account XXXXXXXX1661 Jan 1, 2025, 9:40:12 AM GMT+05:30",
         "Zerodha Broking Ltd",
         10.0,
         "Paid",
         "2025-01-01T09:40:12.000+0000",
         "Investment",
         "2025-01"
        ],
        [
         "107",
         "Paid ₹2100.00 to Zerodha Broking Ltd using Bank Account XXXXXXXX1661 Jan 1, 2025, 1:55:17 AM GMT+05:30",
         "Zerodha Broking Ltd",
         2100.0,
         "Paid",
         "2025-01-01T01:55:17.000+0000",
         "Investment",
         "2025-01"
        ],
        [
         "108",
         "Paid ₹50.00 to VIJAYA LAXMI KIRANA AND GENERAL STORE using Bank Account XXXXXXXX1661 Dec 31, 2024, 10:28:37 PM GMT+05:30",
         "VIJAYA LAXMI KIRANA AND GENERAL STORE",
         50.0,
         "Paid",
         "2024-12-31T22:28:37.000+0000",
         "Groceries",
         "2024-12"
        ],
        [
         "109",
         "Paid ₹320.00 to BHAVYAYA FOOD AND B using Bank Account XXXXXXXX1661 Dec 31, 2024, 10:22:43 PM GMT+05:30",
         "BHAVYAYA FOOD AND B",
         320.0,
         "Paid",
         "2024-12-31T22:22:43.000+0000",
         "Food & Dining",
         "2024-12"
        ],
        [
         "110",
         "Paid ₹145.00 to ISHAQ FILLING STATIO using Bank Account XXXXXXXX1661 Dec 31, 2024, 10:19:49 PM GMT+05:30",
         "ISHAQ FILLING STATIO",
         145.0,
         "Paid",
         "2024-12-31T22:19:49.000+0000",
         "Fuel & Transport",
         "2024-12"
        ],
        [
         "111",
         "Paid ₹130.00 to PRAMOD SAIN using Bank Account XXXXXXXX1661 Dec 31, 2024, 7:55:38 PM GMT+05:30",
         "PRAMOD SAIN",
         130.0,
         "Paid",
         "2024-12-31T19:55:38.000+0000",
         "Other",
         "2024-12"
        ],
        [
         "112",
         "Paid ₹20.00 to GUMMADAVELLI SRINIVASALU using Bank Account XXXXXXXX1661 Dec 31, 2024, 4:14:42 PM GMT+05:30",
         "GUMMADAVELLI  SRINIVASALU",
         20.0,
         "Paid",
         "2024-12-31T16:14:42.000+0000",
         "Other",
         "2024-12"
        ],
        [
         "113",
         "Sent ₹1000.00 using Bank Account XXXXXXXX1661 Dec 31, 2024, 1:56:41 PM GMT+05:30",
         "",
         1000.0,
         "Sent",
         "2024-12-31T13:56:41.000+0000",
         "Other",
         "2024-12"
        ],
        [
         "115",
         "Paid ₹190.00 to Zerodha Broking Ltd using Bank Account XXXXXXXX1661 Dec 31, 2024, 11:31:43 AM GMT+05:30",
         "Zerodha Broking Ltd",
         190.0,
         "Paid",
         "2024-12-31T11:31:43.000+0000",
         "Investment",
         "2024-12"
        ],
        [
         "116",
         "Paid ₹330.00 to Zerodha Broking Ltd using Bank Account XXXXXXXX1661 Dec 31, 2024, 11:17:41 AM GMT+05:30",
         "Zerodha Broking Ltd",
         330.0,
         "Paid",
         "2024-12-31T11:17:41.000+0000",
         "Investment",
         "2024-12"
        ],
        [
         "117",
         "Paid ₹880.00 to Zerodha Broking Ltd using Bank Account XXXXXXXX1661 Dec 31, 2024, 11:06:23 AM GMT+05:30",
         "Zerodha Broking Ltd",
         880.0,
         "Paid",
         "2024-12-31T11:06:23.000+0000",
         "Investment",
         "2024-12"
        ],
        [
         "118",
         "Paid ₹2513.00 to Zerodha Broking Ltd using Bank Account XXXXXXXX1661 Dec 31, 2024, 10:21:37 AM GMT+05:30",
         "Zerodha Broking Ltd",
         2513.0,
         "Paid",
         "2024-12-31T10:21:37.000+0000",
         "Investment",
         "2024-12"
        ],
        [
         "119",
         "Paid ₹5000.00 to Zerodha Broking Ltd using Bank Account XXXXXXXX1661 Dec 31, 2024, 9:55:00 AM GMT+05:30",
         "Zerodha Broking Ltd",
         5000.0,
         "Paid",
         "2024-12-31T09:55:00.000+0000",
         "Investment",
         "2024-12"
        ],
        [
         "120",
         "Sent ₹2000.00 using Bank Account XXXXXXXX1661 Dec 31, 2024, 9:54:44 AM GMT+05:30",
         "",
         2000.0,
         "Sent",
         "2024-12-31T09:54:44.000+0000",
         "Other",
         "2024-12"
        ],
        [
         "121",
         "Paid ₹500.00 to Zerodha Broking Ltd using Bank Account XXXXXXXX1661 Dec 31, 2024, 9:48:18 AM GMT+05:30",
         "Zerodha Broking Ltd",
         500.0,
         "Paid",
         "2024-12-31T09:48:18.000+0000",
         "Investment",
         "2024-12"
        ],
        [
         "124",
         "Paid ₹40.81 to MEDPLUS BODUPPAL BRUNDAVAN COLONY using Bank Account XXXXXXXX1661 Dec 30, 2024, 9:27:34 PM GMT+05:30",
         "MEDPLUS BODUPPAL BRUNDAVAN COLONY",
         40.81,
         "Paid",
         "2024-12-30T21:27:34.000+0000",
         "Health & Medical",
         "2024-12"
        ],
        [
         "125",
         "Paid ₹60.00 to Mithai Wala Dilsukhnagar using Bank Account XXXXXXXX1661 Dec 30, 2024, 8:34:38 PM GMT+05:30",
         "Mithai Wala Dilsukhnagar",
         60.0,
         "Paid",
         "2024-12-30T20:34:38.000+0000",
         "Food & Dining",
         "2024-12"
        ],
        [
         "126",
         "Paid ₹30.00 to Tobox Ventures Private Limited using Bank Account XXXXXXXX1661 Dec 30, 2024, 3:37:13 PM GMT+05:30",
         "Tobox Ventures Private Limited",
         30.0,
         "Paid",
         "2024-12-30T15:37:13.000+0000",
         "Food & Dining",
         "2024-12"
        ],
        [
         "127",
         "Paid ₹66.00 using Bank Account XXXXXXXX1661 Dec 30, 2024, 8:23:24 AM GMT+05:30",
         "",
         66.0,
         "Paid",
         "2024-12-30T08:23:24.000+0000",
         "Other",
         "2024-12"
        ],
        [
         "129",
         "Paid ₹66.00 using Bank Account XXXXXXXX1661 Dec 29, 2024, 10:36:52 PM GMT+05:30",
         "",
         66.0,
         "Paid",
         "2024-12-29T22:36:52.000+0000",
         "Other",
         "2024-12"
        ],
        [
         "130",
         "Sent ₹60.00 using Bank Account XXXXXXXX1661 Dec 29, 2024, 9:00:39 PM GMT+05:30",
         "",
         60.0,
         "Sent",
         "2024-12-29T21:00:39.000+0000",
         "Other",
         "2024-12"
        ],
        [
         "131",
         "Sent ₹50.00 Dec 29, 2024, 9:00:33 PM GMT+05:30",
         "",
         50.0,
         "Sent",
         "2024-12-29T21:00:33.000+0000",
         "Other",
         "2024-12"
        ],
        [
         "132",
         "Sent ₹50.00 Dec 29, 2024, 9:00:29 PM GMT+05:30",
         "",
         50.0,
         "Sent",
         "2024-12-29T21:00:29.000+0000",
         "Other",
         "2024-12"
        ],
        [
         "133",
         "Paid ₹50.00 using Bank Account XXXXXXXX1661 Dec 29, 2024, 4:07:18 PM GMT+05:30",
         "",
         50.0,
         "Paid",
         "2024-12-29T16:07:18.000+0000",
         "Other",
         "2024-12"
        ],
        [
         "134",
         "Paid ₹91.00 to bigbasket using Bank Account XXXXXXXX1661 Dec 28, 2024, 10:38:40 PM GMT+05:30",
         "bigbasket",
         91.0,
         "Paid",
         "2024-12-28T22:38:40.000+0000",
         "Groceries",
         "2024-12"
        ],
        [
         "135",
         "Paid ₹110.00 to SYED TAJUDDIN using Bank Account XXXXXXXX1661 Dec 28, 2024, 1:40:45 PM GMT+05:30",
         "SYED  TAJUDDIN",
         110.0,
         "Paid",
         "2024-12-28T13:40:45.000+0000",
         "Other",
         "2024-12"
        ],
        [
         "138",
         "Paid ₹68.00 to Zerodha Broking Ltd using Bank Account XXXXXXXX1661 Dec 27, 2024, 9:27:37 AM GMT+05:30",
         "Zerodha Broking Ltd",
         68.0,
         "Paid",
         "2024-12-27T09:27:37.000+0000",
         "Investment",
         "2024-12"
        ],
        [
         "139",
         "Paid ₹2998.00 to Zerodha Broking Ltd using Bank Account XXXXXXXX1661 Dec 26, 2024, 9:01:37 AM GMT+05:30",
         "Zerodha Broking Ltd",
         2998.0,
         "Paid",
         "2024-12-26T09:01:37.000+0000",
         "Investment",
         "2024-12"
        ],
        [
         "140",
         "Paid ₹2998.00 to Zerodha Broking Ltd using Bank Account XXXXXXXX1661 Dec 26, 2024, 9:01:23 AM GMT+05:30",
         "Zerodha Broking Ltd",
         2998.0,
         "Paid",
         "2024-12-26T09:01:23.000+0000",
         "Investment",
         "2024-12"
        ],
        [
         "142",
         "Sent ₹250.00 using Bank Account XXXXXXXX1661 Dec 25, 2024, 6:43:52 PM GMT+05:30",
         "",
         250.0,
         "Sent",
         "2024-12-25T18:43:52.000+0000",
         "Other",
         "2024-12"
        ],
        [
         "143",
         "Paid ₹60.00 to PRAMOD SAIN using Bank Account XXXXXXXX1661 Dec 24, 2024, 6:24:53 PM GMT+05:30",
         "PRAMOD SAIN",
         60.0,
         "Paid",
         "2024-12-24T18:24:53.000+0000",
         "Other",
         "2024-12"
        ],
        [
         "144",
         "Paid ₹55.00 to VIJAYA LAXMI KIRANA AND GENERAL STORE using Bank Account XXXXXXXX1661 Dec 24, 2024, 6:21:24 PM GMT+05:30",
         "VIJAYA LAXMI KIRANA AND GENERAL STORE",
         55.0,
         "Paid",
         "2024-12-24T18:21:24.000+0000",
         "Groceries",
         "2024-12"
        ],
        [
         "145",
         "Paid ₹10.00 to D RAMAMURTHY using Bank Account XXXXXXXX1661 Dec 24, 2024, 4:02:34 PM GMT+05:30",
         "D RAMAMURTHY",
         10.0,
         "Paid",
         "2024-12-24T16:02:34.000+0000",
         "Other",
         "2024-12"
        ],
        [
         "146",
         "Paid ₹25.00 to G PANDU using Bank Account XXXXXXXX1661 Dec 24, 2024, 3:25:57 PM GMT+05:30",
         "G PANDU",
         25.0,
         "Paid",
         "2024-12-24T15:25:57.000+0000",
         "Other",
         "2024-12"
        ],
        [
         "148",
         "Paid ₹10.00 to THOTA GOPAL using Bank Account XXXXXXXX1661 Dec 23, 2024, 12:12:37 PM GMT+05:30",
         "THOTA  GOPAL",
         10.0,
         "Paid",
         "2024-12-23T12:12:37.000+0000",
         "Other",
         "2024-12"
        ],
        [
         "149",
         "Paid ₹15.00 to Vasavi Traders using Bank Account XXXXXXXX1661 Dec 22, 2024, 7:24:22 PM GMT+05:30",
         "Vasavi Traders",
         15.0,
         "Paid",
         "2024-12-22T19:24:22.000+0000",
         "Shopping & Retail",
         "2024-12"
        ],
        [
         "150",
         "Paid ₹80.00 to SREE GEETA EATS AND using Bank Account XXXXXXXX1661 Dec 22, 2024, 7:19:18 PM GMT+05:30",
         "SREE GEETA EATS AND",
         80.0,
         "Paid",
         "2024-12-22T19:19:18.000+0000",
         "Food & Dining",
         "2024-12"
        ],
        [
         "151",
         "Paid ₹30.00 to AENKARLA VARA LAXMI using Bank Account XXXXXXXX1661 Dec 22, 2024, 7:00:48 PM GMT+05:30",
         "AENKARLA  VARA LAXMI",
         30.0,
         "Paid",
         "2024-12-22T19:00:48.000+0000",
         "Other",
         "2024-12"
        ],
        [
         "152",
         "Paid ₹20.00 to SRI SAMRUDHI AMRUTTULYA using Bank Account XXXXXXXX1661 Dec 22, 2024, 6:20:15 PM GMT+05:30",
         "SRI SAMRUDHI AMRUTTULYA",
         20.0,
         "Paid",
         "2024-12-22T18:20:15.000+0000",
         "Other",
         "2024-12"
        ],
        [
         "153",
         "Paid ₹133.00 using Bank Account XXXXXXXX1661 Dec 22, 2024, 6:04:41 PM GMT+05:30",
         "",
         133.0,
         "Paid",
         "2024-12-22T18:04:41.000+0000",
         "Other",
         "2024-12"
        ],
        [
         "154",
         "Paid ₹133.00 using Bank Account XXXXXXXX1661 Dec 22, 2024, 6:04:22 PM GMT+05:30",
         "",
         133.0,
         "Paid",
         "2024-12-22T18:04:22.000+0000",
         "Other",
         "2024-12"
        ],
        [
         "155",
         "Paid ₹20.00 to ATTAVELLI SWATHI using Bank Account XXXXXXXX1661 Dec 21, 2024, 7:33:38 PM GMT+05:30",
         "ATTAVELLI SWATHI",
         20.0,
         "Paid",
         "2024-12-21T19:33:38.000+0000",
         "Other",
         "2024-12"
        ],
        [
         "156",
         "Paid ₹100.00 to groww using Bank Account XXXXXXXX1661 Dec 21, 2024, 11:58:42 AM GMT+05:30",
         "groww",
         100.0,
         "Paid",
         "2024-12-21T11:58:42.000+0000",
         "Investment",
         "2024-12"
        ],
        [
         "157",
         "Paid ₹30.00 to MADDY CHAKRAPANI using Bank Account XXXXXXXX1661 Dec 20, 2024, 8:35:10 PM GMT+05:30",
         "MADDY  CHAKRAPANI",
         30.0,
         "Paid",
         "2024-12-20T20:35:10.000+0000",
         "Other",
         "2024-12"
        ],
        [
         "158",
         "Sent ₹33.00 using Bank Account XXXXXXXX1661 Dec 20, 2024, 7:11:38 PM GMT+05:30",
         "",
         33.0,
         "Sent",
         "2024-12-20T19:11:38.000+0000",
         "Other",
         "2024-12"
        ],
        [
         "159",
         "Sent ₹40.00 using Bank Account XXXXXXXX1661 Dec 20, 2024, 6:53:08 PM GMT+05:30",
         "",
         40.0,
         "Sent",
         "2024-12-20T18:53:08.000+0000",
         "Other",
         "2024-12"
        ],
        [
         "160",
         "Paid ₹36.00 using Bank Account XXXXXXXX1661 Dec 20, 2024, 1:14:18 PM GMT+05:30",
         "",
         36.0,
         "Paid",
         "2024-12-20T13:14:18.000+0000",
         "Other",
         "2024-12"
        ],
        [
         "161",
         "Paid ₹89.00 using Bank Account XXXXXXXX1661 Dec 20, 2024, 10:06:02 AM GMT+05:30",
         "",
         89.0,
         "Paid",
         "2024-12-20T10:06:02.000+0000",
         "Other",
         "2024-12"
        ],
        [
         "162",
         "Sent ₹100.00 using Bank Account XXXXXXXX1661 Dec 19, 2024, 6:30:20 PM GMT+05:30",
         "",
         100.0,
         "Sent",
         "2024-12-19T18:30:20.000+0000",
         "Other",
         "2024-12"
        ],
        [
         "163",
         "Paid ₹735.52 to BOOKMYSHOW using Bank Account XXXXXXXX1661 Dec 18, 2024, 7:20:04 PM GMT+05:30",
         "BOOKMYSHOW",
         735.52,
         "Paid",
         "2024-12-18T19:20:04.000+0000",
         "Entertainment",
         "2024-12"
        ],
        [
         "164",
         "Paid ₹400.00 using Bank Account XXXXXXXX1661 Dec 18, 2024, 7:15:15 PM GMT+05:30",
         "",
         400.0,
         "Paid",
         "2024-12-18T19:15:15.000+0000",
         "Other",
         "2024-12"
        ],
        [
         "166",
         "Paid ₹1.00 to Zerodha Broking Ltd using Bank Account XXXXXXXX1661 Dec 18, 2024, 9:58:37 AM GMT+05:30",
         "Zerodha Broking Ltd",
         1.0,
         "Paid",
         "2024-12-18T09:58:37.000+0000",
         "Investment",
         "2024-12"
        ],
        [
         "167",
         "Paid ₹15.00 to Amazon Pay using Bank Account XXXXXXXX1661 Dec 17, 2024, 1:13:55 PM GMT+05:30",
         "Amazon Pay",
         15.0,
         "Paid",
         "2024-12-17T13:13:55.000+0000",
         "Shopping & Retail",
         "2024-12"
        ],
        [
         "168",
         "Paid ₹59.00 to Amazon Pay using Bank Account XXXXXXXX1661 Dec 17, 2024, 1:11:14 PM GMT+05:30",
         "Amazon Pay",
         59.0,
         "Paid",
         "2024-12-17T13:11:14.000+0000",
         "Shopping & Retail",
         "2024-12"
        ],
        [
         "169",
         "Paid ₹20.00 to THOTA GOPAL using Bank Account XXXXXXXX1661 Dec 17, 2024, 7:14:53 AM GMT+05:30",
         "THOTA  GOPAL",
         20.0,
         "Paid",
         "2024-12-17T07:14:53.000+0000",
         "Other",
         "2024-12"
        ],
        [
         "170",
         "Paid ₹30.00 to AENKARLA VARA LAXMI using Bank Account XXXXXXXX1661 Dec 16, 2024, 8:18:56 PM GMT+05:30",
         "AENKARLA  VARA LAXMI",
         30.0,
         "Paid",
         "2024-12-16T20:18:56.000+0000",
         "Other",
         "2024-12"
        ],
        [
         "172",
         "Sent ₹2178.00 using Bank Account XXXXXXXX1661 Dec 15, 2024, 12:19:09 PM GMT+05:30",
         "",
         2178.0,
         "Sent",
         "2024-12-15T12:19:09.000+0000",
         "Other",
         "2024-12"
        ],
        [
         "173",
         "Paid ₹32.00 to Tobox Ventures Private Limited using Bank Account XXXXXXXX1661 Dec 12, 2024, 4:40:35 PM GMT+05:30",
         "Tobox Ventures Private Limited",
         32.0,
         "Paid",
         "2024-12-12T16:40:35.000+0000",
         "Food & Dining",
         "2024-12"
        ],
        [
         "174",
         "Paid ₹99.00 to Tobox Ventures Private Limited using Bank Account XXXXXXXX1661 Dec 12, 2024, 1:30:36 PM GMT+05:30",
         "Tobox Ventures Private Limited",
         99.0,
         "Paid",
         "2024-12-12T13:30:36.000+0000",
         "Food & Dining",
         "2024-12"
        ],
        [
         "175",
         "Paid ₹20.00 to K RAVI PRASAD using Bank Account XXXXXXXX1661 Dec 12, 2024, 1:25:42 PM GMT+05:30",
         "K RAVI PRASAD",
         20.0,
         "Paid",
         "2024-12-12T13:25:42.000+0000",
         "Other",
         "2024-12"
        ],
        [
         "177",
         "Paid ₹200.00 to ANTHATI THIRUPATHIAH GOUD using Bank Account XXXXXXXX1661 Dec 11, 2024, 11:53:48 AM GMT+05:30",
         "ANTHATI THIRUPATHIAH GOUD",
         200.0,
         "Paid",
         "2024-12-11T11:53:48.000+0000",
         "Other",
         "2024-12"
        ],
        [
         "179",
         "Paid ₹20.00 to VIJAYA LAXMI KIRANA AND GENERAL STORE using Bank Account XXXXXXXX1661 Dec 10, 2024, 7:43:41 PM GMT+05:30",
         "VIJAYA LAXMI KIRANA AND GENERAL STORE",
         20.0,
         "Paid",
         "2024-12-10T19:43:41.000+0000",
         "Groceries",
         "2024-12"
        ],
        [
         "180",
         "Paid ₹48.00 to TOBOX VENTURES PRIVA using Bank Account XXXXXXXX1661 Dec 10, 2024, 4:19:00 PM GMT+05:30",
         "TOBOX VENTURES PRIVA",
         48.0,
         "Paid",
         "2024-12-10T16:19:00.000+0000",
         "Food & Dining",
         "2024-12"
        ],
        [
         "182",
         "Sent ₹500.00 using Bank Account XXXXXXXX1661 Dec 9, 2024, 9:47:48 PM GMT+05:30",
         "",
         500.0,
         "Sent",
         "2024-12-09T21:47:48.000+0000",
         "Other",
         "2024-12"
        ],
        [
         "184",
         "Sent ₹500.00 using Bank Account XXXXXXXX1661 Dec 9, 2024, 7:20:09 PM GMT+05:30",
         "",
         500.0,
         "Sent",
         "2024-12-09T19:20:09.000+0000",
         "Other",
         "2024-12"
        ],
        [
         "186",
         "Paid ₹25.00 to CONTINENTAL COFFEE PRIVATE LIMITED using Bank Account XXXXXXXX1661 Dec 9, 2024, 6:47:40 PM GMT+05:30",
         "CONTINENTAL COFFEE PRIVATE LIMITED",
         25.0,
         "Paid",
         "2024-12-09T18:47:40.000+0000",
         "Food & Dining",
         "2024-12"
        ],
        [
         "188",
         "Paid ₹35.00 to THOTA GOPAL using Bank Account XXXXXXXX1661 Dec 8, 2024, 2:38:01 PM GMT+05:30",
         "THOTA  GOPAL",
         35.0,
         "Paid",
         "2024-12-08T14:38:01.000+0000",
         "Other",
         "2024-12"
        ],
        [
         "189",
         "Paid ₹50.00 to M SRIKANTH using Bank Account XXXXXXXX1661 Dec 7, 2024, 8:14:32 PM GMT+05:30",
         "M SRIKANTH",
         50.0,
         "Paid",
         "2024-12-07T20:14:32.000+0000",
         "Other",
         "2024-12"
        ],
        [
         "190",
         "Paid ₹100.00 to DS FOODS using Bank Account XXXXXXXX1661 Dec 7, 2024, 8:00:19 PM GMT+05:30",
         "DS FOODS",
         100.0,
         "Paid",
         "2024-12-07T20:00:19.000+0000",
         "Food & Dining",
         "2024-12"
        ],
        [
         "191",
         "Paid ₹230.00 to PANTHULUGARI SRINIVAS using Bank Account XXXXXXXX1661 Dec 7, 2024, 3:21:37 PM GMT+05:30",
         "PANTHULUGARI SRINIVAS",
         230.0,
         "Paid",
         "2024-12-07T15:21:37.000+0000",
         "Other",
         "2024-12"
        ],
        [
         "193",
         "Paid ₹230.00 to PANTHULUGARI SRINIVAS using Bank Account XXXXXXXX1661 Dec 7, 2024, 3:17:48 PM GMT+05:30",
         "PANTHULUGARI SRINIVAS",
         230.0,
         "Paid",
         "2024-12-07T15:17:48.000+0000",
         "Other",
         "2024-12"
        ],
        [
         "194",
         "Paid ₹680.00 to Mohamad Meraj using Bank Account XXXXXXXX1661 Dec 6, 2024, 9:14:41 PM GMT+05:30",
         "Mohamad  Meraj",
         680.0,
         "Paid",
         "2024-12-06T21:14:41.000+0000",
         "Other",
         "2024-12"
        ],
        [
         "195",
         "Paid ₹25.00 to CONTINENTAL COFFEE PRIVATE LIMITED using Bank Account XXXXXXXX1661 Dec 6, 2024, 7:30:16 PM GMT+05:30",
         "CONTINENTAL COFFEE PRIVATE LIMITED",
         25.0,
         "Paid",
         "2024-12-06T19:30:16.000+0000",
         "Food & Dining",
         "2024-12"
        ],
        [
         "196",
         "Paid ₹225.00 to Tibbs Frankie LnT metro raidurg using Bank Account XXXXXXXX1661 Dec 6, 2024, 7:21:23 PM GMT+05:30",
         "Tibbs Frankie LnT metro raidurg",
         225.0,
         "Paid",
         "2024-12-06T19:21:23.000+0000",
         "Food & Dining",
         "2024-12"
        ],
        [
         "197",
         "Paid ₹1500.00 using Bank Account XXXXXXXX1661 Dec 6, 2024, 7:17:54 PM GMT+05:30",
         "",
         1500.0,
         "Paid",
         "2024-12-06T19:17:54.000+0000",
         "Other",
         "2024-12"
        ],
        [
         "198",
         "Sent ₹1500.00 using Bank Account XXXXXXXX1661 Dec 6, 2024, 7:16:24 PM GMT+05:30",
         "",
         1500.0,
         "Sent",
         "2024-12-06T19:16:24.000+0000",
         "Other",
         "2024-12"
        ],
        [
         "199",
         "Paid ₹130.00 to K S BAKERS using Bank Account XXXXXXXX1661 Dec 6, 2024, 4:22:51 PM GMT+05:30",
         "K S BAKERS",
         130.0,
         "Paid",
         "2024-12-06T16:22:51.000+0000",
         "Food & Dining",
         "2024-12"
        ],
        [
         "200",
         "Paid ₹40.00 to K S BAKERS using Bank Account XXXXXXXX1661 Dec 6, 2024, 3:47:29 PM GMT+05:30",
         "K S BAKERS",
         40.0,
         "Paid",
         "2024-12-06T15:47:29.000+0000",
         "Food & Dining",
         "2024-12"
        ],
        [
         "201",
         "Sent ₹1000.00 using Bank Account XXXXXXXX1661 Dec 6, 2024, 1:23:50 PM GMT+05:30",
         "",
         1000.0,
         "Sent",
         "2024-12-06T13:23:50.000+0000",
         "Other",
         "2024-12"
        ],
        [
         "202",
         "Paid ₹258.00 to FB CAKES using Bank Account XXXXXXXX1661 Dec 5, 2024, 7:46:02 PM GMT+05:30",
         "FB CAKES",
         258.0,
         "Paid",
         "2024-12-05T19:46:02.000+0000",
         "Food & Dining",
         "2024-12"
        ],
        [
         "204",
         "Paid ₹19.00 to Amazon Pay using Bank Account XXXXXXXX1661 Dec 5, 2024, 1:02:22 PM GMT+05:30",
         "Amazon Pay",
         19.0,
         "Paid",
         "2024-12-05T13:02:22.000+0000",
         "Shopping & Retail",
         "2024-12"
        ],
        [
         "205",
         "Paid ₹165.00 to YASHVI KITCHEN MENU using Bank Account XXXXXXXX1661 Dec 4, 2024, 8:24:52 PM GMT+05:30",
         "YASHVI KITCHEN MENU",
         165.0,
         "Paid",
         "2024-12-04T20:24:52.000+0000",
         "Food & Dining",
         "2024-12"
        ],
        [
         "206",
         "Paid ₹77.00 to Tobox Ventures Private Limited using Bank Account XXXXXXXX1661 Dec 4, 2024, 11:47:42 AM GMT+05:30",
         "Tobox Ventures Private Limited",
         77.0,
         "Paid",
         "2024-12-04T11:47:42.000+0000",
         "Food & Dining",
         "2024-12"
        ],
        [
         "207",
         "Paid ₹231.00 to GANGULA PADMALAXMI using Bank Account XXXXXXXX1661 Dec 3, 2024, 7:06:06 PM GMT+05:30",
         "GANGULA PADMALAXMI",
         231.0,
         "Paid",
         "2024-12-03T19:06:06.000+0000",
         "Other",
         "2024-12"
        ],
        [
         "209",
         "Paid ₹258.00 to FB CAKES using Bank Account XXXXXXXX1661 Dec 2, 2024, 8:46:34 PM GMT+05:30",
         "FB CAKES",
         258.0,
         "Paid",
         "2024-12-02T20:46:34.000+0000",
         "Food & Dining",
         "2024-12"
        ],
        [
         "211",
         "Sent ₹858.00 using Bank Account XXXXXXXX1661 Dec 2, 2024, 6:09:15 PM GMT+05:30",
         "",
         858.0,
         "Sent",
         "2024-12-02T18:09:15.000+0000",
         "Other",
         "2024-12"
        ],
        [
         "212",
         "Sent ₹858.00 Dec 2, 2024, 6:08:03 PM GMT+05:30",
         "",
         858.0,
         "Sent",
         "2024-12-02T18:08:03.000+0000",
         "Other",
         "2024-12"
        ],
        [
         "214",
         "Paid ₹2.00 to Google Play using Bank Account XXXXXXXX1661 Dec 2, 2024, 9:27:39 AM GMT+05:30",
         "Google Play",
         2.0,
         "Paid",
         "2024-12-02T09:27:39.000+0000",
         "Entertainment",
         "2024-12"
        ],
        [
         "215",
         "Paid ₹2.00 to Google Play using Bank Account XXXXXXXX1661 Dec 2, 2024, 9:27:25 AM GMT+05:30",
         "Google Play",
         2.0,
         "Paid",
         "2024-12-02T09:27:25.000+0000",
         "Entertainment",
         "2024-12"
        ],
        [
         "216",
         "Paid ₹9.00 to APOLLO PHARMACY using Bank Account XXXXXXXX1661 Dec 1, 2024, 7:02:49 PM GMT+05:30",
         "APOLLO PHARMACY",
         9.0,
         "Paid",
         "2024-12-01T19:02:49.000+0000",
         "Health & Medical",
         "2024-12"
        ],
        [
         "217",
         "Paid ₹258.00 to FB CAKES using Bank Account XXXXXXXX1661 Dec 1, 2024, 6:48:39 PM GMT+05:30",
         "FB CAKES",
         258.0,
         "Paid",
         "2024-12-01T18:48:39.000+0000",
         "Food & Dining",
         "2024-12"
        ],
        [
         "219",
         "Sent ₹600.00 using Bank Account XXXXXXXX1661 Nov 29, 2024, 9:31:38 PM GMT+05:30",
         "",
         600.0,
         "Sent",
         "2024-11-29T21:31:38.000+0000",
         "Other",
         "2024-11"
        ],
        [
         "220",
         "Paid ₹2089.00 to IBIBO GROUP PRIVATE LIMITED using Bank Account XXXXXXXX1661 Nov 29, 2024, 9:30:21 PM GMT+05:30",
         "IBIBO GROUP PRIVATE LIMITED",
         2089.0,
         "Paid",
         "2024-11-29T21:30:21.000+0000",
         "Other",
         "2024-11"
        ],
        [
         "221",
         "Sent ₹50.00 using Bank Account XXXXXXXX1661 Nov 29, 2024, 8:30:26 PM GMT+05:30",
         "",
         50.0,
         "Sent",
         "2024-11-29T20:30:26.000+0000",
         "Other",
         "2024-11"
        ],
        [
         "222",
         "Paid ₹523.90 to BURGER KING INDIA PVT LTD using Bank Account XXXXXXXX1661 Nov 29, 2024, 7:21:24 PM GMT+05:30",
         "BURGER KING INDIA PVT LTD",
         523.9,
         "Paid",
         "2024-11-29T19:21:24.000+0000",
         "Food & Dining",
         "2024-11"
        ],
        [
         "224",
         "Paid ₹100.00 to Duragam Cheruvu using Bank Account XXXXXXXX1661 Nov 29, 2024, 8:56:48 AM GMT+05:30",
         "Duragam Cheruvu",
         100.0,
         "Paid",
         "2024-11-29T08:56:48.000+0000",
         "Other",
         "2024-11"
        ],
        [
         "225",
         "Paid ₹10.00 to THOTA GOPAL using Bank Account XXXXXXXX1661 Nov 29, 2024, 7:47:57 AM GMT+05:30",
         "THOTA  GOPAL",
         10.0,
         "Paid",
         "2024-11-29T07:47:57.000+0000",
         "Other",
         "2024-11"
        ],
        [
         "226",
         "Paid ₹46.00 to Tobox Ventures Private Limited using Bank Account XXXXXXXX1661 Nov 28, 2024, 5:08:24 PM GMT+05:30",
         "Tobox Ventures Private Limited",
         46.0,
         "Paid",
         "2024-11-28T17:08:24.000+0000",
         "Food & Dining",
         "2024-11"
        ],
        [
         "227",
         "Sent ₹150.00 using Bank Account XXXXXXXX1661 Nov 28, 2024, 1:17:58 PM GMT+05:30",
         "",
         150.0,
         "Sent",
         "2024-11-28T13:17:58.000+0000",
         "Other",
         "2024-11"
        ],
        [
         "228",
         "Paid ₹40.00 to APOLLO PHARMACY using Bank Account XXXXXX1661 Nov 27, 2024, 8:07:27 PM GMT+05:30",
         "APOLLO PHARMACY",
         40.0,
         "Paid",
         "2024-11-27T20:07:27.000+0000",
         "Health & Medical",
         "2024-11"
        ],
        [
         "229",
         "Paid ₹40.00 to APOLLO PHARMACY using Bank Account XXXXXX1661 Nov 27, 2024, 8:06:59 PM GMT+05:30",
         "APOLLO PHARMACY",
         40.0,
         "Paid",
         "2024-11-27T20:06:59.000+0000",
         "Health & Medical",
         "2024-11"
        ],
        [
         "230",
         "Paid ₹115.00 to THONTA NAVEEN using Bank Account XXXXXX1661 Nov 27, 2024, 7:52:04 PM GMT+05:30",
         "THONTA  NAVEEN",
         115.0,
         "Paid",
         "2024-11-27T19:52:04.000+0000",
         "Other",
         "2024-11"
        ],
        [
         "231",
         "Paid ₹115.00 to THONTA NAVEEN using Bank Account XXXXXX1661 Nov 27, 2024, 7:51:39 PM GMT+05:30",
         "THONTA  NAVEEN",
         115.0,
         "Paid",
         "2024-11-27T19:51:39.000+0000",
         "Other",
         "2024-11"
        ],
        [
         "232",
         "Paid ₹115.00 to THONTA NAVEEN using Bank Account XXXXXX1661 Nov 27, 2024, 7:51:29 PM GMT+05:30",
         "THONTA  NAVEEN",
         115.0,
         "Paid",
         "2024-11-27T19:51:29.000+0000",
         "Other",
         "2024-11"
        ],
        [
         "233",
         "Paid ₹50.00 to AENKARLA VARA LAXMI using Bank Account XXXXXX1661 Nov 27, 2024, 7:46:59 PM GMT+05:30",
         "AENKARLA  VARA LAXMI",
         50.0,
         "Paid",
         "2024-11-27T19:46:59.000+0000",
         "Other",
         "2024-11"
        ],
        [
         "235",
         "Paid ₹1.00 Nov 24, 2024, 8:47:13 PM GMT+05:30",
         "",
         1.0,
         "Paid",
         "2024-11-24T20:47:13.000+0000",
         "Other",
         "2024-11"
        ],
        [
         "236",
         "Paid ₹10.00 to THOTA GOPAL using Bank Account XXXXXXXX1661 Nov 22, 2024, 7:48:13 PM GMT+05:30",
         "THOTA  GOPAL",
         10.0,
         "Paid",
         "2024-11-22T19:48:13.000+0000",
         "Other",
         "2024-11"
        ],
        [
         "237",
         "Paid ₹10.00 to THOTA GOPAL using Bank Account XXXXXXXX1661 Nov 22, 2024, 7:48:05 PM GMT+05:30",
         "THOTA  GOPAL",
         10.0,
         "Paid",
         "2024-11-22T19:48:05.000+0000",
         "Other",
         "2024-11"
        ],
        [
         "238",
         "Paid ₹10.00 to THOTA GOPAL using Bank Account XXXXXXXX1661 Nov 22, 2024, 7:47:42 PM GMT+05:30",
         "THOTA  GOPAL",
         10.0,
         "Paid",
         "2024-11-22T19:47:42.000+0000",
         "Other",
         "2024-11"
        ],
        [
         "239",
         "Paid ₹350.00 to D RAMAMURTHY using Bank Account XXXXXXXX1661 Nov 22, 2024, 7:39:04 PM GMT+05:30",
         "D RAMAMURTHY",
         350.0,
         "Paid",
         "2024-11-22T19:39:04.000+0000",
         "Other",
         "2024-11"
        ],
        [
         "240",
         "Paid ₹500.00 to LENSKART using Bank Account XXXXXXXX1661 Nov 22, 2024, 7:32:18 PM GMT+05:30",
         "LENSKART",
         500.0,
         "Paid",
         "2024-11-22T19:32:18.000+0000",
         "Shopping & Retail",
         "2024-11"
        ],
        [
         "241",
         "Sent ₹400.00 using Bank Account XXXXXXXX1661 Nov 22, 2024, 6:18:27 PM GMT+05:30",
         "",
         400.0,
         "Sent",
         "2024-11-22T18:18:27.000+0000",
         "Other",
         "2024-11"
        ],
        [
         "243",
         "Paid ₹200.00 to Green Juice& Potato Twister using Bank Account XXXXXXXX1661 Nov 21, 2024, 9:59:12 PM GMT+05:30",
         "Green Juice& Potato Twister",
         200.0,
         "Paid",
         "2024-11-21T21:59:12.000+0000",
         "Food & Dining",
         "2024-11"
        ],
        [
         "244",
         "Paid ₹70.00 to bbinstant using Bank Account XXXXXXXX1661 Nov 21, 2024, 6:00:40 PM GMT+05:30",
         "bbinstant",
         70.0,
         "Paid",
         "2024-11-21T18:00:40.000+0000",
         "Food & Dining",
         "2024-11"
        ],
        [
         "245",
         "Paid ₹100.00 to bbinstant using Bank Account XXXXXXXX1661 Nov 21, 2024, 5:59:40 PM GMT+05:30",
         "bbinstant",
         100.0,
         "Paid",
         "2024-11-21T17:59:40.000+0000",
         "Food & Dining",
         "2024-11"
        ],
        [
         "246",
         "Sent ₹800.00 using Bank Account XXXXXXXX1661 Nov 21, 2024, 3:37:31 PM GMT+05:30",
         "",
         800.0,
         "Sent",
         "2024-11-21T15:37:31.000+0000",
         "Other",
         "2024-11"
        ],
        [
         "248",
         "Paid ₹20.00 using Bank Account XXXXXXXX1661 Nov 21, 2024, 1:28:49 PM GMT+05:30",
         "",
         20.0,
         "Paid",
         "2024-11-21T13:28:49.000+0000",
         "Other",
         "2024-11"
        ],
        [
         "249",
         "Paid ₹40.00 using Bank Account XXXXXXXX1661 Nov 21, 2024, 12:56:09 PM GMT+05:30",
         "",
         40.0,
         "Paid",
         "2024-11-21T12:56:09.000+0000",
         "Other",
         "2024-11"
        ],
        [
         "250",
         "Paid ₹82.96 to RESTAURANT BRANDS ASIA LIMITED using Bank Account XXXXXXXX1661 Nov 21, 2024, 12:13:15 PM GMT+05:30",
         "RESTAURANT BRANDS ASIA LIMITED",
         82.96,
         "Paid",
         "2024-11-21T12:13:15.000+0000",
         "Food & Dining",
         "2024-11"
        ],
        [
         "251",
         "Sent ₹400.00 using Bank Account XXXXXXXX1661 Nov 21, 2024, 11:05:23 AM GMT+05:30",
         "",
         400.0,
         "Sent",
         "2024-11-21T11:05:23.000+0000",
         "Other",
         "2024-11"
        ],
        [
         "252",
         "Sent ₹20.00 using Bank Account XXXXXXXX1661 Nov 21, 2024, 10:02:35 AM GMT+05:30",
         "",
         20.0,
         "Sent",
         "2024-11-21T10:02:35.000+0000",
         "Other",
         "2024-11"
        ],
        [
         "253",
         "Sent ₹845.00 using Bank Account XXXXXXXX1661 Nov 21, 2024, 8:59:03 AM GMT+05:30",
         "",
         845.0,
         "Sent",
         "2024-11-21T08:59:03.000+0000",
         "Other",
         "2024-11"
        ],
        [
         "255",
         "Paid ₹24.99 to Park Hyderabad using Bank Account XXXXXXXX1661 Nov 20, 2024, 9:40:02 PM GMT+05:30",
         "Park Hyderabad",
         24.99,
         "Paid",
         "2024-11-20T21:40:02.000+0000",
         "Fuel & Transport",
         "2024-11"
        ],
        [
         "256",
         "Paid ₹210.00 to Tibbs Frankie Raidurg metro Station using Bank Account XXXXXXXX1661 Nov 20, 2024, 9:10:55 PM GMT+05:30",
         "Tibbs Frankie Raidurg metro Station",
         210.0,
         "Paid",
         "2024-11-20T21:10:55.000+0000",
         "Food & Dining",
         "2024-11"
        ],
        [
         "257",
         "Paid ₹20.00 to NEW AMOGHA VEG AND NON VEG using Bank Account XXXXXXXX1661 Nov 20, 2024, 9:08:29 PM GMT+05:30",
         "NEW AMOGHA VEG AND NON VEG",
         20.0,
         "Paid",
         "2024-11-20T21:08:29.000+0000",
         "Food & Dining",
         "2024-11"
        ],
        [
         "259",
         "Paid ₹39.00 to VIJETHA SUPERMARKETS PVT LTD using Bank Account XXXXXXXX1661 Nov 20, 2024, 8:49:19 PM GMT+05:30",
         "VIJETHA SUPERMARKETS PVT LTD",
         39.0,
         "Paid",
         "2024-11-20T20:49:19.000+0000",
         "Groceries",
         "2024-11"
        ],
        [
         "260",
         "Paid ₹90.00 using Bank Account XXXXXXXX1661 Nov 20, 2024, 2:06:48 PM GMT+05:30",
         "",
         90.0,
         "Paid",
         "2024-11-20T14:06:48.000+0000",
         "Other",
         "2024-11"
        ],
        [
         "261",
         "Paid ₹10.00 to THOTA GOPAL using Bank Account XXXXXXXX1661 Nov 20, 2024, 7:59:37 AM GMT+05:30",
         "THOTA  GOPAL",
         10.0,
         "Paid",
         "2024-11-20T07:59:37.000+0000",
         "Other",
         "2024-11"
        ],
        [
         "262",
         "Paid ₹50.00 to AENKARLA VARA LAXMI using Bank Account XXXXXXXX1661 Nov 19, 2024, 9:21:15 PM GMT+05:30",
         "AENKARLA  VARA LAXMI",
         50.0,
         "Paid",
         "2024-11-19T21:21:15.000+0000",
         "Other",
         "2024-11"
        ],
        [
         "263",
         "Paid ₹224.00 to Maruthi Auto Care using Bank Account XXXXXXXX1661 Nov 19, 2024, 9:07:06 PM GMT+05:30",
         "Maruthi Auto Care",
         224.0,
         "Paid",
         "2024-11-19T21:07:06.000+0000",
         "Fuel & Transport",
         "2024-11"
        ],
        [
         "264",
         "Paid ₹40.00 to B25 RAIDURG METRO using Bank Account XXXXXXXX1661 Nov 19, 2024, 7:40:31 PM GMT+05:30",
         "B25 RAIDURG METRO",
         40.0,
         "Paid",
         "2024-11-19T19:40:31.000+0000",
         "Fuel & Transport",
         "2024-11"
        ],
        [
         "265",
         "Paid ₹20.00 to B25 RAIDURG METRO Nov 19, 2024, 7:40:13 PM GMT+05:30",
         "",
         20.0,
         "Paid",
         "2024-11-19T19:40:13.000+0000",
         "Other",
         "2024-11"
        ],
        [
         "266",
         "Paid ₹69.97 to Park Hyderabad using Bank Account XXXXXXXX1661 Nov 19, 2024, 6:07:57 PM GMT+05:30",
         "Park Hyderabad",
         69.97,
         "Paid",
         "2024-11-19T18:07:57.000+0000",
         "Fuel & Transport",
         "2024-11"
        ],
        [
         "267",
         "Paid ₹40.00 to MEHFIL RESTAURANT-3 using Bank Account XXXXXXXX1661 Nov 18, 2024, 8:38:40 PM GMT+05:30",
         "MEHFIL RESTAURANT-3",
         40.0,
         "Paid",
         "2024-11-18T20:38:40.000+0000",
         "Food & Dining",
         "2024-11"
        ],
        [
         "268",
         "Paid ₹471.00 to PH PHImax 1178 using Bank Account XXXXXXXX1661 Nov 16, 2024, 8:40:48 PM GMT+05:30",
         "PH PHImax 1178",
         471.0,
         "Paid",
         "2024-11-16T20:40:48.000+0000",
         "Other",
         "2024-11"
        ],
        [
         "269",
         "Paid ₹200.00 to Chocolate Hut IMAX using Bank Account XXXXXXXX1661 Nov 16, 2024, 8:03:10 PM GMT+05:30",
         "Chocolate Hut  IMAX",
         200.0,
         "Paid",
         "2024-11-16T20:03:10.000+0000",
         "Food & Dining",
         "2024-11"
        ],
        [
         "270",
         "Paid ₹34.99 to Park Hyderabad using Bank Account XXXXXXXX1661 Nov 15, 2024, 8:46:01 PM GMT+05:30",
         "Park Hyderabad",
         34.99,
         "Paid",
         "2024-11-15T20:46:01.000+0000",
         "Fuel & Transport",
         "2024-11"
        ],
        [
         "271",
         "Paid ₹89.00 to Tobox Ventures Private Limited using Bank Account XXXXXXXX1661 Nov 15, 2024, 2:04:47 PM GMT+05:30",
         "Tobox Ventures Private Limited",
         89.0,
         "Paid",
         "2024-11-15T14:04:47.000+0000",
         "Food & Dining",
         "2024-11"
        ],
        [
         "272",
         "Paid ₹24.99 to Park Hyderabad using Bank Account XXXXXXXX1661 Nov 14, 2024, 7:56:22 PM GMT+05:30",
         "Park Hyderabad",
         24.99,
         "Paid",
         "2024-11-14T19:56:22.000+0000",
         "Fuel & Transport",
         "2024-11"
        ],
        [
         "273",
         "Paid ₹75.00 to CONTINENTAL COFFEE PRIVATE LIMITED using Bank Account XXXXXXXX1661 Nov 14, 2024, 7:26:57 PM GMT+05:30",
         "CONTINENTAL COFFEE PRIVATE LIMITED",
         75.0,
         "Paid",
         "2024-11-14T19:26:57.000+0000",
         "Food & Dining",
         "2024-11"
        ],
        [
         "274",
         "Sent ₹50.00 using Bank Account XXXXXXXX1661 Nov 14, 2024, 7:26:11 PM GMT+05:30",
         "",
         50.0,
         "Sent",
         "2024-11-14T19:26:11.000+0000",
         "Other",
         "2024-11"
        ],
        [
         "275",
         "Paid ₹225.00 to Tibbs Frankie LnT metro raidurg using Bank Account XXXXXXXX1661 Nov 14, 2024, 7:18:57 PM GMT+05:30",
         "Tibbs Frankie LnT metro raidurg",
         225.0,
         "Paid",
         "2024-11-14T19:18:57.000+0000",
         "Food & Dining",
         "2024-11"
        ],
        [
         "277",
         "Paid ₹24.99 to Park Hyderabad using Bank Account XXXXXXXX1661 Nov 13, 2024, 8:14:25 PM GMT+05:30",
         "Park Hyderabad",
         24.99,
         "Paid",
         "2024-11-13T20:14:25.000+0000",
         "Fuel & Transport",
         "2024-11"
        ],
        [
         "278",
         "Paid ₹65.00 to CONTINENTAL COFFEE PRIVATE LIMITED using Bank Account XXXXXXXX1661 Nov 13, 2024, 6:54:00 PM GMT+05:30",
         "CONTINENTAL COFFEE PRIVATE LIMITED",
         65.0,
         "Paid",
         "2024-11-13T18:54:00.000+0000",
         "Food & Dining",
         "2024-11"
        ],
        [
         "279",
         "Paid ₹267.00 to Tibbs Frankie LnT metro raidurg using Bank Account XXXXXXXX1661 Nov 13, 2024, 6:33:55 PM GMT+05:30",
         "Tibbs Frankie LnT metro raidurg",
         267.0,
         "Paid",
         "2024-11-13T18:33:55.000+0000",
         "Food & Dining",
         "2024-11"
        ],
        [
         "280",
         "Paid ₹49.00 to Tobox Ventures Private Limited Nov 13, 2024, 1:34:35 PM GMT+05:30",
         "",
         49.0,
         "Paid",
         "2024-11-13T13:34:35.000+0000",
         "Other",
         "2024-11"
        ],
        [
         "281",
         "Paid ₹49.00 to Tobox Ventures Private Limited using Bank Account XXXXXXXX1661 Nov 13, 2024, 1:33:49 PM GMT+05:30",
         "Tobox Ventures Private Limited",
         49.0,
         "Paid",
         "2024-11-13T13:33:49.000+0000",
         "Food & Dining",
         "2024-11"
        ],
        [
         "282",
         "Paid ₹260.41 to K419 KFC Nagole using Bank Account XXXXXXXX1661 Nov 12, 2024, 8:07:53 PM GMT+05:30",
         "K419 KFC Nagole",
         260.41,
         "Paid",
         "2024-11-12T20:07:53.000+0000",
         "Other",
         "2024-11"
        ],
        [
         "283",
         "Paid ₹260.41 to K419 KFC Nagole Nov 12, 2024, 8:07:48 PM GMT+05:30",
         "",
         260.41,
         "Paid",
         "2024-11-12T20:07:48.000+0000",
         "Other",
         "2024-11"
        ],
        [
         "284",
         "Paid ₹30.00 to KOLA VENKANNA using Bank Account XXXXXXXX1661 Nov 12, 2024, 7:46:24 PM GMT+05:30",
         "KOLA  VENKANNA",
         30.0,
         "Paid",
         "2024-11-12T19:46:24.000+0000",
         "Other",
         "2024-11"
        ],
        [
         "285",
         "Paid ₹30.00 to KOLA VENKANNA using Bank Account XXXXXXXX1661 Nov 12, 2024, 7:45:09 PM GMT+05:30",
         "KOLA  VENKANNA",
         30.0,
         "Paid",
         "2024-11-12T19:45:09.000+0000",
         "Other",
         "2024-11"
        ],
        [
         "286",
         "Paid ₹30.00 to KOLA VENKANNA using Bank Account XXXXXXXX1661 Nov 12, 2024, 7:41:28 PM GMT+05:30",
         "KOLA  VENKANNA",
         30.0,
         "Paid",
         "2024-11-12T19:41:28.000+0000",
         "Other",
         "2024-11"
        ],
        [
         "287",
         "Paid ₹24.99 to Park Hyderabad using Bank Account XXXXXXXX1661 Nov 12, 2024, 7:40:06 PM GMT+05:30",
         "Park Hyderabad",
         24.99,
         "Paid",
         "2024-11-12T19:40:06.000+0000",
         "Fuel & Transport",
         "2024-11"
        ],
        [
         "288",
         "Paid ₹45.00 using Bank Account XXXXXXXX1661 Nov 12, 2024, 11:31:52 AM GMT+05:30",
         "",
         45.0,
         "Paid",
         "2024-11-12T11:31:52.000+0000",
         "Other",
         "2024-11"
        ],
        [
         "289",
         "Paid ₹24.99 to Park Hyderabad using Bank Account XXXXXXXX1661 Nov 11, 2024, 7:59:05 PM GMT+05:30",
         "Park Hyderabad",
         24.99,
         "Paid",
         "2024-11-11T19:59:05.000+0000",
         "Fuel & Transport",
         "2024-11"
        ],
        [
         "290",
         "Paid ₹45.00 to CONTINENTAL COFFEE PRIVATE LIMITED using Bank Account XXXXXXXX1661 Nov 11, 2024, 7:40:38 PM GMT+05:30",
         "CONTINENTAL COFFEE PRIVATE LIMITED",
         45.0,
         "Paid",
         "2024-11-11T19:40:38.000+0000",
         "Food & Dining",
         "2024-11"
        ],
        [
         "291",
         "Paid ₹148.00 to ASHISH KUMAR using Bank Account XXXXXXXX1661 Nov 11, 2024, 4:14:58 PM GMT+05:30",
         "ASHISH KUMAR",
         148.0,
         "Paid",
         "2024-11-11T16:14:58.000+0000",
         "Other",
         "2024-11"
        ],
        [
         "292",
         "Paid ₹2.00 to Google Play using Bank Account XXXXXXXX1661 Nov 10, 2024, 8:17:05 PM GMT+05:30",
         "Google Play",
         2.0,
         "Paid",
         "2024-11-10T20:17:05.000+0000",
         "Entertainment",
         "2024-11"
        ],
        [
         "293",
         "Paid ₹2.00 to Google Play using Bank Account XXXXXXXX1661 Nov 10, 2024, 8:16:51 PM GMT+05:30",
         "Google Play",
         2.0,
         "Paid",
         "2024-11-10T20:16:51.000+0000",
         "Entertainment",
         "2024-11"
        ],
        [
         "294",
         "Paid ₹24.99 to Park Hyderabad using Bank Account XXXXXXXX1661 Nov 9, 2024, 6:34:17 PM GMT+05:30",
         "Park Hyderabad",
         24.99,
         "Paid",
         "2024-11-09T18:34:17.000+0000",
         "Fuel & Transport",
         "2024-11"
        ],
        [
         "295",
         "Paid ₹24.99 to Park Hyderabad using Bank Account XXXXXXXX1661 Nov 9, 2024, 6:33:56 PM GMT+05:30",
         "Park Hyderabad",
         24.99,
         "Paid",
         "2024-11-09T18:33:56.000+0000",
         "Fuel & Transport",
         "2024-11"
        ],
        [
         "296",
         "Paid ₹107.00 to K Vishnu using Bank Account XXXXXXXX1661 Nov 9, 2024, 4:12:50 PM GMT+05:30",
         "K Vishnu",
         107.0,
         "Paid",
         "2024-11-09T16:12:50.000+0000",
         "Other",
         "2024-11"
        ],
        [
         "297",
         "Paid ₹826.00 to AKSHAYA AROMA KITCHE using Bank Account XXXXXXXX1661 Nov 9, 2024, 3:36:01 PM GMT+05:30",
         "AKSHAYA AROMA KITCHE",
         826.0,
         "Paid",
         "2024-11-09T15:36:01.000+0000",
         "Other",
         "2024-11"
        ],
        [
         "299",
         "Paid ₹10.00 using Bank Account XXXXXXXX1661 Nov 9, 2024, 10:45:41 AM GMT+05:30",
         "",
         10.0,
         "Paid",
         "2024-11-09T10:45:41.000+0000",
         "Other",
         "2024-11"
        ],
        [
         "300",
         "Paid ₹10.00 to GUMMADAVELLI SRINIVASALU using Bank Account XXXXXXXX1661 Nov 9, 2024, 9:36:10 AM GMT+05:30",
         "GUMMADAVELLI  SRINIVASALU",
         10.0,
         "Paid",
         "2024-11-09T09:36:10.000+0000",
         "Other",
         "2024-11"
        ],
        [
         "301",
         "Paid ₹85.00 using Bank Account XXXXXXXX1661 Nov 9, 2024, 8:57:03 AM GMT+05:30",
         "",
         85.0,
         "Paid",
         "2024-11-09T08:57:03.000+0000",
         "Other",
         "2024-11"
        ],
        [
         "302",
         "Paid ₹1500.00 to Landt Metro- NAGOLE using Bank Account XXXXXXXX1661 Nov 8, 2024, 10:21:41 PM GMT+05:30",
         "Landt Metro- NAGOLE",
         1500.0,
         "Paid",
         "2024-11-08T22:21:41.000+0000",
         "Fuel & Transport",
         "2024-11"
        ],
        [
         "303",
         "Paid ₹24.99 to Park Hyderabad using Bank Account XXXXXXXX1661 Nov 8, 2024, 10:02:49 PM GMT+05:30",
         "Park Hyderabad",
         24.99,
         "Paid",
         "2024-11-08T22:02:49.000+0000",
         "Fuel & Transport",
         "2024-11"
        ],
        [
         "304",
         "Paid ₹4.99 to Park Hyderabad using Bank Account XXXXXXXX1661 Nov 7, 2024, 8:06:50 PM GMT+05:30",
         "Park Hyderabad",
         4.99,
         "Paid",
         "2024-11-07T20:06:50.000+0000",
         "Fuel & Transport",
         "2024-11"
        ],
        [
         "305",
         "Paid ₹89.96 to Park Hyderabad using Bank Account XXXXXXXX1661 Nov 7, 2024, 8:01:45 AM GMT+05:30",
         "Park Hyderabad",
         89.96,
         "Paid",
         "2024-11-07T08:01:45.000+0000",
         "Fuel & Transport",
         "2024-11"
        ],
        [
         "306",
         "Paid ₹10.00 to Bommagouni Baraddwaj using Bank Account XXXXXXXX1661 Nov 7, 2024, 7:23:36 AM GMT+05:30",
         "Bommagouni Baraddwaj",
         10.0,
         "Paid",
         "2024-11-07T07:23:36.000+0000",
         "Other",
         "2024-11"
        ],
        [
         "307",
         "Paid ₹60.00 to KOPPOLLA SUHASINI using Bank Account XXXXXXXX1661 Nov 7, 2024, 7:20:32 AM GMT+05:30",
         "KOPPOLLA SUHASINI",
         60.0,
         "Paid",
         "2024-11-07T07:20:32.000+0000",
         "Other",
         "2024-11"
        ],
        [
         "308",
         "Paid ₹40.00 to APPAGONI RAJU using Bank Account XXXXXXXX1661 Nov 6, 2024, 8:43:32 PM GMT+05:30",
         "APPAGONI RAJU",
         40.0,
         "Paid",
         "2024-11-06T20:43:32.000+0000",
         "Other",
         "2024-11"
        ],
        [
         "309",
         "Paid ₹40.00 to APPAGONI RAJU using Bank Account XXXXXXXX1661 Nov 6, 2024, 8:43:02 PM GMT+05:30",
         "APPAGONI RAJU",
         40.0,
         "Paid",
         "2024-11-06T20:43:02.000+0000",
         "Other",
         "2024-11"
        ],
        [
         "311",
         "Paid ₹10.00 to THOTA GOPAL using Bank Account XXXXXXXX1661 Nov 4, 2024, 7:53:08 PM GMT+05:30",
         "THOTA  GOPAL",
         10.0,
         "Paid",
         "2024-11-04T19:53:08.000+0000",
         "Other",
         "2024-11"
        ],
        [
         "312",
         "Paid ₹10.00 to Shiva Ganesh Kirana General Store using Bank Account XXXXXXXX1661 Nov 4, 2024, 7:49:26 PM GMT+05:30",
         "Shiva Ganesh Kirana General Store",
         10.0,
         "Paid",
         "2024-11-04T19:49:26.000+0000",
         "Groceries",
         "2024-11"
        ],
        [
         "313",
         "Paid ₹25.00 using Bank Account XXXXXXXX1661 Nov 4, 2024, 7:11:56 PM GMT+05:30",
         "",
         25.0,
         "Paid",
         "2024-11-04T19:11:56.000+0000",
         "Other",
         "2024-11"
        ],
        [
         "314",
         "Paid ₹20.00 to Nagole using Bank Account XXXXXXXX1661 Nov 4, 2024, 7:03:41 PM GMT+05:30",
         "Nagole",
         20.0,
         "Paid",
         "2024-11-04T19:03:41.000+0000",
         "Other",
         "2024-11"
        ],
        [
         "315",
         "Paid ₹50.00 using Bank Account XXXXXXXX1661 Nov 4, 2024, 5:47:17 PM GMT+05:30",
         "",
         50.0,
         "Paid",
         "2024-11-04T17:47:17.000+0000",
         "Other",
         "2024-11"
        ],
        [
         "316",
         "Paid ₹30.00 to Tobox Ventures Private Limited using Bank Account XXXXXXXX1661 Nov 4, 2024, 12:41:42 PM GMT+05:30",
         "Tobox Ventures Private Limited",
         30.0,
         "Paid",
         "2024-11-04T12:41:42.000+0000",
         "Food & Dining",
         "2024-11"
        ],
        [
         "317",
         "Paid ₹60.00 to Tobox Ventures Private Limited using Bank Account XXXXXXXX1661 Nov 4, 2024, 12:34:44 PM GMT+05:30",
         "Tobox Ventures Private Limited",
         60.0,
         "Paid",
         "2024-11-04T12:34:44.000+0000",
         "Food & Dining",
         "2024-11"
        ],
        [
         "318",
         "Sent ₹100.00 using Bank Account XXXXXXXX1661 Nov 4, 2024, 7:53:53 AM GMT+05:30",
         "",
         100.0,
         "Sent",
         "2024-11-04T07:53:53.000+0000",
         "Other",
         "2024-11"
        ],
        [
         "319",
         "Sent ₹100.00 Nov 4, 2024, 7:53:26 AM GMT+05:30",
         "",
         100.0,
         "Sent",
         "2024-11-04T07:53:26.000+0000",
         "Other",
         "2024-11"
        ],
        [
         "320",
         "Paid ₹360.00 to SREE GEETA EATS AND using Bank Account XXXXXXXX1661 Nov 3, 2024, 8:33:20 PM GMT+05:30",
         "SREE GEETA EATS AND",
         360.0,
         "Paid",
         "2024-11-03T20:33:20.000+0000",
         "Food & Dining",
         "2024-11"
        ],
        [
         "322",
         "Paid ₹180.00 to BAKE DELIGHT using Bank Account XXXXXXXX1661 Nov 2, 2024, 9:34:06 PM GMT+05:30",
         "BAKE DELIGHT",
         180.0,
         "Paid",
         "2024-11-02T21:34:06.000+0000",
         "Food & Dining",
         "2024-11"
        ],
        [
         "323",
         "Paid ₹10.00 to SYED TAJUDDIN using Bank Account XXXXXXXX1661 Nov 2, 2024, 9:12:07 PM GMT+05:30",
         "SYED TAJUDDIN",
         10.0,
         "Paid",
         "2024-11-02T21:12:07.000+0000",
         "Other",
         "2024-11"
        ],
        [
         "324",
         "Paid ₹40.00 to THOTA GOPAL using Bank Account XXXXXXXX1661 Nov 2, 2024, 6:47:19 PM GMT+05:30",
         "THOTA  GOPAL",
         40.0,
         "Paid",
         "2024-11-02T18:47:19.000+0000",
         "Other",
         "2024-11"
        ],
        [
         "325",
         "Paid ₹40.00 to THOTA GOPAL using Bank Account XXXXXXXX1661 Nov 2, 2024, 6:47:04 PM GMT+05:30",
         "THOTA  GOPAL",
         40.0,
         "Paid",
         "2024-11-02T18:47:04.000+0000",
         "Other",
         "2024-11"
        ],
        [
         "326",
         "Sent ₹5000.00 using Bank Account XXXXXXXX1661 Nov 2, 2024, 10:52:33 AM GMT+05:30",
         "",
         5000.0,
         "Sent",
         "2024-11-02T10:52:33.000+0000",
         "Other",
         "2024-11"
        ],
        [
         "328",
         "Paid ₹12.00 to GUMMADAVELLI SRINIVASALU using Bank Account XXXXXXXX1661 Nov 2, 2024, 6:55:07 AM GMT+05:30",
         "GUMMADAVELLI  SRINIVASALU",
         12.0,
         "Paid",
         "2024-11-02T06:55:07.000+0000",
         "Other",
         "2024-11"
        ],
        [
         "329",
         "Paid ₹45.00 to TUMMA VAMSHI using Bank Account XXXXXXXX1661 Nov 1, 2024, 7:35:49 PM GMT+05:30",
         "TUMMA VAMSHI",
         45.0,
         "Paid",
         "2024-11-01T19:35:49.000+0000",
         "Other",
         "2024-11"
        ],
        [
         "330",
         "Paid ₹250.00 to DARAVATH RAJASHEKAR using Bank Account XXXXXXXX1661 Nov 1, 2024, 7:32:21 PM GMT+05:30",
         "DARAVATH RAJASHEKAR",
         250.0,
         "Paid",
         "2024-11-01T19:32:21.000+0000",
         "Other",
         "2024-11"
        ],
        [
         "332",
         "Paid ₹20.00 to THOTA GOPAL using Bank Account XXXXXXXX1661 Oct 31, 2024, 6:29:40 PM GMT+05:30",
         "THOTA  GOPAL",
         20.0,
         "Paid",
         "2024-10-31T18:29:40.000+0000",
         "Other",
         "2024-10"
        ],
        [
         "333",
         "Paid ₹10.00 to THOTA GOPAL using Bank Account XXXXXXXX1661 Oct 31, 2024, 1:35:30 PM GMT+05:30",
         "THOTA  GOPAL",
         10.0,
         "Paid",
         "2024-10-31T13:35:30.000+0000",
         "Other",
         "2024-10"
        ],
        [
         "334",
         "Paid ₹50.00 to G PANDU using Bank Account XXXXXXXX1661 Oct 31, 2024, 9:35:27 AM GMT+05:30",
         "G PANDU",
         50.0,
         "Paid",
         "2024-10-31T09:35:27.000+0000",
         "Other",
         "2024-10"
        ],
        [
         "336",
         "Sent ₹1500.00 using Bank Account XXXXXXXX1661 Oct 30, 2024, 7:56:39 PM GMT+05:30",
         "",
         1500.0,
         "Sent",
         "2024-10-30T19:56:39.000+0000",
         "Other",
         "2024-10"
        ],
        [
         "338",
         "Sent ₹220.00 using Bank Account XXXXXXXX1661 Oct 30, 2024, 5:58:41 PM GMT+05:30",
         "",
         220.0,
         "Sent",
         "2024-10-30T17:58:41.000+0000",
         "Other",
         "2024-10"
        ],
        [
         "339",
         "Paid ₹40.00 to Punjab Sind Foods Raidurg MTS Hyderabad using Bank Account XXXXXXXX1661 Oct 30, 2024, 5:07:24 PM GMT+05:30",
         "Punjab Sind Foods  Raidurg MTS Hyderabad",
         40.0,
         "Paid",
         "2024-10-30T17:07:24.000+0000",
         "Food & Dining",
         "2024-10"
        ],
        [
         "340",
         "Sent ₹60.00 using Bank Account XXXXXXXX1661 Oct 30, 2024, 4:56:49 PM GMT+05:30",
         "",
         60.0,
         "Sent",
         "2024-10-30T16:56:49.000+0000",
         "Other",
         "2024-10"
        ],
        [
         "341",
         "Paid ₹49.98 to Park Hyderabad using Bank Account XXXXXXXX1661 Oct 29, 2024, 8:06:20 PM GMT+05:30",
         "Park Hyderabad",
         49.98,
         "Paid",
         "2024-10-29T20:06:20.000+0000",
         "Fuel & Transport",
         "2024-10"
        ],
        [
         "342",
         "Paid ₹30.00 to B25 RAIDURG METRO using Bank Account XXXXXXXX1661 Oct 29, 2024, 9:13:12 AM GMT+05:30",
         "B25 RAIDURG METRO",
         30.0,
         "Paid",
         "2024-10-29T09:13:12.000+0000",
         "Fuel & Transport",
         "2024-10"
        ],
        [
         "343",
         "Paid ₹10.00 to THOTA GOPAL using Bank Account XXXXXXXX1661 Oct 28, 2024, 9:28:17 PM GMT+05:30",
         "THOTA  GOPAL",
         10.0,
         "Paid",
         "2024-10-28T21:28:17.000+0000",
         "Other",
         "2024-10"
        ],
        [
         "344",
         "Paid ₹388.00 to GOTTIPATI MILITARY HOTEL 247 using Bank Account XXXXXXXX1661 Oct 28, 2024, 7:03:20 PM GMT+05:30",
         "GOTTIPATI MILITARY HOTEL 247",
         388.0,
         "Paid",
         "2024-10-28T19:03:20.000+0000",
         "Food & Dining",
         "2024-10"
        ],
        [
         "345",
         "Paid ₹5.00 to Sulabh Metro Station Nagole using Bank Account XXXXXXXX1661 Oct 28, 2024, 8:02:04 AM GMT+05:30",
         "Sulabh Metro Station Nagole",
         5.0,
         "Paid",
         "2024-10-28T08:02:04.000+0000",
         "Fuel & Transport",
         "2024-10"
        ],
        [
         "346",
         "Paid ₹500.00 to Landt Metro- NAGOLE using Bank Account XXXXXXXX1661 Oct 28, 2024, 7:56:23 AM GMT+05:30",
         "Landt Metro- NAGOLE",
         500.0,
         "Paid",
         "2024-10-28T07:56:23.000+0000",
         "Fuel & Transport",
         "2024-10"
        ],
        [
         "347",
         "Paid ₹10.00 to KANNARAM AROGYA MARY using Bank Account XXXXXXXX1661 Oct 26, 2024, 8:30:59 PM GMT+05:30",
         "KANNARAM AROGYA MARY",
         10.0,
         "Paid",
         "2024-10-26T20:30:59.000+0000",
         "Other",
         "2024-10"
        ],
        [
         "348",
         "Sent ₹950.00 using Bank Account XXXXXXXX1661 Oct 26, 2024, 5:41:37 PM GMT+05:30",
         "",
         950.0,
         "Sent",
         "2024-10-26T17:41:37.000+0000",
         "Other",
         "2024-10"
        ],
        [
         "350",
         "Sent ₹1.00 using Bank Account XXXXXXXX1661 Oct 26, 2024, 4:23:14 PM GMT+05:30",
         "",
         1.0,
         "Sent",
         "2024-10-26T16:23:14.000+0000",
         "Other",
         "2024-10"
        ],
        [
         "351",
         "Paid ₹4.00 to Sraswathi kirana and stationary stores using Bank Account XXXXXXXX1661 Oct 26, 2024, 1:01:19 PM GMT+05:30",
         "Sraswathi kirana and  stationary stores",
         4.0,
         "Paid",
         "2024-10-26T13:01:19.000+0000",
         "Food & Dining",
         "2024-10"
        ],
        [
         "352",
         "Paid ₹245.00 to BP UPPAL using Bank Account XXXXXXXX1661 Oct 25, 2024, 10:19:57 PM GMT+05:30",
         "BP UPPAL",
         245.0,
         "Paid",
         "2024-10-25T22:19:57.000+0000",
         "Fuel & Transport",
         "2024-10"
        ],
        [
         "353",
         "Paid ₹20.00 to MEHFIL RESTAURANT-3 using Bank Account XXXXXXXX1661 Oct 25, 2024, 10:10:13 PM GMT+05:30",
         "MEHFIL RESTAURANT-3",
         20.0,
         "Paid",
         "2024-10-25T22:10:13.000+0000",
         "Food & Dining",
         "2024-10"
        ],
        [
         "354",
         "Paid ₹54.98 to Park Hyderabad using Bank Account XXXXXXXX1661 Oct 25, 2024, 9:59:30 PM GMT+05:30",
         "Park Hyderabad",
         54.98,
         "Paid",
         "2024-10-25T21:59:30.000+0000",
         "Fuel & Transport",
         "2024-10"
        ],
        [
         "356",
         "Paid ₹500.00 to HYDERABAD METRO RAIL using Bank Account XXXXXXXX1661 Oct 25, 2024, 9:54:00 PM GMT+05:30",
         "HYDERABAD METRO RAIL",
         500.0,
         "Paid",
         "2024-10-25T21:54:00.000+0000",
         "Fuel & Transport",
         "2024-10"
        ],
        [
         "357",
         "Sent ₹450.00 using Bank Account XXXXXXXX1661 Oct 25, 2024, 9:17:07 PM GMT+05:30",
         "",
         450.0,
         "Sent",
         "2024-10-25T21:17:07.000+0000",
         "Other",
         "2024-10"
        ],
        [
         "359",
         "Paid ₹35.00 to PISTA HOUSE using Bank Account XXXXXXXX1661 Oct 24, 2024, 8:06:55 PM GMT+05:30",
         "PISTA HOUSE",
         35.0,
         "Paid",
         "2024-10-24T20:06:55.000+0000",
         "Food & Dining",
         "2024-10"
        ],
        [
         "360",
         "Paid ₹60.00 using Bank Account XXXXXXXX1661 Oct 24, 2024, 12:44:25 PM GMT+05:30",
         "",
         60.0,
         "Paid",
         "2024-10-24T12:44:25.000+0000",
         "Other",
         "2024-10"
        ],
        [
         "361",
         "Paid ₹40.00 to ATTAVELLI SWATHI using Bank Account XXXXXXXX1661 Oct 23, 2024, 9:17:49 PM GMT+05:30",
         "ATTAVELLI SWATHI",
         40.0,
         "Paid",
         "2024-10-23T21:17:49.000+0000",
         "Other",
         "2024-10"
        ],
        [
         "362",
         "Sent ₹500.00 using Bank Account XXXXXXXX1661 Oct 23, 2024, 8:49:32 PM GMT+05:30",
         "",
         500.0,
         "Sent",
         "2024-10-23T20:49:32.000+0000",
         "Other",
         "2024-10"
        ],
        [
         "364",
         "Paid ₹24.99 to Park Hyderabad using Bank Account XXXXXXXX1661 Oct 23, 2024, 7:49:02 PM GMT+05:30",
         "Park Hyderabad",
         24.99,
         "Paid",
         "2024-10-23T19:49:02.000+0000",
         "Fuel & Transport",
         "2024-10"
        ],
        [
         "366",
         "Paid ₹24.99 to Park Hyderabad using Bank Account XXXXXXXX1661 Oct 23, 2024, 7:47:28 PM GMT+05:30",
         "Park Hyderabad",
         24.99,
         "Paid",
         "2024-10-23T19:47:28.000+0000",
         "Fuel & Transport",
         "2024-10"
        ],
        [
         "367",
         "Sent ₹37,971.00 using Bank Account XXXXXXXX1661 Oct 22, 2024, 8:21:17 PM GMT+05:30",
         "",
         null,
         "Sent",
         "2024-10-22T20:21:17.000+0000",
         "Other",
         "2024-10"
        ],
        [
         "368",
         "Sent ₹50.00 using Bank Account XXXXXXXX1661 Oct 22, 2024, 7:05:35 PM GMT+05:30",
         "",
         50.0,
         "Sent",
         "2024-10-22T19:05:35.000+0000",
         "Other",
         "2024-10"
        ],
        [
         "369",
         "Sent ₹50.00 using Bank Account XXXXXXXX1661 Oct 22, 2024, 8:18:16 AM GMT+05:30",
         "",
         50.0,
         "Sent",
         "2024-10-22T08:18:16.000+0000",
         "Other",
         "2024-10"
        ],
        [
         "371",
         "Paid ₹36.00 to Bommagouni Baraddwaj using Bank Account XXXXXXXX1661 Oct 21, 2024, 8:53:21 PM GMT+05:30",
         "Bommagouni Baraddwaj",
         36.0,
         "Paid",
         "2024-10-21T20:53:21.000+0000",
         "Other",
         "2024-10"
        ],
        [
         "375",
         "Sent ₹500.00 using Bank Account XXXXXXXX1661 Oct 21, 2024, 2:04:33 PM GMT+05:30",
         "",
         500.0,
         "Sent",
         "2024-10-21T14:04:33.000+0000",
         "Other",
         "2024-10"
        ],
        [
         "376",
         "Paid ₹207.90 to DOMINOS PIZZA using Bank Account XXXXXXXX1661 Oct 21, 2024, 1:19:38 PM GMT+05:30",
         "DOMINOS PIZZA",
         207.9,
         "Paid",
         "2024-10-21T13:19:38.000+0000",
         "Food & Dining",
         "2024-10"
        ],
        [
         "377",
         "Paid ₹109.00 to Slns Nanakramguda Fuels using Bank Account XXXXXXXX1661 Oct 21, 2024, 1:08:22 PM GMT+05:30",
         "Slns Nanakramguda Fuels",
         109.0,
         "Paid",
         "2024-10-21T13:08:22.000+0000",
         "Fuel & Transport",
         "2024-10"
        ],
        [
         "378",
         "Paid ₹45.00 to GUMMADAVELLI SRINIVASALU using Bank Account XXXXXXXX1661 Oct 19, 2024, 11:47:24 AM GMT+05:30",
         "GUMMADAVELLI  SRINIVASALU",
         45.0,
         "Paid",
         "2024-10-19T11:47:24.000+0000",
         "Other",
         "2024-10"
        ],
        [
         "383",
         "Paid ₹46.00 to GUMMADAVELLI SRINIVASALU using Bank Account XXXXXXXX1661 Oct 18, 2024, 9:36:06 PM GMT+05:30",
         "GUMMADAVELLI  SRINIVASALU",
         46.0,
         "Paid",
         "2024-10-18T21:36:06.000+0000",
         "Other",
         "2024-10"
        ],
        [
         "385",
         "Paid ₹100.00 to MANIFOLD WRAP SOLUTIONS PRIVATE LIMITED using Bank Account XXXXXXXX1661 Oct 18, 2024, 7:05:04 PM GMT+05:30",
         "MANIFOLD WRAP SOLUTIONS PRIVATE LIMITED",
         100.0,
         "Paid",
         "2024-10-18T19:05:04.000+0000",
         "Other",
         "2024-10"
        ],
        [
         "386",
         "Paid ₹45.00 to Tibbs Frankie Inorbit Mall using Bank Account XXXXXXXX1661 Oct 18, 2024, 11:42:20 AM GMT+05:30",
         "Tibbs Frankie Inorbit Mall",
         45.0,
         "Paid",
         "2024-10-18T11:42:20.000+0000",
         "Food & Dining",
         "2024-10"
        ],
        [
         "387",
         "Paid ₹124.00 using Bank Account XXXXXXXX1661 Oct 18, 2024, 11:40:38 AM GMT+05:30",
         "",
         124.0,
         "Paid",
         "2024-10-18T11:40:38.000+0000",
         "Other",
         "2024-10"
        ],
        [
         "388",
         "Paid ₹124.00 to Taco Bell Inorbit Mall using Bank Account XXXXXXXX1661 Oct 18, 2024, 11:18:46 AM GMT+05:30",
         "Taco Bell Inorbit Mall",
         124.0,
         "Paid",
         "2024-10-18T11:18:46.000+0000",
         "Food & Dining",
         "2024-10"
        ],
        [
         "389",
         "Paid ₹143.00 to ISHAQ FILLING STATIO using Bank Account XXXXXXXX1661 Oct 17, 2024, 8:27:51 PM GMT+05:30",
         "ISHAQ FILLING STATIO",
         143.0,
         "Paid",
         "2024-10-17T20:27:51.000+0000",
         "Fuel & Transport",
         "2024-10"
        ],
        [
         "390",
         "Paid ₹79.00 to JUMBO KING using Bank Account XXXXXXXX1661 Oct 17, 2024, 7:31:48 PM GMT+05:30",
         "JUMBO KING",
         79.0,
         "Paid",
         "2024-10-17T19:31:48.000+0000",
         "Food & Dining",
         "2024-10"
        ],
        [
         "391",
         "Paid ₹40.00 to ARHAM ENTERPRISES using Bank Account XXXXXXXX1661 Oct 17, 2024, 7:28:55 PM GMT+05:30",
         "ARHAM ENTERPRISES",
         40.0,
         "Paid",
         "2024-10-17T19:28:55.000+0000",
         "Other",
         "2024-10"
        ],
        [
         "392",
         "Paid ₹60.00 to Tobox Ventures Private Limited using Bank Account XXXXXXXX1661 Oct 16, 2024, 4:39:06 PM GMT+05:30",
         "Tobox Ventures Private Limited",
         60.0,
         "Paid",
         "2024-10-16T16:39:06.000+0000",
         "Food & Dining",
         "2024-10"
        ],
        [
         "393",
         "Paid ₹10.00 to THOTA GOPAL using Bank Account XXXXXXXX1661 Oct 16, 2024, 7:44:13 AM GMT+05:30",
         "THOTA  GOPAL",
         10.0,
         "Paid",
         "2024-10-16T07:44:13.000+0000",
         "Other",
         "2024-10"
        ],
        [
         "395",
         "Paid ₹20.00 to B25 Raidurg Metro using Bank Account XXXXXXXX1661 Oct 15, 2024, 5:50:11 PM GMT+05:30",
         "B25 Raidurg Metro",
         20.0,
         "Paid",
         "2024-10-15T17:50:11.000+0000",
         "Fuel & Transport",
         "2024-10"
        ],
        [
         "405",
         "Paid ₹98.00 to Tobox Ventures Private Limited using Bank Account XXXXXXXX1661 Oct 14, 2024, 10:32:08 AM GMT+05:30",
         "Tobox Ventures Private Limited",
         98.0,
         "Paid",
         "2024-10-14T10:32:08.000+0000",
         "Food & Dining",
         "2024-10"
        ],
        [
         "407",
         "Paid ₹40.00 to DARRA CHANTI BABU using Bank Account XXXXXXXX1661 Oct 11, 2024, 7:26:42 PM GMT+05:30",
         "DARRA  CHANTI BABU",
         40.0,
         "Paid",
         "2024-10-11T19:26:42.000+0000",
         "Other",
         "2024-10"
        ],
        [
         "408",
         "Paid ₹35.00 to Chanagala Swarupini using Bank Account XXXXXXXX1661 Oct 11, 2024, 7:18:35 PM GMT+05:30",
         "Chanagala Swarupini",
         35.0,
         "Paid",
         "2024-10-11T19:18:35.000+0000",
         "Other",
         "2024-10"
        ],
        [
         "409",
         "Paid ₹115.00 to Chanagala Swarupini using Bank Account XXXXXXXX1661 Oct 11, 2024, 7:18:22 PM GMT+05:30",
         "Chanagala Swarupini",
         115.0,
         "Paid",
         "2024-10-11T19:18:22.000+0000",
         "Other",
         "2024-10"
        ],
        [
         "410",
         "Paid ₹20.00 to KUSAM SATHYAVATHI using Bank Account XXXXXXXX1661 Oct 11, 2024, 7:16:12 PM GMT+05:30",
         "KUSAM  SATHYAVATHI",
         20.0,
         "Paid",
         "2024-10-11T19:16:12.000+0000",
         "Other",
         "2024-10"
        ],
        [
         "411",
         "Paid ₹60.00 to Bandi Harinadhababu using Bank Account XXXXXXXX1661 Oct 11, 2024, 7:11:21 PM GMT+05:30",
         "Bandi Harinadhababu",
         60.0,
         "Paid",
         "2024-10-11T19:11:21.000+0000",
         "Other",
         "2024-10"
        ],
        [
         "412",
         "Paid ₹55.00 to GUMMADAVELLI SRINIVASALU using Bank Account XXXXXXXX1661 Oct 11, 2024, 11:23:09 AM GMT+05:30",
         "GUMMADAVELLI  SRINIVASALU",
         55.0,
         "Paid",
         "2024-10-11T11:23:09.000+0000",
         "Other",
         "2024-10"
        ],
        [
         "413",
         "Paid ₹140.00 to Mehfil Restaurant-3 using Bank Account XXXXXXXX1661 Oct 10, 2024, 8:29:48 PM GMT+05:30",
         "Mehfil Restaurant-3",
         140.0,
         "Paid",
         "2024-10-10T20:29:48.000+0000",
         "Food & Dining",
         "2024-10"
        ],
        [
         "414",
         "Paid ₹568.00 to Mehfil Restaurant-4 using Bank Account XXXXXXXX1661 Oct 10, 2024, 8:28:29 PM GMT+05:30",
         "Mehfil Restaurant-4",
         568.0,
         "Paid",
         "2024-10-10T20:28:29.000+0000",
         "Food & Dining",
         "2024-10"
        ],
        [
         "416",
         "Paid ₹80.00 to JUMBO KING using Bank Account XXXXXXXX1661 Oct 10, 2024, 7:48:15 PM GMT+05:30",
         "JUMBO KING",
         80.0,
         "Paid",
         "2024-10-10T19:48:15.000+0000",
         "Food & Dining",
         "2024-10"
        ],
        [
         "417",
         "Paid ₹258.00 to Tobox Ventures Private Limited using Bank Account XXXXXXXX1661 Oct 10, 2024, 5:22:17 PM GMT+05:30",
         "Tobox Ventures Private Limited",
         258.0,
         "Paid",
         "2024-10-10T17:22:17.000+0000",
         "Food & Dining",
         "2024-10"
        ],
        [
         "419",
         "Paid ₹205.53 to Zomato using Bank Account XXXXXXXX1661 Oct 10, 2024, 12:03:24 PM GMT+05:30",
         "Zomato",
         205.53,
         "Paid",
         "2024-10-10T12:03:24.000+0000",
         "Food & Dining",
         "2024-10"
        ],
        [
         "420",
         "Paid ₹84.97 to Park Hyderabad using Bank Account XXXXXXXX1661 Oct 10, 2024, 8:10:26 AM GMT+05:30",
         "Park Hyderabad",
         84.97,
         "Paid",
         "2024-10-10T08:10:26.000+0000",
         "Fuel & Transport",
         "2024-10"
        ],
        [
         "421",
         "Paid ₹20.00 to G PANDU using Bank Account XXXXXXXX1661 Oct 10, 2024, 7:18:22 AM GMT+05:30",
         "G PANDU",
         20.0,
         "Paid",
         "2024-10-10T07:18:22.000+0000",
         "Other",
         "2024-10"
        ],
        [
         "422",
         "Paid ₹140.00 to G PANDU using Bank Account XXXXXXXX1661 Oct 10, 2024, 7:17:36 AM GMT+05:30",
         "G PANDU",
         140.0,
         "Paid",
         "2024-10-10T07:17:36.000+0000",
         "Other",
         "2024-10"
        ],
        [
         "423",
         "Paid ₹30.00 to Mehfil Restaurant-3 using Bank Account XXXXXXXX1661 Oct 9, 2024, 8:47:11 PM GMT+05:30",
         "Mehfil Restaurant-3",
         30.0,
         "Paid",
         "2024-10-09T20:47:11.000+0000",
         "Food & Dining",
         "2024-10"
        ],
        [
         "424",
         "Paid ₹185.00 to Mehfil Restaurant-3 using Bank Account XXXXXXXX1661 Oct 9, 2024, 8:44:36 PM GMT+05:30",
         "Mehfil Restaurant-3",
         185.0,
         "Paid",
         "2024-10-09T20:44:36.000+0000",
         "Food & Dining",
         "2024-10"
        ],
        [
         "425",
         "Paid ₹220.00 to Mehfil Restaurant-4 using Bank Account XXXXXXXX1661 Oct 9, 2024, 8:42:51 PM GMT+05:30",
         "Mehfil Restaurant-4",
         220.0,
         "Paid",
         "2024-10-09T20:42:51.000+0000",
         "Food & Dining",
         "2024-10"
        ],
        [
         "427",
         "Sent ₹29.00 using Bank Account XXXXXXXX1661 Oct 9, 2024, 6:33:20 PM GMT+05:30",
         "",
         29.0,
         "Sent",
         "2024-10-09T18:33:20.000+0000",
         "Other",
         "2024-10"
        ],
        [
         "428",
         "Paid ₹20.00 to B25 Raidurg Metro using Bank Account XXXXXXXX1661 Oct 9, 2024, 8:56:14 AM GMT+05:30",
         "B25 Raidurg Metro",
         20.0,
         "Paid",
         "2024-10-09T08:56:14.000+0000",
         "Fuel & Transport",
         "2024-10"
        ],
        [
         "429",
         "Paid ₹60.00 to L and T METRO RAIL HYDERABAD LIMITED using Bank Account XXXXXXXX1661 Oct 8, 2024, 6:20:55 PM GMT+05:30",
         "L and T METRO RAIL HYDERABAD LIMITED",
         60.0,
         "Paid",
         "2024-10-08T18:20:55.000+0000",
         "Fuel & Transport",
         "2024-10"
        ],
        [
         "430",
         "Paid ₹40.00 to BATHINA VEERA VENKATA SATYANARAYANA using Bank Account XXXXXXXX1661 Oct 8, 2024, 9:11:35 AM GMT+05:30",
         "BATHINA VEERA VENKATA SATYANARAYANA",
         40.0,
         "Paid",
         "2024-10-08T09:11:35.000+0000",
         "Other",
         "2024-10"
        ],
        [
         "431",
         "Paid ₹68.00 to Shiva Ganesh Kirana General Store using Bank Account XXXXXXXX1661 Oct 8, 2024, 6:49:48 AM GMT+05:30",
         "Shiva Ganesh Kirana General Store",
         68.0,
         "Paid",
         "2024-10-08T06:49:48.000+0000",
         "Groceries",
         "2024-10"
        ],
        [
         "432",
         "Paid ₹449.00 to IKEA INDIA PVT LTD using Bank Account XXXXXXXX1661 Oct 7, 2024, 2:43:21 PM GMT+05:30",
         "IKEA INDIA PVT LTD",
         449.0,
         "Paid",
         "2024-10-07T14:43:21.000+0000",
         "Shopping & Retail",
         "2024-10"
        ],
        [
         "433",
         "Paid ₹228.00 to BP Petrol Pump Vennela Filling Station using Bank Account XXXXXXXX1661 Oct 7, 2024, 1:23:11 PM GMT+05:30",
         "BP Petrol Pump  Vennela Filling Station",
         228.0,
         "Paid",
         "2024-10-07T13:23:11.000+0000",
         "Fuel & Transport",
         "2024-10"
        ],
        [
         "435",
         "Paid ₹240.00 to Mehfil Restaurant-3 using Bank Account XXXXXXXX1661 Oct 5, 2024, 8:52:18 PM GMT+05:30",
         "Mehfil Restaurant-3",
         240.0,
         "Paid",
         "2024-10-05T20:52:18.000+0000",
         "Food & Dining",
         "2024-10"
        ],
        [
         "436",
         "Paid ₹249.00 to Mehfil Restaurant-4 using Bank Account XXXXXXXX1661 Oct 5, 2024, 8:51:02 PM GMT+05:30",
         "Mehfil Restaurant-4",
         249.0,
         "Paid",
         "2024-10-05T20:51:02.000+0000",
         "Food & Dining",
         "2024-10"
        ],
        [
         "438",
         "Sent ₹75.00 using Bank Account XXXXXXXX1661 Oct 5, 2024, 6:14:50 PM GMT+05:30",
         "",
         75.0,
         "Sent",
         "2024-10-05T18:14:50.000+0000",
         "Other",
         "2024-10"
        ],
        [
         "439",
         "Paid ₹68.00 to THOTA GOPAL using Bank Account XXXXXXXX1661 Oct 4, 2024, 6:51:38 AM GMT+05:30",
         "THOTA  GOPAL",
         68.0,
         "Paid",
         "2024-10-04T06:51:38.000+0000",
         "Other",
         "2024-10"
        ],
        [
         "440",
         "Paid ₹50.00 to Mr Rajkumar Yadav using Bank Account XXXXXXXX1661 Oct 3, 2024, 3:46:38 PM GMT+05:30",
         "Mr Rajkumar Yadav",
         50.0,
         "Paid",
         "2024-10-03T15:46:38.000+0000",
         "Other",
         "2024-10"
        ],
        [
         "441",
         "Paid ₹20.00 to Mehfil Restaurant And Takeaway using Bank Account XXXXXXXX1661 Oct 3, 2024, 3:44:51 PM GMT+05:30",
         "Mehfil Restaurant And Takeaway",
         20.0,
         "Paid",
         "2024-10-03T15:44:51.000+0000",
         "Food & Dining",
         "2024-10"
        ],
        [
         "442",
         "Paid ₹64.00 using Bank Account XXXXXXXX1661 Oct 3, 2024, 3:09:01 PM GMT+05:30",
         "",
         64.0,
         "Paid",
         "2024-10-03T15:09:01.000+0000",
         "Other",
         "2024-10"
        ],
        [
         "443",
         "Paid ₹202.28 to Zomato using Bank Account XXXXXXXX1661 Oct 3, 2024, 1:44:54 PM GMT+05:30",
         "Zomato",
         202.28,
         "Paid",
         "2024-10-03T13:44:54.000+0000",
         "Food & Dining",
         "2024-10"
        ],
        [
         "444",
         "Paid ₹1400.00 to HOTEL GALAXY GRAND using Bank Account XXXXXXXX1661 Oct 3, 2024, 12:09:54 PM GMT+05:30",
         "HOTEL GALAXY GRAND",
         1400.0,
         "Paid",
         "2024-10-03T12:09:54.000+0000",
         "Food & Dining",
         "2024-10"
        ],
        [
         "445",
         "Paid ₹400.00 to PVR INOX Limited using Bank Account XXXXXXXX1661 Oct 3, 2024, 10:05:30 AM GMT+05:30",
         "PVR INOX Limited",
         400.0,
         "Paid",
         "2024-10-03T10:05:30.000+0000",
         "Entertainment",
         "2024-10"
        ],
        [
         "447",
         "Paid ₹459.00 to BOOKMYSHOW using Bank Account XXXXXXXX1661 Oct 3, 2024, 9:56:04 AM GMT+05:30",
         "BOOKMYSHOW",
         459.0,
         "Paid",
         "2024-10-03T09:56:04.000+0000",
         "Entertainment",
         "2024-10"
        ],
        [
         "448",
         "Paid ₹80.00 to SREE GEETA EATS AND using Bank Account XXXXXXXX1661 Oct 2, 2024, 7:35:18 PM GMT+05:30",
         "SREE GEETA EATS AND",
         80.0,
         "Paid",
         "2024-10-02T19:35:18.000+0000",
         "Food & Dining",
         "2024-10"
        ],
        [
         "449",
         "Paid ₹36.00 to CHOTU RAM using Bank Account XXXXXXXX1661 Oct 2, 2024, 7:30:57 PM GMT+05:30",
         "CHOTU RAM",
         36.0,
         "Paid",
         "2024-10-02T19:30:57.000+0000",
         "Other",
         "2024-10"
        ],
        [
         "450",
         "Sent ₹150.00 using Bank Account XXXXXXXX1661 Oct 2, 2024, 7:15:21 PM GMT+05:30",
         "",
         150.0,
         "Sent",
         "2024-10-02T19:15:21.000+0000",
         "Other",
         "2024-10"
        ],
        [
         "453",
         "Paid ₹6.00 using Bank Account XXXXXXXX1661 Oct 2, 2024, 9:49:59 AM GMT+05:30",
         "",
         6.0,
         "Paid",
         "2024-10-02T09:49:59.000+0000",
         "Other",
         "2024-10"
        ],
        [
         "454",
         "Paid ₹10.00 to MOHD ABDUL KALEEM using Bank Account XXXXXXXX1661 Oct 1, 2024, 11:21:19 PM GMT+05:30",
         "MOHD ABDUL KALEEM",
         10.0,
         "Paid",
         "2024-10-01T23:21:19.000+0000",
         "Other",
         "2024-10"
        ],
        [
         "455",
         "Paid ₹230.00 to SHYAM BAHADUR BHUJEL using Bank Account XXXXXXXX1661 Oct 1, 2024, 9:28:07 PM GMT+05:30",
         "SHYAM BAHADUR BHUJEL",
         230.0,
         "Paid",
         "2024-10-01T21:28:07.000+0000",
         "Other",
         "2024-10"
        ],
        [
         "456",
         "Sent ₹1000.00 using Bank Account XXXXXXXX1661 Oct 1, 2024, 4:08:11 PM GMT+05:30",
         "",
         1000.0,
         "Sent",
         "2024-10-01T16:08:11.000+0000",
         "Other",
         "2024-10"
        ],
        [
         "457",
         "Sent ₹200.00 using Bank Account XXXXXXXX1661 Oct 1, 2024, 4:07:34 PM GMT+05:30",
         "",
         200.0,
         "Sent",
         "2024-10-01T16:07:34.000+0000",
         "Other",
         "2024-10"
        ],
        [
         "458",
         "Sent ₹500.00 using Bank Account XXXXXXXX1661 Oct 1, 2024, 3:53:36 PM GMT+05:30",
         "",
         500.0,
         "Sent",
         "2024-10-01T15:53:36.000+0000",
         "Other",
         "2024-10"
        ],
        [
         "460",
         "Paid ₹30.00 to Tobox Ventures Private Limited using Bank Account XXXXXXXX1661 Sep 30, 2024, 6:10:21 PM GMT+05:30",
         "Tobox Ventures Private Limited",
         30.0,
         "Paid",
         "2024-09-30T18:10:21.000+0000",
         "Food & Dining",
         "2024-09"
        ],
        [
         "461",
         "Paid ₹80.00 to Tobox Ventures Private Limited using Bank Account XXXXXXXX1661 Sep 30, 2024, 5:51:42 PM GMT+05:30",
         "Tobox Ventures Private Limited",
         80.0,
         "Paid",
         "2024-09-30T17:51:42.000+0000",
         "Food & Dining",
         "2024-09"
        ],
        [
         "463",
         "Paid ₹30.00 to THOTA GOPAL using Bank Account XXXXXXXX1661 Sep 29, 2024, 7:19:21 PM GMT+05:30",
         "THOTA  GOPAL",
         30.0,
         "Paid",
         "2024-09-29T19:19:21.000+0000",
         "Other",
         "2024-09"
        ],
        [
         "464",
         "Paid ₹115.00 to New Balaji Mithai Bhandar using Bank Account XXXXXXXX1661 Sep 28, 2024, 8:42:58 PM GMT+05:30",
         "New Balaji Mithai Bhandar",
         115.0,
         "Paid",
         "2024-09-28T20:42:58.000+0000",
         "Food & Dining",
         "2024-09"
        ],
        [
         "465",
         "Paid ₹115.00 to New Balaji Mithai Bhandar Sep 28, 2024, 8:42:48 PM GMT+05:30",
         "",
         115.0,
         "Paid",
         "2024-09-28T20:42:48.000+0000",
         "Other",
         "2024-09"
        ],
        [
         "466",
         "Sent ₹150.00 using Bank Account XXXXXXXX1661 Sep 28, 2024, 5:57:44 PM GMT+05:30",
         "",
         150.0,
         "Sent",
         "2024-09-28T17:57:44.000+0000",
         "Other",
         "2024-09"
        ],
        [
         "468",
         "Paid ₹117.00 using Bank Account XXXXXXXX1661 Sep 28, 2024, 12:36:59 PM GMT+05:30",
         "",
         117.0,
         "Paid",
         "2024-09-28T12:36:59.000+0000",
         "Other",
         "2024-09"
        ],
        [
         "469",
         "Paid ₹140.00 using Bank Account XXXXXXXX1661 Sep 28, 2024, 9:37:35 AM GMT+05:30",
         "",
         140.0,
         "Paid",
         "2024-09-28T09:37:35.000+0000",
         "Other",
         "2024-09"
        ],
        [
         "470",
         "Paid ₹10.00 to THOTA GOPAL using Bank Account XXXXXXXX1661 Sep 27, 2024, 9:39:06 PM GMT+05:30",
         "THOTA  GOPAL",
         10.0,
         "Paid",
         "2024-09-27T21:39:06.000+0000",
         "Other",
         "2024-09"
        ],
        [
         "472",
         "Paid ₹249.00 to Airtel Prepaid Recha using Bank Account XXXXXXXX1661 Sep 27, 2024, 4:20:13 AM GMT+05:30",
         "Airtel Prepaid Recha",
         249.0,
         "Paid",
         "2024-09-27T04:20:13.000+0000",
         "Bills & Utilities",
         "2024-09"
        ],
        [
         "473",
         "Paid ₹29.00 to Amazon Pay using Bank Account XXXXXXXX1661 Sep 26, 2024, 10:33:19 AM GMT+05:30",
         "Amazon Pay",
         29.0,
         "Paid",
         "2024-09-26T10:33:19.000+0000",
         "Shopping & Retail",
         "2024-09"
        ],
        [
         "474",
         "Paid ₹36.00 to ANTHATI THIRUPATHIAH GOUD using Bank Account XXXXXXXX1661 Sep 25, 2024, 8:30:49 PM GMT+05:30",
         "ANTHATI  THIRUPATHIAH GOUD",
         36.0,
         "Paid",
         "2024-09-25T20:30:49.000+0000",
         "Other",
         "2024-09"
        ],
        [
         "479",
         "Paid ₹129.00 to Tobox Ventures Private Limited using Bank Account XXXXXXXX1661 Sep 24, 2024, 5:36:12 PM GMT+05:30",
         "Tobox Ventures Private Limited",
         129.0,
         "Paid",
         "2024-09-24T17:36:12.000+0000",
         "Food & Dining",
         "2024-09"
        ],
        [
         "481",
         "Paid ₹100.00 using Bank Account XXXXXXXX1661 Sep 23, 2024, 9:02:50 PM GMT+05:30",
         "",
         100.0,
         "Paid",
         "2024-09-23T21:02:50.000+0000",
         "Other",
         "2024-09"
        ],
        [
         "482",
         "Paid ₹100.00 to Maruthi Auto Care using Bank Account XXXXXXXX1661 Sep 23, 2024, 9:02:44 PM GMT+05:30",
         "Maruthi Auto Care",
         100.0,
         "Paid",
         "2024-09-23T21:02:44.000+0000",
         "Fuel & Transport",
         "2024-09"
        ],
        [
         "483",
         "Paid ₹100.00 to Maruthi Auto Care using Bank Account XXXXXXXX1661 Sep 23, 2024, 9:01:17 PM GMT+05:30",
         "Maruthi Auto Care",
         100.0,
         "Paid",
         "2024-09-23T21:01:17.000+0000",
         "Fuel & Transport",
         "2024-09"
        ],
        [
         "484",
         "Paid ₹1005.08 to Zomato Sep 23, 2024, 10:18:07 AM GMT+05:30",
         "",
         1005.08,
         "Paid",
         "2024-09-23T10:18:07.000+0000",
         "Other",
         "2024-09"
        ],
        [
         "486",
         "Paid ₹129.00 to Tobox Ventures Private Limited using Bank Account XXXXXXXX1661 Sep 23, 2024, 9:49:54 AM GMT+05:30",
         "Tobox Ventures Private Limited",
         129.0,
         "Paid",
         "2024-09-23T09:49:54.000+0000",
         "Food & Dining",
         "2024-09"
        ],
        [
         "487",
         "Paid ₹178.00 to FB CAKES using Bank Account XXXXXXXX1661 Sep 22, 2024, 7:17:31 PM GMT+05:30",
         "FB CAKES",
         178.0,
         "Paid",
         "2024-09-22T19:17:31.000+0000",
         "Food & Dining",
         "2024-09"
        ],
        [
         "489",
         "Paid ₹40.00 to ATTAVELLI SWATHI using Bank Account XXXXXXXX1661 Sep 22, 2024, 9:26:37 AM GMT+05:30",
         "ATTAVELLI SWATHI",
         40.0,
         "Paid",
         "2024-09-22T09:26:37.000+0000",
         "Other",
         "2024-09"
        ],
        [
         "490",
         "Paid ₹30.00 to THOTA GOPAL using Bank Account XXXXXXXX1661 Sep 22, 2024, 9:18:27 AM GMT+05:30",
         "THOTA  GOPAL",
         30.0,
         "Paid",
         "2024-09-22T09:18:27.000+0000",
         "Other",
         "2024-09"
        ],
        [
         "491",
         "Paid ₹108.00 to THOTA GOPAL using Bank Account XXXXXXXX1661 Sep 21, 2024, 8:32:49 PM GMT+05:30",
         "THOTA  GOPAL",
         108.0,
         "Paid",
         "2024-09-21T20:32:49.000+0000",
         "Other",
         "2024-09"
        ],
        [
         "493",
         "Paid ₹1500.00 to Hyderabad Metro Rail using Bank Account XXXXXXXX1661 Sep 20, 2024, 9:16:06 PM GMT+05:30",
         "Hyderabad Metro Rail",
         1500.0,
         "Paid",
         "2024-09-20T21:16:06.000+0000",
         "Fuel & Transport",
         "2024-09"
        ],
        [
         "494",
         "Paid ₹75.00 to Surappala Kaveri using Bank Account XXXXXXXX1661 Sep 20, 2024, 7:46:51 PM GMT+05:30",
         "Surappala Kaveri",
         75.0,
         "Paid",
         "2024-09-20T19:46:51.000+0000",
         "Other",
         "2024-09"
        ],
        [
         "495",
         "Sent ₹200.00 using Bank Account XXXXXXXX1661 Sep 20, 2024, 7:03:31 PM GMT+05:30",
         "",
         200.0,
         "Sent",
         "2024-09-20T19:03:31.000+0000",
         "Other",
         "2024-09"
        ],
        [
         "496",
         "Paid ₹129.00 to Tobox Ventures Private Limited using Bank Account XXXXXXXX1661 Sep 20, 2024, 10:36:44 AM GMT+05:30",
         "Tobox Ventures Private Limited",
         129.0,
         "Paid",
         "2024-09-20T10:36:44.000+0000",
         "Food & Dining",
         "2024-09"
        ],
        [
         "497",
         "Paid ₹2489.00 to Amazon India using Bank Account XXXXXXXX1661 Sep 19, 2024, 10:52:57 PM GMT+05:30",
         "Amazon India",
         2489.0,
         "Paid",
         "2024-09-19T22:52:57.000+0000",
         "Shopping & Retail",
         "2024-09"
        ],
        [
         "500",
         "Paid ₹600.00 using Bank Account XXXXXXXX1661 Sep 19, 2024, 9:24:47 PM GMT+05:30",
         "",
         600.0,
         "Paid",
         "2024-09-19T21:24:47.000+0000",
         "Other",
         "2024-09"
        ],
        [
         "501",
         "Paid ₹10.00 to THOTA GOPAL using Bank Account XXXXXXXX1661 Sep 19, 2024, 8:21:59 PM GMT+05:30",
         "THOTA  GOPAL",
         10.0,
         "Paid",
         "2024-09-19T20:21:59.000+0000",
         "Other",
         "2024-09"
        ],
        [
         "502",
         "Paid ₹140.00 to FB CAKES using Bank Account XXXXXXXX1661 Sep 18, 2024, 8:46:47 PM GMT+05:30",
         "FB CAKES",
         140.0,
         "Paid",
         "2024-09-18T20:46:47.000+0000",
         "Food & Dining",
         "2024-09"
        ],
        [
         "504",
         "Sent ₹175.00 using Bank Account XXXXXXXX1661 Sep 18, 2024, 12:38:35 PM GMT+05:30",
         "",
         175.0,
         "Sent",
         "2024-09-18T12:38:35.000+0000",
         "Other",
         "2024-09"
        ],
        [
         "505",
         "Paid ₹10.00 to THOTA GOPAL using Bank Account XXXXXXXX1661 Sep 17, 2024, 7:21:01 AM GMT+05:30",
         "THOTA  GOPAL",
         10.0,
         "Paid",
         "2024-09-17T07:21:01.000+0000",
         "Other",
         "2024-09"
        ],
        [
         "506",
         "Paid ₹477.00 to SAGI using Bank Account XXXXXXXX1661 Sep 16, 2024, 8:22:03 PM GMT+05:30",
         "SAGI",
         477.0,
         "Paid",
         "2024-09-16T20:22:03.000+0000",
         "Other",
         "2024-09"
        ],
        [
         "507",
         "Paid ₹24.99 to Park Hyderabad using Bank Account XXXXXXXX1661 Sep 16, 2024, 7:17:59 PM GMT+05:30",
         "Park Hyderabad",
         24.99,
         "Paid",
         "2024-09-16T19:17:59.000+0000",
         "Fuel & Transport",
         "2024-09"
        ],
        [
         "508",
         "Paid ₹258.00 to Geddit Convenience Private Limited using Bank Account XXXXXXXX1661 Sep 15, 2024, 1:57:58 PM GMT+05:30",
         "Geddit Convenience Private Limited",
         258.0,
         "Paid",
         "2024-09-15T13:57:58.000+0000",
         "Other",
         "2024-09"
        ],
        [
         "509",
         "Paid ₹10.00 to MADDY CHAKRAPANI using Bank Account XXXXXXXX1661 Sep 15, 2024, 11:55:15 AM GMT+05:30",
         "MADDY  CHAKRAPANI",
         10.0,
         "Paid",
         "2024-09-15T11:55:15.000+0000",
         "Other",
         "2024-09"
        ],
        [
         "510",
         "Paid ₹600.00 using Bank Account XXXXXXXX1661 Sep 15, 2024, 11:14:36 AM GMT+05:30",
         "",
         600.0,
         "Paid",
         "2024-09-15T11:14:36.000+0000",
         "Other",
         "2024-09"
        ],
        [
         "511",
         "Paid ₹54.00 to THOTA GOPAL using Bank Account XXXXXXXX1661 Sep 15, 2024, 9:30:44 AM GMT+05:30",
         "THOTA  GOPAL",
         54.0,
         "Paid",
         "2024-09-15T09:30:44.000+0000",
         "Other",
         "2024-09"
        ],
        [
         "512",
         "Paid ₹50.00 to VIJAYA LAXMI KIRANA AND GENERAL STORE using Bank Account XXXXXXXX1661 Sep 15, 2024, 9:06:41 AM GMT+05:30",
         "VIJAYA LAXMI KIRANA AND GENERAL STORE",
         50.0,
         "Paid",
         "2024-09-15T09:06:41.000+0000",
         "Groceries",
         "2024-09"
        ],
        [
         "513",
         "Paid ₹150.00 to RUKMAN BAI JAT using Bank Account XXXXXXXX1661 Sep 14, 2024, 7:06:45 PM GMT+05:30",
         "RUKMAN BAI JAT",
         150.0,
         "Paid",
         "2024-09-14T19:06:45.000+0000",
         "Other",
         "2024-09"
        ],
        [
         "514",
         "Paid ₹3600.00 to CHAITANYA HOMEO STO using Bank Account XXXXXXXX1661 Sep 14, 2024, 6:01:51 PM GMT+05:30",
         "CHAITANYA HOMEO STO",
         3600.0,
         "Paid",
         "2024-09-14T18:01:51.000+0000",
         "Home",
         "2024-09"
        ],
        [
         "516",
         "Paid ₹499.00 to Smart Bazaar Hyderabad FRBM using Bank Account XXXXXXXX1661 Sep 13, 2024, 5:26:51 PM GMT+05:30",
         "Smart Bazaar  Hyderabad FRBM",
         499.0,
         "Paid",
         "2024-09-13T17:26:51.000+0000",
         "Groceries",
         "2024-09"
        ],
        [
         "517",
         "Paid ₹319.00 to Tobox Ventures Private Limited using Bank Account XXXXXXXX1661 Sep 12, 2024, 1:55:01 PM GMT+05:30",
         "Tobox Ventures Private Limited",
         319.0,
         "Paid",
         "2024-09-12T13:55:01.000+0000",
         "Food & Dining",
         "2024-09"
        ],
        [
         "519",
         "Paid ₹20.00 to Chinnababu Tiffins using Bank Account XXXXXXXX1661 Sep 12, 2024, 8:15:11 AM GMT+05:30",
         "Chinnababu Tiffins",
         20.0,
         "Paid",
         "2024-09-12T08:15:11.000+0000",
         "Food & Dining",
         "2024-09"
        ],
        [
         "520",
         "Paid ₹34.99 to Park Hyderabad using Bank Account XXXXXXXX1661 Sep 11, 2024, 7:15:54 PM GMT+05:30",
         "Park Hyderabad",
         34.99,
         "Paid",
         "2024-09-11T19:15:54.000+0000",
         "Fuel & Transport",
         "2024-09"
        ],
        [
         "521",
         "Paid ₹30.00 to Amazon Pay using Bank Account XXXXXXXX1661 Sep 11, 2024, 5:16:58 PM GMT+05:30",
         "Amazon Pay",
         30.0,
         "Paid",
         "2024-09-11T17:16:58.000+0000",
         "Shopping & Retail",
         "2024-09"
        ],
        [
         "522",
         "Paid ₹40.00 to Amazon Pay using Bank Account XXXXXXXX1661 Sep 11, 2024, 4:56:48 PM GMT+05:30",
         "Amazon Pay",
         40.0,
         "Paid",
         "2024-09-11T16:56:48.000+0000",
         "Shopping & Retail",
         "2024-09"
        ],
        [
         "525",
         "Paid ₹65.00 to Tobox Ventures Private Limited using Bank Account XXXXXXXX1661 Sep 11, 2024, 9:24:57 AM GMT+05:30",
         "Tobox Ventures Private Limited",
         65.0,
         "Paid",
         "2024-09-11T09:24:57.000+0000",
         "Food & Dining",
         "2024-09"
        ],
        [
         "527",
         "Paid ₹65.00 to Tobox Ventures Private Limited using Bank Account XXXXXXXX1661 Sep 10, 2024, 5:05:39 PM GMT+05:30",
         "Tobox Ventures Private Limited",
         65.0,
         "Paid",
         "2024-09-10T17:05:39.000+0000",
         "Food & Dining",
         "2024-09"
        ],
        [
         "529",
         "Paid ₹94.96 to Park Hyderabad using Bank Account XXXXXXXX1661 Sep 10, 2024, 8:04:05 AM GMT+05:30",
         "Park Hyderabad",
         94.96,
         "Paid",
         "2024-09-10T08:04:05.000+0000",
         "Fuel & Transport",
         "2024-09"
        ],
        [
         "531",
         "Paid ₹54.00 to THOTA GOPAL using Bank Account XXXXXXXX1661 Sep 8, 2024, 9:31:07 PM GMT+05:30",
         "THOTA  GOPAL",
         54.0,
         "Paid",
         "2024-09-08T21:31:07.000+0000",
         "Other",
         "2024-09"
        ],
        [
         "532",
         "Sent ₹300.00 using Bank Account XXXXXXXX1661 Sep 7, 2024, 8:32:00 PM GMT+05:30",
         "",
         300.0,
         "Sent",
         "2024-09-07T20:32:00.000+0000",
         "Other",
         "2024-09"
        ],
        [
         "533",
         "Paid ₹100.00 to NANDHI KESAVAN M using Bank Account XXXXXXXX1661 Sep 6, 2024, 7:25:46 PM GMT+05:30",
         "NANDHI KESAVAN  M",
         100.0,
         "Paid",
         "2024-09-06T19:25:46.000+0000",
         "Other",
         "2024-09"
        ],
        [
         "534",
         "Paid ₹20.00 to Tibbs Frankie Metro Ameerpet using Bank Account XXXXXXXX1661 Sep 6, 2024, 7:03:12 PM GMT+05:30",
         "Tibbs Frankie Metro Ameerpet",
         20.0,
         "Paid",
         "2024-09-06T19:03:12.000+0000",
         "Food & Dining",
         "2024-09"
        ],
        [
         "535",
         "Paid ₹164.00 to Tibbs Frankie Metro Ameerpet using Bank Account XXXXXXXX1661 Sep 6, 2024, 7:02:23 PM GMT+05:30",
         "Tibbs Frankie Metro Ameerpet",
         164.0,
         "Paid",
         "2024-09-06T19:02:23.000+0000",
         "Food & Dining",
         "2024-09"
        ],
        [
         "536",
         "Paid ₹150.00 to Tibbs Frankie Metro Ameerpet Sep 6, 2024, 7:02:12 PM GMT+05:30",
         "",
         150.0,
         "Paid",
         "2024-09-06T19:02:12.000+0000",
         "Other",
         "2024-09"
        ],
        [
         "537",
         "Paid ₹95.00 to Amazon Pay using Bank Account XXXXXXXX1661 Sep 6, 2024, 2:33:16 PM GMT+05:30",
         "Amazon Pay",
         95.0,
         "Paid",
         "2024-09-06T14:33:16.000+0000",
         "Shopping & Retail",
         "2024-09"
        ],
        [
         "540",
         "Paid ₹24.99 to Zruti Solutions using Bank Account XXXXXXXX1661 Sep 5, 2024, 7:32:11 PM GMT+05:30",
         "Zruti Solutions ",
         24.99,
         "Paid",
         "2024-09-05T19:32:11.000+0000",
         "Other",
         "2024-09"
        ],
        [
         "541",
         "Paid ₹29.00 to Amazon Pay using Bank Account XXXXXXXX1661 Sep 5, 2024, 4:21:07 PM GMT+05:30",
         "Amazon Pay",
         29.0,
         "Paid",
         "2024-09-05T16:21:07.000+0000",
         "Shopping & Retail",
         "2024-09"
        ],
        [
         "542",
         "Paid ₹40.00 to Geddit Convenience Private Limited using Bank Account XXXXXXXX1661 Sep 5, 2024, 12:39:14 PM GMT+05:30",
         "Geddit Convenience Private Limited",
         40.0,
         "Paid",
         "2024-09-05T12:39:14.000+0000",
         "Other",
         "2024-09"
        ],
        [
         "544",
         "Paid ₹65.00 to Tobox Ventures Private Limited using Bank Account XXXXXXXX1661 Sep 5, 2024, 12:34:56 PM GMT+05:30",
         "Tobox Ventures Private Limited",
         65.0,
         "Paid",
         "2024-09-05T12:34:56.000+0000",
         "Food & Dining",
         "2024-09"
        ],
        [
         "546",
         "Paid ₹20.00 to BATHINA VEERA VENKATA SATYANARAYANA using Bank Account XXXXXXXX1661 Sep 5, 2024, 8:58:52 AM GMT+05:30",
         "BATHINA VEERA VENKATA SATYANARAYANA",
         20.0,
         "Paid",
         "2024-09-05T08:58:52.000+0000",
         "Other",
         "2024-09"
        ],
        [
         "547",
         "Paid ₹50.00 using Bank Account XXXXXXXX1661 Sep 4, 2024, 7:13:08 PM GMT+05:30",
         "",
         50.0,
         "Paid",
         "2024-09-04T19:13:08.000+0000",
         "Other",
         "2024-09"
        ],
        [
         "548",
         "Paid ₹45.00 to Amazon Pay using Bank Account XXXXXXXX1661 Sep 4, 2024, 1:12:30 PM GMT+05:30",
         "Amazon Pay",
         45.0,
         "Paid",
         "2024-09-04T13:12:30.000+0000",
         "Shopping & Retail",
         "2024-09"
        ],
        [
         "549",
         "Paid ₹55.00 to Amazon Pay using Bank Account XXXXXXXX1661 Sep 4, 2024, 12:46:46 PM GMT+05:30",
         "Amazon Pay",
         55.0,
         "Paid",
         "2024-09-04T12:46:46.000+0000",
         "Shopping & Retail",
         "2024-09"
        ],
        [
         "551",
         "Paid ₹10.00 to THOTA GOPAL using Bank Account XXXXXXXX1661 Sep 3, 2024, 8:32:53 PM GMT+05:30",
         "THOTA  GOPAL",
         10.0,
         "Paid",
         "2024-09-03T20:32:53.000+0000",
         "Other",
         "2024-09"
        ],
        [
         "552",
         "Paid ₹55.00 using Bank Account XXXXXXXX1661 Sep 3, 2024, 7:29:43 PM GMT+05:30",
         "",
         55.0,
         "Paid",
         "2024-09-03T19:29:43.000+0000",
         "Other",
         "2024-09"
        ],
        [
         "553",
         "Paid ₹1500.00 to Habsiguda Metro Station using Bank Account XXXXXXXX1661 Sep 3, 2024, 7:24:22 PM GMT+05:30",
         "Habsiguda Metro Station",
         1500.0,
         "Paid",
         "2024-09-03T19:24:22.000+0000",
         "Fuel & Transport",
         "2024-09"
        ],
        [
         "555",
         "Paid ₹30.00 to Tobox Ventures Private Limited using Bank Account XXXXXXXX1661 Sep 3, 2024, 3:58:45 PM GMT+05:30",
         "Tobox Ventures Private Limited",
         30.0,
         "Paid",
         "2024-09-03T15:58:45.000+0000",
         "Food & Dining",
         "2024-09"
        ],
        [
         "556",
         "Paid ₹150.00 to Tobox Ventures Private Limited using Bank Account XXXXXXXX1661 Sep 3, 2024, 1:17:09 PM GMT+05:30",
         "Tobox Ventures Private Limited",
         150.0,
         "Paid",
         "2024-09-03T13:17:09.000+0000",
         "Food & Dining",
         "2024-09"
        ],
        [
         "559",
         "Paid ₹20.00 to Amazon Pay using Bank Account XXXXXXXX1661 Sep 3, 2024, 1:09:41 PM GMT+05:30",
         "Amazon Pay",
         20.0,
         "Paid",
         "2024-09-03T13:09:41.000+0000",
         "Shopping & Retail",
         "2024-09"
        ],
        [
         "560",
         "Paid ₹40.00 to Amazon Pay using Bank Account XXXXXXXX1661 Sep 3, 2024, 1:07:57 PM GMT+05:30",
         "Amazon Pay",
         40.0,
         "Paid",
         "2024-09-03T13:07:57.000+0000",
         "Shopping & Retail",
         "2024-09"
        ],
        [
         "562",
         "Paid ₹30.00 to L and T METRO RAIL HYDERABAD LIMITED using Bank Account XXXXXXXX1661 Sep 3, 2024, 7:03:37 AM GMT+05:30",
         "L and T METRO RAIL HYDERABAD LIMITED",
         30.0,
         "Paid",
         "2024-09-03T07:03:37.000+0000",
         "Fuel & Transport",
         "2024-09"
        ],
        [
         "563",
         "Sent ₹120.00 using Bank Account XXXXXXXX1661 Sep 2, 2024, 9:53:29 AM GMT+05:30",
         "",
         120.0,
         "Sent",
         "2024-09-02T09:53:29.000+0000",
         "Other",
         "2024-09"
        ],
        [
         "564",
         "Paid ₹49.98 to Park Hyderabad using Bank Account XXXXXXXX1661 Sep 2, 2024, 8:13:54 AM GMT+05:30",
         "Park Hyderabad",
         49.98,
         "Paid",
         "2024-09-02T08:13:54.000+0000",
         "Fuel & Transport",
         "2024-09"
        ],
        [
         "565",
         "Paid ₹25.00 to New Balaji Mithai Bhandar using Bank Account XXXXXXXX1661 Aug 31, 2024, 7:47:43 PM GMT+05:30",
         "New Balaji Mithai Bhandar",
         25.0,
         "Paid",
         "2024-08-31T19:47:43.000+0000",
         "Food & Dining",
         "2024-08"
        ],
        [
         "566",
         "Paid ₹145.00 to New Balaji Mithai Bhandar using Bank Account XXXXXXXX1661 Aug 31, 2024, 7:15:30 PM GMT+05:30",
         "New Balaji Mithai Bhandar",
         145.0,
         "Paid",
         "2024-08-31T19:15:30.000+0000",
         "Food & Dining",
         "2024-08"
        ],
        [
         "567",
         "Paid ₹70.00 to Shiva Balaji Medical using Bank Account XXXXXXXX1661 Aug 31, 2024, 7:13:47 PM GMT+05:30",
         "Shiva Balaji Medical",
         70.0,
         "Paid",
         "2024-08-31T19:13:47.000+0000",
         "Health & Medical",
         "2024-08"
        ],
        [
         "568",
         "Paid ₹280.00 to YUMMY FRIENDZ using Bank Account XXXXXXXX1661 Aug 31, 2024, 6:44:27 PM GMT+05:30",
         "YUMMY FRIENDZ",
         280.0,
         "Paid",
         "2024-08-31T18:44:27.000+0000",
         "Food & Dining",
         "2024-08"
        ],
        [
         "569",
         "Paid ₹30.00 to NANDHI KESAVAN M using Bank Account XXXXXXXX1661 Aug 31, 2024, 6:38:35 PM GMT+05:30",
         "NANDHI KESAVAN  M",
         30.0,
         "Paid",
         "2024-08-31T18:38:35.000+0000",
         "Other",
         "2024-08"
        ],
        [
         "570",
         "Paid ₹30.00 to NANDHI KESAVAN M Aug 31, 2024, 6:38:08 PM GMT+05:30",
         "",
         30.0,
         "Paid",
         "2024-08-31T18:38:08.000+0000",
         "Other",
         "2024-08"
        ],
        [
         "571",
         "Sent ₹4000.00 using Bank Account XXXXXXXX1661 Aug 31, 2024, 10:56:24 AM GMT+05:30",
         "",
         4000.0,
         "Sent",
         "2024-08-31T10:56:24.000+0000",
         "Other",
         "2024-08"
        ],
        [
         "572",
         "Sent ₹4000.00 Aug 31, 2024, 10:56:08 AM GMT+05:30",
         "",
         4000.0,
         "Sent",
         "2024-08-31T10:56:08.000+0000",
         "Other",
         "2024-08"
        ],
        [
         "575",
         "Paid ₹299.00 to IKEA INDIA PVT LTD using Bank Account XXXXXXXX1661 Aug 30, 2024, 2:31:30 PM GMT+05:30",
         "IKEA INDIA PVT LTD",
         299.0,
         "Paid",
         "2024-08-30T14:31:30.000+0000",
         "Shopping & Retail",
         "2024-08"
        ],
        [
         "577",
         "Paid ₹24.99 to Park Hyderabad using Bank Account XXXXXXXX1661 Aug 29, 2024, 7:26:50 PM GMT+05:30",
         "Park Hyderabad",
         24.99,
         "Paid",
         "2024-08-29T19:26:50.000+0000",
         "Fuel & Transport",
         "2024-08"
        ],
        [
         "579",
         "Paid ₹450.00 to Raidurg using Bank Account XXXXXXXX1661 Aug 28, 2024, 6:25:10 PM GMT+05:30",
         "Raidurg",
         450.0,
         "Paid",
         "2024-08-28T18:25:10.000+0000",
         "Other",
         "2024-08"
        ],
        [
         "580",
         "Paid ₹65.00 to Tobox Ventures Private Limited using Bank Account XXXXXXXX1661 Aug 28, 2024, 4:44:59 PM GMT+05:30",
         "Tobox Ventures Private Limited",
         65.0,
         "Paid",
         "2024-08-28T16:44:59.000+0000",
         "Food & Dining",
         "2024-08"
        ],
        [
         "581",
         "Paid ₹24.99 to Park Hyderabad using Bank Account XXXXXXXX1661 Aug 28, 2024, 8:44:39 AM GMT+05:30",
         "Park Hyderabad",
         24.99,
         "Paid",
         "2024-08-28T08:44:39.000+0000",
         "Fuel & Transport",
         "2024-08"
        ],
        [
         "582",
         "Paid ₹150.00 to ASHOK RAM using Bank Account XXXXXXXX1661 Aug 27, 2024, 8:04:00 PM GMT+05:30",
         "ASHOK RAM",
         150.0,
         "Paid",
         "2024-08-27T20:04:00.000+0000",
         "Other",
         "2024-08"
        ],
        [
         "584",
         "Sent ₹20.00 using Bank Account XXXXXXXX1661 Aug 26, 2024, 7:46:46 PM GMT+05:30",
         "",
         20.0,
         "Sent",
         "2024-08-26T19:46:46.000+0000",
         "Other",
         "2024-08"
        ],
        [
         "586",
         "Paid ₹130.00 to Tobox Ventures Private Limited using Bank Account XXXXXXXX1661 Aug 26, 2024, 12:41:58 PM GMT+05:30",
         "Tobox Ventures Private Limited",
         130.0,
         "Paid",
         "2024-08-26T12:41:58.000+0000",
         "Food & Dining",
         "2024-08"
        ],
        [
         "587",
         "Paid ₹130.00 to Tobox Ventures Private Limited using Bank Account XXXXXXXX1661 Aug 26, 2024, 12:40:38 PM GMT+05:30",
         "Tobox Ventures Private Limited",
         130.0,
         "Paid",
         "2024-08-26T12:40:38.000+0000",
         "Food & Dining",
         "2024-08"
        ],
        [
         "588",
         "Sent ₹70.00 using Bank Account XXXXXXXX1661 Aug 26, 2024, 8:08:06 AM GMT+05:30",
         "",
         70.0,
         "Sent",
         "2024-08-26T08:08:06.000+0000",
         "Other",
         "2024-08"
        ],
        [
         "590",
         "Paid ₹300.00 to BADAMI LAKSMIKANTH using Bank Account XXXXXXXX1661 Aug 25, 2024, 8:25:35 PM GMT+05:30",
         "BADAMI LAKSMIKANTH",
         300.0,
         "Paid",
         "2024-08-25T20:25:35.000+0000",
         "Other",
         "2024-08"
        ],
        [
         "592",
         "Paid ₹20.00 using Bank Account XXXXXXXX1661 Aug 25, 2024, 12:37:14 PM GMT+05:30",
         "",
         20.0,
         "Paid",
         "2024-08-25T12:37:14.000+0000",
         "Other",
         "2024-08"
        ],
        [
         "593",
         "Sent ₹450.00 using Bank Account XXXXXXXX1661 Aug 25, 2024, 11:45:19 AM GMT+05:30",
         "",
         450.0,
         "Sent",
         "2024-08-25T11:45:19.000+0000",
         "Other",
         "2024-08"
        ],
        [
         "594",
         "Paid ₹59.00 to Habsiguda Metro Station using Bank Account XXXXXXXX1661 Aug 25, 2024, 9:12:26 AM GMT+05:30",
         "Habsiguda Metro Station",
         59.0,
         "Paid",
         "2024-08-25T09:12:26.000+0000",
         "Fuel & Transport",
         "2024-08"
        ],
        [
         "595",
         "Paid ₹35.00 to Marella Tejaswi using Bank Account XXXXXXXX1661 Aug 25, 2024, 8:40:56 AM GMT+05:30",
         "Marella Tejaswi",
         35.0,
         "Paid",
         "2024-08-25T08:40:56.000+0000",
         "Other",
         "2024-08"
        ],
        [
         "596",
         "Paid ₹30.00 to Mr K Shiva Sai Goud using Bank Account XXXXXXXX1661 Aug 25, 2024, 8:39:12 AM GMT+05:30",
         "Mr K Shiva Sai Goud",
         30.0,
         "Paid",
         "2024-08-25T08:39:12.000+0000",
         "Other",
         "2024-08"
        ],
        [
         "597",
         "Paid ₹24.99 to Park Hyderabad using Bank Account XXXXXXXX1661 Aug 24, 2024, 9:26:00 PM GMT+05:30",
         "Park Hyderabad",
         24.99,
         "Paid",
         "2024-08-24T21:26:00.000+0000",
         "Fuel & Transport",
         "2024-08"
        ],
        [
         "598",
         "Paid ₹500.00 using Bank Account XXXXXXXX1661 Aug 24, 2024, 9:22:00 PM GMT+05:30",
         "",
         500.0,
         "Paid",
         "2024-08-24T21:22:00.000+0000",
         "Other",
         "2024-08"
        ],
        [
         "600",
         "Paid ₹56.14 to Zepto using Bank Account XXXXXXXX1661 Aug 24, 2024, 5:40:24 PM GMT+05:30",
         "Zepto",
         56.14,
         "Paid",
         "2024-08-24T17:40:24.000+0000",
         "Groceries",
         "2024-08"
        ],
        [
         "601",
         "Paid ₹56.14 to Zepto using Bank Account XXXXXXXX1661 Aug 24, 2024, 5:39:41 PM GMT+05:30",
         "Zepto",
         56.14,
         "Paid",
         "2024-08-24T17:39:41.000+0000",
         "Groceries",
         "2024-08"
        ],
        [
         "606",
         "Paid ₹50.00 to SHANDAAR ARABIAN RES using Bank Account XXXXXXXX1661 Aug 24, 2024, 3:23:40 PM GMT+05:30",
         "SHANDAAR ARABIAN RES",
         50.0,
         "Paid",
         "2024-08-24T15:23:40.000+0000",
         "Food & Dining",
         "2024-08"
        ],
        [
         "607",
         "Paid ₹20.00 to SR FOODS using Bank Account XXXXXXXX1661 Aug 24, 2024, 1:11:46 PM GMT+05:30",
         "SR FOODS",
         20.0,
         "Paid",
         "2024-08-24T13:11:46.000+0000",
         "Food & Dining",
         "2024-08"
        ],
        [
         "608",
         "Paid ₹5.00 to klcbooks and stationary using Bank Account XXXXXXXX1661 Aug 24, 2024, 12:34:44 PM GMT+05:30",
         "klcbooks and stationary",
         5.0,
         "Paid",
         "2024-08-24T12:34:44.000+0000",
         "Fuel & Transport",
         "2024-08"
        ],
        [
         "609",
         "Paid ₹35.00 to Marella Tejaswi using Bank Account XXXXXXXX1661 Aug 24, 2024, 9:55:46 AM GMT+05:30",
         "Marella Tejaswi",
         35.0,
         "Paid",
         "2024-08-24T09:55:46.000+0000",
         "Other",
         "2024-08"
        ],
        [
         "610",
         "Paid ₹46.00 to THOTA GOPAL using Bank Account XXXXXXXX1661 Aug 23, 2024, 8:20:03 PM GMT+05:30",
         "THOTA  GOPAL",
         46.0,
         "Paid",
         "2024-08-23T20:20:03.000+0000",
         "Other",
         "2024-08"
        ],
        [
         "611",
         "Paid ₹170.00 to Gelli Venkata Sagar using Bank Account XXXXXXXX1661 Aug 23, 2024, 1:47:17 PM GMT+05:30",
         "Gelli Venkata Sagar",
         170.0,
         "Paid",
         "2024-08-23T13:47:17.000+0000",
         "Other",
         "2024-08"
        ],
        [
         "612",
         "Paid ₹20.00 to Vasamsetti Srinu using Bank Account XXXXXXXX1661 Aug 23, 2024, 9:07:43 AM GMT+05:30",
         "Vasamsetti Srinu",
         20.0,
         "Paid",
         "2024-08-23T09:07:43.000+0000",
         "Other",
         "2024-08"
        ],
        [
         "613",
         "Paid ₹24.99 to Park Hyderabad using Bank Account XXXXXXXX1661 Aug 22, 2024, 7:53:40 PM GMT+05:30",
         "Park Hyderabad",
         24.99,
         "Paid",
         "2024-08-22T19:53:40.000+0000",
         "Fuel & Transport",
         "2024-08"
        ],
        [
         "614",
         "Sent ₹5.00 using Bank Account XXXXXXXX1661 Aug 22, 2024, 2:09:40 PM GMT+05:30",
         "",
         5.0,
         "Sent",
         "2024-08-22T14:09:40.000+0000",
         "Other",
         "2024-08"
        ],
        [
         "615",
         "Sent ₹60.00 using Bank Account XXXXXXXX1661 Aug 22, 2024, 2:08:58 PM GMT+05:30",
         "",
         60.0,
         "Sent",
         "2024-08-22T14:08:58.000+0000",
         "Other",
         "2024-08"
        ],
        [
         "616",
         "Paid ₹5.00 to Amazon Pay using Bank Account XXXXXXXX1661 Aug 22, 2024, 1:12:47 PM GMT+05:30",
         "Amazon Pay",
         5.0,
         "Paid",
         "2024-08-22T13:12:47.000+0000",
         "Shopping & Retail",
         "2024-08"
        ],
        [
         "617",
         "Paid ₹50.00 to Amazon Pay using Bank Account XXXXXXXX1661 Aug 22, 2024, 11:15:54 AM GMT+05:30",
         "Amazon Pay",
         50.0,
         "Paid",
         "2024-08-22T11:15:54.000+0000",
         "Shopping & Retail",
         "2024-08"
        ],
        [
         "620",
         "Paid ₹20.00 to Vasamsetti Srinu using Bank Account XXXXXXXX1661 Aug 22, 2024, 9:08:22 AM GMT+05:30",
         "Vasamsetti Srinu",
         20.0,
         "Paid",
         "2024-08-22T09:08:22.000+0000",
         "Other",
         "2024-08"
        ],
        [
         "622",
         "Paid ₹100.00 to Amazon Pay using Bank Account XXXXXXXX1661 Aug 21, 2024, 11:39:49 AM GMT+05:30",
         "Amazon Pay",
         100.0,
         "Paid",
         "2024-08-21T11:39:49.000+0000",
         "Shopping & Retail",
         "2024-08"
        ],
        [
         "625",
         "Paid ₹100.00 to Amazon Pay using Bank Account XXXXXXXX1661 Aug 21, 2024, 11:32:31 AM GMT+05:30",
         "Amazon Pay",
         100.0,
         "Paid",
         "2024-08-21T11:32:31.000+0000",
         "Shopping & Retail",
         "2024-08"
        ],
        [
         "626",
         "Paid ₹24.99 to Park Hyderabad using Bank Account XXXXXXXX1661 Aug 21, 2024, 8:05:58 AM GMT+05:30",
         "Park Hyderabad",
         24.99,
         "Paid",
         "2024-08-21T08:05:58.000+0000",
         "Fuel & Transport",
         "2024-08"
        ],
        [
         "627",
         "Paid ₹10.00 to SIRI SUPRABHAT HOTEL using Bank Account XXXXXXXX1661 Aug 20, 2024, 8:01:40 PM GMT+05:30",
         "SIRI SUPRABHAT HOTEL",
         10.0,
         "Paid",
         "2024-08-20T20:01:40.000+0000",
         "Food & Dining",
         "2024-08"
        ],
        [
         "628",
         "Paid ₹24.99 to Park Hyderabad using Bank Account XXXXXXXX1661 Aug 20, 2024, 7:57:35 PM GMT+05:30",
         "Park Hyderabad",
         24.99,
         "Paid",
         "2024-08-20T19:57:35.000+0000",
         "Fuel & Transport",
         "2024-08"
        ],
        [
         "629",
         "Paid ₹30.00 to Dinesh Kumar using Bank Account XXXXXXXX1661 Aug 20, 2024, 6:24:47 PM GMT+05:30",
         "Dinesh Kumar",
         30.0,
         "Paid",
         "2024-08-20T18:24:47.000+0000",
         "Other",
         "2024-08"
        ],
        [
         "630",
         "Paid ₹45.00 to Amazon Pay using Bank Account XXXXXXXX1661 Aug 20, 2024, 3:22:53 PM GMT+05:30",
         "Amazon Pay",
         45.0,
         "Paid",
         "2024-08-20T15:22:53.000+0000",
         "Shopping & Retail",
         "2024-08"
        ],
        [
         "631",
         "Paid ₹15.00 to Amazon Pay using Bank Account XXXXXXXX1661 Aug 20, 2024, 1:15:21 PM GMT+05:30",
         "Amazon Pay",
         15.0,
         "Paid",
         "2024-08-20T13:15:21.000+0000",
         "Shopping & Retail",
         "2024-08"
        ],
        [
         "632",
         "Paid ₹40.00 to Amazon Pay using Bank Account XXXXXXXX1661 Aug 20, 2024, 11:58:22 AM GMT+05:30",
         "Amazon Pay",
         40.0,
         "Paid",
         "2024-08-20T11:58:22.000+0000",
         "Shopping & Retail",
         "2024-08"
        ],
        [
         "633",
         "Sent ₹277.00 using Bank Account XXXXXXXX1661 Aug 20, 2024, 8:19:12 AM GMT+05:30",
         "",
         277.0,
         "Sent",
         "2024-08-20T08:19:12.000+0000",
         "Other",
         "2024-08"
        ],
        [
         "635",
         "Paid ₹20.00 to Bbinstant using Bank Account XXXXXXXX1661 Aug 19, 2024, 7:32:20 PM GMT+05:30",
         "Bbinstant",
         20.0,
         "Paid",
         "2024-08-19T19:32:20.000+0000",
         "Food & Dining",
         "2024-08"
        ],
        [
         "636",
         "Paid ₹500.00 to Habsiguda Metro Station using Bank Account XXXXXXXX1661 Aug 19, 2024, 7:05:21 PM GMT+05:30",
         "Habsiguda Metro Station",
         500.0,
         "Paid",
         "2024-08-19T19:05:21.000+0000",
         "Fuel & Transport",
         "2024-08"
        ],
        [
         "637",
         "Paid ₹40.00 to bbinstant using Bank Account XXXXXXXX1661 Aug 19, 2024, 5:18:45 PM GMT+05:30",
         "bbinstant",
         40.0,
         "Paid",
         "2024-08-19T17:18:45.000+0000",
         "Food & Dining",
         "2024-08"
        ],
        [
         "638",
         "Paid ₹20.00 to Bbinstant using Bank Account XXXXXXXX1661 Aug 19, 2024, 5:17:29 PM GMT+05:30",
         "Bbinstant",
         20.0,
         "Paid",
         "2024-08-19T17:17:29.000+0000",
         "Food & Dining",
         "2024-08"
        ],
        [
         "639",
         "Paid ₹30.00 to Amazon Pay using Bank Account XXXXXXXX1661 Aug 19, 2024, 12:39:37 PM GMT+05:30",
         "Amazon Pay",
         30.0,
         "Paid",
         "2024-08-19T12:39:37.000+0000",
         "Shopping & Retail",
         "2024-08"
        ],
        [
         "640",
         "Paid ₹24.99 to Park Hyderabad using Bank Account XXXXXXXX1661 Aug 19, 2024, 8:01:48 AM GMT+05:30",
         "Park Hyderabad",
         24.99,
         "Paid",
         "2024-08-19T08:01:48.000+0000",
         "Fuel & Transport",
         "2024-08"
        ],
        [
         "641",
         "Paid ₹34.99 to Park Hyderabad using Bank Account XXXXXXXX1661 Aug 19, 2024, 7:59:04 AM GMT+05:30",
         "Park Hyderabad",
         34.99,
         "Paid",
         "2024-08-19T07:59:04.000+0000",
         "Fuel & Transport",
         "2024-08"
        ],
        [
         "642",
         "Paid ₹10.00 to THOTA GOPAL using Bank Account XXXXXXXX1661 Aug 19, 2024, 7:29:41 AM GMT+05:30",
         "THOTA  GOPAL",
         10.0,
         "Paid",
         "2024-08-19T07:29:41.000+0000",
         "Other",
         "2024-08"
        ],
        [
         "643",
         "Paid ₹470.00 to PASHAM LINGAREDDY using Bank Account XXXXXXXX1661 Aug 18, 2024, 5:29:27 PM GMT+05:30",
         "PASHAM LINGAREDDY",
         470.0,
         "Paid",
         "2024-08-18T17:29:27.000+0000",
         "Other",
         "2024-08"
        ],
        [
         "644",
         "Paid ₹79.00 to PISTA HOUSE using Bank Account XXXXXXXX1661 Aug 18, 2024, 4:19:52 PM GMT+05:30",
         "PISTA HOUSE",
         79.0,
         "Paid",
         "2024-08-18T16:19:52.000+0000",
         "Food & Dining",
         "2024-08"
        ],
        [
         "645",
         "Paid ₹60.00 using Bank Account XXXXXXXX1661 Aug 18, 2024, 3:39:31 PM GMT+05:30",
         "",
         60.0,
         "Paid",
         "2024-08-18T15:39:31.000+0000",
         "Other",
         "2024-08"
        ],
        [
         "646",
         "Paid ₹50.00 to THOTA GOPAL using Bank Account XXXXXXXX1661 Aug 18, 2024, 10:35:33 AM GMT+05:30",
         "THOTA  GOPAL",
         50.0,
         "Paid",
         "2024-08-18T10:35:33.000+0000",
         "Other",
         "2024-08"
        ],
        [
         "647",
         "Paid ₹40.00 to THOTA GOPAL using Bank Account XXXXXXXX1661 Aug 18, 2024, 7:10:06 AM GMT+05:30",
         "THOTA  GOPAL",
         40.0,
         "Paid",
         "2024-08-18T07:10:06.000+0000",
         "Other",
         "2024-08"
        ],
        [
         "648",
         "Paid ₹34.99 to Park Hyderabad using Bank Account XXXXXXXX1661 Aug 12, 2024, 7:27:06 PM GMT+05:30",
         "Park Hyderabad",
         34.99,
         "Paid",
         "2024-08-12T19:27:06.000+0000",
         "Fuel & Transport",
         "2024-08"
        ],
        [
         "649",
         "Paid ₹34.99 to Park Hyderabad Aug 12, 2024, 7:26:55 PM GMT+05:30",
         "",
         34.99,
         "Paid",
         "2024-08-12T19:26:55.000+0000",
         "Other",
         "2024-08"
        ],
        [
         "650",
         "Paid ₹80.00 using Bank Account XXXXXXXX1661 Aug 11, 2024, 7:46:23 PM GMT+05:30",
         "",
         80.0,
         "Paid",
         "2024-08-11T19:46:23.000+0000",
         "Other",
         "2024-08"
        ],
        [
         "652",
         "Paid ₹89.00 to Amazon Pay using Bank Account XXXXXXXX1661 Aug 8, 2024, 2:26:44 PM GMT+05:30",
         "Amazon Pay",
         89.0,
         "Paid",
         "2024-08-08T14:26:44.000+0000",
         "Shopping & Retail",
         "2024-08"
        ],
        [
         "655",
         "Sent ₹25.00 using Bank Account XXXXXXXX1661 Aug 5, 2024, 7:16:51 PM GMT+05:30",
         "",
         25.0,
         "Sent",
         "2024-08-05T19:16:51.000+0000",
         "Other",
         "2024-08"
        ],
        [
         "656",
         "Paid ₹120.00 to SREE GEETA EATS AND using Bank Account XXXXXXXX1661 Aug 4, 2024, 2:21:52 PM GMT+05:30",
         "SREE GEETA EATS AND",
         120.0,
         "Paid",
         "2024-08-04T14:21:52.000+0000",
         "Food & Dining",
         "2024-08"
        ],
        [
         "660",
         "Paid ₹240.00 using Bank Account XXXXXXXX1661 Aug 2, 2024, 7:45:37 PM GMT+05:30",
         "",
         240.0,
         "Paid",
         "2024-08-02T19:45:37.000+0000",
         "Other",
         "2024-08"
        ],
        [
         "662",
         "Paid ₹20.00 to Amazon Pay using Bank Account XXXXXXXX1661 Aug 2, 2024, 4:28:24 PM GMT+05:30",
         "Amazon Pay",
         20.0,
         "Paid",
         "2024-08-02T16:28:24.000+0000",
         "Shopping & Retail",
         "2024-08"
        ],
        [
         "665",
         "Paid ₹20.00 to Amazon Pay using Bank Account XXXXXXXX1661 Aug 2, 2024, 4:24:48 PM GMT+05:30",
         "Amazon Pay",
         20.0,
         "Paid",
         "2024-08-02T16:24:48.000+0000",
         "Shopping & Retail",
         "2024-08"
        ],
        [
         "666",
         "Paid ₹20.00 to Amazon Pay using Bank Account XXXXXXXX1661 Aug 2, 2024, 4:21:28 PM GMT+05:30",
         "Amazon Pay",
         20.0,
         "Paid",
         "2024-08-02T16:21:28.000+0000",
         "Shopping & Retail",
         "2024-08"
        ],
        [
         "667",
         "Paid ₹20.00 to Amazon Pay using Bank Account XXXXXXXX1661 Aug 2, 2024, 4:18:26 PM GMT+05:30",
         "Amazon Pay",
         20.0,
         "Paid",
         "2024-08-02T16:18:26.000+0000",
         "Shopping & Retail",
         "2024-08"
        ],
        [
         "668",
         "Sent ₹1600.00 using Bank Account XXXXXXXX1661 Aug 1, 2024, 9:53:43 PM GMT+05:30",
         "",
         1600.0,
         "Sent",
         "2024-08-01T21:53:43.000+0000",
         "Other",
         "2024-08"
        ],
        [
         "671",
         "Sent ₹1300.00 using Bank Account XXXXXXXX1661 Aug 1, 2024, 2:26:01 PM GMT+05:30",
         "",
         1300.0,
         "Sent",
         "2024-08-01T14:26:01.000+0000",
         "Other",
         "2024-08"
        ],
        [
         "672",
         "Sent ₹100.00 using Bank Account XXXXXXXX1661 Aug 1, 2024, 2:25:42 PM GMT+05:30",
         "",
         100.0,
         "Sent",
         "2024-08-01T14:25:42.000+0000",
         "Other",
         "2024-08"
        ],
        [
         "673",
         "Sent ₹100.00 using Bank Account XXXXXXXX1661 Aug 1, 2024, 2:25:33 PM GMT+05:30",
         "",
         100.0,
         "Sent",
         "2024-08-01T14:25:33.000+0000",
         "Other",
         "2024-08"
        ],
        [
         "674",
         "Sent ₹100.00 using Bank Account XXXXXXXX1661 Aug 1, 2024, 2:24:35 PM GMT+05:30",
         "",
         100.0,
         "Sent",
         "2024-08-01T14:24:35.000+0000",
         "Other",
         "2024-08"
        ],
        [
         "676",
         "Paid ₹130.00 to Amazon Pay using Bank Account XXXXXXXX1661 Aug 1, 2024, 1:55:02 PM GMT+05:30",
         "Amazon Pay",
         130.0,
         "Paid",
         "2024-08-01T13:55:02.000+0000",
         "Shopping & Retail",
         "2024-08"
        ],
        [
         "679",
         "Paid ₹10.00 to Amazon Pay using Bank Account XXXXXXXX1661 Aug 1, 2024, 1:11:46 PM GMT+05:30",
         "Amazon Pay",
         10.0,
         "Paid",
         "2024-08-01T13:11:46.000+0000",
         "Shopping & Retail",
         "2024-08"
        ],
        [
         "680",
         "Paid ₹1300.00 to VK MULTI BRAND FOOTWEAR using Bank Account XXXXXXXX1661 Aug 1, 2024, 9:42:58 AM GMT+05:30",
         "VK MULTI BRAND FOOTWEAR",
         1300.0,
         "Paid",
         "2024-08-01T09:42:58.000+0000",
         "Shopping & Retail",
         "2024-08"
        ],
        [
         "682",
         "Sent ₹90.00 using Bank Account XXXXXXXX1661 Aug 1, 2024, 7:35:13 AM GMT+05:30",
         "",
         90.0,
         "Sent",
         "2024-08-01T07:35:13.000+0000",
         "Other",
         "2024-08"
        ],
        [
         "684",
         "Paid ₹40.00 to NEW BALAJI MITHAI BHANDAR using Bank Account XXXXXXXX1661 Jul 31, 2024, 10:43:53 PM GMT+05:30",
         "NEW BALAJI MITHAI BHANDAR",
         40.0,
         "Paid",
         "2024-07-31T22:43:53.000+0000",
         "Food & Dining",
         "2024-07"
        ],
        [
         "686",
         "Paid ₹40.00 to Phaseer Rahman using Bank Account XXXXXXXX1661 Jul 31, 2024, 8:14:35 PM GMT+05:30",
         "Phaseer Rahman",
         40.0,
         "Paid",
         "2024-07-31T20:14:35.000+0000",
         "Other",
         "2024-07"
        ],
        [
         "689",
         "Paid ₹104.00 to Tibbs Frankie Lnt Metro Uppal using Bank Account XXXXXXXX1661 Jul 29, 2024, 7:42:28 PM GMT+05:30",
         "Tibbs Frankie Lnt Metro Uppal",
         104.0,
         "Paid",
         "2024-07-29T19:42:28.000+0000",
         "Food & Dining",
         "2024-07"
        ],
        [
         "693",
         "Paid ₹20.00 to SREE GEETA EATS AND using Bank Account XXXXXXXX1661 Jul 27, 2024, 4:26:02 PM GMT+05:30",
         "SREE GEETA EATS AND",
         20.0,
         "Paid",
         "2024-07-27T16:26:02.000+0000",
         "Food & Dining",
         "2024-07"
        ],
        [
         "694",
         "Paid ₹80.00 to SREE GEETA EATS AND using Bank Account XXXXXXXX1661 Jul 27, 2024, 4:25:21 PM GMT+05:30",
         "SREE GEETA EATS AND",
         80.0,
         "Paid",
         "2024-07-27T16:25:21.000+0000",
         "Food & Dining",
         "2024-07"
        ],
        [
         "695",
         "Paid ₹2000.00 using Bank Account XXXXXXXX1661 Jul 27, 2024, 4:05:11 PM GMT+05:30",
         "",
         2000.0,
         "Paid",
         "2024-07-27T16:05:11.000+0000",
         "Other",
         "2024-07"
        ],
        [
         "696",
         "Paid ₹2000.00 Jul 27, 2024, 4:03:26 PM GMT+05:30",
         "",
         2000.0,
         "Paid",
         "2024-07-27T16:03:26.000+0000",
         "Other",
         "2024-07"
        ],
        [
         "699",
         "Paid ₹10.00 to BANDHI KANAKARAJ using Bank Account XXXXXXXX1661 Jul 23, 2024, 12:43:20 PM GMT+05:30",
         "BANDHI KANAKARAJ",
         10.0,
         "Paid",
         "2024-07-23T12:43:20.000+0000",
         "Other",
         "2024-07"
        ],
        [
         "700",
         "Sent ₹100.00 using Bank Account XXXXXXXX1661 Jul 23, 2024, 12:31:43 PM GMT+05:30",
         "",
         100.0,
         "Sent",
         "2024-07-23T12:31:43.000+0000",
         "Other",
         "2024-07"
        ],
        [
         "701",
         "Paid ₹80.00 using Bank Account XXXXXXXX1661 Jul 22, 2024, 7:04:17 PM GMT+05:30",
         "",
         80.0,
         "Paid",
         "2024-07-22T19:04:17.000+0000",
         "Other",
         "2024-07"
        ],
        [
         "702",
         "Sent ₹50.00 using Bank Account XXXXXXXX1661 Jul 22, 2024, 5:38:55 PM GMT+05:30",
         "",
         50.0,
         "Sent",
         "2024-07-22T17:38:55.000+0000",
         "Other",
         "2024-07"
        ],
        [
         "704",
         "Paid ₹811.00 to Bundl Technologies pvt Ltd using Bank Account XXXXXXXX1661 Jul 21, 2024, 11:35:15 PM GMT+05:30",
         "Bundl Technologies pvt Ltd",
         811.0,
         "Paid",
         "2024-07-21T23:35:15.000+0000",
         "Other",
         "2024-07"
        ],
        [
         "705",
         "Paid ₹811.00 to Bundl Technologies pvt Ltd using Bank Account XXXXXXXX1661 Jul 21, 2024, 11:34:46 PM GMT+05:30",
         "Bundl Technologies pvt Ltd",
         811.0,
         "Paid",
         "2024-07-21T23:34:46.000+0000",
         "Other",
         "2024-07"
        ],
        [
         "706",
         "Paid ₹820.00 using Bank Account XXXXXX1661 Jul 21, 2024, 11:33:47 PM GMT+05:30",
         "",
         820.0,
         "Paid",
         "2024-07-21T23:33:47.000+0000",
         "Other",
         "2024-07"
        ],
        [
         "707",
         "Paid ₹10.00 using Bank Account XXXXXX1661 Jul 21, 2024, 10:01:58 PM GMT+05:30",
         "",
         10.0,
         "Paid",
         "2024-07-21T22:01:58.000+0000",
         "Other",
         "2024-07"
        ],
        [
         "708",
         "Sent ₹99.00 using Bank Account XXXXXXXX1661 Jul 21, 2024, 3:13:55 PM GMT+05:30",
         "",
         99.0,
         "Sent",
         "2024-07-21T15:13:55.000+0000",
         "Other",
         "2024-07"
        ],
        [
         "711",
         "Sent ₹1000.00 using Bank Account XXXXXXXX1661 Jul 19, 2024, 10:13:55 PM GMT+05:30",
         "",
         1000.0,
         "Sent",
         "2024-07-19T22:13:55.000+0000",
         "Other",
         "2024-07"
        ],
        [
         "712",
         "Paid ₹1000.00 Jul 19, 2024, 10:13:31 PM GMT+05:30",
         "",
         1000.0,
         "Paid",
         "2024-07-19T22:13:31.000+0000",
         "Other",
         "2024-07"
        ],
        [
         "715",
         "Paid ₹944.00 to ZOLOSTAYS PROPERTY S using Bank Account XXXXXXXX1661 Jul 17, 2024, 2:23:44 PM GMT+05:30",
         "ZOLOSTAYS PROPERTY S",
         944.0,
         "Paid",
         "2024-07-17T14:23:44.000+0000",
         "Investment",
         "2024-07"
        ],
        [
         "719",
         "Paid ₹944.00 to ZOLOSTAYS PROPERTY S using Bank Account XXXXXXXX1661 Jul 16, 2024, 12:12:51 PM GMT+05:30",
         "ZOLOSTAYS PROPERTY S",
         944.0,
         "Paid",
         "2024-07-16T12:12:51.000+0000",
         "Investment",
         "2024-07"
        ],
        [
         "720",
         "Paid ₹1180.00 to ZOLOSTAYS PROPERTY S Jul 16, 2024, 12:11:22 PM GMT+05:30",
         "",
         1180.0,
         "Paid",
         "2024-07-16T12:11:22.000+0000",
         "Other",
         "2024-07"
        ],
        [
         "722",
         "Paid ₹53.00 to Naresh Sattaiha Govindula using Bank Account XXXXXXXX1661 Jul 15, 2024, 7:21:36 PM GMT+05:30",
         "Naresh Sattaiha Govindula",
         53.0,
         "Paid",
         "2024-07-15T19:21:36.000+0000",
         "Food & Dining",
         "2024-07"
        ],
        [
         "723",
         "Paid ₹151.00 using Bank Account XXXXXXXX1661 Jul 15, 2024, 3:35:49 PM GMT+05:30",
         "",
         151.0,
         "Paid",
         "2024-07-15T15:35:49.000+0000",
         "Other",
         "2024-07"
        ],
        [
         "724",
         "Paid ₹200.00 using Bank Account XXXXXX1661 Jul 14, 2024, 8:49:48 AM GMT+05:30",
         "",
         200.0,
         "Paid",
         "2024-07-14T08:49:48.000+0000",
         "Other",
         "2024-07"
        ],
        [
         "726",
         "Sent ₹60.00 using Bank Account XXXXXXXX1661 Jul 12, 2024, 9:06:35 PM GMT+05:30",
         "",
         60.0,
         "Sent",
         "2024-07-12T21:06:35.000+0000",
         "Other",
         "2024-07"
        ],
        [
         "728",
         "Paid ₹20.00 to KAVALE SANJU KUMAR using Bank Account XXXXXXXX1661 Jul 9, 2024, 8:54:23 PM GMT+05:30",
         "KAVALE SANJU KUMAR",
         20.0,
         "Paid",
         "2024-07-09T20:54:23.000+0000",
         "Other",
         "2024-07"
        ],
        [
         "729",
         "Paid ₹80.00 to VIJAY YADAV using Bank Account XXXXXXXX1661 Jul 8, 2024, 12:20:12 PM GMT+05:30",
         "VIJAY  YADAV",
         80.0,
         "Paid",
         "2024-07-08T12:20:12.000+0000",
         "Other",
         "2024-07"
        ],
        [
         "730",
         "Sent ₹1000.00 using Bank Account XXXXXXXX1661 Jul 8, 2024, 9:46:24 AM GMT+05:30",
         "",
         1000.0,
         "Sent",
         "2024-07-08T09:46:24.000+0000",
         "Other",
         "2024-07"
        ],
        [
         "735",
         "Sent ₹130.00 using Bank Account XXXXXXXX1661 Jun 29, 2024, 10:11:26 PM GMT+05:30",
         "",
         130.0,
         "Sent",
         "2024-06-29T22:11:26.000+0000",
         "Other",
         "2024-06"
        ],
        [
         "736",
         "Sent ₹130.00 using Bank Account XXXXXXXX1661 Jun 29, 2024, 10:11:16 PM GMT+05:30",
         "",
         130.0,
         "Sent",
         "2024-06-29T22:11:16.000+0000",
         "Other",
         "2024-06"
        ],
        [
         "739",
         "Paid ₹20.00 to NEW DOLPHIN using Bank Account XXXXXXXX1661 Jun 27, 2024, 9:47:11 PM GMT+05:30",
         "NEW DOLPHIN",
         20.0,
         "Paid",
         "2024-06-27T21:47:11.000+0000",
         "Food & Dining",
         "2024-06"
        ],
        [
         "740",
         "Paid ₹10.00 to Paytm Metro Payment using Bank Account XXXXXXXX1661 Jun 27, 2024, 9:31:00 PM GMT+05:30",
         "Paytm Metro Payment",
         10.0,
         "Paid",
         "2024-06-27T21:31:00.000+0000",
         "Fuel & Transport",
         "2024-06"
        ],
        [
         "741",
         "Sent ₹60.00 using Bank Account XXXXXXXX1661 Jun 27, 2024, 6:02:59 PM GMT+05:30",
         "",
         60.0,
         "Sent",
         "2024-06-27T18:02:59.000+0000",
         "Other",
         "2024-06"
        ],
        [
         "744",
         "Paid ₹40.00 to Mukesh Choudhari using Bank Account XXXXXXXX1661 Jun 24, 2024, 10:06:54 PM GMT+05:30",
         "Mukesh Choudhari",
         40.0,
         "Paid",
         "2024-06-24T22:06:54.000+0000",
         "Other",
         "2024-06"
        ],
        [
         "754",
         "Sent ₹6293.00 using Bank Account XXXXXXXX1661 Jun 1, 2024, 12:28:09 PM GMT+05:30",
         "",
         6293.0,
         "Sent",
         "2024-06-01T12:28:09.000+0000",
         "Other",
         "2024-06"
        ],
        [
         "757",
         "Paid ₹110.00 to PILLI VENU using Bank Account XXXXXXXX1661 May 30, 2024, 4:27:23 PM GMT+05:30",
         "PILLI  VENU",
         110.0,
         "Paid",
         "2024-05-30T16:27:23.000+0000",
         "Other",
         "2024-05"
        ],
        [
         "759",
         "Paid ₹400.00 to Luckys Biryani House using Bank Account XXXXXXXX1661 May 26, 2024, 1:21:30 PM GMT+05:30",
         "Luckys Biryani House",
         400.0,
         "Paid",
         "2024-05-26T13:21:30.000+0000",
         "Food & Dining",
         "2024-05"
        ],
        [
         "761",
         "Sent ₹1600.00 using Bank Account XXXXXXXX1661 May 25, 2024, 6:00:47 PM GMT+05:30",
         "",
         1600.0,
         "Sent",
         "2024-05-25T18:00:47.000+0000",
         "Other",
         "2024-05"
        ],
        [
         "765",
         "Paid ₹5.00 to Sunitha Sankhla using Bank Account XXXXXXXX1661 May 16, 2024, 8:11:12 PM GMT+05:30",
         "Sunitha Sankhla",
         5.0,
         "Paid",
         "2024-05-16T20:11:12.000+0000",
         "Other",
         "2024-05"
        ],
        [
         "766",
         "Paid ₹155.00 to Sunitha Sankhla using Bank Account XXXXXXXX1661 May 16, 2024, 8:10:22 PM GMT+05:30",
         "Sunitha Sankhla",
         155.0,
         "Paid",
         "2024-05-16T20:10:22.000+0000",
         "Other",
         "2024-05"
        ],
        [
         "767",
         "Paid ₹25.00 to Paytm Metro Payment using Bank Account XXXXXXXX1661 May 16, 2024, 6:19:54 PM GMT+05:30",
         "Paytm Metro Payment",
         25.0,
         "Paid",
         "2024-05-16T18:19:54.000+0000",
         "Fuel & Transport",
         "2024-05"
        ],
        [
         "769",
         "Paid ₹10.00 to Shiva Ganesh Kirana General Store using Bank Account XXXXXXXX1661 May 12, 2024, 2:35:09 PM GMT+05:30",
         "Shiva Ganesh Kirana General Store",
         10.0,
         "Paid",
         "2024-05-12T14:35:09.000+0000",
         "Groceries",
         "2024-05"
        ],
        [
         "770",
         "Paid ₹20.00 to Shiva Ganesh Kirana General Store using Bank Account XXXXXXXX1661 May 12, 2024, 2:33:53 PM GMT+05:30",
         "Shiva Ganesh Kirana General Store",
         20.0,
         "Paid",
         "2024-05-12T14:33:53.000+0000",
         "Groceries",
         "2024-05"
        ],
        [
         "771",
         "Sent ₹103.00 using Bank Account XXXXXXXX1661 May 12, 2024, 1:33:31 PM GMT+05:30",
         "",
         103.0,
         "Sent",
         "2024-05-12T13:33:31.000+0000",
         "Other",
         "2024-05"
        ],
        [
         "772",
         "Paid ₹20.00 to LINGAMPALLY SRISAILA using Bank Account XXXXXXXX1661 May 11, 2024, 8:13:52 PM GMT+05:30",
         "LINGAMPALLY SRISAILA",
         20.0,
         "Paid",
         "2024-05-11T20:13:52.000+0000",
         "Other",
         "2024-05"
        ],
        [
         "773",
         "Paid ₹20.00 to LINGAMPALLY SRISAILA using Bank Account XXXXXXXX1661 May 11, 2024, 8:12:28 PM GMT+05:30",
         "LINGAMPALLY SRISAILA",
         20.0,
         "Paid",
         "2024-05-11T20:12:28.000+0000",
         "Other",
         "2024-05"
        ],
        [
         "774",
         "Paid ₹333.00 to Om Sree Nava Durga Petroleums using Bank Account XXXXXXXX1661 May 11, 2024, 8:10:06 PM GMT+05:30",
         "Om Sree Nava Durga Petroleums",
         333.0,
         "Paid",
         "2024-05-11T20:10:06.000+0000",
         "Fuel & Transport",
         "2024-05"
        ],
        [
         "776",
         "Paid ₹150.00 to YASHVI KITCHEN using Bank Account XXXXXXXX1661 May 11, 2024, 7:49:25 PM GMT+05:30",
         "YASHVI KITCHEN",
         150.0,
         "Paid",
         "2024-05-11T19:49:25.000+0000",
         "Food & Dining",
         "2024-05"
        ],
        [
         "777",
         "Paid ₹150.00 to BAKE DELIGHT using Bank Account XXXXXXXX1661 May 11, 2024, 7:29:34 PM GMT+05:30",
         "BAKE DELIGHT",
         150.0,
         "Paid",
         "2024-05-11T19:29:34.000+0000",
         "Food & Dining",
         "2024-05"
        ],
        [
         "778",
         "Paid ₹450.00 using Bank Account XXXXXX1661 May 11, 2024, 4:58:40 PM GMT+05:30",
         "",
         450.0,
         "Paid",
         "2024-05-11T16:58:40.000+0000",
         "Other",
         "2024-05"
        ],
        [
         "779",
         "Paid ₹450.00 using Bank Account XXXXXX1661 May 11, 2024, 4:57:53 PM GMT+05:30",
         "",
         450.0,
         "Paid",
         "2024-05-11T16:57:53.000+0000",
         "Other",
         "2024-05"
        ],
        [
         "780",
         "Paid ₹300.00 using Bank Account XXXXXX1661 May 11, 2024, 4:57:34 PM GMT+05:30",
         "",
         300.0,
         "Paid",
         "2024-05-11T16:57:34.000+0000",
         "Other",
         "2024-05"
        ],
        [
         "781",
         "Sent ₹4000.00 using Bank Account XXXXXXXX1661 May 10, 2024, 7:52:06 AM GMT+05:30",
         "",
         4000.0,
         "Sent",
         "2024-05-10T07:52:06.000+0000",
         "Other",
         "2024-05"
        ],
        [
         "787",
         "Sent ₹164.00 using Bank Account XXXXXXXX1661 May 7, 2024, 11:34:09 AM GMT+05:30",
         "",
         164.0,
         "Sent",
         "2024-05-07T11:34:09.000+0000",
         "Other",
         "2024-05"
        ],
        [
         "788",
         "Sent ₹75.00 using Bank Account XXXXXXXX1661 May 7, 2024, 10:18:20 AM GMT+05:30",
         "",
         75.0,
         "Sent",
         "2024-05-07T10:18:20.000+0000",
         "Other",
         "2024-05"
        ],
        [
         "790",
         "Paid ₹90.00 to VINTI SATTIBABU using Bank Account XXXXXXXX1661 May 5, 2024, 1:32:07 PM GMT+05:30",
         "VINTI SATTIBABU",
         90.0,
         "Paid",
         "2024-05-05T13:32:07.000+0000",
         "Other",
         "2024-05"
        ],
        [
         "794",
         "Paid ₹180.00 to Mr ROSHAN LAL JAT using Bank Account XXXXXXXX1661 Apr 26, 2024, 6:16:18 PM GMT+05:30",
         "Mr ROSHAN LAL  JAT",
         180.0,
         "Paid",
         "2024-04-26T18:16:18.000+0000",
         "Other",
         "2024-04"
        ],
        [
         "807",
         "Paid ₹99.00 to Google Play using Bank Account XXXXXXXX1661 Mar 27, 2024, 7:33:00 PM GMT+05:30",
         "Google Play",
         99.0,
         "Paid",
         "2024-03-27T19:33:00.000+0000",
         "Entertainment",
         "2024-03"
        ],
        [
         "808",
         "Paid ₹25.00 to RAGHAVARAJU VEN using Bank Account XXXXXXXX1661 Mar 25, 2024, 2:01:24 PM GMT+05:30",
         "RAGHAVARAJU  VEN",
         25.0,
         "Paid",
         "2024-03-25T14:01:24.000+0000",
         "Other",
         "2024-03"
        ],
        [
         "809",
         "Paid ₹40.00 to Chanagala Swarupini using Bank Account XXXXXXXX1661 Mar 25, 2024, 1:55:09 PM GMT+05:30",
         "Chanagala Swarupini",
         40.0,
         "Paid",
         "2024-03-25T13:55:09.000+0000",
         "Other",
         "2024-03"
        ],
        [
         "811",
         "Paid ₹500.00 using Bank Account XXXXXXXX1661 Mar 24, 2024, 8:12:18 PM GMT+05:30",
         "",
         500.0,
         "Paid",
         "2024-03-24T20:12:18.000+0000",
         "Other",
         "2024-03"
        ],
        [
         "816",
         "Paid ₹1500.00 to Chidura Rajitha using Bank Account XXXXXXXX1661 Mar 22, 2024, 6:15:29 PM GMT+05:30",
         "Chidura Rajitha",
         1500.0,
         "Paid",
         "2024-03-22T18:15:29.000+0000",
         "Other",
         "2024-03"
        ],
        [
         "817",
         "Paid ₹60.00 using Bank Account XXXXXXXX1661 Mar 22, 2024, 5:42:48 PM GMT+05:30",
         "",
         60.0,
         "Paid",
         "2024-03-22T17:42:48.000+0000",
         "Other",
         "2024-03"
        ],
        [
         "819",
         "Sent ₹480.00 using Bank Account XXXXXXXX1661 Mar 22, 2024, 5:02:13 PM GMT+05:30",
         "",
         480.0,
         "Sent",
         "2024-03-22T17:02:13.000+0000",
         "Other",
         "2024-03"
        ],
        [
         "822",
         "Paid ₹18.00 using Bank Account XXXXXXXX1661 Mar 22, 2024, 8:06:35 AM GMT+05:30",
         "",
         18.0,
         "Paid",
         "2024-03-22T08:06:35.000+0000",
         "Other",
         "2024-03"
        ],
        [
         "823",
         "Paid ₹1.00 using Bank Account XXXXXXXX1661 Mar 21, 2024, 7:53:56 PM GMT+05:30",
         "",
         1.0,
         "Paid",
         "2024-03-21T19:53:56.000+0000",
         "Other",
         "2024-03"
        ],
        [
         "824",
         "Paid ₹2500.00 using Bank Account XXXXXXXX1661 Mar 21, 2024, 7:52:31 PM GMT+05:30",
         "",
         2500.0,
         "Paid",
         "2024-03-21T19:52:31.000+0000",
         "Other",
         "2024-03"
        ],
        [
         "826",
         "Paid ₹100.00 to CRAZY BAKERS using Bank Account XXXXXXXX1661 Mar 21, 2024, 10:55:46 AM GMT+05:30",
         "CRAZY BAKERS",
         100.0,
         "Paid",
         "2024-03-21T10:55:46.000+0000",
         "Food & Dining",
         "2024-03"
        ],
        [
         "832",
         "Paid ₹9.90 to Google Play using Bank Account XXXXXXXX1661 Feb 27, 2024, 7:33:13 PM GMT+05:30",
         "Google Play",
         9.9,
         "Paid",
         "2024-02-27T19:33:13.000+0000",
         "Entertainment",
         "2024-02"
        ],
        [
         "836",
         "Paid ₹50.00 to Bbinstant using Bank Account XXXXXXXX1661 Feb 22, 2024, 6:30:05 PM GMT+05:30",
         "Bbinstant",
         50.0,
         "Paid",
         "2024-02-22T18:30:05.000+0000",
         "Food & Dining",
         "2024-02"
        ],
        [
         "842",
         "Paid ₹1410.00 to Groww Feb 3, 2024, 6:09:17 PM GMT+05:30",
         "",
         1410.0,
         "Paid",
         "2024-02-03T18:09:17.000+0000",
         "Other",
         "2024-02"
        ],
        [
         "843",
         "Sent ₹100.00 Feb 3, 2024, 6:06:53 PM GMT+05:30",
         "",
         100.0,
         "Sent",
         "2024-02-03T18:06:53.000+0000",
         "Other",
         "2024-02"
        ],
        [
         "845",
         "Sent ₹150.00 Feb 2, 2024, 12:35:40 PM GMT+05:30",
         "",
         150.0,
         "Sent",
         "2024-02-02T12:35:40.000+0000",
         "Other",
         "2024-02"
        ],
        [
         "847",
         "Paid ₹20.00 to Sahasra Stationary Jan 31, 2024, 11:52:42 AM GMT+05:30",
         "",
         20.0,
         "Paid",
         "2024-01-31T11:52:42.000+0000",
         "Other",
         "2024-01"
        ],
        [
         "848",
         "Paid ₹20.00 to SOMANARSAIAH GATTU Jan 31, 2024, 11:51:43 AM GMT+05:30",
         "",
         20.0,
         "Paid",
         "2024-01-31T11:51:43.000+0000",
         "Other",
         "2024-01"
        ],
        [
         "849",
         "Paid ₹20.00 to SOMANARSAIAH GATTU Jan 31, 2024, 11:50:25 AM GMT+05:30",
         "",
         20.0,
         "Paid",
         "2024-01-31T11:50:25.000+0000",
         "Other",
         "2024-01"
        ],
        [
         "853",
         "Paid ₹77.00 to Tumma Vamshi using Bank Account XXXXXXXX1661 Jan 28, 2024, 9:18:27 PM GMT+05:30",
         "Tumma Vamshi",
         77.0,
         "Paid",
         "2024-01-28T21:18:27.000+0000",
         "Other",
         "2024-01"
        ],
        [
         "854",
         "Paid ₹9.90 to Google Play using Bank Account XXXXXXXX1661 Jan 28, 2024, 7:33:02 PM GMT+05:30",
         "Google Play",
         9.9,
         "Paid",
         "2024-01-28T19:33:02.000+0000",
         "Entertainment",
         "2024-01"
        ],
        [
         "856",
         "Paid ₹200.00 using Bank Account XXXXXXXX1661 Jan 27, 2024, 8:36:58 PM GMT+05:30",
         "",
         200.0,
         "Paid",
         "2024-01-27T20:36:58.000+0000",
         "Other",
         "2024-01"
        ],
        [
         "860",
         "Paid ₹25.00 to Google Play using Bank Account XXXXXXXX1661 Jan 14, 2024, 12:21:24 PM GMT+05:30",
         "Google Play",
         25.0,
         "Paid",
         "2024-01-14T12:21:24.000+0000",
         "Entertainment",
         "2024-01"
        ],
        [
         "862",
         "Sent ₹1.00 Jan 2, 2024, 5:17:23 PM GMT+05:30",
         "",
         1.0,
         "Sent",
         "2024-01-02T17:17:23.000+0000",
         "Other",
         "2024-01"
        ],
        [
         "863",
         "Sent ₹2800.00 Jan 2, 2024, 5:17:04 PM GMT+05:30",
         "",
         2800.0,
         "Sent",
         "2024-01-02T17:17:04.000+0000",
         "Other",
         "2024-01"
        ],
        [
         "864",
         "Paid ₹100.00 to Paradise Jan 2, 2024, 3:46:29 PM GMT+05:30",
         "",
         100.0,
         "Paid",
         "2024-01-02T15:46:29.000+0000",
         "Other",
         "2024-01"
        ],
        [
         "865",
         "Paid ₹3000.00 using Bank Account XXXXXXXX1661 Jan 2, 2024, 3:44:36 PM GMT+05:30",
         "",
         3000.0,
         "Paid",
         "2024-01-02T15:44:36.000+0000",
         "Other",
         "2024-01"
        ],
        [
         "867",
         "Paid ₹40.00 to KANAKAMAMIDI MALLAREDDY Jan 2, 2024, 1:15:08 PM GMT+05:30",
         "",
         40.0,
         "Paid",
         "2024-01-02T13:15:08.000+0000",
         "Other",
         "2024-01"
        ],
        [
         "868",
         "Paid ₹40.00 to Sabitha Jan 2, 2024, 1:14:24 PM GMT+05:30",
         "",
         40.0,
         "Paid",
         "2024-01-02T13:14:24.000+0000",
         "Other",
         "2024-01"
        ],
        [
         "869",
         "Paid ₹38.00 to Sabitha Jan 2, 2024, 1:13:46 PM GMT+05:30",
         "",
         38.0,
         "Paid",
         "2024-01-02T13:13:46.000+0000",
         "Other",
         "2024-01"
        ],
        [
         "870",
         "Sent ₹200.00 Jan 2, 2024, 7:55:21 AM GMT+05:30",
         "",
         200.0,
         "Sent",
         "2024-01-02T07:55:21.000+0000",
         "Other",
         "2024-01"
        ],
        [
         "871",
         "Paid ₹200.00 to Bhaskar Services Jan 2, 2024, 7:54:18 AM GMT+05:30",
         "",
         200.0,
         "Paid",
         "2024-01-02T07:54:18.000+0000",
         "Other",
         "2024-01"
        ],
        [
         "872",
         "Paid ₹200.00 to Bhaskar Services Jan 2, 2024, 7:54:00 AM GMT+05:30",
         "",
         200.0,
         "Paid",
         "2024-01-02T07:54:00.000+0000",
         "Other",
         "2024-01"
        ],
        [
         "873",
         "Paid ₹240.00 using Bank Account XXXXXXXX1661 Jan 1, 2024, 7:13:59 PM GMT+05:30",
         "",
         240.0,
         "Paid",
         "2024-01-01T19:13:59.000+0000",
         "Other",
         "2024-01"
        ],
        [
         "875",
         "Sent ₹2.00 Jan 1, 2024, 1:10:13 AM GMT+05:30",
         "",
         2.0,
         "Sent",
         "2024-01-01T01:10:13.000+0000",
         "Other",
         "2024-01"
        ],
        [
         "876",
         "Sent ₹2.00 Jan 1, 2024, 1:09:37 AM GMT+05:30",
         "",
         2.0,
         "Sent",
         "2024-01-01T01:09:37.000+0000",
         "Other",
         "2024-01"
        ],
        [
         "880",
         "Paid ₹40.00 to SREE GEETA EATS AND using Bank Account XXXXXXXX1661 Dec 31, 2023, 6:38:57 PM GMT+05:30",
         "SREE GEETA EATS AND",
         40.0,
         "Paid",
         "2023-12-31T18:38:57.000+0000",
         "Food & Dining",
         "2023-12"
        ],
        [
         "881",
         "Paid ₹40.00 to SREE GEETA EATS AND using Bank Account XXXXXXXX1661 Dec 31, 2023, 6:38:19 PM GMT+05:30",
         "SREE GEETA EATS AND",
         40.0,
         "Paid",
         "2023-12-31T18:38:19.000+0000",
         "Food & Dining",
         "2023-12"
        ],
        [
         "882",
         "Paid ₹30.00 to Shiva Ganesh Kirana General Store using Bank Account XXXXXXXX1661 Dec 31, 2023, 4:08:07 PM GMT+05:30",
         "Shiva Ganesh Kirana General Store",
         30.0,
         "Paid",
         "2023-12-31T16:08:07.000+0000",
         "Groceries",
         "2023-12"
        ],
        [
         "883",
         "Paid ₹100.00 using Bank Account XXXXXXXX1661 Dec 31, 2023, 4:05:38 PM GMT+05:30",
         "",
         100.0,
         "Paid",
         "2023-12-31T16:05:38.000+0000",
         "Other",
         "2023-12"
        ],
        [
         "885",
         "Paid ₹1.00 using Bank Account XXXXXXXX1661 Dec 31, 2023, 11:52:14 AM GMT+05:30",
         "",
         1.0,
         "Paid",
         "2023-12-31T11:52:14.000+0000",
         "Other",
         "2023-12"
        ],
        [
         "886",
         "Paid ₹9.90 to Google Play using Bank Account XXXXXXXX1661 Dec 30, 2023, 7:33:45 PM GMT+05:30",
         "Google Play",
         9.9,
         "Paid",
         "2023-12-30T19:33:45.000+0000",
         "Entertainment",
         "2023-12"
        ]
       ],
       "datasetInfos": [],
       "dbfsResultPath": null,
       "isJsonSchema": true,
       "metadata": {},
       "overflow": false,
       "plotOptions": {
        "customPlotOptions": {},
        "displayType": "table",
        "pivotAggregation": null,
        "pivotColumns": null,
        "xColumns": null,
        "yColumns": null
       },
       "removedWidgets": [],
       "schema": [
        {
         "metadata": "{}",
         "name": "_c0",
         "type": "\"string\""
        },
        {
         "metadata": "{}",
         "name": "text",
         "type": "\"string\""
        },
        {
         "metadata": "{}",
         "name": "receiver",
         "type": "\"string\""
        },
        {
         "metadata": "{}",
         "name": "price",
         "type": "\"double\""
        },
        {
         "metadata": "{}",
         "name": "transaction_type",
         "type": "\"string\""
        },
        {
         "metadata": "{}",
         "name": "time_stamp",
         "type": "\"timestamp\""
        },
        {
         "metadata": "{}",
         "name": "Category",
         "type": "\"string\""
        },
        {
         "metadata": "{}",
         "name": "Month",
         "type": "\"string\""
        }
       ],
       "type": "table"
      }
     },
     "output_type": "display_data"
    }
   ],
   "source": [
    "monthly_expenses.orderBy(df_gpay.Month.desc()).display()\n",
    "df_gpay.display()"
   ]
  },
  {
   "cell_type": "markdown",
   "metadata": {
    "application/vnd.databricks.v1+cell": {
     "cellMetadata": {},
     "inputWidgets": {},
     "nuid": "e8de1e24-3e1d-4dc7-b787-9fdc0a356caa",
     "showTitle": false,
     "tableResultSettingsMap": {},
     "title": ""
    }
   },
   "source": [
    "This code filters the Google Pay transactions DataFrame to exclude transactions of type 'Received' and only considers transactions that occurred after December 31, 2024 this 'year'. It then groups the data by 'receiver' and 'Category', calculates the total price (sum) for each group, and filters for transactions under the \"Other\" category. Finally, it displays the results.\n"
   ]
  },
  {
   "cell_type": "code",
   "execution_count": 0,
   "metadata": {
    "application/vnd.databricks.v1+cell": {
     "cellMetadata": {
      "byteLimit": 2048000,
      "rowLimit": 10000
     },
     "inputWidgets": {},
     "nuid": "b9ea2eae-2108-4cfd-a93f-9ade1c1ee749",
     "showTitle": false,
     "tableResultSettingsMap": {},
     "title": ""
    }
   },
   "outputs": [
    {
     "output_type": "display_data",
     "data": {
      "text/html": [
       "<style scoped>\n",
       "  .table-result-container {\n",
       "    max-height: 300px;\n",
       "    overflow: auto;\n",
       "  }\n",
       "  table, th, td {\n",
       "    border: 1px solid black;\n",
       "    border-collapse: collapse;\n",
       "  }\n",
       "  th, td {\n",
       "    padding: 5px;\n",
       "  }\n",
       "  th {\n",
       "    text-align: left;\n",
       "  }\n",
       "</style><div class='table-result-container'><table class='table-result'><thead style='background-color: white'><tr><th>receiver</th><th>Category</th><th>sum(price)</th></tr></thead><tbody><tr><td>SHAIKH M JAVED</td><td>Other</td><td>650.0</td></tr><tr><td>KEMPAWANAIYA  NM</td><td>Other</td><td>210.0</td></tr><tr><td>NASER KHAN</td><td>Other</td><td>300.0</td></tr><tr><td></td><td>Other</td><td>9985.0</td></tr><tr><td>Bollepally Ravikumar</td><td>Other</td><td>130.0</td></tr><tr><td>SREENU CHEEKATI</td><td>Other</td><td>20.0</td></tr><tr><td>APP KA BAZAR</td><td>Other</td><td>460.0</td></tr><tr><td>NATTE SATYAPRASAD</td><td>Other</td><td>20.0</td></tr><tr><td>Addanki Balathripura Easwar</td><td>Other</td><td>278.0</td></tr><tr><td>SRI DURGA</td><td>Other</td><td>500.0</td></tr><tr><td>Mr Vangapally Ankithkumar Reddy</td><td>Other</td><td>115.0</td></tr><tr><td>MR.DURGUM PUDI RAMA KRISHNA REDDY  </td><td>Other</td><td>1800.0</td></tr><tr><td>PRAMOD SAIN</td><td>Other</td><td>130.0</td></tr><tr><td>MD GHOUSE</td><td>Other</td><td>70.0</td></tr><tr><td>BATTHINI  RANGA SWAMY</td><td>Other</td><td>50.0</td></tr><tr><td>GUMMADAVELLI  SRINIVASALU</td><td>Other</td><td>30.0</td></tr><tr><td>Mr Varaganti Santhosh Kumar</td><td>Other</td><td>220.0</td></tr><tr><td>Chanagala Swarupini</td><td>Other</td><td>50.0</td></tr><tr><td>ASHARAM CHOUDHARY</td><td>Other</td><td>30.0</td></tr><tr><td>Raidurg</td><td>Other</td><td>100.0</td></tr><tr><td>GANDEPALLI  JYO</td><td>Other</td><td>30.0</td></tr><tr><td>MANIKANTA ENTERPRISE</td><td>Other</td><td>30.0</td></tr><tr><td>THOTA  GOPAL</td><td>Other</td><td>10.0</td></tr></tbody></table></div>"
      ]
     },
     "metadata": {
      "application/vnd.databricks.v1+output": {
       "addedWidgets": {},
       "aggData": [],
       "aggError": "",
       "aggOverflow": false,
       "aggSchema": [],
       "aggSeriesLimitReached": false,
       "aggType": "",
       "arguments": {},
       "columnCustomDisplayInfos": {},
       "data": [
        [
         "SHAIKH M JAVED",
         "Other",
         650.0
        ],
        [
         "KEMPAWANAIYA  NM",
         "Other",
         210.0
        ],
        [
         "NASER KHAN",
         "Other",
         300.0
        ],
        [
         "",
         "Other",
         9985.0
        ],
        [
         "Bollepally Ravikumar",
         "Other",
         130.0
        ],
        [
         "SREENU CHEEKATI",
         "Other",
         20.0
        ],
        [
         "APP KA BAZAR",
         "Other",
         460.0
        ],
        [
         "NATTE SATYAPRASAD",
         "Other",
         20.0
        ],
        [
         "Addanki Balathripura Easwar",
         "Other",
         278.0
        ],
        [
         "SRI DURGA",
         "Other",
         500.0
        ],
        [
         "Mr Vangapally Ankithkumar Reddy",
         "Other",
         115.0
        ],
        [
         "MR.DURGUM PUDI RAMA KRISHNA REDDY  ",
         "Other",
         1800.0
        ],
        [
         "PRAMOD SAIN",
         "Other",
         130.0
        ],
        [
         "MD GHOUSE",
         "Other",
         70.0
        ],
        [
         "BATTHINI  RANGA SWAMY",
         "Other",
         50.0
        ],
        [
         "GUMMADAVELLI  SRINIVASALU",
         "Other",
         30.0
        ],
        [
         "Mr Varaganti Santhosh Kumar",
         "Other",
         220.0
        ],
        [
         "Chanagala Swarupini",
         "Other",
         50.0
        ],
        [
         "ASHARAM CHOUDHARY",
         "Other",
         30.0
        ],
        [
         "Raidurg",
         "Other",
         100.0
        ],
        [
         "GANDEPALLI  JYO",
         "Other",
         30.0
        ],
        [
         "MANIKANTA ENTERPRISE",
         "Other",
         30.0
        ],
        [
         "THOTA  GOPAL",
         "Other",
         10.0
        ]
       ],
       "datasetInfos": [],
       "dbfsResultPath": null,
       "isJsonSchema": true,
       "metadata": {},
       "overflow": false,
       "plotOptions": {
        "customPlotOptions": {},
        "displayType": "table",
        "pivotAggregation": null,
        "pivotColumns": null,
        "xColumns": null,
        "yColumns": null
       },
       "removedWidgets": [],
       "schema": [
        {
         "metadata": "{}",
         "name": "receiver",
         "type": "\"string\""
        },
        {
         "metadata": "{}",
         "name": "Category",
         "type": "\"string\""
        },
        {
         "metadata": "{}",
         "name": "sum(price)",
         "type": "\"double\""
        }
       ],
       "type": "table"
      }
     },
     "output_type": "display_data"
    }
   ],
   "source": [
    "df_pandas = df_gpay.filter((F.col('transaction_type') != 'Received')& (F.col('time_stamp') >= '2024-12-31'))\n",
    "df_pandas.groupBy('receiver', 'Category').agg(F.sum('price')).filter((F.col(\"Category\") == \"Other\")).display()"
   ]
  },
  {
   "cell_type": "markdown",
   "metadata": {
    "application/vnd.databricks.v1+cell": {
     "cellMetadata": {},
     "inputWidgets": {},
     "nuid": "bb59d6e1-0d79-4b57-8f55-8f61d735d52a",
     "showTitle": false,
     "tableResultSettingsMap": {},
     "title": ""
    }
   },
   "source": [
    "# Google Pay Expense Breakdown Visualization\n",
    "\n",
    "This analysis provides insights into the total spending across various categories based on Google Pay transaction data. We visualize the breakdown using two types of charts:\n",
    "\n",
    "## 1. Pie Chart\n",
    "The pie chart shows the percentage breakdown of total spending across categories, making it easy to see which categories contribute the most.\n",
    "\n",
    "## 2. Bar Chart\n",
    "The bar chart represents the total spending in each category, offering a clear comparison of the amounts spent across categories.\n",
    "\n",
    "The data used for these charts is filtered to include transactions from December 2024 onwards and includes only 'Paid' and 'Sent' transactions.\n",
    "\n",
    "## Steps:\n",
    "- Data is first filtered by transaction type and date.\n",
    "- Total spending is calculated for each category.\n",
    "- Two visualizations are generated:\n",
    "  - **Pie Chart**: Displaying the percentage of spending per category.\n",
    "  - **Bar Chart**: Displaying the total spending per category.\n",
    "  \n",
    "Both charts are customized for clear readability and effective comparison of spending trends across categories.\n",
    "\n"
   ]
  },
  {
   "cell_type": "code",
   "execution_count": 0,
   "metadata": {
    "application/vnd.databricks.v1+cell": {
     "cellMetadata": {
      "byteLimit": 2048000,
      "rowLimit": 10000
     },
     "inputWidgets": {},
     "nuid": "000ff066-f9e5-4d7c-a6fe-cb83bc74694d",
     "showTitle": false,
     "tableResultSettingsMap": {},
     "title": ""
    }
   },
   "outputs": [
    {
     "output_type": "display_data",
     "data": {
      "image/png": "[encoded data removed]"
     },
     "metadata": {
      "application/vnd.databricks.v1+output": {
       "addedWidgets": {},
       "arguments": {},
       "data": "data:image/png;base64,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\n",
       "datasetInfos": [],
       "metadata": {},
       "removedWidgets": [],
       "type": "image"
      }
     },
     "output_type": "display_data"
    }
   ],
   "source": [
    "import matplotlib.pyplot as plt\n",
    "\n",
    "# Convert Spark DataFrame to Pandas\n",
    "df_pandas = df_gpay.filter((F.col('time_stamp') >= '2024-12-31') & ((F.col('transaction_type') == 'Paid')| (F.col('transaction_type')== 'Sent'))).select(\"Category\", \"price\").toPandas()\n",
    "\n",
    "# Group by Category and sum prices\n",
    "category_totals = df_pandas.groupby(\"Category\")[\"price\"].sum().sort_values(ascending=False)\n",
    "\n",
    "# Define distinct colors (adjust as needed)\n",
    "colors = [\"#ff9999\", \"#66b3ff\", \"#99ff99\", \"#ffcc99\", \"#c2c2f0\", \"#ffb3e6\", \"#ff6666\", \"#ffcc66\", \"#99ccff\", \"#66ff66\"]\n",
    "\n",
    "# Format labels with category name & total spending\n",
    "labels = [f\"{cat}: ₹{total:,.2f}\" for cat, total in zip(category_totals.index, category_totals.values)]\n",
    "\n",
    "## 🎯 1. PIE CHART\n",
    "plt.figure(figsize=(12, 5))\n",
    "plt.subplot(1, 2, 1)  # 1 row, 2 columns, position 1\n",
    "wedges, _, autotexts = plt.pie(\n",
    "    category_totals, \n",
    "    labels=None,  # Hide direct labels on the pie\n",
    "    autopct=\"%1.1f%%\", \n",
    "    colors=colors,\n",
    "    textprops={'fontsize': 10},  # Set font size for percentage text\n",
    "    startangle=140,  # Rotate for better layout\n",
    "    pctdistance=0.85  # Push percentage text inside the pie\n",
    ")\n",
    "# Add a legend with category totals\n",
    "plt.legend(wedges, labels, title=\"Category Breakdown\", loc=\"center left\", bbox_to_anchor=(1, 0.5), fontsize=10)\n",
    "plt.title(\"Google Pay Expense Breakdown (Pie Chart)\", fontsize=14)\n",
    "\n",
    "## 🎯 2. BAR CHART\n",
    "plt.subplot(1, 2, 2)  # 1 row, 2 columns, position 2\n",
    "bars = plt.barh(category_totals.index, category_totals.values, color=colors[:len(category_totals)])\n",
    "plt.xlabel(\"Total Spending (₹)\")\n",
    "plt.ylabel(\"Category\")\n",
    "plt.title(\"Google Pay Expense Breakdown (Bar Chart)\")\n",
    "\n",
    "# Add total values on bars\n",
    "for bar, total in zip(bars, category_totals.values):\n",
    "    plt.text(bar.get_width() + 500, bar.get_y() + bar.get_height()/2, f\"₹{total:,.2f}\", va='center', fontsize=10)\n",
    "\n",
    "plt.gca().invert_yaxis()  # Invert y-axis for better order\n",
    "\n",
    "## 🎯 SHOW BOTH PLOTS\n",
    "plt.tight_layout()\n",
    "plt.show()\n"
   ]
  }
 ],
 "metadata": {
  "application/vnd.databricks.v1+notebook": {
   "computePreferences": null,
   "dashboards": [],
   "environmentMetadata": null,
   "language": "python",
   "notebookMetadata": {
    "mostRecentlyExecutedCommandWithImplicitDF": {
     "commandId": 1083832863379992,
     "dataframes": [
      "_sqldf"
     ]
    },
    "pythonIndentUnit": 4
   },
   "notebookName": "Gpay Statement analysis",
   "widgets": {}
  }
 },
 "nbformat": 4,
 "nbformat_minor": 0
}
